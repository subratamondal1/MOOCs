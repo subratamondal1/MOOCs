{
 "cells": [
  {
   "cell_type": "code",
   "execution_count": 1,
   "id": "9100c145",
   "metadata": {
    "_cell_guid": "b1076dfc-b9ad-4769-8c92-a6c4dae69d19",
    "_uuid": "8f2839f25d086af736a60e9eeb907d3b93b6e0e5",
    "execution": {
     "iopub.execute_input": "2023-02-16T09:45:48.845797Z",
     "iopub.status.busy": "2023-02-16T09:45:48.845406Z",
     "iopub.status.idle": "2023-02-16T09:45:48.861497Z",
     "shell.execute_reply": "2023-02-16T09:45:48.860587Z"
    },
    "papermill": {
     "duration": 0.030879,
     "end_time": "2023-02-16T09:45:48.864313",
     "exception": false,
     "start_time": "2023-02-16T09:45:48.833434",
     "status": "completed"
    },
    "tags": []
   },
   "outputs": [
    {
     "name": "stdout",
     "output_type": "stream",
     "text": [
      "/kaggle/input/gapminder-FiveYearData/gapminder-FiveYearData.csv\n"
     ]
    }
   ],
   "source": [
    "# This Python 3 environment comes with many helpful analytics libraries installed\n",
    "# It is defined by the kaggle/python Docker image: https://github.com/kaggle/docker-python\n",
    "# For example, here's several helpful packages to load\n",
    "\n",
    "import numpy as np # linear algebra\n",
    "import pandas as pd # data processing, CSV file I/O (e.g. pd.read_csv)\n",
    "\n",
    "# Input data files are available in the read-only \"../input/\" directory\n",
    "# For example, running this (by clicking run or pressing Shift+Enter) will list all files under the input directory\n",
    "\n",
    "import os\n",
    "for dirname, _, filenames in os.walk('/kaggle/input'):\n",
    "    for filename in filenames:\n",
    "        print(os.path.join(dirname, filename))\n",
    "\n",
    "# You can write up to 20GB to the current directory (/kaggle/working/) that gets preserved as output when you create a version using \"Save & Run All\" \n",
    "# You can also write temporary files to /kaggle/temp/, but they won't be saved outside of the current session"
   ]
  },
  {
   "cell_type": "markdown",
   "id": "cd8798b0",
   "metadata": {
    "papermill": {
     "duration": 0.008951,
     "end_time": "2023-02-16T09:45:48.882801",
     "exception": false,
     "start_time": "2023-02-16T09:45:48.873850",
     "status": "completed"
    },
    "tags": []
   },
   "source": [
    "# Objective of the course\n",
    "* The principle focus of this course is to introduce conceptual understanding using simple and practical examples rather than repetitive and point click mentality\n",
    "* This course should make you comfortable using analytics in your career and your life\n",
    "* You will know how to work with real data, and might have learned many different methodologies but choosing the right methodology is important\n",
    "* The **danger in using quantitative method** does not generally lie in the inability to perform the calculation\n",
    "* The real threat is lack of fundamental understanding of:\n",
    "     * Why to use a particular technique of procedure\n",
    "     * How to use it correctly and,\n",
    "     * How to correctly interpret the result"
   ]
  },
  {
   "cell_type": "markdown",
   "id": "b33675dd",
   "metadata": {
    "papermill": {
     "duration": 0.008917,
     "end_time": "2023-02-16T09:45:48.900947",
     "exception": false,
     "start_time": "2023-02-16T09:45:48.892030",
     "status": "completed"
    },
    "tags": []
   },
   "source": [
    "# Learning objectives\n",
    "1. Define data and its importance\n",
    "2. Define data analytics and its types\n",
    "3. Explain why analytics is important in today’s business environment\n",
    "4. Explain how statistics, analytics and data science are interrelated\n",
    "5. Why python?\n",
    "6. Explain the four different levels of Data: – Nominal\n",
    "     * Ordinal\n",
    "     * Interval and\n",
    "     * Ratio"
   ]
  },
  {
   "cell_type": "markdown",
   "id": "5223c13e",
   "metadata": {
    "papermill": {
     "duration": 0.009355,
     "end_time": "2023-02-16T09:45:48.919553",
     "exception": false,
     "start_time": "2023-02-16T09:45:48.910198",
     "status": "completed"
    },
    "tags": []
   },
   "source": [
    "## Define Data and its importance\n",
    "* Variable, Measurement and Data\n",
    "* What is generating so much data?\n",
    "* How data add value to the business?\n",
    "* Why data is important?"
   ]
  },
  {
   "cell_type": "markdown",
   "id": "8a80dcfe",
   "metadata": {
    "papermill": {
     "duration": 0.008779,
     "end_time": "2023-02-16T09:45:48.937460",
     "exception": false,
     "start_time": "2023-02-16T09:45:48.928681",
     "status": "completed"
    },
    "tags": []
   },
   "source": [
    "### Variable, Measurement and Data\n",
    "* **Variables** is a characteristic of any entity being studied that is capable of taking on different values\n",
    "* **Measurements** is when a standard process is used to assign numbers to attributes or characteristic of a variable\n",
    "* **Data** data are recorded measurements"
   ]
  },
  {
   "cell_type": "markdown",
   "id": "70a93366",
   "metadata": {
    "papermill": {
     "duration": 0.008674,
     "end_time": "2023-02-16T09:45:48.955581",
     "exception": false,
     "start_time": "2023-02-16T09:45:48.946907",
     "status": "completed"
    },
    "tags": []
   },
   "source": [
    "### What is generating so much data?\n",
    "Data can be generated by \n",
    "* Humans,\n",
    "* Machines\n",
    "* Humans-machines combinations\n",
    "* It can be generated anywhere where any information is generated and stored in structured or unstructured formats"
   ]
  },
  {
   "cell_type": "markdown",
   "id": "f95f497e",
   "metadata": {
    "papermill": {
     "duration": 0.008491,
     "end_time": "2023-02-16T09:45:48.972983",
     "exception": false,
     "start_time": "2023-02-16T09:45:48.964492",
     "status": "completed"
    },
    "tags": []
   },
   "source": [
    "### How data add value to business?\n",
    "Business data are stored in Data Warehouse and from there we make:\n",
    "1. **Development of Data Product**\n",
    "       Algorithm solutions in production, marketing and sales etc.(e.g. Recommendation Engines, Self driving cars, google maps, etc.)\n",
    "2. **Discovery of Data Insight**\n",
    "       Quantitative data analysis to help steer strategic business decision\n",
    "\n",
    "and from them we derive Business Values."
   ]
  },
  {
   "cell_type": "markdown",
   "id": "ad686acf",
   "metadata": {
    "papermill": {
     "duration": 0.008978,
     "end_time": "2023-02-16T09:45:48.991666",
     "exception": false,
     "start_time": "2023-02-16T09:45:48.982688",
     "status": "completed"
    },
    "tags": []
   },
   "source": [
    "### Why Data is important?\n",
    "* Data helps in <u>make better decisions</u>\n",
    "* Data helps in <u>solve problems by finding the reason for underperformance</u>\n",
    "* Data helps one to <u>evaluate the performance</u>.\n",
    "* Data helps one <u>improve processes</u>\n",
    "* Data helps one <u>understand consumers and the market</u>"
   ]
  },
  {
   "cell_type": "markdown",
   "id": "9a7c6f84",
   "metadata": {
    "papermill": {
     "duration": 0.008802,
     "end_time": "2023-02-16T09:45:49.009761",
     "exception": false,
     "start_time": "2023-02-16T09:45:49.000959",
     "status": "completed"
    },
    "tags": []
   },
   "source": [
    "## Define data analytic and its types"
   ]
  },
  {
   "cell_type": "markdown",
   "id": "07ed3dff",
   "metadata": {
    "papermill": {
     "duration": 0.008847,
     "end_time": "2023-02-16T09:45:49.027710",
     "exception": false,
     "start_time": "2023-02-16T09:45:49.018863",
     "status": "completed"
    },
    "tags": []
   },
   "source": [
    "### Define data analytics\n",
    "* Analytics is defined as “the scientific process of transforming data into insights for making better decisions”\n",
    "* Analytics, is the use of data, information technology, statistical analysis, quantitative methods, and mathematical or computer-based models to help managers gain improved insight about their business operations and make better, fact-based decisions – James Evans\n",
    "* is Analysis = Analytics ? The answer is no."
   ]
  },
  {
   "cell_type": "markdown",
   "id": "020aaf1c",
   "metadata": {
    "papermill": {
     "duration": 0.00868,
     "end_time": "2023-02-16T09:45:49.045253",
     "exception": false,
     "start_time": "2023-02-16T09:45:49.036573",
     "status": "completed"
    },
    "tags": []
   },
   "source": [
    "### Why analytics is important?\n",
    "A lot of opportunities for the use of analytics and big data such as:\n",
    "1. Determining credit risk\n",
    "2. Developing new medicines\n",
    "3. Finding more efficient ways to deliver products and services\n",
    "4. Preventing fraud\n",
    "5. Uncovering cyber threats\n",
    "6. Retaining the most valuable customers"
   ]
  },
  {
   "cell_type": "markdown",
   "id": "901f2885",
   "metadata": {
    "papermill": {
     "duration": 0.008874,
     "end_time": "2023-02-16T09:45:49.063330",
     "exception": false,
     "start_time": "2023-02-16T09:45:49.054456",
     "status": "completed"
    },
    "tags": []
   },
   "source": [
    "### Data Analysis\n",
    "* Data analysis is the process of examining, transforming, and arranging raw data in a specific way to generate useful information from it\n",
    "* Data analysis allows for the evaluation of data through analytical and logical reasoning to lead to some sort of outcome or conclusion in some context\n",
    "* Data analysis is a multi-faceted process that involves a number of steps, approaches, and diverse techniques"
   ]
  },
  {
   "cell_type": "markdown",
   "id": "7c2dc5d1",
   "metadata": {
    "papermill": {
     "duration": 0.009341,
     "end_time": "2023-02-16T09:45:49.081702",
     "exception": false,
     "start_time": "2023-02-16T09:45:49.072361",
     "status": "completed"
    },
    "tags": []
   },
   "source": [
    "### Data analytics vs. Data analysis\n",
    "**Data Analytics** is all about exploring the future events\n",
    "    * Qualitative Data analytics = Intuition + analysis\n",
    "    * Quantitative Data analytics = Formulas + algorithms\n",
    "    \n",
    "**Data Analysis** is all about exploring the past events\n",
    "    * Qualitative Data analysis = Explains How And Why Story ends the way it did ?\n",
    "    * Quantitative Data analysis = Data + how the sale decreased last summer ?\n",
    "    \n",
    "1. is Analysis = Analytics ? **No**\n",
    "2. is Data Analysis = Data analytics ? **No**\n",
    "3. is Business Analysis = Business analytics ? **No**"
   ]
  },
  {
   "cell_type": "markdown",
   "id": "9c06da73",
   "metadata": {
    "papermill": {
     "duration": 0.00909,
     "end_time": "2023-02-16T09:45:49.100212",
     "exception": false,
     "start_time": "2023-02-16T09:45:49.091122",
     "status": "completed"
    },
    "tags": []
   },
   "source": [
    "### Classification of Data analytics\n",
    "Based on the phase of workflow and the kind of analysis required, there are four major types of data analytics.\n",
    "1. **Descriptive analytics:** What happened ?\n",
    "2. **Diagnostic analytics:** Why did it happened ?\n",
    "3. **Predictive analytics:** What will happen ?\n",
    "4. **Prescriptive analytics:** How can we make it happen ?\n",
    "\n",
    "**Value vs Diificulty**\n",
    "Descriptive Analytics is with the least value and least diificulty and as we go down the value and difficulty increases i.e Prescriptive Analytics is with the most value and most difficulty."
   ]
  },
  {
   "cell_type": "markdown",
   "id": "339069b0",
   "metadata": {
    "papermill": {
     "duration": 0.009258,
     "end_time": "2023-02-16T09:45:49.118896",
     "exception": false,
     "start_time": "2023-02-16T09:45:49.109638",
     "status": "completed"
    },
    "tags": []
   },
   "source": [
    "### Descriptive Analytics\n",
    "* Descriptive Analytics, is the conventional form of Business Intelligence and data analysis\n",
    "* It seeks to provide a depiction or “summary view” of facts and figures in an understandable format\n",
    "* This either inform or prepare data for further analysis\n",
    "* Descriptive analysis or statistics can summarize raw data and convert it into a form that can be easily understood by humans\n",
    "* They can describe in detail about an event that has occurred in the past\n",
    "\n",
    "A common example of Descriptive Analytics are company reports that simply provide a historic review like:\n",
    "\n",
    "1. Data Queries\n",
    "2. Reports\n",
    "3. Descriptive Statistics\n",
    "4. Data Visualization\n",
    "5. Data dashboard"
   ]
  },
  {
   "cell_type": "markdown",
   "id": "a059b495",
   "metadata": {
    "papermill": {
     "duration": 0.008977,
     "end_time": "2023-02-16T09:45:49.137209",
     "exception": false,
     "start_time": "2023-02-16T09:45:49.128232",
     "status": "completed"
    },
    "tags": []
   },
   "source": [
    "### Diagnostic analytics\n",
    "* Diagnostic Analytics is a form of advanced analytics which examines data or content to answer the question “Why did it happen?”\n",
    "* Diagnostic analytical tools aid an analyst to dig deeper into an issue so that they can arrive at the source of a problem\n",
    "* In a structured business environment, tools for both descriptive and diagnostic analytics go parallel\n",
    "\n",
    "It uses techniques such as:\n",
    "1. Data Discovery\n",
    "2. Data Mining\n",
    "3. Correlations"
   ]
  },
  {
   "cell_type": "markdown",
   "id": "68f77515",
   "metadata": {
    "papermill": {
     "duration": 0.008825,
     "end_time": "2023-02-16T09:45:49.155139",
     "exception": false,
     "start_time": "2023-02-16T09:45:49.146314",
     "status": "completed"
    },
    "tags": []
   },
   "source": [
    "### Predictive analytics\n",
    "* Predictive analytics helps to forecast trends based on the current events\n",
    "* Predicting the probability of an event happening in future or estimating the accurate time it will happen can all be determined with the help of predictive analytical models\n",
    "* Many different but co-dependent variables are analysed to predict a trend in this type of analysis\n",
    "\n",
    "1. Historical Data ---> Predictive Algorithms ---> Model\n",
    "2. New Data ---> Model ---> Predictions\n",
    "\n",
    "Set of techniques that use model constructed from past data to predict the future or ascertain impact of one variable on another:\n",
    "1. Linear regression\n",
    "2. Time series analysis and forecasting\n",
    "3. Data mining"
   ]
  },
  {
   "cell_type": "markdown",
   "id": "c5ff0afd",
   "metadata": {
    "papermill": {
     "duration": 0.008747,
     "end_time": "2023-02-16T09:45:49.173215",
     "exception": false,
     "start_time": "2023-02-16T09:45:49.164468",
     "status": "completed"
    },
    "tags": []
   },
   "source": [
    "### Prescriptive analytics\n",
    "* Set of techniques to indicate the best course of action\n",
    "* It tells what decision to make to optimize the outcome\n",
    "* The goal of prescriptive analytics is to enable:\n",
    "1. Quality improvements\n",
    "2. Service enhancements\n",
    "3. Cost reductions and\n",
    "4. Increasing productivity\n",
    "\n",
    "Examples of prescriptive analytics example:\n",
    "1. Optimization Model\n",
    "2. Simulation\n",
    "3. Decision Analysis"
   ]
  },
  {
   "cell_type": "markdown",
   "id": "1cba90b3",
   "metadata": {
    "papermill": {
     "duration": 0.008902,
     "end_time": "2023-02-16T09:45:49.191407",
     "exception": false,
     "start_time": "2023-02-16T09:45:49.182505",
     "status": "completed"
    },
    "tags": []
   },
   "source": [
    "## Explain why analytics is important\n",
    "* Demand for Data Analytics\n",
    "* Element of data Analytics"
   ]
  },
  {
   "cell_type": "markdown",
   "id": "11780b50",
   "metadata": {
    "papermill": {
     "duration": 0.008912,
     "end_time": "2023-02-16T09:45:49.209707",
     "exception": false,
     "start_time": "2023-02-16T09:45:49.200795",
     "status": "completed"
    },
    "tags": []
   },
   "source": [
    "### Demand for Data Analytics\n",
    "With companies across industries striving to bring their research and analysis (R&A) departments up to speed, the demand for qualified data scientists is rising.\n",
    "\n",
    "\"India will face a demand-supply gap of 200,000 analytics professionals over the next three years. Even in the US, only 40 out of 100 positions for analytics professionals can be filled,\" said Rituparna Chakraborty, co-founder & senior VP of TeamLease Services. [Read More...](https://timesofindia.indiatimes.com/india/data-scientists-earning-more-than-cas-engineers/articleshow/52171064.cms?utm_source=contentofinterest&utm_medium=text&utm_campaign=cppst)"
   ]
  },
  {
   "cell_type": "markdown",
   "id": "1d0bbc42",
   "metadata": {
    "papermill": {
     "duration": 0.008611,
     "end_time": "2023-02-16T09:45:49.227315",
     "exception": false,
     "start_time": "2023-02-16T09:45:49.218704",
     "status": "completed"
    },
    "tags": []
   },
   "source": [
    "\n",
    " "
   ]
  },
  {
   "cell_type": "markdown",
   "id": "0f2657a6",
   "metadata": {
    "papermill": {
     "duration": 0.008669,
     "end_time": "2023-02-16T09:45:49.245167",
     "exception": false,
     "start_time": "2023-02-16T09:45:49.236498",
     "status": "completed"
    },
    "tags": []
   },
   "source": [
    "### Element of data Analytics\n",
    "1. Statistics\n",
    "2. Data Mining\n",
    "3. Business Intelligence/Information Systems\n",
    "4. Visualizations\n",
    "5. Simulation and Risk\n",
    "6. Modelling and Optimizations and lastly\n",
    "7. What if ?\n"
   ]
  },
  {
   "cell_type": "markdown",
   "id": "3fbefb00",
   "metadata": {
    "papermill": {
     "duration": 0.008995,
     "end_time": "2023-02-16T09:45:49.263277",
     "exception": false,
     "start_time": "2023-02-16T09:45:49.254282",
     "status": "completed"
    },
    "tags": []
   },
   "source": [
    "## Data analyst and Data scientist\n",
    "* The requisite skill set\n",
    "* Difference between Data analyst and Data Scientist\n"
   ]
  },
  {
   "cell_type": "markdown",
   "id": "9e2e7b71",
   "metadata": {
    "papermill": {
     "duration": 0.00881,
     "end_time": "2023-02-16T09:45:49.281164",
     "exception": false,
     "start_time": "2023-02-16T09:45:49.272354",
     "status": "completed"
    },
    "tags": []
   },
   "source": [
    "### The requisite skill set are\n",
    "1. Marhematical Skills\n",
    "2. Technological Skills\n",
    "3. Business and Strategy and Acumen"
   ]
  },
  {
   "cell_type": "markdown",
   "id": "a493db50",
   "metadata": {
    "papermill": {
     "duration": 0.008617,
     "end_time": "2023-02-16T09:45:49.298714",
     "exception": false,
     "start_time": "2023-02-16T09:45:49.290097",
     "status": "completed"
    },
    "tags": []
   },
   "source": [
    "### Difference between Data analyst and Data Scientist\n",
    "**Data Analyst** requires knowledge in\n",
    "1. Business Administration\n",
    "    * That is domain specific responsibility, for example:\n",
    "        * Marketing Analyst\n",
    "        * Financial Analyst, etc\n",
    "2. Data Exploration analysis and insight\n",
    "\n",
    "**Data Scientist** requires knowledge in\n",
    "1. Everything required in Data Analyst +\n",
    "2. Advance algorithms and machine learning\n",
    "3. Data Product engineering"
   ]
  },
  {
   "cell_type": "markdown",
   "id": "bb7c64de",
   "metadata": {
    "papermill": {
     "duration": 0.009076,
     "end_time": "2023-02-16T09:45:49.316895",
     "exception": false,
     "start_time": "2023-02-16T09:45:49.307819",
     "status": "completed"
    },
    "tags": []
   },
   "source": [
    "## Why python ?\n",
    "**Features:**\n",
    "1. Simple and easy to learn\n",
    "2. Freeware and Open Source\n",
    "3. Interpreted \n",
    "4. Dynamically Typed\n",
    "5. Extensible\n",
    "6. Embedded\n",
    "7. Extensive library\n",
    "8. Usability\n",
    "    * Desktop and web applications\n",
    "    * Database applications\n",
    "    * Networking applications\n",
    "    * Data analysis & Data Science\n",
    "    * Machine Learning\n",
    "    * IoT and AI applications\n",
    "    * Games\n",
    "    \n",
    "**Companies using python:**\n",
    "1. Google \n",
    "2. Nasa\n",
    "3. Facebook\n",
    "4. Youtube\n",
    "5. Yahoo!\n",
    "6. Dropbox\n",
    "7. Quora\n",
    "8. ebay, etc."
   ]
  },
  {
   "cell_type": "markdown",
   "id": "614231fb",
   "metadata": {
    "papermill": {
     "duration": 0.009144,
     "end_time": "2023-02-16T09:45:49.335138",
     "exception": false,
     "start_time": "2023-02-16T09:45:49.325994",
     "status": "completed"
    },
    "tags": []
   },
   "source": [
    "## Why Jupyter Notebook ?\n",
    "**Features:**\n",
    "1. Client-Server application\n",
    "2. Edit code on web browser\n",
    "3. Easy in documentation\n",
    "4. Easy in demonstration\n",
    "5. User-friendly interface"
   ]
  },
  {
   "cell_type": "markdown",
   "id": "a2ba4407",
   "metadata": {
    "papermill": {
     "duration": 0.009187,
     "end_time": "2023-02-16T09:45:49.353670",
     "exception": false,
     "start_time": "2023-02-16T09:45:49.344483",
     "status": "completed"
    },
    "tags": []
   },
   "source": [
    "## Explain the four different levels of Data\n",
    "* Types of Variables\n",
    "* Levels of Data Measurement\n",
    "* Compare the four different levels of Data: \n",
    "    1. Nominal\n",
    "    2. Ordinal \n",
    "    3. Interval and \n",
    "    4. Ratio\n",
    "* Usage Potential of Various Levels of Data\n",
    "* Data Level, Operations, and Statistical Methods"
   ]
  },
  {
   "cell_type": "markdown",
   "id": "0a122e99",
   "metadata": {
    "papermill": {
     "duration": 0.008864,
     "end_time": "2023-02-16T09:45:49.371571",
     "exception": false,
     "start_time": "2023-02-16T09:45:49.362707",
     "status": "completed"
    },
    "tags": []
   },
   "source": [
    "### Types of Variables \n",
    "Data is divided into two parts :\n",
    "1. **Categorical Data** They are defined categories, examples are: \n",
    "    * Marital Status\n",
    "    * Political Party\n",
    "    * Eye Color\n",
    "    \n",
    "2. **Numerical Data** It is further divided into two parts:\n",
    "    * **Discrete Data** They are counted items, examples are:\n",
    "        * Number of children\n",
    "        * Defects per hour\n",
    "    * **Continuous Data** They are Measured Characteristics\n",
    "        * Weight\n",
    "        * Voltage"
   ]
  },
  {
   "cell_type": "markdown",
   "id": "9f230364",
   "metadata": {
    "papermill": {
     "duration": 0.008919,
     "end_time": "2023-02-16T09:45:49.389765",
     "exception": false,
     "start_time": "2023-02-16T09:45:49.380846",
     "status": "completed"
    },
    "tags": []
   },
   "source": [
    "### Levels of Data Measurement\n",
    "* Nominal — Lowest level of measurement  \n",
    "* Ordinal\n",
    "* Interval\n",
    "* Ratio — Highest level of measurement"
   ]
  },
  {
   "cell_type": "markdown",
   "id": "7beafcab",
   "metadata": {
    "papermill": {
     "duration": 0.009034,
     "end_time": "2023-02-16T09:45:49.407773",
     "exception": false,
     "start_time": "2023-02-16T09:45:49.398739",
     "status": "completed"
    },
    "tags": []
   },
   "source": [
    "### Nominal\n",
    "A nominal scale classifies data into distinct categories in which **no ranking** is implied\n",
    "   * Example : Gender, Marital Status"
   ]
  },
  {
   "cell_type": "markdown",
   "id": "2a5d797a",
   "metadata": {
    "papermill": {
     "duration": 0.009025,
     "end_time": "2023-02-16T09:45:49.425861",
     "exception": false,
     "start_time": "2023-02-16T09:45:49.416836",
     "status": "completed"
    },
    "tags": []
   },
   "source": [
    "### Ordinal scale\n",
    "An ordinal scale classifies data into distinct categories in which **ranking** is implied.\n",
    "\n",
    "Example:\n",
    "* Product satisfaction: Satisfied ---> Neutral ---> Unsatisfied\n",
    "* Faculty rank: Professor ---> Associate Professor ---> Assistant Professor\n",
    "* Student Grades: A ---> B ---> C ---> D ---> F"
   ]
  },
  {
   "cell_type": "markdown",
   "id": "5ef21d89",
   "metadata": {
    "papermill": {
     "duration": 0.008998,
     "end_time": "2023-02-16T09:45:49.444102",
     "exception": false,
     "start_time": "2023-02-16T09:45:49.435104",
     "status": "completed"
    },
    "tags": []
   },
   "source": [
    "### Interval scale\n",
    "An interval scale is an ordered scale in which the difference between measurements is a meaningful quantity but the measurements **do not have a true zero point**.\n",
    "\n",
    "Example\n",
    "* Temperature in Fahrenheit and Celsius \n",
    "* Year\n",
    "\n",
    "**Note:** Here, we can perform only addition and subtraction other than that we can't perform any other arithmetic operations like multiplication or division because if subtract 3 years from 2023 we will get 2020 but on the contrary if we multiply 3 with 2023 we will get 6069 which doesn't make any sense."
   ]
  },
  {
   "cell_type": "markdown",
   "id": "1d02feb4",
   "metadata": {
    "papermill": {
     "duration": 0.008944,
     "end_time": "2023-02-16T09:45:49.462134",
     "exception": false,
     "start_time": "2023-02-16T09:45:49.453190",
     "status": "completed"
    },
    "tags": []
   },
   "source": [
    "### Ratio scale\n",
    "A ratio scale is an **ordered** scale in which the difference between the measurements is a meaningful quantity and the measurements **have a true zero point**.\n",
    "\n",
    "Example:\n",
    "* Weight\n",
    "* Age\n",
    "* Salary"
   ]
  },
  {
   "cell_type": "markdown",
   "id": "77be3d3a",
   "metadata": {
    "papermill": {
     "duration": 0.008815,
     "end_time": "2023-02-16T09:45:49.479821",
     "exception": false,
     "start_time": "2023-02-16T09:45:49.471006",
     "status": "completed"
    },
    "tags": []
   },
   "source": [
    "### Usage Potential of Various Levels of Data\n",
    "Ratio ---> Interval ---> Ordinal ---> Nominal"
   ]
  },
  {
   "cell_type": "markdown",
   "id": "92441d93",
   "metadata": {
    "papermill": {
     "duration": 0.008715,
     "end_time": "2023-02-16T09:45:49.497441",
     "exception": false,
     "start_time": "2023-02-16T09:45:49.488726",
     "status": "completed"
    },
    "tags": []
   },
   "source": [
    "### Impact of choice of measurement scale\n",
    "**Nominal**\n",
    "    \n",
    "   * **Meaningful Operations:** Classifying and Counting\n",
    "   * **Statistical Methods:** Nonparametric\n",
    "\n",
    "**Ordinal**\n",
    "\n",
    "   * **Meaningful Operations:** All of the above plus Ranking\n",
    "   * **Statistical Methods:** Nonparametric\n",
    " \n",
    "**Interval**\n",
    "    \n",
    "   * **Meaningful Operations:** All of the above plus Addition and Subtraction\n",
    "   * **Statistical Methods:** Parametric\n",
    "    \n",
    "**Ratio**\n",
    "\n",
    "   * **Meaningful Operations:** All of the above plus Multiplication and Division\n",
    "   * **Statistical Methods:** Parametric"
   ]
  },
  {
   "cell_type": "markdown",
   "id": "322401ce",
   "metadata": {
    "papermill": {
     "duration": 0.008673,
     "end_time": "2023-02-16T09:45:49.515042",
     "exception": false,
     "start_time": "2023-02-16T09:45:49.506369",
     "status": "completed"
    },
    "tags": []
   },
   "source": [
    "# Python Fundamentals I"
   ]
  },
  {
   "cell_type": "code",
   "execution_count": 2,
   "id": "1c04f021",
   "metadata": {
    "execution": {
     "iopub.execute_input": "2023-02-16T09:45:49.534583Z",
     "iopub.status.busy": "2023-02-16T09:45:49.534212Z",
     "iopub.status.idle": "2023-02-16T09:45:49.538966Z",
     "shell.execute_reply": "2023-02-16T09:45:49.537930Z"
    },
    "papermill": {
     "duration": 0.016716,
     "end_time": "2023-02-16T09:45:49.540692",
     "exception": false,
     "start_time": "2023-02-16T09:45:49.523976",
     "status": "completed"
    },
    "tags": []
   },
   "outputs": [],
   "source": [
    "# import libraries\n",
    "import numpy as np\n",
    "import pandas as pd\n",
    "import matplotlib.pyplot as plt"
   ]
  },
  {
   "cell_type": "markdown",
   "id": "5425d062",
   "metadata": {
    "papermill": {
     "duration": 0.008341,
     "end_time": "2023-02-16T09:45:49.558027",
     "exception": false,
     "start_time": "2023-02-16T09:45:49.549686",
     "status": "completed"
    },
    "tags": []
   },
   "source": [
    "### Load"
   ]
  },
  {
   "cell_type": "code",
   "execution_count": 3,
   "id": "5b17eb81",
   "metadata": {
    "execution": {
     "iopub.execute_input": "2023-02-16T09:45:49.579294Z",
     "iopub.status.busy": "2023-02-16T09:45:49.578335Z",
     "iopub.status.idle": "2023-02-16T09:45:49.603218Z",
     "shell.execute_reply": "2023-02-16T09:45:49.601672Z"
    },
    "papermill": {
     "duration": 0.038311,
     "end_time": "2023-02-16T09:45:49.605746",
     "exception": false,
     "start_time": "2023-02-16T09:45:49.567435",
     "status": "completed"
    },
    "tags": []
   },
   "outputs": [],
   "source": [
    "df = pd.read_csv(\"/kaggle/input/gapminder-FiveYearData/gapminder-FiveYearData.csv\")"
   ]
  },
  {
   "cell_type": "markdown",
   "id": "c189b646",
   "metadata": {
    "papermill": {
     "duration": 0.008453,
     "end_time": "2023-02-16T09:45:49.623381",
     "exception": false,
     "start_time": "2023-02-16T09:45:49.614928",
     "status": "completed"
    },
    "tags": []
   },
   "source": [
    "### Head"
   ]
  },
  {
   "cell_type": "code",
   "execution_count": 4,
   "id": "1155ebf0",
   "metadata": {
    "execution": {
     "iopub.execute_input": "2023-02-16T09:45:49.643210Z",
     "iopub.status.busy": "2023-02-16T09:45:49.642608Z",
     "iopub.status.idle": "2023-02-16T09:45:49.667412Z",
     "shell.execute_reply": "2023-02-16T09:45:49.665872Z"
    },
    "papermill": {
     "duration": 0.037621,
     "end_time": "2023-02-16T09:45:49.669946",
     "exception": false,
     "start_time": "2023-02-16T09:45:49.632325",
     "status": "completed"
    },
    "tags": []
   },
   "outputs": [
    {
     "data": {
      "text/html": [
       "<div>\n",
       "<style scoped>\n",
       "    .dataframe tbody tr th:only-of-type {\n",
       "        vertical-align: middle;\n",
       "    }\n",
       "\n",
       "    .dataframe tbody tr th {\n",
       "        vertical-align: top;\n",
       "    }\n",
       "\n",
       "    .dataframe thead th {\n",
       "        text-align: right;\n",
       "    }\n",
       "</style>\n",
       "<table border=\"1\" class=\"dataframe\">\n",
       "  <thead>\n",
       "    <tr style=\"text-align: right;\">\n",
       "      <th></th>\n",
       "      <th>country</th>\n",
       "      <th>year</th>\n",
       "      <th>pop</th>\n",
       "      <th>continent</th>\n",
       "      <th>lifeExp</th>\n",
       "      <th>gdpPercap</th>\n",
       "    </tr>\n",
       "  </thead>\n",
       "  <tbody>\n",
       "    <tr>\n",
       "      <th>0</th>\n",
       "      <td>Afghanistan</td>\n",
       "      <td>1952</td>\n",
       "      <td>8425333.0</td>\n",
       "      <td>Asia</td>\n",
       "      <td>28.801</td>\n",
       "      <td>779.445314</td>\n",
       "    </tr>\n",
       "    <tr>\n",
       "      <th>1</th>\n",
       "      <td>Afghanistan</td>\n",
       "      <td>1957</td>\n",
       "      <td>9240934.0</td>\n",
       "      <td>Asia</td>\n",
       "      <td>30.332</td>\n",
       "      <td>820.853030</td>\n",
       "    </tr>\n",
       "    <tr>\n",
       "      <th>2</th>\n",
       "      <td>Afghanistan</td>\n",
       "      <td>1962</td>\n",
       "      <td>10267083.0</td>\n",
       "      <td>Asia</td>\n",
       "      <td>31.997</td>\n",
       "      <td>853.100710</td>\n",
       "    </tr>\n",
       "    <tr>\n",
       "      <th>3</th>\n",
       "      <td>Afghanistan</td>\n",
       "      <td>1967</td>\n",
       "      <td>11537966.0</td>\n",
       "      <td>Asia</td>\n",
       "      <td>34.020</td>\n",
       "      <td>836.197138</td>\n",
       "    </tr>\n",
       "    <tr>\n",
       "      <th>4</th>\n",
       "      <td>Afghanistan</td>\n",
       "      <td>1972</td>\n",
       "      <td>13079460.0</td>\n",
       "      <td>Asia</td>\n",
       "      <td>36.088</td>\n",
       "      <td>739.981106</td>\n",
       "    </tr>\n",
       "  </tbody>\n",
       "</table>\n",
       "</div>"
      ],
      "text/plain": [
       "       country  year         pop continent  lifeExp   gdpPercap\n",
       "0  Afghanistan  1952   8425333.0      Asia   28.801  779.445314\n",
       "1  Afghanistan  1957   9240934.0      Asia   30.332  820.853030\n",
       "2  Afghanistan  1962  10267083.0      Asia   31.997  853.100710\n",
       "3  Afghanistan  1967  11537966.0      Asia   34.020  836.197138\n",
       "4  Afghanistan  1972  13079460.0      Asia   36.088  739.981106"
      ]
     },
     "execution_count": 4,
     "metadata": {},
     "output_type": "execute_result"
    }
   ],
   "source": [
    "df.head()"
   ]
  },
  {
   "cell_type": "markdown",
   "id": "b2988ee5",
   "metadata": {
    "papermill": {
     "duration": 0.00891,
     "end_time": "2023-02-16T09:45:49.688203",
     "exception": false,
     "start_time": "2023-02-16T09:45:49.679293",
     "status": "completed"
    },
    "tags": []
   },
   "source": [
    "### Tail"
   ]
  },
  {
   "cell_type": "code",
   "execution_count": 5,
   "id": "296463dd",
   "metadata": {
    "execution": {
     "iopub.execute_input": "2023-02-16T09:45:49.708599Z",
     "iopub.status.busy": "2023-02-16T09:45:49.708193Z",
     "iopub.status.idle": "2023-02-16T09:45:49.722100Z",
     "shell.execute_reply": "2023-02-16T09:45:49.720938Z"
    },
    "papermill": {
     "duration": 0.02755,
     "end_time": "2023-02-16T09:45:49.724929",
     "exception": false,
     "start_time": "2023-02-16T09:45:49.697379",
     "status": "completed"
    },
    "tags": []
   },
   "outputs": [
    {
     "data": {
      "text/html": [
       "<div>\n",
       "<style scoped>\n",
       "    .dataframe tbody tr th:only-of-type {\n",
       "        vertical-align: middle;\n",
       "    }\n",
       "\n",
       "    .dataframe tbody tr th {\n",
       "        vertical-align: top;\n",
       "    }\n",
       "\n",
       "    .dataframe thead th {\n",
       "        text-align: right;\n",
       "    }\n",
       "</style>\n",
       "<table border=\"1\" class=\"dataframe\">\n",
       "  <thead>\n",
       "    <tr style=\"text-align: right;\">\n",
       "      <th></th>\n",
       "      <th>country</th>\n",
       "      <th>year</th>\n",
       "      <th>pop</th>\n",
       "      <th>continent</th>\n",
       "      <th>lifeExp</th>\n",
       "      <th>gdpPercap</th>\n",
       "    </tr>\n",
       "  </thead>\n",
       "  <tbody>\n",
       "    <tr>\n",
       "      <th>1699</th>\n",
       "      <td>Zimbabwe</td>\n",
       "      <td>1987</td>\n",
       "      <td>9216418.0</td>\n",
       "      <td>Africa</td>\n",
       "      <td>62.351</td>\n",
       "      <td>706.157306</td>\n",
       "    </tr>\n",
       "    <tr>\n",
       "      <th>1700</th>\n",
       "      <td>Zimbabwe</td>\n",
       "      <td>1992</td>\n",
       "      <td>10704340.0</td>\n",
       "      <td>Africa</td>\n",
       "      <td>60.377</td>\n",
       "      <td>693.420786</td>\n",
       "    </tr>\n",
       "    <tr>\n",
       "      <th>1701</th>\n",
       "      <td>Zimbabwe</td>\n",
       "      <td>1997</td>\n",
       "      <td>11404948.0</td>\n",
       "      <td>Africa</td>\n",
       "      <td>46.809</td>\n",
       "      <td>792.449960</td>\n",
       "    </tr>\n",
       "    <tr>\n",
       "      <th>1702</th>\n",
       "      <td>Zimbabwe</td>\n",
       "      <td>2002</td>\n",
       "      <td>11926563.0</td>\n",
       "      <td>Africa</td>\n",
       "      <td>39.989</td>\n",
       "      <td>672.038623</td>\n",
       "    </tr>\n",
       "    <tr>\n",
       "      <th>1703</th>\n",
       "      <td>Zimbabwe</td>\n",
       "      <td>2007</td>\n",
       "      <td>12311143.0</td>\n",
       "      <td>Africa</td>\n",
       "      <td>43.487</td>\n",
       "      <td>469.709298</td>\n",
       "    </tr>\n",
       "  </tbody>\n",
       "</table>\n",
       "</div>"
      ],
      "text/plain": [
       "       country  year         pop continent  lifeExp   gdpPercap\n",
       "1699  Zimbabwe  1987   9216418.0    Africa   62.351  706.157306\n",
       "1700  Zimbabwe  1992  10704340.0    Africa   60.377  693.420786\n",
       "1701  Zimbabwe  1997  11404948.0    Africa   46.809  792.449960\n",
       "1702  Zimbabwe  2002  11926563.0    Africa   39.989  672.038623\n",
       "1703  Zimbabwe  2007  12311143.0    Africa   43.487  469.709298"
      ]
     },
     "execution_count": 5,
     "metadata": {},
     "output_type": "execute_result"
    }
   ],
   "source": [
    "df.tail()"
   ]
  },
  {
   "cell_type": "markdown",
   "id": "445735df",
   "metadata": {
    "papermill": {
     "duration": 0.009269,
     "end_time": "2023-02-16T09:45:49.743902",
     "exception": false,
     "start_time": "2023-02-16T09:45:49.734633",
     "status": "completed"
    },
    "tags": []
   },
   "source": [
    "### Data Types"
   ]
  },
  {
   "cell_type": "code",
   "execution_count": 6,
   "id": "f2d59c75",
   "metadata": {
    "execution": {
     "iopub.execute_input": "2023-02-16T09:45:49.765430Z",
     "iopub.status.busy": "2023-02-16T09:45:49.764305Z",
     "iopub.status.idle": "2023-02-16T09:45:49.772264Z",
     "shell.execute_reply": "2023-02-16T09:45:49.770845Z"
    },
    "papermill": {
     "duration": 0.021995,
     "end_time": "2023-02-16T09:45:49.775373",
     "exception": false,
     "start_time": "2023-02-16T09:45:49.753378",
     "status": "completed"
    },
    "tags": []
   },
   "outputs": [
    {
     "data": {
      "text/plain": [
       "country       object\n",
       "year           int64\n",
       "pop          float64\n",
       "continent     object\n",
       "lifeExp      float64\n",
       "gdpPercap    float64\n",
       "dtype: object"
      ]
     },
     "execution_count": 6,
     "metadata": {},
     "output_type": "execute_result"
    }
   ],
   "source": [
    "df.dtypes"
   ]
  },
  {
   "cell_type": "markdown",
   "id": "cb5c6e38",
   "metadata": {
    "papermill": {
     "duration": 0.009027,
     "end_time": "2023-02-16T09:45:49.794003",
     "exception": false,
     "start_time": "2023-02-16T09:45:49.784976",
     "status": "completed"
    },
    "tags": []
   },
   "source": [
    "### Info"
   ]
  },
  {
   "cell_type": "code",
   "execution_count": 7,
   "id": "0f903cf3",
   "metadata": {
    "execution": {
     "iopub.execute_input": "2023-02-16T09:45:49.815857Z",
     "iopub.status.busy": "2023-02-16T09:45:49.815260Z",
     "iopub.status.idle": "2023-02-16T09:45:49.840380Z",
     "shell.execute_reply": "2023-02-16T09:45:49.839115Z"
    },
    "papermill": {
     "duration": 0.038567,
     "end_time": "2023-02-16T09:45:49.842184",
     "exception": false,
     "start_time": "2023-02-16T09:45:49.803617",
     "status": "completed"
    },
    "tags": []
   },
   "outputs": [
    {
     "name": "stdout",
     "output_type": "stream",
     "text": [
      "<class 'pandas.core.frame.DataFrame'>\n",
      "RangeIndex: 1704 entries, 0 to 1703\n",
      "Data columns (total 6 columns):\n",
      " #   Column     Non-Null Count  Dtype  \n",
      "---  ------     --------------  -----  \n",
      " 0   country    1704 non-null   object \n",
      " 1   year       1704 non-null   int64  \n",
      " 2   pop        1704 non-null   float64\n",
      " 3   continent  1704 non-null   object \n",
      " 4   lifeExp    1704 non-null   float64\n",
      " 5   gdpPercap  1704 non-null   float64\n",
      "dtypes: float64(3), int64(1), object(2)\n",
      "memory usage: 80.0+ KB\n"
     ]
    }
   ],
   "source": [
    "df.info()"
   ]
  },
  {
   "cell_type": "markdown",
   "id": "0a8b78f8",
   "metadata": {
    "papermill": {
     "duration": 0.009231,
     "end_time": "2023-02-16T09:45:49.860949",
     "exception": false,
     "start_time": "2023-02-16T09:45:49.851718",
     "status": "completed"
    },
    "tags": []
   },
   "source": [
    "### get the country column and save it to its own variable"
   ]
  },
  {
   "cell_type": "code",
   "execution_count": 8,
   "id": "f0b922db",
   "metadata": {
    "execution": {
     "iopub.execute_input": "2023-02-16T09:45:49.882489Z",
     "iopub.status.busy": "2023-02-16T09:45:49.882005Z",
     "iopub.status.idle": "2023-02-16T09:45:49.890186Z",
     "shell.execute_reply": "2023-02-16T09:45:49.888453Z"
    },
    "papermill": {
     "duration": 0.022166,
     "end_time": "2023-02-16T09:45:49.893090",
     "exception": false,
     "start_time": "2023-02-16T09:45:49.870924",
     "status": "completed"
    },
    "tags": []
   },
   "outputs": [
    {
     "data": {
      "text/plain": [
       "0    Afghanistan\n",
       "1    Afghanistan\n",
       "2    Afghanistan\n",
       "3    Afghanistan\n",
       "4    Afghanistan\n",
       "Name: country, dtype: object"
      ]
     },
     "execution_count": 8,
     "metadata": {},
     "output_type": "execute_result"
    }
   ],
   "source": [
    "country_df = df[\"country\"]\n",
    "country_df.head()"
   ]
  },
  {
   "cell_type": "markdown",
   "id": "0e0ca79c",
   "metadata": {
    "papermill": {
     "duration": 0.009631,
     "end_time": "2023-02-16T09:45:49.912772",
     "exception": false,
     "start_time": "2023-02-16T09:45:49.903141",
     "status": "completed"
    },
    "tags": []
   },
   "source": [
    "### fetch multiple columns"
   ]
  },
  {
   "cell_type": "code",
   "execution_count": 9,
   "id": "340cb553",
   "metadata": {
    "execution": {
     "iopub.execute_input": "2023-02-16T09:45:49.935578Z",
     "iopub.status.busy": "2023-02-16T09:45:49.935220Z",
     "iopub.status.idle": "2023-02-16T09:45:49.947277Z",
     "shell.execute_reply": "2023-02-16T09:45:49.945938Z"
    },
    "papermill": {
     "duration": 0.026179,
     "end_time": "2023-02-16T09:45:49.949965",
     "exception": false,
     "start_time": "2023-02-16T09:45:49.923786",
     "status": "completed"
    },
    "tags": []
   },
   "outputs": [
    {
     "data": {
      "text/html": [
       "<div>\n",
       "<style scoped>\n",
       "    .dataframe tbody tr th:only-of-type {\n",
       "        vertical-align: middle;\n",
       "    }\n",
       "\n",
       "    .dataframe tbody tr th {\n",
       "        vertical-align: top;\n",
       "    }\n",
       "\n",
       "    .dataframe thead th {\n",
       "        text-align: right;\n",
       "    }\n",
       "</style>\n",
       "<table border=\"1\" class=\"dataframe\">\n",
       "  <thead>\n",
       "    <tr style=\"text-align: right;\">\n",
       "      <th></th>\n",
       "      <th>country</th>\n",
       "      <th>continent</th>\n",
       "      <th>year</th>\n",
       "    </tr>\n",
       "  </thead>\n",
       "  <tbody>\n",
       "    <tr>\n",
       "      <th>0</th>\n",
       "      <td>Afghanistan</td>\n",
       "      <td>Asia</td>\n",
       "      <td>1952</td>\n",
       "    </tr>\n",
       "    <tr>\n",
       "      <th>1</th>\n",
       "      <td>Afghanistan</td>\n",
       "      <td>Asia</td>\n",
       "      <td>1957</td>\n",
       "    </tr>\n",
       "    <tr>\n",
       "      <th>2</th>\n",
       "      <td>Afghanistan</td>\n",
       "      <td>Asia</td>\n",
       "      <td>1962</td>\n",
       "    </tr>\n",
       "    <tr>\n",
       "      <th>3</th>\n",
       "      <td>Afghanistan</td>\n",
       "      <td>Asia</td>\n",
       "      <td>1967</td>\n",
       "    </tr>\n",
       "    <tr>\n",
       "      <th>4</th>\n",
       "      <td>Afghanistan</td>\n",
       "      <td>Asia</td>\n",
       "      <td>1972</td>\n",
       "    </tr>\n",
       "  </tbody>\n",
       "</table>\n",
       "</div>"
      ],
      "text/plain": [
       "       country continent  year\n",
       "0  Afghanistan      Asia  1952\n",
       "1  Afghanistan      Asia  1957\n",
       "2  Afghanistan      Asia  1962\n",
       "3  Afghanistan      Asia  1967\n",
       "4  Afghanistan      Asia  1972"
      ]
     },
     "execution_count": 9,
     "metadata": {},
     "output_type": "execute_result"
    }
   ],
   "source": [
    "subset = df[[\"country\",\"continent\",\"year\"]]\n",
    "subset.head()"
   ]
  },
  {
   "cell_type": "markdown",
   "id": "c071cd17",
   "metadata": {
    "papermill": {
     "duration": 0.009277,
     "end_time": "2023-02-16T09:45:49.969358",
     "exception": false,
     "start_time": "2023-02-16T09:45:49.960081",
     "status": "completed"
    },
    "tags": []
   },
   "source": [
    "### loc: subset rows by index label, counting starts with Zero (0)"
   ]
  },
  {
   "cell_type": "code",
   "execution_count": 10,
   "id": "39a2a8df",
   "metadata": {
    "execution": {
     "iopub.execute_input": "2023-02-16T09:45:49.992162Z",
     "iopub.status.busy": "2023-02-16T09:45:49.990974Z",
     "iopub.status.idle": "2023-02-16T09:45:50.001012Z",
     "shell.execute_reply": "2023-02-16T09:45:49.999597Z"
    },
    "papermill": {
     "duration": 0.024247,
     "end_time": "2023-02-16T09:45:50.003118",
     "exception": false,
     "start_time": "2023-02-16T09:45:49.978871",
     "status": "completed"
    },
    "tags": []
   },
   "outputs": [
    {
     "data": {
      "text/plain": [
       "country      Afghanistan\n",
       "year                1952\n",
       "pop            8425333.0\n",
       "continent           Asia\n",
       "lifeExp           28.801\n",
       "gdpPercap     779.445314\n",
       "Name: 0, dtype: object"
      ]
     },
     "execution_count": 10,
     "metadata": {},
     "output_type": "execute_result"
    }
   ],
   "source": [
    "df.loc[0]"
   ]
  },
  {
   "cell_type": "markdown",
   "id": "59f335bd",
   "metadata": {
    "papermill": {
     "duration": 0.010232,
     "end_time": "2023-02-16T09:45:50.023370",
     "exception": false,
     "start_time": "2023-02-16T09:45:50.013138",
     "status": "completed"
    },
    "tags": []
   },
   "source": [
    "**Access the 100th row**"
   ]
  },
  {
   "cell_type": "code",
   "execution_count": 11,
   "id": "f87bc28c",
   "metadata": {
    "execution": {
     "iopub.execute_input": "2023-02-16T09:45:50.045427Z",
     "iopub.status.busy": "2023-02-16T09:45:50.045102Z",
     "iopub.status.idle": "2023-02-16T09:45:50.052292Z",
     "shell.execute_reply": "2023-02-16T09:45:50.051606Z"
    },
    "papermill": {
     "duration": 0.021183,
     "end_time": "2023-02-16T09:45:50.054829",
     "exception": false,
     "start_time": "2023-02-16T09:45:50.033646",
     "status": "completed"
    },
    "tags": []
   },
   "outputs": [
    {
     "data": {
      "text/plain": [
       "country      Bangladesh\n",
       "year               1967\n",
       "pop          62821884.0\n",
       "continent          Asia\n",
       "lifeExp          43.453\n",
       "gdpPercap    721.186086\n",
       "Name: 99, dtype: object"
      ]
     },
     "execution_count": 11,
     "metadata": {},
     "output_type": "execute_result"
    }
   ],
   "source": [
    "df.loc[99]"
   ]
  },
  {
   "cell_type": "code",
   "execution_count": null,
   "id": "050678fb",
   "metadata": {
    "papermill": {
     "duration": 0.010367,
     "end_time": "2023-02-16T09:45:50.076056",
     "exception": false,
     "start_time": "2023-02-16T09:45:50.065689",
     "status": "completed"
    },
    "tags": []
   },
   "outputs": [],
   "source": []
  }
 ],
 "metadata": {
  "kernelspec": {
   "display_name": "Python 3",
   "language": "python",
   "name": "python3"
  },
  "language_info": {
   "codemirror_mode": {
    "name": "ipython",
    "version": 3
   },
   "file_extension": ".py",
   "mimetype": "text/x-python",
   "name": "python",
   "nbconvert_exporter": "python",
   "pygments_lexer": "ipython3",
   "version": "3.7.12"
  },
  "papermill": {
   "default_parameters": {},
   "duration": 9.80906,
   "end_time": "2023-02-16T09:45:50.807562",
   "environment_variables": {},
   "exception": null,
   "input_path": "__notebook__.ipynb",
   "output_path": "__notebook__.ipynb",
   "parameters": {},
   "start_time": "2023-02-16T09:45:40.998502",
   "version": "2.3.4"
  }
 },
 "nbformat": 4,
 "nbformat_minor": 5
}
