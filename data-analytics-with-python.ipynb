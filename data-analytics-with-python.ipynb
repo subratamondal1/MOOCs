{
 "cells": [
  {
   "cell_type": "code",
   "execution_count": 1,
   "id": "62c152c9",
   "metadata": {
    "_cell_guid": "b1076dfc-b9ad-4769-8c92-a6c4dae69d19",
    "_uuid": "8f2839f25d086af736a60e9eeb907d3b93b6e0e5",
    "execution": {
     "iopub.execute_input": "2023-02-18T07:12:34.092041Z",
     "iopub.status.busy": "2023-02-18T07:12:34.091234Z",
     "iopub.status.idle": "2023-02-18T07:12:34.112878Z",
     "shell.execute_reply": "2023-02-18T07:12:34.111918Z"
    },
    "papermill": {
     "duration": 0.043863,
     "end_time": "2023-02-18T07:12:34.115153",
     "exception": false,
     "start_time": "2023-02-18T07:12:34.071290",
     "status": "completed"
    },
    "tags": []
   },
   "outputs": [
    {
     "name": "stdout",
     "output_type": "stream",
     "text": [
      "/kaggle/input/gapminder-FiveYearData/gapminder-FiveYearData.csv\n"
     ]
    }
   ],
   "source": [
    "# This Python 3 environment comes with many helpful analytics libraries installed\n",
    "# It is defined by the kaggle/python Docker image: https://github.com/kaggle/docker-python\n",
    "# For example, here's several helpful packages to load\n",
    "\n",
    "import numpy as np # linear algebra\n",
    "import pandas as pd # data processing, CSV file I/O (e.g. pd.read_csv)\n",
    "\n",
    "# Input data files are available in the read-only \"../input/\" directory\n",
    "# For example, running this (by clicking run or pressing Shift+Enter) will list all files under the input directory\n",
    "\n",
    "import os\n",
    "for dirname, _, filenames in os.walk('/kaggle/input'):\n",
    "    for filename in filenames:\n",
    "        print(os.path.join(dirname, filename))\n",
    "\n",
    "# You can write up to 20GB to the current directory (/kaggle/working/) that gets preserved as output when you create a version using \"Save & Run All\" \n",
    "# You can also write temporary files to /kaggle/temp/, but they won't be saved outside of the current session"
   ]
  },
  {
   "cell_type": "markdown",
   "id": "2c41fb7b",
   "metadata": {
    "papermill": {
     "duration": 0.017206,
     "end_time": "2023-02-18T07:12:34.149154",
     "exception": false,
     "start_time": "2023-02-18T07:12:34.131948",
     "status": "completed"
    },
    "tags": []
   },
   "source": [
    "# Objective of the course\n",
    "* The principle focus of this course is to introduce conceptual understanding using simple and practical examples rather than repetitive and point click mentality\n",
    "* This course should make you comfortable using analytics in your career and your life\n",
    "* You will know how to work with real data, and might have learned many different methodologies but choosing the right methodology is important\n",
    "* The **danger in using quantitative method** does not generally lie in the inability to perform the calculation\n",
    "* The real threat is lack of fundamental understanding of:\n",
    "     * Why to use a particular technique of procedure\n",
    "     * How to use it correctly and,\n",
    "     * How to correctly interpret the result"
   ]
  },
  {
   "cell_type": "markdown",
   "id": "0db96002",
   "metadata": {
    "papermill": {
     "duration": 0.015734,
     "end_time": "2023-02-18T07:12:34.181111",
     "exception": false,
     "start_time": "2023-02-18T07:12:34.165377",
     "status": "completed"
    },
    "tags": []
   },
   "source": [
    "# Learning objectives\n",
    "1. Define data and its importance\n",
    "2. Define data analytics and its types\n",
    "3. Explain why analytics is important in today’s business environment\n",
    "4. Explain how statistics, analytics and data science are interrelated\n",
    "5. Why python?\n",
    "6. Explain the four different levels of Data:\n",
    "     * Nominal\n",
    "     * Ordinal\n",
    "     * Interval and\n",
    "     * Ratio"
   ]
  },
  {
   "cell_type": "markdown",
   "id": "546f5f02",
   "metadata": {
    "papermill": {
     "duration": 0.015805,
     "end_time": "2023-02-18T07:12:34.212932",
     "exception": false,
     "start_time": "2023-02-18T07:12:34.197127",
     "status": "completed"
    },
    "tags": []
   },
   "source": [
    "## Define Data and its importance"
   ]
  },
  {
   "cell_type": "markdown",
   "id": "1b3ed240",
   "metadata": {
    "papermill": {
     "duration": 0.015719,
     "end_time": "2023-02-18T07:12:34.244744",
     "exception": false,
     "start_time": "2023-02-18T07:12:34.229025",
     "status": "completed"
    },
    "tags": []
   },
   "source": [
    "### Variable, Measurement and Data\n",
    "* **Variables** are a characteristic of any entity being studied that is capable of taking on different values\n",
    "* **Measurements** are when a standard process is used to assign numbers to variable\n",
    "* **Data** data are recorded measurements"
   ]
  },
  {
   "cell_type": "markdown",
   "id": "2dc0ffbd",
   "metadata": {
    "papermill": {
     "duration": 0.016805,
     "end_time": "2023-02-18T07:12:34.277642",
     "exception": false,
     "start_time": "2023-02-18T07:12:34.260837",
     "status": "completed"
    },
    "tags": []
   },
   "source": [
    "### What is generating so much data?\n",
    "Data can be generated by \n",
    "* Humans,\n",
    "* Machines\n",
    "* Humans-machines combinations\n",
    "* It can be generated anywhere where any information is generated and stored in structured or unstructured formats"
   ]
  },
  {
   "cell_type": "markdown",
   "id": "e8daca05",
   "metadata": {
    "papermill": {
     "duration": 0.015753,
     "end_time": "2023-02-18T07:12:34.309558",
     "exception": false,
     "start_time": "2023-02-18T07:12:34.293805",
     "status": "completed"
    },
    "tags": []
   },
   "source": [
    "### How data add value to business?\n",
    "Business data are stored in Data Warehouse and from there we make:\n",
    "1. **Development of Data Product**\n",
    "       Algorithm solutions in production, marketing and sales etc.(e.g. Recommendation Engines, Self driving cars, google maps, etc.)\n",
    "2. **Discovery of Data Insight**\n",
    "       Quantitative data analysis to help steer strategic business decision\n",
    "\n",
    "and from them we derive Business Values."
   ]
  },
  {
   "cell_type": "markdown",
   "id": "959ef019",
   "metadata": {
    "papermill": {
     "duration": 0.01636,
     "end_time": "2023-02-18T07:12:34.342242",
     "exception": false,
     "start_time": "2023-02-18T07:12:34.325882",
     "status": "completed"
    },
    "tags": []
   },
   "source": [
    "### Why Data is important?\n",
    "* Data helps in <u>make better decisions</u>\n",
    "* Data helps in <u>solve problems by finding the reason for underperformance</u>\n",
    "* Data helps one to <u>evaluate the performance</u>.\n",
    "* Data helps one <u>improve processes</u>\n",
    "* Data helps one <u>understand consumers and the market</u>"
   ]
  },
  {
   "cell_type": "markdown",
   "id": "6760f05a",
   "metadata": {
    "papermill": {
     "duration": 0.015878,
     "end_time": "2023-02-18T07:12:34.374327",
     "exception": false,
     "start_time": "2023-02-18T07:12:34.358449",
     "status": "completed"
    },
    "tags": []
   },
   "source": [
    "## Define data analytic and its types"
   ]
  },
  {
   "cell_type": "markdown",
   "id": "02b63cd3",
   "metadata": {
    "papermill": {
     "duration": 0.015706,
     "end_time": "2023-02-18T07:12:34.406074",
     "exception": false,
     "start_time": "2023-02-18T07:12:34.390368",
     "status": "completed"
    },
    "tags": []
   },
   "source": [
    "### Define data analytics\n",
    "* Analytics is defined as “the scientific process of transforming data into insights for making better decisions”\n",
    "* Analytics, is the use of data, information technology, statistical analysis, quantitative methods, and mathematical or computer-based models to help managers gain improved insight about their business operations and make better, fact-based decisions – James Evans\n",
    "* is Analysis = Analytics ? The answer is no."
   ]
  },
  {
   "cell_type": "markdown",
   "id": "035e5720",
   "metadata": {
    "papermill": {
     "duration": 0.016932,
     "end_time": "2023-02-18T07:12:34.440478",
     "exception": false,
     "start_time": "2023-02-18T07:12:34.423546",
     "status": "completed"
    },
    "tags": []
   },
   "source": [
    "### Why analytics is important?\n",
    "A lot of opportunities for the use of analytics and big data such as:\n",
    "1. Determining credit risk\n",
    "2. Developing new medicines\n",
    "3. Finding more efficient ways to deliver products and services\n",
    "4. Preventing fraud\n",
    "5. Uncovering cyber threats\n",
    "6. Retaining the most valuable customers"
   ]
  },
  {
   "cell_type": "markdown",
   "id": "204936f5",
   "metadata": {
    "papermill": {
     "duration": 0.016054,
     "end_time": "2023-02-18T07:12:34.472962",
     "exception": false,
     "start_time": "2023-02-18T07:12:34.456908",
     "status": "completed"
    },
    "tags": []
   },
   "source": [
    "### Data Analysis\n",
    "* Data analysis is the process of examining, transforming, and arranging raw data in a specific way to generate useful information from it\n",
    "* Data analysis allows for the evaluation of data through analytical and logical reasoning to lead to some sort of outcome or conclusion in some context\n",
    "* Data analysis is a multi-faceted process that involves a number of steps, approaches, and diverse techniques"
   ]
  },
  {
   "cell_type": "markdown",
   "id": "309ca1af",
   "metadata": {
    "papermill": {
     "duration": 0.015993,
     "end_time": "2023-02-18T07:12:34.504995",
     "exception": false,
     "start_time": "2023-02-18T07:12:34.489002",
     "status": "completed"
    },
    "tags": []
   },
   "source": [
    "### Data analytics vs Data analysis\n",
    "**Data Analytics** is all about exploring the future events\n",
    "   * Qualitative Data analytics = Intuition + analysis\n",
    "   * Quantitative Data analytics = Formulas + algorithms\n",
    "    \n",
    "**Data Analysis** is all about exploring the past events\n",
    "   * Qualitative Data analysis = Explains How And Why Story ends the way it did ?\n",
    "   * Quantitative Data analysis = Data + how the sale decreased last summer ?\n",
    "    \n",
    "1. is Analysis = Analytics ? **No**\n",
    "2. is Data Analysis = Data analytics ? **No**\n",
    "3. is Business Analysis = Business analytics ? **No**"
   ]
  },
  {
   "cell_type": "markdown",
   "id": "496405b9",
   "metadata": {
    "papermill": {
     "duration": 0.015813,
     "end_time": "2023-02-18T07:12:34.536735",
     "exception": false,
     "start_time": "2023-02-18T07:12:34.520922",
     "status": "completed"
    },
    "tags": []
   },
   "source": [
    "### Classification of Data analytics\n",
    "Based on the phase of workflow and the kind of analysis required, there are four major types of data analytics.\n",
    "1. **Descriptive analytics:** What happened ?\n",
    "2. **Diagnostic analytics:** Why did it happened ?\n",
    "3. **Predictive analytics:** What will happen ?\n",
    "4. **Prescriptive analytics:** How can we make it happen ?\n",
    "\n",
    "**Value vs Diificulty**\n",
    "Descriptive Analytics is with the least value and least diificulty and as we go down the value and difficulty increases i.e Prescriptive Analytics is with the most value and most difficulty."
   ]
  },
  {
   "cell_type": "markdown",
   "id": "430c6fd5",
   "metadata": {
    "papermill": {
     "duration": 0.015811,
     "end_time": "2023-02-18T07:12:34.568908",
     "exception": false,
     "start_time": "2023-02-18T07:12:34.553097",
     "status": "completed"
    },
    "tags": []
   },
   "source": [
    "### Descriptive Analytics\n",
    "* Descriptive Analytics, is the conventional form of Business Intelligence and data analysis\n",
    "* It seeks to provide a depiction or “summary view” of facts and figures in an understandable format\n",
    "* This either inform or prepare data for further analysis\n",
    "* Descriptive analysis or statistics can summarize raw data and convert it into a form that can be easily understood by humans\n",
    "* They can describe in detail about an event that has occurred in the past\n",
    "\n",
    "A common example of Descriptive Analytics are company reports that simply provide a historic review like:\n",
    "\n",
    "1. Data Queries\n",
    "2. Reports\n",
    "3. Descriptive Statistics\n",
    "4. Data Visualization\n",
    "5. Data dashboard"
   ]
  },
  {
   "cell_type": "markdown",
   "id": "26845da3",
   "metadata": {
    "papermill": {
     "duration": 0.015765,
     "end_time": "2023-02-18T07:12:34.600730",
     "exception": false,
     "start_time": "2023-02-18T07:12:34.584965",
     "status": "completed"
    },
    "tags": []
   },
   "source": [
    "### Diagnostic analytics\n",
    "* Diagnostic Analytics is a form of advanced analytics which examines data or content to answer the question “Why did it happen?”\n",
    "* Diagnostic analytical tools aid an analyst to dig deeper into an issue so that they can arrive at the source of a problem\n",
    "* In a structured business environment, tools for both descriptive and diagnostic analytics go parallel\n",
    "\n",
    "It uses techniques such as:\n",
    "1. Data Discovery\n",
    "2. Data Mining\n",
    "3. Correlations"
   ]
  },
  {
   "cell_type": "markdown",
   "id": "16902edd",
   "metadata": {
    "papermill": {
     "duration": 0.016134,
     "end_time": "2023-02-18T07:12:34.633133",
     "exception": false,
     "start_time": "2023-02-18T07:12:34.616999",
     "status": "completed"
    },
    "tags": []
   },
   "source": [
    "### Predictive analytics\n",
    "* Predictive analytics helps to forecast trends based on the current events\n",
    "* Predicting the probability of an event happening in future or estimating the accurate time it will happen can all be determined with the help of predictive analytical models\n",
    "* Many different but co-dependent variables are analysed to predict a trend in this type of analysis\n",
    "\n",
    "1. Historical Data ---> Predictive Algorithms ---> Model\n",
    "2. New Data ---> Model ---> Predictions\n",
    "\n",
    "Set of techniques that use model constructed from past data to predict the future or ascertain impact of one variable on another:\n",
    "1. Linear regression\n",
    "2. Time series analysis and forecasting\n",
    "3. Data mining"
   ]
  },
  {
   "cell_type": "markdown",
   "id": "a54cd2fd",
   "metadata": {
    "papermill": {
     "duration": 0.015682,
     "end_time": "2023-02-18T07:12:34.664967",
     "exception": false,
     "start_time": "2023-02-18T07:12:34.649285",
     "status": "completed"
    },
    "tags": []
   },
   "source": [
    "### Prescriptive analytics\n",
    "* Set of techniques to indicate the best course of action\n",
    "* It tells what decision to make to optimize the outcome\n",
    "* The goal of prescriptive analytics is to enable:\n",
    "1. Quality improvements\n",
    "2. Service enhancements\n",
    "3. Cost reductions and\n",
    "4. Increasing productivity\n",
    "\n",
    "Examples of prescriptive analytics example:\n",
    "1. Optimization Model\n",
    "2. Simulation\n",
    "3. Decision Analysis"
   ]
  },
  {
   "cell_type": "markdown",
   "id": "92bf5d97",
   "metadata": {
    "papermill": {
     "duration": 0.015836,
     "end_time": "2023-02-18T07:12:34.697742",
     "exception": false,
     "start_time": "2023-02-18T07:12:34.681906",
     "status": "completed"
    },
    "tags": []
   },
   "source": [
    "## Explain why analytics is important"
   ]
  },
  {
   "cell_type": "markdown",
   "id": "a2061e92",
   "metadata": {
    "papermill": {
     "duration": 0.015503,
     "end_time": "2023-02-18T07:12:34.729130",
     "exception": false,
     "start_time": "2023-02-18T07:12:34.713627",
     "status": "completed"
    },
    "tags": []
   },
   "source": [
    "### Demand for Data Analytics\n",
    "With companies across industries striving to bring their research and analysis (R&A) departments up to speed, the demand for qualified data scientists is rising.\n",
    "\n",
    "\"India will face a demand-supply gap of 200,000 analytics professionals over the next three years. Even in the US, only 40 out of 100 positions for analytics professionals can be filled,\" said Rituparna Chakraborty, co-founder & senior VP of TeamLease Services. [Read More...](https://timesofindia.indiatimes.com/india/data-scientists-earning-more-than-cas-engineers/articleshow/52171064.cms?utm_source=contentofinterest&utm_medium=text&utm_campaign=cppst)"
   ]
  },
  {
   "cell_type": "markdown",
   "id": "876b23bc",
   "metadata": {
    "papermill": {
     "duration": 0.015545,
     "end_time": "2023-02-18T07:12:34.760420",
     "exception": false,
     "start_time": "2023-02-18T07:12:34.744875",
     "status": "completed"
    },
    "tags": []
   },
   "source": [
    "\n",
    " "
   ]
  },
  {
   "cell_type": "markdown",
   "id": "d7a26170",
   "metadata": {
    "papermill": {
     "duration": 0.015538,
     "end_time": "2023-02-18T07:12:34.791820",
     "exception": false,
     "start_time": "2023-02-18T07:12:34.776282",
     "status": "completed"
    },
    "tags": []
   },
   "source": [
    "### Element of data Analytics\n",
    "1. Statistics\n",
    "2. Data Mining\n",
    "3. Business Intelligence/Information Systems\n",
    "4. Visualizations\n",
    "5. Simulation and Risk\n",
    "6. Modelling and Optimizations and lastly\n",
    "7. What if ?\n"
   ]
  },
  {
   "cell_type": "markdown",
   "id": "e1162bfd",
   "metadata": {
    "papermill": {
     "duration": 0.017068,
     "end_time": "2023-02-18T07:12:34.824936",
     "exception": false,
     "start_time": "2023-02-18T07:12:34.807868",
     "status": "completed"
    },
    "tags": []
   },
   "source": [
    "## Data analyst and Data scientist\n"
   ]
  },
  {
   "cell_type": "markdown",
   "id": "497989c8",
   "metadata": {
    "papermill": {
     "duration": 0.016233,
     "end_time": "2023-02-18T07:12:34.858019",
     "exception": false,
     "start_time": "2023-02-18T07:12:34.841786",
     "status": "completed"
    },
    "tags": []
   },
   "source": [
    "### The requisite skill set are\n",
    "1. Mathematical Skills\n",
    "2. Technological Skills\n",
    "3. Business and Strategy and Acumen(ability to make good judgement and better decisions)"
   ]
  },
  {
   "cell_type": "markdown",
   "id": "cdd02693",
   "metadata": {
    "papermill": {
     "duration": 0.016146,
     "end_time": "2023-02-18T07:12:34.890616",
     "exception": false,
     "start_time": "2023-02-18T07:12:34.874470",
     "status": "completed"
    },
    "tags": []
   },
   "source": [
    "### Difference between Data analyst and Data Scientist\n",
    "**Data Analyst** requires knowledge in\n",
    "1. Business Administration\n",
    "    * That is domain specific responsibility, for example:\n",
    "        * Marketing Analyst\n",
    "        * Financial Analyst, etc\n",
    "2. Data Exploration analysis and insight\n",
    "\n",
    "**Data Scientist** requires knowledge in\n",
    "1. Everything required in Data Analyst +\n",
    "2. Advance algorithms and machine learning\n",
    "3. Data Product engineering"
   ]
  },
  {
   "cell_type": "markdown",
   "id": "8e30f082",
   "metadata": {
    "papermill": {
     "duration": 0.017021,
     "end_time": "2023-02-18T07:12:34.924231",
     "exception": false,
     "start_time": "2023-02-18T07:12:34.907210",
     "status": "completed"
    },
    "tags": []
   },
   "source": [
    "## Why python ?\n",
    "**Features:**\n",
    "1. Simple and easy to learn\n",
    "2. Freeware and Open Source\n",
    "3. Interpreted \n",
    "4. Dynamically Typed\n",
    "5. Extensible\n",
    "6. Embedded\n",
    "7. Extensive library\n",
    "8. Usability\n",
    "    * Desktop and web applications\n",
    "    * Database applications\n",
    "    * Networking applications\n",
    "    * Data analysis & Data Science\n",
    "    * Machine Learning\n",
    "    * IoT and AI applications\n",
    "    * Games\n",
    "    \n",
    "**Companies using python:**\n",
    "1. Google \n",
    "2. Nasa\n",
    "3. Facebook\n",
    "4. Youtube\n",
    "5. Yahoo!\n",
    "6. Dropbox\n",
    "7. Quora\n",
    "8. ebay, etc."
   ]
  },
  {
   "cell_type": "markdown",
   "id": "497e17ae",
   "metadata": {
    "papermill": {
     "duration": 0.015829,
     "end_time": "2023-02-18T07:12:34.956222",
     "exception": false,
     "start_time": "2023-02-18T07:12:34.940393",
     "status": "completed"
    },
    "tags": []
   },
   "source": [
    "## Why Jupyter Notebook ?\n",
    "**Features:**\n",
    "1. Client-Server application\n",
    "2. Edit code on web browser\n",
    "3. Easy in documentation\n",
    "4. Easy in demonstration\n",
    "5. User-friendly interface"
   ]
  },
  {
   "cell_type": "markdown",
   "id": "0ce7de52",
   "metadata": {
    "papermill": {
     "duration": 0.015634,
     "end_time": "2023-02-18T07:12:34.988002",
     "exception": false,
     "start_time": "2023-02-18T07:12:34.972368",
     "status": "completed"
    },
    "tags": []
   },
   "source": [
    "## Explain the four different levels of Data"
   ]
  },
  {
   "cell_type": "markdown",
   "id": "8fffc53d",
   "metadata": {
    "papermill": {
     "duration": 0.015704,
     "end_time": "2023-02-18T07:12:35.019614",
     "exception": false,
     "start_time": "2023-02-18T07:12:35.003910",
     "status": "completed"
    },
    "tags": []
   },
   "source": [
    "### Types of Variables \n",
    "Data is divided into two parts :\n",
    "1. **Categorical Data** They are defined categories, examples are: \n",
    "    * Marital Status\n",
    "    * Political Party\n",
    "    * Eye Color\n",
    "    \n",
    "2. **Numerical Data** It is further divided into two parts:\n",
    "    * **Discrete Data** They are counted items, examples are:\n",
    "        * Number of children\n",
    "        * Defects per hour\n",
    "    * **Continuous Data** They are Measured Characteristics\n",
    "        * Weight\n",
    "        * Voltage"
   ]
  },
  {
   "cell_type": "markdown",
   "id": "38e940a1",
   "metadata": {
    "papermill": {
     "duration": 0.015682,
     "end_time": "2023-02-18T07:12:35.051261",
     "exception": false,
     "start_time": "2023-02-18T07:12:35.035579",
     "status": "completed"
    },
    "tags": []
   },
   "source": [
    "### Levels of Data Measurement\n",
    "* Nominal — Lowest level of measurement  \n",
    "* Ordinal\n",
    "* Interval\n",
    "* Ratio — Highest level of measurement"
   ]
  },
  {
   "cell_type": "markdown",
   "id": "b35aefe2",
   "metadata": {
    "papermill": {
     "duration": 0.01597,
     "end_time": "2023-02-18T07:12:35.083012",
     "exception": false,
     "start_time": "2023-02-18T07:12:35.067042",
     "status": "completed"
    },
    "tags": []
   },
   "source": [
    "### Nominal\n",
    "A nominal scale classifies data into distinct categories in which **no ranking** is implied\n",
    "   * Example : Gender, Marital Status"
   ]
  },
  {
   "cell_type": "markdown",
   "id": "32474933",
   "metadata": {
    "papermill": {
     "duration": 0.015558,
     "end_time": "2023-02-18T07:12:35.115192",
     "exception": false,
     "start_time": "2023-02-18T07:12:35.099634",
     "status": "completed"
    },
    "tags": []
   },
   "source": [
    "### Ordinal scale\n",
    "An ordinal scale classifies data into distinct categories in which **ranking** is implied.\n",
    "\n",
    "Example:\n",
    "* Product satisfaction: Satisfied ---> Neutral ---> Unsatisfied\n",
    "* Faculty rank: Professor ---> Associate Professor ---> Assistant Professor\n",
    "* Student Grades: A ---> B ---> C ---> D ---> F"
   ]
  },
  {
   "cell_type": "markdown",
   "id": "0ec455ef",
   "metadata": {
    "papermill": {
     "duration": 0.015702,
     "end_time": "2023-02-18T07:12:35.146653",
     "exception": false,
     "start_time": "2023-02-18T07:12:35.130951",
     "status": "completed"
    },
    "tags": []
   },
   "source": [
    "### Interval scale\n",
    "An interval scale is an ordered scale in which the difference between measurements is a meaningful quantity but the measurements **do not have a true zero point**.\n",
    "\n",
    "Example\n",
    "* Temperature in Fahrenheit and Celsius: they can never be zero, because 0 degree Celcius means absence of temperature which makes no sense\n",
    "* Year: can't be zero\n",
    "\n",
    "**Note:** Here, we can perform only addition and subtraction other than that we can't perform any other arithmetic operations like multiplication or division because if subtract 3 years from 2023 we will get 2020 but on the contrary if we multiply 3 with 2023 we will get 6069 which doesn't make any sense."
   ]
  },
  {
   "cell_type": "markdown",
   "id": "8a7eaa24",
   "metadata": {
    "papermill": {
     "duration": 0.01565,
     "end_time": "2023-02-18T07:12:35.178213",
     "exception": false,
     "start_time": "2023-02-18T07:12:35.162563",
     "status": "completed"
    },
    "tags": []
   },
   "source": [
    "### Ratio scale\n",
    "A ratio scale is an **ordered** scale in which the difference between the measurements is a meaningful quantity and the measurements **have a true zero point**.\n",
    "\n",
    "Example:\n",
    "* Weight\n",
    "* Age\n",
    "* Salary"
   ]
  },
  {
   "cell_type": "markdown",
   "id": "52c356c9",
   "metadata": {
    "papermill": {
     "duration": 0.01558,
     "end_time": "2023-02-18T07:12:35.209649",
     "exception": false,
     "start_time": "2023-02-18T07:12:35.194069",
     "status": "completed"
    },
    "tags": []
   },
   "source": [
    "### Usage Potential of Various Levels of Data\n",
    "Ratio ---> Interval ---> Ordinal ---> Nominal"
   ]
  },
  {
   "cell_type": "markdown",
   "id": "ce40bd09",
   "metadata": {
    "papermill": {
     "duration": 0.015548,
     "end_time": "2023-02-18T07:12:35.241119",
     "exception": false,
     "start_time": "2023-02-18T07:12:35.225571",
     "status": "completed"
    },
    "tags": []
   },
   "source": [
    "### Impact of choice of measurement scale\n",
    "**Nominal**\n",
    "    \n",
    "   * **Meaningful Operations:** Classifying and Counting\n",
    "   * **Statistical Methods:** Nonparametric\n",
    "\n",
    "**Ordinal**\n",
    "\n",
    "   * **Meaningful Operations:** All of the above plus Ranking\n",
    "   * **Statistical Methods:** Nonparametric\n",
    " \n",
    "**Interval**\n",
    "    \n",
    "   * **Meaningful Operations:** All of the above plus Addition and Subtraction\n",
    "   * **Statistical Methods:** Parametric\n",
    "    \n",
    "**Ratio**\n",
    "\n",
    "   * **Meaningful Operations:** All of the above plus Multiplication and Division\n",
    "   * **Statistical Methods:** Parametric"
   ]
  },
  {
   "cell_type": "markdown",
   "id": "7baa9527",
   "metadata": {
    "papermill": {
     "duration": 0.015607,
     "end_time": "2023-02-18T07:12:35.272760",
     "exception": false,
     "start_time": "2023-02-18T07:12:35.257153",
     "status": "completed"
    },
    "tags": []
   },
   "source": [
    "# <center>Python Fundamentals I</center>\n",
    "---"
   ]
  },
  {
   "cell_type": "code",
   "execution_count": 2,
   "id": "2bd59551",
   "metadata": {
    "execution": {
     "iopub.execute_input": "2023-02-18T07:12:35.306439Z",
     "iopub.status.busy": "2023-02-18T07:12:35.306099Z",
     "iopub.status.idle": "2023-02-18T07:12:35.310807Z",
     "shell.execute_reply": "2023-02-18T07:12:35.309576Z"
    },
    "papermill": {
     "duration": 0.024085,
     "end_time": "2023-02-18T07:12:35.312803",
     "exception": false,
     "start_time": "2023-02-18T07:12:35.288718",
     "status": "completed"
    },
    "tags": []
   },
   "outputs": [],
   "source": [
    "# import libraries\n",
    "import numpy as np\n",
    "import pandas as pd\n",
    "import matplotlib.pyplot as plt"
   ]
  },
  {
   "cell_type": "markdown",
   "id": "a1380304",
   "metadata": {
    "papermill": {
     "duration": 0.016276,
     "end_time": "2023-02-18T07:12:35.345591",
     "exception": false,
     "start_time": "2023-02-18T07:12:35.329315",
     "status": "completed"
    },
    "tags": []
   },
   "source": [
    "### Load"
   ]
  },
  {
   "cell_type": "code",
   "execution_count": 3,
   "id": "3c49b236",
   "metadata": {
    "execution": {
     "iopub.execute_input": "2023-02-18T07:12:35.379953Z",
     "iopub.status.busy": "2023-02-18T07:12:35.379325Z",
     "iopub.status.idle": "2023-02-18T07:12:35.400786Z",
     "shell.execute_reply": "2023-02-18T07:12:35.399960Z"
    },
    "papermill": {
     "duration": 0.041377,
     "end_time": "2023-02-18T07:12:35.403094",
     "exception": false,
     "start_time": "2023-02-18T07:12:35.361717",
     "status": "completed"
    },
    "tags": []
   },
   "outputs": [],
   "source": [
    "df = pd.read_csv(\"/kaggle/input/gapminder-FiveYearData/gapminder-FiveYearData.csv\")"
   ]
  },
  {
   "cell_type": "markdown",
   "id": "0816d0be",
   "metadata": {
    "papermill": {
     "duration": 0.016419,
     "end_time": "2023-02-18T07:12:35.436420",
     "exception": false,
     "start_time": "2023-02-18T07:12:35.420001",
     "status": "completed"
    },
    "tags": []
   },
   "source": [
    "### Head"
   ]
  },
  {
   "cell_type": "code",
   "execution_count": 4,
   "id": "56362492",
   "metadata": {
    "execution": {
     "iopub.execute_input": "2023-02-18T07:12:35.478269Z",
     "iopub.status.busy": "2023-02-18T07:12:35.477626Z",
     "iopub.status.idle": "2023-02-18T07:12:35.503304Z",
     "shell.execute_reply": "2023-02-18T07:12:35.501899Z"
    },
    "papermill": {
     "duration": 0.053235,
     "end_time": "2023-02-18T07:12:35.506529",
     "exception": false,
     "start_time": "2023-02-18T07:12:35.453294",
     "status": "completed"
    },
    "tags": []
   },
   "outputs": [
    {
     "data": {
      "text/html": [
       "<div>\n",
       "<style scoped>\n",
       "    .dataframe tbody tr th:only-of-type {\n",
       "        vertical-align: middle;\n",
       "    }\n",
       "\n",
       "    .dataframe tbody tr th {\n",
       "        vertical-align: top;\n",
       "    }\n",
       "\n",
       "    .dataframe thead th {\n",
       "        text-align: right;\n",
       "    }\n",
       "</style>\n",
       "<table border=\"1\" class=\"dataframe\">\n",
       "  <thead>\n",
       "    <tr style=\"text-align: right;\">\n",
       "      <th></th>\n",
       "      <th>country</th>\n",
       "      <th>year</th>\n",
       "      <th>pop</th>\n",
       "      <th>continent</th>\n",
       "      <th>lifeExp</th>\n",
       "      <th>gdpPercap</th>\n",
       "    </tr>\n",
       "  </thead>\n",
       "  <tbody>\n",
       "    <tr>\n",
       "      <th>0</th>\n",
       "      <td>Afghanistan</td>\n",
       "      <td>1952</td>\n",
       "      <td>8425333.0</td>\n",
       "      <td>Asia</td>\n",
       "      <td>28.801</td>\n",
       "      <td>779.445314</td>\n",
       "    </tr>\n",
       "    <tr>\n",
       "      <th>1</th>\n",
       "      <td>Afghanistan</td>\n",
       "      <td>1957</td>\n",
       "      <td>9240934.0</td>\n",
       "      <td>Asia</td>\n",
       "      <td>30.332</td>\n",
       "      <td>820.853030</td>\n",
       "    </tr>\n",
       "    <tr>\n",
       "      <th>2</th>\n",
       "      <td>Afghanistan</td>\n",
       "      <td>1962</td>\n",
       "      <td>10267083.0</td>\n",
       "      <td>Asia</td>\n",
       "      <td>31.997</td>\n",
       "      <td>853.100710</td>\n",
       "    </tr>\n",
       "    <tr>\n",
       "      <th>3</th>\n",
       "      <td>Afghanistan</td>\n",
       "      <td>1967</td>\n",
       "      <td>11537966.0</td>\n",
       "      <td>Asia</td>\n",
       "      <td>34.020</td>\n",
       "      <td>836.197138</td>\n",
       "    </tr>\n",
       "    <tr>\n",
       "      <th>4</th>\n",
       "      <td>Afghanistan</td>\n",
       "      <td>1972</td>\n",
       "      <td>13079460.0</td>\n",
       "      <td>Asia</td>\n",
       "      <td>36.088</td>\n",
       "      <td>739.981106</td>\n",
       "    </tr>\n",
       "  </tbody>\n",
       "</table>\n",
       "</div>"
      ],
      "text/plain": [
       "       country  year         pop continent  lifeExp   gdpPercap\n",
       "0  Afghanistan  1952   8425333.0      Asia   28.801  779.445314\n",
       "1  Afghanistan  1957   9240934.0      Asia   30.332  820.853030\n",
       "2  Afghanistan  1962  10267083.0      Asia   31.997  853.100710\n",
       "3  Afghanistan  1967  11537966.0      Asia   34.020  836.197138\n",
       "4  Afghanistan  1972  13079460.0      Asia   36.088  739.981106"
      ]
     },
     "execution_count": 4,
     "metadata": {},
     "output_type": "execute_result"
    }
   ],
   "source": [
    "df.head()"
   ]
  },
  {
   "cell_type": "markdown",
   "id": "57b0d8b1",
   "metadata": {
    "papermill": {
     "duration": 0.016925,
     "end_time": "2023-02-18T07:12:35.544201",
     "exception": false,
     "start_time": "2023-02-18T07:12:35.527276",
     "status": "completed"
    },
    "tags": []
   },
   "source": [
    "### Tail"
   ]
  },
  {
   "cell_type": "code",
   "execution_count": 5,
   "id": "4c69d6e0",
   "metadata": {
    "execution": {
     "iopub.execute_input": "2023-02-18T07:12:35.579369Z",
     "iopub.status.busy": "2023-02-18T07:12:35.579013Z",
     "iopub.status.idle": "2023-02-18T07:12:35.591175Z",
     "shell.execute_reply": "2023-02-18T07:12:35.590188Z"
    },
    "papermill": {
     "duration": 0.031553,
     "end_time": "2023-02-18T07:12:35.593005",
     "exception": false,
     "start_time": "2023-02-18T07:12:35.561452",
     "status": "completed"
    },
    "tags": []
   },
   "outputs": [
    {
     "data": {
      "text/html": [
       "<div>\n",
       "<style scoped>\n",
       "    .dataframe tbody tr th:only-of-type {\n",
       "        vertical-align: middle;\n",
       "    }\n",
       "\n",
       "    .dataframe tbody tr th {\n",
       "        vertical-align: top;\n",
       "    }\n",
       "\n",
       "    .dataframe thead th {\n",
       "        text-align: right;\n",
       "    }\n",
       "</style>\n",
       "<table border=\"1\" class=\"dataframe\">\n",
       "  <thead>\n",
       "    <tr style=\"text-align: right;\">\n",
       "      <th></th>\n",
       "      <th>country</th>\n",
       "      <th>year</th>\n",
       "      <th>pop</th>\n",
       "      <th>continent</th>\n",
       "      <th>lifeExp</th>\n",
       "      <th>gdpPercap</th>\n",
       "    </tr>\n",
       "  </thead>\n",
       "  <tbody>\n",
       "    <tr>\n",
       "      <th>1699</th>\n",
       "      <td>Zimbabwe</td>\n",
       "      <td>1987</td>\n",
       "      <td>9216418.0</td>\n",
       "      <td>Africa</td>\n",
       "      <td>62.351</td>\n",
       "      <td>706.157306</td>\n",
       "    </tr>\n",
       "    <tr>\n",
       "      <th>1700</th>\n",
       "      <td>Zimbabwe</td>\n",
       "      <td>1992</td>\n",
       "      <td>10704340.0</td>\n",
       "      <td>Africa</td>\n",
       "      <td>60.377</td>\n",
       "      <td>693.420786</td>\n",
       "    </tr>\n",
       "    <tr>\n",
       "      <th>1701</th>\n",
       "      <td>Zimbabwe</td>\n",
       "      <td>1997</td>\n",
       "      <td>11404948.0</td>\n",
       "      <td>Africa</td>\n",
       "      <td>46.809</td>\n",
       "      <td>792.449960</td>\n",
       "    </tr>\n",
       "    <tr>\n",
       "      <th>1702</th>\n",
       "      <td>Zimbabwe</td>\n",
       "      <td>2002</td>\n",
       "      <td>11926563.0</td>\n",
       "      <td>Africa</td>\n",
       "      <td>39.989</td>\n",
       "      <td>672.038623</td>\n",
       "    </tr>\n",
       "    <tr>\n",
       "      <th>1703</th>\n",
       "      <td>Zimbabwe</td>\n",
       "      <td>2007</td>\n",
       "      <td>12311143.0</td>\n",
       "      <td>Africa</td>\n",
       "      <td>43.487</td>\n",
       "      <td>469.709298</td>\n",
       "    </tr>\n",
       "  </tbody>\n",
       "</table>\n",
       "</div>"
      ],
      "text/plain": [
       "       country  year         pop continent  lifeExp   gdpPercap\n",
       "1699  Zimbabwe  1987   9216418.0    Africa   62.351  706.157306\n",
       "1700  Zimbabwe  1992  10704340.0    Africa   60.377  693.420786\n",
       "1701  Zimbabwe  1997  11404948.0    Africa   46.809  792.449960\n",
       "1702  Zimbabwe  2002  11926563.0    Africa   39.989  672.038623\n",
       "1703  Zimbabwe  2007  12311143.0    Africa   43.487  469.709298"
      ]
     },
     "execution_count": 5,
     "metadata": {},
     "output_type": "execute_result"
    }
   ],
   "source": [
    "df.tail()"
   ]
  },
  {
   "cell_type": "markdown",
   "id": "8cf4ddf0",
   "metadata": {
    "papermill": {
     "duration": 0.016154,
     "end_time": "2023-02-18T07:12:35.625783",
     "exception": false,
     "start_time": "2023-02-18T07:12:35.609629",
     "status": "completed"
    },
    "tags": []
   },
   "source": [
    "### Data Types"
   ]
  },
  {
   "cell_type": "code",
   "execution_count": 6,
   "id": "cad539be",
   "metadata": {
    "execution": {
     "iopub.execute_input": "2023-02-18T07:12:35.661187Z",
     "iopub.status.busy": "2023-02-18T07:12:35.660838Z",
     "iopub.status.idle": "2023-02-18T07:12:35.668964Z",
     "shell.execute_reply": "2023-02-18T07:12:35.667886Z"
    },
    "papermill": {
     "duration": 0.028914,
     "end_time": "2023-02-18T07:12:35.671476",
     "exception": false,
     "start_time": "2023-02-18T07:12:35.642562",
     "status": "completed"
    },
    "tags": []
   },
   "outputs": [
    {
     "data": {
      "text/plain": [
       "country       object\n",
       "year           int64\n",
       "pop          float64\n",
       "continent     object\n",
       "lifeExp      float64\n",
       "gdpPercap    float64\n",
       "dtype: object"
      ]
     },
     "execution_count": 6,
     "metadata": {},
     "output_type": "execute_result"
    }
   ],
   "source": [
    "df.dtypes"
   ]
  },
  {
   "cell_type": "markdown",
   "id": "0ea6a033",
   "metadata": {
    "papermill": {
     "duration": 0.016591,
     "end_time": "2023-02-18T07:12:35.705150",
     "exception": false,
     "start_time": "2023-02-18T07:12:35.688559",
     "status": "completed"
    },
    "tags": []
   },
   "source": [
    "### Info"
   ]
  },
  {
   "cell_type": "code",
   "execution_count": 7,
   "id": "ab88c90e",
   "metadata": {
    "execution": {
     "iopub.execute_input": "2023-02-18T07:12:35.740327Z",
     "iopub.status.busy": "2023-02-18T07:12:35.740017Z",
     "iopub.status.idle": "2023-02-18T07:12:35.767774Z",
     "shell.execute_reply": "2023-02-18T07:12:35.766179Z"
    },
    "papermill": {
     "duration": 0.047811,
     "end_time": "2023-02-18T07:12:35.769764",
     "exception": false,
     "start_time": "2023-02-18T07:12:35.721953",
     "status": "completed"
    },
    "tags": []
   },
   "outputs": [
    {
     "name": "stdout",
     "output_type": "stream",
     "text": [
      "<class 'pandas.core.frame.DataFrame'>\n",
      "RangeIndex: 1704 entries, 0 to 1703\n",
      "Data columns (total 6 columns):\n",
      " #   Column     Non-Null Count  Dtype  \n",
      "---  ------     --------------  -----  \n",
      " 0   country    1704 non-null   object \n",
      " 1   year       1704 non-null   int64  \n",
      " 2   pop        1704 non-null   float64\n",
      " 3   continent  1704 non-null   object \n",
      " 4   lifeExp    1704 non-null   float64\n",
      " 5   gdpPercap  1704 non-null   float64\n",
      "dtypes: float64(3), int64(1), object(2)\n",
      "memory usage: 80.0+ KB\n"
     ]
    }
   ],
   "source": [
    "df.info()"
   ]
  },
  {
   "cell_type": "markdown",
   "id": "edd7515f",
   "metadata": {
    "papermill": {
     "duration": 0.016557,
     "end_time": "2023-02-18T07:12:35.803383",
     "exception": false,
     "start_time": "2023-02-18T07:12:35.786826",
     "status": "completed"
    },
    "tags": []
   },
   "source": [
    "### get the country column and save it to its own variable"
   ]
  },
  {
   "cell_type": "code",
   "execution_count": 8,
   "id": "9e1cfe94",
   "metadata": {
    "execution": {
     "iopub.execute_input": "2023-02-18T07:12:35.839396Z",
     "iopub.status.busy": "2023-02-18T07:12:35.838981Z",
     "iopub.status.idle": "2023-02-18T07:12:35.846916Z",
     "shell.execute_reply": "2023-02-18T07:12:35.845961Z"
    },
    "papermill": {
     "duration": 0.028148,
     "end_time": "2023-02-18T07:12:35.848612",
     "exception": false,
     "start_time": "2023-02-18T07:12:35.820464",
     "status": "completed"
    },
    "tags": []
   },
   "outputs": [
    {
     "data": {
      "text/plain": [
       "0    Afghanistan\n",
       "1    Afghanistan\n",
       "2    Afghanistan\n",
       "3    Afghanistan\n",
       "4    Afghanistan\n",
       "Name: country, dtype: object"
      ]
     },
     "execution_count": 8,
     "metadata": {},
     "output_type": "execute_result"
    }
   ],
   "source": [
    "country_df = df[\"country\"]\n",
    "country_df.head()"
   ]
  },
  {
   "cell_type": "markdown",
   "id": "a3c66e90",
   "metadata": {
    "papermill": {
     "duration": 0.016999,
     "end_time": "2023-02-18T07:12:35.882934",
     "exception": false,
     "start_time": "2023-02-18T07:12:35.865935",
     "status": "completed"
    },
    "tags": []
   },
   "source": [
    "### subset multiple columns"
   ]
  },
  {
   "cell_type": "code",
   "execution_count": 9,
   "id": "bc73bea1",
   "metadata": {
    "execution": {
     "iopub.execute_input": "2023-02-18T07:12:35.919709Z",
     "iopub.status.busy": "2023-02-18T07:12:35.919323Z",
     "iopub.status.idle": "2023-02-18T07:12:35.930342Z",
     "shell.execute_reply": "2023-02-18T07:12:35.929334Z"
    },
    "papermill": {
     "duration": 0.031921,
     "end_time": "2023-02-18T07:12:35.932190",
     "exception": false,
     "start_time": "2023-02-18T07:12:35.900269",
     "status": "completed"
    },
    "tags": []
   },
   "outputs": [
    {
     "data": {
      "text/html": [
       "<div>\n",
       "<style scoped>\n",
       "    .dataframe tbody tr th:only-of-type {\n",
       "        vertical-align: middle;\n",
       "    }\n",
       "\n",
       "    .dataframe tbody tr th {\n",
       "        vertical-align: top;\n",
       "    }\n",
       "\n",
       "    .dataframe thead th {\n",
       "        text-align: right;\n",
       "    }\n",
       "</style>\n",
       "<table border=\"1\" class=\"dataframe\">\n",
       "  <thead>\n",
       "    <tr style=\"text-align: right;\">\n",
       "      <th></th>\n",
       "      <th>country</th>\n",
       "      <th>continent</th>\n",
       "      <th>year</th>\n",
       "    </tr>\n",
       "  </thead>\n",
       "  <tbody>\n",
       "    <tr>\n",
       "      <th>0</th>\n",
       "      <td>Afghanistan</td>\n",
       "      <td>Asia</td>\n",
       "      <td>1952</td>\n",
       "    </tr>\n",
       "    <tr>\n",
       "      <th>1</th>\n",
       "      <td>Afghanistan</td>\n",
       "      <td>Asia</td>\n",
       "      <td>1957</td>\n",
       "    </tr>\n",
       "    <tr>\n",
       "      <th>2</th>\n",
       "      <td>Afghanistan</td>\n",
       "      <td>Asia</td>\n",
       "      <td>1962</td>\n",
       "    </tr>\n",
       "    <tr>\n",
       "      <th>3</th>\n",
       "      <td>Afghanistan</td>\n",
       "      <td>Asia</td>\n",
       "      <td>1967</td>\n",
       "    </tr>\n",
       "    <tr>\n",
       "      <th>4</th>\n",
       "      <td>Afghanistan</td>\n",
       "      <td>Asia</td>\n",
       "      <td>1972</td>\n",
       "    </tr>\n",
       "  </tbody>\n",
       "</table>\n",
       "</div>"
      ],
      "text/plain": [
       "       country continent  year\n",
       "0  Afghanistan      Asia  1952\n",
       "1  Afghanistan      Asia  1957\n",
       "2  Afghanistan      Asia  1962\n",
       "3  Afghanistan      Asia  1967\n",
       "4  Afghanistan      Asia  1972"
      ]
     },
     "execution_count": 9,
     "metadata": {},
     "output_type": "execute_result"
    }
   ],
   "source": [
    "subset = df[[\"country\",\"continent\",\"year\"]]\n",
    "subset.head()"
   ]
  },
  {
   "cell_type": "markdown",
   "id": "4171a858",
   "metadata": {
    "papermill": {
     "duration": 0.017208,
     "end_time": "2023-02-18T07:12:35.966859",
     "exception": false,
     "start_time": "2023-02-18T07:12:35.949651",
     "status": "completed"
    },
    "tags": []
   },
   "source": [
    "## loc: subset `rows by index label`, counting starts from Zero (0)\n",
    "* here we select the rows with the help of `Index Labels`, whereas, in iloc we use integers\n",
    "\n",
    "**Note:** that index labels can also be integers, and most of the time it will be the case only"
   ]
  },
  {
   "cell_type": "code",
   "execution_count": 10,
   "id": "bb923d2c",
   "metadata": {
    "execution": {
     "iopub.execute_input": "2023-02-18T07:12:36.003335Z",
     "iopub.status.busy": "2023-02-18T07:12:36.002995Z",
     "iopub.status.idle": "2023-02-18T07:12:36.011222Z",
     "shell.execute_reply": "2023-02-18T07:12:36.010280Z"
    },
    "papermill": {
     "duration": 0.028699,
     "end_time": "2023-02-18T07:12:36.013117",
     "exception": false,
     "start_time": "2023-02-18T07:12:35.984418",
     "status": "completed"
    },
    "tags": []
   },
   "outputs": [
    {
     "data": {
      "text/plain": [
       "country      Afghanistan\n",
       "year                1952\n",
       "pop            8425333.0\n",
       "continent           Asia\n",
       "lifeExp           28.801\n",
       "gdpPercap     779.445314\n",
       "Name: 0, dtype: object"
      ]
     },
     "execution_count": 10,
     "metadata": {},
     "output_type": "execute_result"
    }
   ],
   "source": [
    "df.loc[0]"
   ]
  },
  {
   "cell_type": "markdown",
   "id": "e43da73b",
   "metadata": {
    "papermill": {
     "duration": 0.017371,
     "end_time": "2023-02-18T07:12:36.048230",
     "exception": false,
     "start_time": "2023-02-18T07:12:36.030859",
     "status": "completed"
    },
    "tags": []
   },
   "source": [
    "### get the 100th row"
   ]
  },
  {
   "cell_type": "code",
   "execution_count": 11,
   "id": "786c2f68",
   "metadata": {
    "execution": {
     "iopub.execute_input": "2023-02-18T07:12:36.085401Z",
     "iopub.status.busy": "2023-02-18T07:12:36.085013Z",
     "iopub.status.idle": "2023-02-18T07:12:36.091981Z",
     "shell.execute_reply": "2023-02-18T07:12:36.091179Z"
    },
    "papermill": {
     "duration": 0.027985,
     "end_time": "2023-02-18T07:12:36.094166",
     "exception": false,
     "start_time": "2023-02-18T07:12:36.066181",
     "status": "completed"
    },
    "tags": []
   },
   "outputs": [
    {
     "data": {
      "text/plain": [
       "country      Bangladesh\n",
       "year               1967\n",
       "pop          62821884.0\n",
       "continent          Asia\n",
       "lifeExp          43.453\n",
       "gdpPercap    721.186086\n",
       "Name: 99, dtype: object"
      ]
     },
     "execution_count": 11,
     "metadata": {},
     "output_type": "execute_result"
    }
   ],
   "source": [
    "df.loc[99]"
   ]
  },
  {
   "cell_type": "markdown",
   "id": "da4dc7f0",
   "metadata": {
    "papermill": {
     "duration": 0.017584,
     "end_time": "2023-02-18T07:12:36.129529",
     "exception": false,
     "start_time": "2023-02-18T07:12:36.111945",
     "status": "completed"
    },
    "tags": []
   },
   "source": [
    "### subsetting multiple rows\n",
    "**select 1st row, 100th row and 1000th row**"
   ]
  },
  {
   "cell_type": "code",
   "execution_count": 12,
   "id": "853de261",
   "metadata": {
    "execution": {
     "iopub.execute_input": "2023-02-18T07:12:36.166617Z",
     "iopub.status.busy": "2023-02-18T07:12:36.166229Z",
     "iopub.status.idle": "2023-02-18T07:12:36.180085Z",
     "shell.execute_reply": "2023-02-18T07:12:36.178775Z"
    },
    "papermill": {
     "duration": 0.034595,
     "end_time": "2023-02-18T07:12:36.181930",
     "exception": false,
     "start_time": "2023-02-18T07:12:36.147335",
     "status": "completed"
    },
    "tags": []
   },
   "outputs": [
    {
     "data": {
      "text/html": [
       "<div>\n",
       "<style scoped>\n",
       "    .dataframe tbody tr th:only-of-type {\n",
       "        vertical-align: middle;\n",
       "    }\n",
       "\n",
       "    .dataframe tbody tr th {\n",
       "        vertical-align: top;\n",
       "    }\n",
       "\n",
       "    .dataframe thead th {\n",
       "        text-align: right;\n",
       "    }\n",
       "</style>\n",
       "<table border=\"1\" class=\"dataframe\">\n",
       "  <thead>\n",
       "    <tr style=\"text-align: right;\">\n",
       "      <th></th>\n",
       "      <th>country</th>\n",
       "      <th>year</th>\n",
       "      <th>pop</th>\n",
       "      <th>continent</th>\n",
       "      <th>lifeExp</th>\n",
       "      <th>gdpPercap</th>\n",
       "    </tr>\n",
       "  </thead>\n",
       "  <tbody>\n",
       "    <tr>\n",
       "      <th>0</th>\n",
       "      <td>Afghanistan</td>\n",
       "      <td>1952</td>\n",
       "      <td>8425333.0</td>\n",
       "      <td>Asia</td>\n",
       "      <td>28.801</td>\n",
       "      <td>779.445314</td>\n",
       "    </tr>\n",
       "    <tr>\n",
       "      <th>99</th>\n",
       "      <td>Bangladesh</td>\n",
       "      <td>1967</td>\n",
       "      <td>62821884.0</td>\n",
       "      <td>Asia</td>\n",
       "      <td>43.453</td>\n",
       "      <td>721.186086</td>\n",
       "    </tr>\n",
       "    <tr>\n",
       "      <th>999</th>\n",
       "      <td>Mongolia</td>\n",
       "      <td>1967</td>\n",
       "      <td>1149500.0</td>\n",
       "      <td>Asia</td>\n",
       "      <td>51.253</td>\n",
       "      <td>1226.041130</td>\n",
       "    </tr>\n",
       "  </tbody>\n",
       "</table>\n",
       "</div>"
      ],
      "text/plain": [
       "         country  year         pop continent  lifeExp    gdpPercap\n",
       "0    Afghanistan  1952   8425333.0      Asia   28.801   779.445314\n",
       "99    Bangladesh  1967  62821884.0      Asia   43.453   721.186086\n",
       "999     Mongolia  1967   1149500.0      Asia   51.253  1226.041130"
      ]
     },
     "execution_count": 12,
     "metadata": {},
     "output_type": "execute_result"
    }
   ],
   "source": [
    "df.loc[[0,99,999]]"
   ]
  },
  {
   "cell_type": "markdown",
   "id": "340eaaec",
   "metadata": {
    "papermill": {
     "duration": 0.01745,
     "end_time": "2023-02-18T07:12:36.217146",
     "exception": false,
     "start_time": "2023-02-18T07:12:36.199696",
     "status": "completed"
    },
    "tags": []
   },
   "source": [
    "## iloc: subset rows `by row number`"
   ]
  },
  {
   "cell_type": "markdown",
   "id": "d4b59b38",
   "metadata": {
    "papermill": {
     "duration": 0.017807,
     "end_time": "2023-02-18T07:12:36.253035",
     "exception": false,
     "start_time": "2023-02-18T07:12:36.235228",
     "status": "completed"
    },
    "tags": []
   },
   "source": [
    "**get 2nd row**"
   ]
  },
  {
   "cell_type": "code",
   "execution_count": 13,
   "id": "6775700f",
   "metadata": {
    "execution": {
     "iopub.execute_input": "2023-02-18T07:12:36.290741Z",
     "iopub.status.busy": "2023-02-18T07:12:36.290313Z",
     "iopub.status.idle": "2023-02-18T07:12:36.298454Z",
     "shell.execute_reply": "2023-02-18T07:12:36.297110Z"
    },
    "papermill": {
     "duration": 0.030047,
     "end_time": "2023-02-18T07:12:36.300982",
     "exception": false,
     "start_time": "2023-02-18T07:12:36.270935",
     "status": "completed"
    },
    "tags": []
   },
   "outputs": [
    {
     "data": {
      "text/plain": [
       "country      Afghanistan\n",
       "year                1957\n",
       "pop            9240934.0\n",
       "continent           Asia\n",
       "lifeExp           30.332\n",
       "gdpPercap      820.85303\n",
       "Name: 1, dtype: object"
      ]
     },
     "execution_count": 13,
     "metadata": {},
     "output_type": "execute_result"
    }
   ],
   "source": [
    "df.iloc[1]"
   ]
  },
  {
   "cell_type": "markdown",
   "id": "86138239",
   "metadata": {
    "papermill": {
     "duration": 0.017887,
     "end_time": "2023-02-18T07:12:36.336954",
     "exception": false,
     "start_time": "2023-02-18T07:12:36.319067",
     "status": "completed"
    },
    "tags": []
   },
   "source": [
    "### get 100th row"
   ]
  },
  {
   "cell_type": "code",
   "execution_count": 14,
   "id": "899af3dc",
   "metadata": {
    "execution": {
     "iopub.execute_input": "2023-02-18T07:12:36.374674Z",
     "iopub.status.busy": "2023-02-18T07:12:36.374298Z",
     "iopub.status.idle": "2023-02-18T07:12:36.381460Z",
     "shell.execute_reply": "2023-02-18T07:12:36.380527Z"
    },
    "papermill": {
     "duration": 0.028367,
     "end_time": "2023-02-18T07:12:36.384018",
     "exception": false,
     "start_time": "2023-02-18T07:12:36.355651",
     "status": "completed"
    },
    "tags": []
   },
   "outputs": [
    {
     "data": {
      "text/plain": [
       "country      Bangladesh\n",
       "year               1967\n",
       "pop          62821884.0\n",
       "continent          Asia\n",
       "lifeExp          43.453\n",
       "gdpPercap    721.186086\n",
       "Name: 99, dtype: object"
      ]
     },
     "execution_count": 14,
     "metadata": {},
     "output_type": "execute_result"
    }
   ],
   "source": [
    "df.iloc[99]"
   ]
  },
  {
   "cell_type": "markdown",
   "id": "fa2042a0",
   "metadata": {
    "papermill": {
     "duration": 0.017713,
     "end_time": "2023-02-18T07:12:36.419879",
     "exception": false,
     "start_time": "2023-02-18T07:12:36.402166",
     "status": "completed"
    },
    "tags": []
   },
   "source": [
    "### get the last row"
   ]
  },
  {
   "cell_type": "code",
   "execution_count": 15,
   "id": "a0c3738b",
   "metadata": {
    "execution": {
     "iopub.execute_input": "2023-02-18T07:12:36.459133Z",
     "iopub.status.busy": "2023-02-18T07:12:36.458826Z",
     "iopub.status.idle": "2023-02-18T07:12:36.467090Z",
     "shell.execute_reply": "2023-02-18T07:12:36.465639Z"
    },
    "papermill": {
     "duration": 0.029963,
     "end_time": "2023-02-18T07:12:36.469342",
     "exception": false,
     "start_time": "2023-02-18T07:12:36.439379",
     "status": "completed"
    },
    "tags": []
   },
   "outputs": [
    {
     "data": {
      "text/plain": [
       "country        Zimbabwe\n",
       "year               2007\n",
       "pop          12311143.0\n",
       "continent        Africa\n",
       "lifeExp          43.487\n",
       "gdpPercap    469.709298\n",
       "Name: 1703, dtype: object"
      ]
     },
     "execution_count": 15,
     "metadata": {},
     "output_type": "execute_result"
    }
   ],
   "source": [
    "df.iloc[-1]"
   ]
  },
  {
   "cell_type": "markdown",
   "id": "8775667e",
   "metadata": {
    "papermill": {
     "duration": 0.017804,
     "end_time": "2023-02-18T07:12:36.505394",
     "exception": false,
     "start_time": "2023-02-18T07:12:36.487590",
     "status": "completed"
    },
    "tags": []
   },
   "source": [
    "**Note:** When we are using `iloc` we can pass -1 to get the last row, something we can't do with the `loc` because here we acces rows by index labels"
   ]
  },
  {
   "cell_type": "markdown",
   "id": "4c05d918",
   "metadata": {
    "papermill": {
     "duration": 0.017879,
     "end_time": "2023-02-18T07:12:36.541565",
     "exception": false,
     "start_time": "2023-02-18T07:12:36.523686",
     "status": "completed"
    },
    "tags": []
   },
   "source": [
    "### get the 1st, 100th and 999th rows"
   ]
  },
  {
   "cell_type": "code",
   "execution_count": 16,
   "id": "108e4e13",
   "metadata": {
    "execution": {
     "iopub.execute_input": "2023-02-18T07:12:36.580242Z",
     "iopub.status.busy": "2023-02-18T07:12:36.579907Z",
     "iopub.status.idle": "2023-02-18T07:12:36.592137Z",
     "shell.execute_reply": "2023-02-18T07:12:36.591321Z"
    },
    "papermill": {
     "duration": 0.033798,
     "end_time": "2023-02-18T07:12:36.593869",
     "exception": false,
     "start_time": "2023-02-18T07:12:36.560071",
     "status": "completed"
    },
    "tags": []
   },
   "outputs": [
    {
     "data": {
      "text/html": [
       "<div>\n",
       "<style scoped>\n",
       "    .dataframe tbody tr th:only-of-type {\n",
       "        vertical-align: middle;\n",
       "    }\n",
       "\n",
       "    .dataframe tbody tr th {\n",
       "        vertical-align: top;\n",
       "    }\n",
       "\n",
       "    .dataframe thead th {\n",
       "        text-align: right;\n",
       "    }\n",
       "</style>\n",
       "<table border=\"1\" class=\"dataframe\">\n",
       "  <thead>\n",
       "    <tr style=\"text-align: right;\">\n",
       "      <th></th>\n",
       "      <th>country</th>\n",
       "      <th>year</th>\n",
       "      <th>pop</th>\n",
       "      <th>continent</th>\n",
       "      <th>lifeExp</th>\n",
       "      <th>gdpPercap</th>\n",
       "    </tr>\n",
       "  </thead>\n",
       "  <tbody>\n",
       "    <tr>\n",
       "      <th>0</th>\n",
       "      <td>Afghanistan</td>\n",
       "      <td>1952</td>\n",
       "      <td>8425333.0</td>\n",
       "      <td>Asia</td>\n",
       "      <td>28.801</td>\n",
       "      <td>779.445314</td>\n",
       "    </tr>\n",
       "    <tr>\n",
       "      <th>99</th>\n",
       "      <td>Bangladesh</td>\n",
       "      <td>1967</td>\n",
       "      <td>62821884.0</td>\n",
       "      <td>Asia</td>\n",
       "      <td>43.453</td>\n",
       "      <td>721.186086</td>\n",
       "    </tr>\n",
       "    <tr>\n",
       "      <th>999</th>\n",
       "      <td>Mongolia</td>\n",
       "      <td>1967</td>\n",
       "      <td>1149500.0</td>\n",
       "      <td>Asia</td>\n",
       "      <td>51.253</td>\n",
       "      <td>1226.041130</td>\n",
       "    </tr>\n",
       "  </tbody>\n",
       "</table>\n",
       "</div>"
      ],
      "text/plain": [
       "         country  year         pop continent  lifeExp    gdpPercap\n",
       "0    Afghanistan  1952   8425333.0      Asia   28.801   779.445314\n",
       "99    Bangladesh  1967  62821884.0      Asia   43.453   721.186086\n",
       "999     Mongolia  1967   1149500.0      Asia   51.253  1226.041130"
      ]
     },
     "execution_count": 16,
     "metadata": {},
     "output_type": "execute_result"
    }
   ],
   "source": [
    "df.iloc[[0,99,999]]"
   ]
  },
  {
   "cell_type": "markdown",
   "id": "e4ad9801",
   "metadata": {
    "papermill": {
     "duration": 0.017907,
     "end_time": "2023-02-18T07:12:36.629956",
     "exception": false,
     "start_time": "2023-02-18T07:12:36.612049",
     "status": "completed"
    },
    "tags": []
   },
   "source": [
    "## Subset columns with slicing using colon (:)\n",
    "**subset all rows with two columns**"
   ]
  },
  {
   "cell_type": "code",
   "execution_count": 17,
   "id": "91e01c0b",
   "metadata": {
    "execution": {
     "iopub.execute_input": "2023-02-18T07:12:36.667800Z",
     "iopub.status.busy": "2023-02-18T07:12:36.667368Z",
     "iopub.status.idle": "2023-02-18T07:12:36.680477Z",
     "shell.execute_reply": "2023-02-18T07:12:36.679628Z"
    },
    "papermill": {
     "duration": 0.034821,
     "end_time": "2023-02-18T07:12:36.682919",
     "exception": false,
     "start_time": "2023-02-18T07:12:36.648098",
     "status": "completed"
    },
    "tags": []
   },
   "outputs": [
    {
     "data": {
      "text/html": [
       "<div>\n",
       "<style scoped>\n",
       "    .dataframe tbody tr th:only-of-type {\n",
       "        vertical-align: middle;\n",
       "    }\n",
       "\n",
       "    .dataframe tbody tr th {\n",
       "        vertical-align: top;\n",
       "    }\n",
       "\n",
       "    .dataframe thead th {\n",
       "        text-align: right;\n",
       "    }\n",
       "</style>\n",
       "<table border=\"1\" class=\"dataframe\">\n",
       "  <thead>\n",
       "    <tr style=\"text-align: right;\">\n",
       "      <th></th>\n",
       "      <th>year</th>\n",
       "      <th>pop</th>\n",
       "    </tr>\n",
       "  </thead>\n",
       "  <tbody>\n",
       "    <tr>\n",
       "      <th>0</th>\n",
       "      <td>1952</td>\n",
       "      <td>8425333.0</td>\n",
       "    </tr>\n",
       "    <tr>\n",
       "      <th>1</th>\n",
       "      <td>1957</td>\n",
       "      <td>9240934.0</td>\n",
       "    </tr>\n",
       "    <tr>\n",
       "      <th>2</th>\n",
       "      <td>1962</td>\n",
       "      <td>10267083.0</td>\n",
       "    </tr>\n",
       "    <tr>\n",
       "      <th>3</th>\n",
       "      <td>1967</td>\n",
       "      <td>11537966.0</td>\n",
       "    </tr>\n",
       "    <tr>\n",
       "      <th>4</th>\n",
       "      <td>1972</td>\n",
       "      <td>13079460.0</td>\n",
       "    </tr>\n",
       "    <tr>\n",
       "      <th>...</th>\n",
       "      <td>...</td>\n",
       "      <td>...</td>\n",
       "    </tr>\n",
       "    <tr>\n",
       "      <th>1699</th>\n",
       "      <td>1987</td>\n",
       "      <td>9216418.0</td>\n",
       "    </tr>\n",
       "    <tr>\n",
       "      <th>1700</th>\n",
       "      <td>1992</td>\n",
       "      <td>10704340.0</td>\n",
       "    </tr>\n",
       "    <tr>\n",
       "      <th>1701</th>\n",
       "      <td>1997</td>\n",
       "      <td>11404948.0</td>\n",
       "    </tr>\n",
       "    <tr>\n",
       "      <th>1702</th>\n",
       "      <td>2002</td>\n",
       "      <td>11926563.0</td>\n",
       "    </tr>\n",
       "    <tr>\n",
       "      <th>1703</th>\n",
       "      <td>2007</td>\n",
       "      <td>12311143.0</td>\n",
       "    </tr>\n",
       "  </tbody>\n",
       "</table>\n",
       "<p>1704 rows × 2 columns</p>\n",
       "</div>"
      ],
      "text/plain": [
       "      year         pop\n",
       "0     1952   8425333.0\n",
       "1     1957   9240934.0\n",
       "2     1962  10267083.0\n",
       "3     1967  11537966.0\n",
       "4     1972  13079460.0\n",
       "...    ...         ...\n",
       "1699  1987   9216418.0\n",
       "1700  1992  10704340.0\n",
       "1701  1997  11404948.0\n",
       "1702  2002  11926563.0\n",
       "1703  2007  12311143.0\n",
       "\n",
       "[1704 rows x 2 columns]"
      ]
     },
     "execution_count": 17,
     "metadata": {},
     "output_type": "execute_result"
    }
   ],
   "source": [
    "df.loc[:,[\"year\",\"pop\"]]"
   ]
  },
  {
   "cell_type": "code",
   "execution_count": 18,
   "id": "68b047d0",
   "metadata": {
    "execution": {
     "iopub.execute_input": "2023-02-18T07:12:36.721868Z",
     "iopub.status.busy": "2023-02-18T07:12:36.721419Z",
     "iopub.status.idle": "2023-02-18T07:12:36.736507Z",
     "shell.execute_reply": "2023-02-18T07:12:36.735220Z"
    },
    "papermill": {
     "duration": 0.036922,
     "end_time": "2023-02-18T07:12:36.738565",
     "exception": false,
     "start_time": "2023-02-18T07:12:36.701643",
     "status": "completed"
    },
    "tags": []
   },
   "outputs": [
    {
     "data": {
      "text/html": [
       "<div>\n",
       "<style scoped>\n",
       "    .dataframe tbody tr th:only-of-type {\n",
       "        vertical-align: middle;\n",
       "    }\n",
       "\n",
       "    .dataframe tbody tr th {\n",
       "        vertical-align: top;\n",
       "    }\n",
       "\n",
       "    .dataframe thead th {\n",
       "        text-align: right;\n",
       "    }\n",
       "</style>\n",
       "<table border=\"1\" class=\"dataframe\">\n",
       "  <thead>\n",
       "    <tr style=\"text-align: right;\">\n",
       "      <th></th>\n",
       "      <th>country</th>\n",
       "      <th>year</th>\n",
       "      <th>gdpPercap</th>\n",
       "    </tr>\n",
       "  </thead>\n",
       "  <tbody>\n",
       "    <tr>\n",
       "      <th>0</th>\n",
       "      <td>Afghanistan</td>\n",
       "      <td>1952</td>\n",
       "      <td>779.445314</td>\n",
       "    </tr>\n",
       "    <tr>\n",
       "      <th>1</th>\n",
       "      <td>Afghanistan</td>\n",
       "      <td>1957</td>\n",
       "      <td>820.853030</td>\n",
       "    </tr>\n",
       "    <tr>\n",
       "      <th>2</th>\n",
       "      <td>Afghanistan</td>\n",
       "      <td>1962</td>\n",
       "      <td>853.100710</td>\n",
       "    </tr>\n",
       "    <tr>\n",
       "      <th>3</th>\n",
       "      <td>Afghanistan</td>\n",
       "      <td>1967</td>\n",
       "      <td>836.197138</td>\n",
       "    </tr>\n",
       "    <tr>\n",
       "      <th>4</th>\n",
       "      <td>Afghanistan</td>\n",
       "      <td>1972</td>\n",
       "      <td>739.981106</td>\n",
       "    </tr>\n",
       "    <tr>\n",
       "      <th>...</th>\n",
       "      <td>...</td>\n",
       "      <td>...</td>\n",
       "      <td>...</td>\n",
       "    </tr>\n",
       "    <tr>\n",
       "      <th>1699</th>\n",
       "      <td>Zimbabwe</td>\n",
       "      <td>1987</td>\n",
       "      <td>706.157306</td>\n",
       "    </tr>\n",
       "    <tr>\n",
       "      <th>1700</th>\n",
       "      <td>Zimbabwe</td>\n",
       "      <td>1992</td>\n",
       "      <td>693.420786</td>\n",
       "    </tr>\n",
       "    <tr>\n",
       "      <th>1701</th>\n",
       "      <td>Zimbabwe</td>\n",
       "      <td>1997</td>\n",
       "      <td>792.449960</td>\n",
       "    </tr>\n",
       "    <tr>\n",
       "      <th>1702</th>\n",
       "      <td>Zimbabwe</td>\n",
       "      <td>2002</td>\n",
       "      <td>672.038623</td>\n",
       "    </tr>\n",
       "    <tr>\n",
       "      <th>1703</th>\n",
       "      <td>Zimbabwe</td>\n",
       "      <td>2007</td>\n",
       "      <td>469.709298</td>\n",
       "    </tr>\n",
       "  </tbody>\n",
       "</table>\n",
       "<p>1704 rows × 3 columns</p>\n",
       "</div>"
      ],
      "text/plain": [
       "          country  year   gdpPercap\n",
       "0     Afghanistan  1952  779.445314\n",
       "1     Afghanistan  1957  820.853030\n",
       "2     Afghanistan  1962  853.100710\n",
       "3     Afghanistan  1967  836.197138\n",
       "4     Afghanistan  1972  739.981106\n",
       "...           ...   ...         ...\n",
       "1699     Zimbabwe  1987  706.157306\n",
       "1700     Zimbabwe  1992  693.420786\n",
       "1701     Zimbabwe  1997  792.449960\n",
       "1702     Zimbabwe  2002  672.038623\n",
       "1703     Zimbabwe  2007  469.709298\n",
       "\n",
       "[1704 rows x 3 columns]"
      ]
     },
     "execution_count": 18,
     "metadata": {},
     "output_type": "execute_result"
    }
   ],
   "source": [
    "df.iloc[:,[0,1,-1]]"
   ]
  },
  {
   "cell_type": "markdown",
   "id": "bb0b6354",
   "metadata": {
    "papermill": {
     "duration": 0.01831,
     "end_time": "2023-02-18T07:12:36.775740",
     "exception": false,
     "start_time": "2023-02-18T07:12:36.757430",
     "status": "completed"
    },
    "tags": []
   },
   "source": [
    "# <center>Python Fundamentals II</center>\n",
    "---"
   ]
  },
  {
   "cell_type": "markdown",
   "id": "a0475b8b",
   "metadata": {
    "papermill": {
     "duration": 0.019217,
     "end_time": "2023-02-18T07:12:36.814332",
     "exception": false,
     "start_time": "2023-02-18T07:12:36.795115",
     "status": "completed"
    },
    "tags": []
   },
   "source": [
    "## Subset rows"
   ]
  },
  {
   "cell_type": "markdown",
   "id": "b8a98306",
   "metadata": {
    "papermill": {
     "duration": 0.018517,
     "end_time": "2023-02-18T07:12:36.851675",
     "exception": false,
     "start_time": "2023-02-18T07:12:36.833158",
     "status": "completed"
    },
    "tags": []
   },
   "source": [
    "### ways to get last row"
   ]
  },
  {
   "cell_type": "code",
   "execution_count": 19,
   "id": "037cd4b8",
   "metadata": {
    "execution": {
     "iopub.execute_input": "2023-02-18T07:12:36.891137Z",
     "iopub.status.busy": "2023-02-18T07:12:36.890769Z",
     "iopub.status.idle": "2023-02-18T07:12:36.903313Z",
     "shell.execute_reply": "2023-02-18T07:12:36.902031Z"
    },
    "papermill": {
     "duration": 0.035172,
     "end_time": "2023-02-18T07:12:36.905867",
     "exception": false,
     "start_time": "2023-02-18T07:12:36.870695",
     "status": "completed"
    },
    "tags": []
   },
   "outputs": [
    {
     "data": {
      "text/html": [
       "<div>\n",
       "<style scoped>\n",
       "    .dataframe tbody tr th:only-of-type {\n",
       "        vertical-align: middle;\n",
       "    }\n",
       "\n",
       "    .dataframe tbody tr th {\n",
       "        vertical-align: top;\n",
       "    }\n",
       "\n",
       "    .dataframe thead th {\n",
       "        text-align: right;\n",
       "    }\n",
       "</style>\n",
       "<table border=\"1\" class=\"dataframe\">\n",
       "  <thead>\n",
       "    <tr style=\"text-align: right;\">\n",
       "      <th></th>\n",
       "      <th>country</th>\n",
       "      <th>year</th>\n",
       "      <th>pop</th>\n",
       "      <th>continent</th>\n",
       "      <th>lifeExp</th>\n",
       "      <th>gdpPercap</th>\n",
       "    </tr>\n",
       "  </thead>\n",
       "  <tbody>\n",
       "    <tr>\n",
       "      <th>1703</th>\n",
       "      <td>Zimbabwe</td>\n",
       "      <td>2007</td>\n",
       "      <td>12311143.0</td>\n",
       "      <td>Africa</td>\n",
       "      <td>43.487</td>\n",
       "      <td>469.709298</td>\n",
       "    </tr>\n",
       "  </tbody>\n",
       "</table>\n",
       "</div>"
      ],
      "text/plain": [
       "       country  year         pop continent  lifeExp   gdpPercap\n",
       "1703  Zimbabwe  2007  12311143.0    Africa   43.487  469.709298"
      ]
     },
     "execution_count": 19,
     "metadata": {},
     "output_type": "execute_result"
    }
   ],
   "source": [
    "df.tail(1)"
   ]
  },
  {
   "cell_type": "code",
   "execution_count": 20,
   "id": "3d82b44c",
   "metadata": {
    "execution": {
     "iopub.execute_input": "2023-02-18T07:12:36.945969Z",
     "iopub.status.busy": "2023-02-18T07:12:36.945595Z",
     "iopub.status.idle": "2023-02-18T07:12:36.952955Z",
     "shell.execute_reply": "2023-02-18T07:12:36.951718Z"
    },
    "papermill": {
     "duration": 0.030328,
     "end_time": "2023-02-18T07:12:36.955297",
     "exception": false,
     "start_time": "2023-02-18T07:12:36.924969",
     "status": "completed"
    },
    "tags": []
   },
   "outputs": [
    {
     "data": {
      "text/plain": [
       "country        Zimbabwe\n",
       "year               2007\n",
       "pop          12311143.0\n",
       "continent        Africa\n",
       "lifeExp          43.487\n",
       "gdpPercap    469.709298\n",
       "Name: 1703, dtype: object"
      ]
     },
     "execution_count": 20,
     "metadata": {},
     "output_type": "execute_result"
    }
   ],
   "source": [
    "df.iloc[-1]"
   ]
  },
  {
   "cell_type": "code",
   "execution_count": 21,
   "id": "58e80e5d",
   "metadata": {
    "execution": {
     "iopub.execute_input": "2023-02-18T07:12:36.994357Z",
     "iopub.status.busy": "2023-02-18T07:12:36.994006Z",
     "iopub.status.idle": "2023-02-18T07:12:37.002157Z",
     "shell.execute_reply": "2023-02-18T07:12:37.001133Z"
    },
    "papermill": {
     "duration": 0.029853,
     "end_time": "2023-02-18T07:12:37.003937",
     "exception": false,
     "start_time": "2023-02-18T07:12:36.974084",
     "status": "completed"
    },
    "tags": []
   },
   "outputs": [
    {
     "data": {
      "text/plain": [
       "country        Zimbabwe\n",
       "year               2007\n",
       "pop          12311143.0\n",
       "continent        Africa\n",
       "lifeExp          43.487\n",
       "gdpPercap    469.709298\n",
       "Name: 1703, dtype: object"
      ]
     },
     "execution_count": 21,
     "metadata": {},
     "output_type": "execute_result"
    }
   ],
   "source": [
    "df.loc[df.shape[0] - 1]"
   ]
  },
  {
   "cell_type": "markdown",
   "id": "d989c434",
   "metadata": {
    "papermill": {
     "duration": 0.018689,
     "end_time": "2023-02-18T07:12:37.041416",
     "exception": false,
     "start_time": "2023-02-18T07:12:37.022727",
     "status": "completed"
    },
    "tags": []
   },
   "source": [
    "## Subset columns\n",
    "* The Python slicing syntax uses a colon, `:`\n",
    "* If we have just a colon, the attribute refers to everything.\n",
    "* So, if we just want to get the first column using the loc or iloc syntax,we can write something like `df.loc[:, [columns]]` to subset the column(s)."
   ]
  },
  {
   "cell_type": "markdown",
   "id": "868dc306",
   "metadata": {
    "papermill": {
     "duration": 0.018206,
     "end_time": "2023-02-18T07:12:37.078407",
     "exception": false,
     "start_time": "2023-02-18T07:12:37.060201",
     "status": "completed"
    },
    "tags": []
   },
   "source": [
    "### subset columns with loc\n",
    "**note** the position of the colon, it is used to select all rows"
   ]
  },
  {
   "cell_type": "code",
   "execution_count": 22,
   "id": "8930d455",
   "metadata": {
    "execution": {
     "iopub.execute_input": "2023-02-18T07:12:37.117103Z",
     "iopub.status.busy": "2023-02-18T07:12:37.116672Z",
     "iopub.status.idle": "2023-02-18T07:12:37.126706Z",
     "shell.execute_reply": "2023-02-18T07:12:37.125593Z"
    },
    "papermill": {
     "duration": 0.032382,
     "end_time": "2023-02-18T07:12:37.129290",
     "exception": false,
     "start_time": "2023-02-18T07:12:37.096908",
     "status": "completed"
    },
    "tags": []
   },
   "outputs": [
    {
     "data": {
      "text/html": [
       "<div>\n",
       "<style scoped>\n",
       "    .dataframe tbody tr th:only-of-type {\n",
       "        vertical-align: middle;\n",
       "    }\n",
       "\n",
       "    .dataframe tbody tr th {\n",
       "        vertical-align: top;\n",
       "    }\n",
       "\n",
       "    .dataframe thead th {\n",
       "        text-align: right;\n",
       "    }\n",
       "</style>\n",
       "<table border=\"1\" class=\"dataframe\">\n",
       "  <thead>\n",
       "    <tr style=\"text-align: right;\">\n",
       "      <th></th>\n",
       "      <th>year</th>\n",
       "      <th>pop</th>\n",
       "    </tr>\n",
       "  </thead>\n",
       "  <tbody>\n",
       "    <tr>\n",
       "      <th>0</th>\n",
       "      <td>1952</td>\n",
       "      <td>8425333.0</td>\n",
       "    </tr>\n",
       "    <tr>\n",
       "      <th>1</th>\n",
       "      <td>1957</td>\n",
       "      <td>9240934.0</td>\n",
       "    </tr>\n",
       "    <tr>\n",
       "      <th>2</th>\n",
       "      <td>1962</td>\n",
       "      <td>10267083.0</td>\n",
       "    </tr>\n",
       "    <tr>\n",
       "      <th>3</th>\n",
       "      <td>1967</td>\n",
       "      <td>11537966.0</td>\n",
       "    </tr>\n",
       "    <tr>\n",
       "      <th>4</th>\n",
       "      <td>1972</td>\n",
       "      <td>13079460.0</td>\n",
       "    </tr>\n",
       "  </tbody>\n",
       "</table>\n",
       "</div>"
      ],
      "text/plain": [
       "   year         pop\n",
       "0  1952   8425333.0\n",
       "1  1957   9240934.0\n",
       "2  1962  10267083.0\n",
       "3  1967  11537966.0\n",
       "4  1972  13079460.0"
      ]
     },
     "execution_count": 22,
     "metadata": {},
     "output_type": "execute_result"
    }
   ],
   "source": [
    "df.loc[:,[\"year\",\"pop\"]].head()"
   ]
  },
  {
   "cell_type": "markdown",
   "id": "1f90b4a5",
   "metadata": {
    "papermill": {
     "duration": 0.020245,
     "end_time": "2023-02-18T07:12:37.168900",
     "exception": false,
     "start_time": "2023-02-18T07:12:37.148655",
     "status": "completed"
    },
    "tags": []
   },
   "source": [
    "## Subset columns by `range`"
   ]
  },
  {
   "cell_type": "code",
   "execution_count": 23,
   "id": "2d1aaf9d",
   "metadata": {
    "execution": {
     "iopub.execute_input": "2023-02-18T07:12:37.210854Z",
     "iopub.status.busy": "2023-02-18T07:12:37.210458Z",
     "iopub.status.idle": "2023-02-18T07:12:37.215956Z",
     "shell.execute_reply": "2023-02-18T07:12:37.214874Z"
    },
    "papermill": {
     "duration": 0.029157,
     "end_time": "2023-02-18T07:12:37.218251",
     "exception": false,
     "start_time": "2023-02-18T07:12:37.189094",
     "status": "completed"
    },
    "tags": []
   },
   "outputs": [
    {
     "data": {
      "text/plain": [
       "range(0, 5)"
      ]
     },
     "execution_count": 23,
     "metadata": {},
     "output_type": "execute_result"
    }
   ],
   "source": [
    "small_range = range(0,5)\n",
    "small_range"
   ]
  },
  {
   "cell_type": "code",
   "execution_count": 24,
   "id": "89985f3b",
   "metadata": {
    "execution": {
     "iopub.execute_input": "2023-02-18T07:12:37.259611Z",
     "iopub.status.busy": "2023-02-18T07:12:37.259192Z",
     "iopub.status.idle": "2023-02-18T07:12:37.277394Z",
     "shell.execute_reply": "2023-02-18T07:12:37.276693Z"
    },
    "papermill": {
     "duration": 0.041135,
     "end_time": "2023-02-18T07:12:37.279093",
     "exception": false,
     "start_time": "2023-02-18T07:12:37.237958",
     "status": "completed"
    },
    "tags": []
   },
   "outputs": [
    {
     "data": {
      "text/html": [
       "<div>\n",
       "<style scoped>\n",
       "    .dataframe tbody tr th:only-of-type {\n",
       "        vertical-align: middle;\n",
       "    }\n",
       "\n",
       "    .dataframe tbody tr th {\n",
       "        vertical-align: top;\n",
       "    }\n",
       "\n",
       "    .dataframe thead th {\n",
       "        text-align: right;\n",
       "    }\n",
       "</style>\n",
       "<table border=\"1\" class=\"dataframe\">\n",
       "  <thead>\n",
       "    <tr style=\"text-align: right;\">\n",
       "      <th></th>\n",
       "      <th>country</th>\n",
       "      <th>year</th>\n",
       "      <th>pop</th>\n",
       "      <th>continent</th>\n",
       "      <th>lifeExp</th>\n",
       "    </tr>\n",
       "  </thead>\n",
       "  <tbody>\n",
       "    <tr>\n",
       "      <th>0</th>\n",
       "      <td>Afghanistan</td>\n",
       "      <td>1952</td>\n",
       "      <td>8425333.0</td>\n",
       "      <td>Asia</td>\n",
       "      <td>28.801</td>\n",
       "    </tr>\n",
       "    <tr>\n",
       "      <th>1</th>\n",
       "      <td>Afghanistan</td>\n",
       "      <td>1957</td>\n",
       "      <td>9240934.0</td>\n",
       "      <td>Asia</td>\n",
       "      <td>30.332</td>\n",
       "    </tr>\n",
       "    <tr>\n",
       "      <th>2</th>\n",
       "      <td>Afghanistan</td>\n",
       "      <td>1962</td>\n",
       "      <td>10267083.0</td>\n",
       "      <td>Asia</td>\n",
       "      <td>31.997</td>\n",
       "    </tr>\n",
       "    <tr>\n",
       "      <th>3</th>\n",
       "      <td>Afghanistan</td>\n",
       "      <td>1967</td>\n",
       "      <td>11537966.0</td>\n",
       "      <td>Asia</td>\n",
       "      <td>34.020</td>\n",
       "    </tr>\n",
       "    <tr>\n",
       "      <th>4</th>\n",
       "      <td>Afghanistan</td>\n",
       "      <td>1972</td>\n",
       "      <td>13079460.0</td>\n",
       "      <td>Asia</td>\n",
       "      <td>36.088</td>\n",
       "    </tr>\n",
       "    <tr>\n",
       "      <th>...</th>\n",
       "      <td>...</td>\n",
       "      <td>...</td>\n",
       "      <td>...</td>\n",
       "      <td>...</td>\n",
       "      <td>...</td>\n",
       "    </tr>\n",
       "    <tr>\n",
       "      <th>1699</th>\n",
       "      <td>Zimbabwe</td>\n",
       "      <td>1987</td>\n",
       "      <td>9216418.0</td>\n",
       "      <td>Africa</td>\n",
       "      <td>62.351</td>\n",
       "    </tr>\n",
       "    <tr>\n",
       "      <th>1700</th>\n",
       "      <td>Zimbabwe</td>\n",
       "      <td>1992</td>\n",
       "      <td>10704340.0</td>\n",
       "      <td>Africa</td>\n",
       "      <td>60.377</td>\n",
       "    </tr>\n",
       "    <tr>\n",
       "      <th>1701</th>\n",
       "      <td>Zimbabwe</td>\n",
       "      <td>1997</td>\n",
       "      <td>11404948.0</td>\n",
       "      <td>Africa</td>\n",
       "      <td>46.809</td>\n",
       "    </tr>\n",
       "    <tr>\n",
       "      <th>1702</th>\n",
       "      <td>Zimbabwe</td>\n",
       "      <td>2002</td>\n",
       "      <td>11926563.0</td>\n",
       "      <td>Africa</td>\n",
       "      <td>39.989</td>\n",
       "    </tr>\n",
       "    <tr>\n",
       "      <th>1703</th>\n",
       "      <td>Zimbabwe</td>\n",
       "      <td>2007</td>\n",
       "      <td>12311143.0</td>\n",
       "      <td>Africa</td>\n",
       "      <td>43.487</td>\n",
       "    </tr>\n",
       "  </tbody>\n",
       "</table>\n",
       "<p>1704 rows × 5 columns</p>\n",
       "</div>"
      ],
      "text/plain": [
       "          country  year         pop continent  lifeExp\n",
       "0     Afghanistan  1952   8425333.0      Asia   28.801\n",
       "1     Afghanistan  1957   9240934.0      Asia   30.332\n",
       "2     Afghanistan  1962  10267083.0      Asia   31.997\n",
       "3     Afghanistan  1967  11537966.0      Asia   34.020\n",
       "4     Afghanistan  1972  13079460.0      Asia   36.088\n",
       "...           ...   ...         ...       ...      ...\n",
       "1699     Zimbabwe  1987   9216418.0    Africa   62.351\n",
       "1700     Zimbabwe  1992  10704340.0    Africa   60.377\n",
       "1701     Zimbabwe  1997  11404948.0    Africa   46.809\n",
       "1702     Zimbabwe  2002  11926563.0    Africa   39.989\n",
       "1703     Zimbabwe  2007  12311143.0    Africa   43.487\n",
       "\n",
       "[1704 rows x 5 columns]"
      ]
     },
     "execution_count": 24,
     "metadata": {},
     "output_type": "execute_result"
    }
   ],
   "source": [
    "df.iloc[:,small_range]"
   ]
  },
  {
   "cell_type": "markdown",
   "id": "7c8f5106",
   "metadata": {
    "papermill": {
     "duration": 0.018833,
     "end_time": "2023-02-18T07:12:37.317173",
     "exception": false,
     "start_time": "2023-02-18T07:12:37.298340",
     "status": "completed"
    },
    "tags": []
   },
   "source": [
    "## subsetting rows & columns simultaneously"
   ]
  },
  {
   "cell_type": "code",
   "execution_count": 25,
   "id": "6cb24770",
   "metadata": {
    "execution": {
     "iopub.execute_input": "2023-02-18T07:12:37.357559Z",
     "iopub.status.busy": "2023-02-18T07:12:37.357177Z",
     "iopub.status.idle": "2023-02-18T07:12:37.363238Z",
     "shell.execute_reply": "2023-02-18T07:12:37.362541Z"
    },
    "papermill": {
     "duration": 0.028696,
     "end_time": "2023-02-18T07:12:37.364963",
     "exception": false,
     "start_time": "2023-02-18T07:12:37.336267",
     "status": "completed"
    },
    "tags": []
   },
   "outputs": [
    {
     "data": {
      "text/plain": [
       "'Angola'"
      ]
     },
     "execution_count": 25,
     "metadata": {},
     "output_type": "execute_result"
    }
   ],
   "source": [
    "df.loc[42,\"country\"]"
   ]
  },
  {
   "cell_type": "code",
   "execution_count": 26,
   "id": "b00de931",
   "metadata": {
    "execution": {
     "iopub.execute_input": "2023-02-18T07:12:37.406426Z",
     "iopub.status.busy": "2023-02-18T07:12:37.406086Z",
     "iopub.status.idle": "2023-02-18T07:12:37.411607Z",
     "shell.execute_reply": "2023-02-18T07:12:37.410543Z"
    },
    "papermill": {
     "duration": 0.028576,
     "end_time": "2023-02-18T07:12:37.413268",
     "exception": false,
     "start_time": "2023-02-18T07:12:37.384692",
     "status": "completed"
    },
    "tags": []
   },
   "outputs": [
    {
     "data": {
      "text/plain": [
       "'Angola'"
      ]
     },
     "execution_count": 26,
     "metadata": {},
     "output_type": "execute_result"
    }
   ],
   "source": [
    "df.iloc[42,0]"
   ]
  },
  {
   "cell_type": "markdown",
   "id": "1513f054",
   "metadata": {
    "papermill": {
     "duration": 0.020463,
     "end_time": "2023-02-18T07:12:37.453267",
     "exception": false,
     "start_time": "2023-02-18T07:12:37.432804",
     "status": "completed"
    },
    "tags": []
   },
   "source": [
    "## Subsetting Multiple Rows and Columns\n",
    "\n",
    "* get the 1st, 100th, and 1000th rows from the 1st, 4th, and 6th columns"
   ]
  },
  {
   "cell_type": "code",
   "execution_count": 27,
   "id": "7fe24149",
   "metadata": {
    "execution": {
     "iopub.execute_input": "2023-02-18T07:12:37.508925Z",
     "iopub.status.busy": "2023-02-18T07:12:37.508450Z",
     "iopub.status.idle": "2023-02-18T07:12:37.518334Z",
     "shell.execute_reply": "2023-02-18T07:12:37.517228Z"
    },
    "papermill": {
     "duration": 0.040219,
     "end_time": "2023-02-18T07:12:37.521519",
     "exception": false,
     "start_time": "2023-02-18T07:12:37.481300",
     "status": "completed"
    },
    "tags": []
   },
   "outputs": [
    {
     "data": {
      "text/html": [
       "<div>\n",
       "<style scoped>\n",
       "    .dataframe tbody tr th:only-of-type {\n",
       "        vertical-align: middle;\n",
       "    }\n",
       "\n",
       "    .dataframe tbody tr th {\n",
       "        vertical-align: top;\n",
       "    }\n",
       "\n",
       "    .dataframe thead th {\n",
       "        text-align: right;\n",
       "    }\n",
       "</style>\n",
       "<table border=\"1\" class=\"dataframe\">\n",
       "  <thead>\n",
       "    <tr style=\"text-align: right;\">\n",
       "      <th></th>\n",
       "      <th>country</th>\n",
       "      <th>continent</th>\n",
       "      <th>gdpPercap</th>\n",
       "    </tr>\n",
       "  </thead>\n",
       "  <tbody>\n",
       "    <tr>\n",
       "      <th>0</th>\n",
       "      <td>Afghanistan</td>\n",
       "      <td>Asia</td>\n",
       "      <td>779.445314</td>\n",
       "    </tr>\n",
       "    <tr>\n",
       "      <th>99</th>\n",
       "      <td>Bangladesh</td>\n",
       "      <td>Asia</td>\n",
       "      <td>721.186086</td>\n",
       "    </tr>\n",
       "    <tr>\n",
       "      <th>999</th>\n",
       "      <td>Mongolia</td>\n",
       "      <td>Asia</td>\n",
       "      <td>1226.041130</td>\n",
       "    </tr>\n",
       "  </tbody>\n",
       "</table>\n",
       "</div>"
      ],
      "text/plain": [
       "         country continent    gdpPercap\n",
       "0    Afghanistan      Asia   779.445314\n",
       "99    Bangladesh      Asia   721.186086\n",
       "999     Mongolia      Asia  1226.041130"
      ]
     },
     "execution_count": 27,
     "metadata": {},
     "output_type": "execute_result"
    }
   ],
   "source": [
    "df.iloc[[0,99,999],[0,3,5]]"
   ]
  },
  {
   "cell_type": "markdown",
   "id": "f5d5ab11",
   "metadata": {
    "papermill": {
     "duration": 0.019455,
     "end_time": "2023-02-18T07:12:37.565099",
     "exception": false,
     "start_time": "2023-02-18T07:12:37.545644",
     "status": "completed"
    },
    "tags": []
   },
   "source": [
    "* if we use the column names directly, it makes the code a bit easier to read\n",
    "\n",
    "**note** now we have to use loc, instead of iloc"
   ]
  },
  {
   "cell_type": "code",
   "execution_count": 28,
   "id": "d8255ee9",
   "metadata": {
    "execution": {
     "iopub.execute_input": "2023-02-18T07:12:37.607976Z",
     "iopub.status.busy": "2023-02-18T07:12:37.607285Z",
     "iopub.status.idle": "2023-02-18T07:12:37.618949Z",
     "shell.execute_reply": "2023-02-18T07:12:37.618033Z"
    },
    "papermill": {
     "duration": 0.035504,
     "end_time": "2023-02-18T07:12:37.620823",
     "exception": false,
     "start_time": "2023-02-18T07:12:37.585319",
     "status": "completed"
    },
    "tags": []
   },
   "outputs": [
    {
     "data": {
      "text/html": [
       "<div>\n",
       "<style scoped>\n",
       "    .dataframe tbody tr th:only-of-type {\n",
       "        vertical-align: middle;\n",
       "    }\n",
       "\n",
       "    .dataframe tbody tr th {\n",
       "        vertical-align: top;\n",
       "    }\n",
       "\n",
       "    .dataframe thead th {\n",
       "        text-align: right;\n",
       "    }\n",
       "</style>\n",
       "<table border=\"1\" class=\"dataframe\">\n",
       "  <thead>\n",
       "    <tr style=\"text-align: right;\">\n",
       "      <th></th>\n",
       "      <th>country</th>\n",
       "      <th>continent</th>\n",
       "      <th>gdpPercap</th>\n",
       "    </tr>\n",
       "  </thead>\n",
       "  <tbody>\n",
       "    <tr>\n",
       "      <th>0</th>\n",
       "      <td>Afghanistan</td>\n",
       "      <td>Asia</td>\n",
       "      <td>779.445314</td>\n",
       "    </tr>\n",
       "    <tr>\n",
       "      <th>99</th>\n",
       "      <td>Bangladesh</td>\n",
       "      <td>Asia</td>\n",
       "      <td>721.186086</td>\n",
       "    </tr>\n",
       "    <tr>\n",
       "      <th>999</th>\n",
       "      <td>Mongolia</td>\n",
       "      <td>Asia</td>\n",
       "      <td>1226.041130</td>\n",
       "    </tr>\n",
       "  </tbody>\n",
       "</table>\n",
       "</div>"
      ],
      "text/plain": [
       "         country continent    gdpPercap\n",
       "0    Afghanistan      Asia   779.445314\n",
       "99    Bangladesh      Asia   721.186086\n",
       "999     Mongolia      Asia  1226.041130"
      ]
     },
     "execution_count": 28,
     "metadata": {},
     "output_type": "execute_result"
    }
   ],
   "source": [
    "df.loc[[0,99,999],[\"country\",\"continent\",\"gdpPercap\"]]"
   ]
  },
  {
   "cell_type": "markdown",
   "id": "f888b747",
   "metadata": {
    "papermill": {
     "duration": 0.019671,
     "end_time": "2023-02-18T07:12:37.660876",
     "exception": false,
     "start_time": "2023-02-18T07:12:37.641205",
     "status": "completed"
    },
    "tags": []
   },
   "source": [
    "## Grouped Means\n",
    " \n",
    "* For each year in our data, what was the average life expectancy?\n",
    "* To answer this question, we need to split our data into parts by year;\n",
    "* then we get the 'lifeExp' column and calculate the mean"
   ]
  },
  {
   "cell_type": "code",
   "execution_count": 29,
   "id": "c211f48e",
   "metadata": {
    "execution": {
     "iopub.execute_input": "2023-02-18T07:12:37.703678Z",
     "iopub.status.busy": "2023-02-18T07:12:37.702720Z",
     "iopub.status.idle": "2023-02-18T07:12:37.719527Z",
     "shell.execute_reply": "2023-02-18T07:12:37.718088Z"
    },
    "papermill": {
     "duration": 0.040881,
     "end_time": "2023-02-18T07:12:37.721710",
     "exception": false,
     "start_time": "2023-02-18T07:12:37.680829",
     "status": "completed"
    },
    "tags": []
   },
   "outputs": [
    {
     "data": {
      "text/html": [
       "<div>\n",
       "<style scoped>\n",
       "    .dataframe tbody tr th:only-of-type {\n",
       "        vertical-align: middle;\n",
       "    }\n",
       "\n",
       "    .dataframe tbody tr th {\n",
       "        vertical-align: top;\n",
       "    }\n",
       "\n",
       "    .dataframe thead th {\n",
       "        text-align: right;\n",
       "    }\n",
       "</style>\n",
       "<table border=\"1\" class=\"dataframe\">\n",
       "  <thead>\n",
       "    <tr style=\"text-align: right;\">\n",
       "      <th></th>\n",
       "      <th>pop</th>\n",
       "      <th>lifeExp</th>\n",
       "      <th>gdpPercap</th>\n",
       "    </tr>\n",
       "    <tr>\n",
       "      <th>year</th>\n",
       "      <th></th>\n",
       "      <th></th>\n",
       "      <th></th>\n",
       "    </tr>\n",
       "  </thead>\n",
       "  <tbody>\n",
       "    <tr>\n",
       "      <th>2007</th>\n",
       "      <td>4.402122e+07</td>\n",
       "      <td>67.007423</td>\n",
       "      <td>11680.071820</td>\n",
       "    </tr>\n",
       "    <tr>\n",
       "      <th>2002</th>\n",
       "      <td>4.145759e+07</td>\n",
       "      <td>65.694923</td>\n",
       "      <td>9917.848365</td>\n",
       "    </tr>\n",
       "    <tr>\n",
       "      <th>1997</th>\n",
       "      <td>3.883947e+07</td>\n",
       "      <td>65.014676</td>\n",
       "      <td>9090.175363</td>\n",
       "    </tr>\n",
       "    <tr>\n",
       "      <th>1992</th>\n",
       "      <td>3.599092e+07</td>\n",
       "      <td>64.160338</td>\n",
       "      <td>8158.608521</td>\n",
       "    </tr>\n",
       "    <tr>\n",
       "      <th>1987</th>\n",
       "      <td>3.303857e+07</td>\n",
       "      <td>63.212613</td>\n",
       "      <td>7900.920218</td>\n",
       "    </tr>\n",
       "    <tr>\n",
       "      <th>1982</th>\n",
       "      <td>3.020730e+07</td>\n",
       "      <td>61.533197</td>\n",
       "      <td>7518.901673</td>\n",
       "    </tr>\n",
       "    <tr>\n",
       "      <th>1977</th>\n",
       "      <td>2.767638e+07</td>\n",
       "      <td>59.570157</td>\n",
       "      <td>7313.166421</td>\n",
       "    </tr>\n",
       "    <tr>\n",
       "      <th>1972</th>\n",
       "      <td>2.518998e+07</td>\n",
       "      <td>57.647386</td>\n",
       "      <td>6770.082815</td>\n",
       "    </tr>\n",
       "    <tr>\n",
       "      <th>1967</th>\n",
       "      <td>2.265830e+07</td>\n",
       "      <td>55.678290</td>\n",
       "      <td>5483.653047</td>\n",
       "    </tr>\n",
       "    <tr>\n",
       "      <th>1962</th>\n",
       "      <td>2.042101e+07</td>\n",
       "      <td>53.609249</td>\n",
       "      <td>4725.812342</td>\n",
       "    </tr>\n",
       "    <tr>\n",
       "      <th>1957</th>\n",
       "      <td>1.876341e+07</td>\n",
       "      <td>51.507401</td>\n",
       "      <td>4299.408345</td>\n",
       "    </tr>\n",
       "    <tr>\n",
       "      <th>1952</th>\n",
       "      <td>1.695040e+07</td>\n",
       "      <td>49.057620</td>\n",
       "      <td>3725.276046</td>\n",
       "    </tr>\n",
       "  </tbody>\n",
       "</table>\n",
       "</div>"
      ],
      "text/plain": [
       "               pop    lifeExp     gdpPercap\n",
       "year                                       \n",
       "2007  4.402122e+07  67.007423  11680.071820\n",
       "2002  4.145759e+07  65.694923   9917.848365\n",
       "1997  3.883947e+07  65.014676   9090.175363\n",
       "1992  3.599092e+07  64.160338   8158.608521\n",
       "1987  3.303857e+07  63.212613   7900.920218\n",
       "1982  3.020730e+07  61.533197   7518.901673\n",
       "1977  2.767638e+07  59.570157   7313.166421\n",
       "1972  2.518998e+07  57.647386   6770.082815\n",
       "1967  2.265830e+07  55.678290   5483.653047\n",
       "1962  2.042101e+07  53.609249   4725.812342\n",
       "1957  1.876341e+07  51.507401   4299.408345\n",
       "1952  1.695040e+07  49.057620   3725.276046"
      ]
     },
     "execution_count": 29,
     "metadata": {},
     "output_type": "execute_result"
    }
   ],
   "source": [
    "df.groupby(\"year\").mean().sort_values(by=\"lifeExp\",ascending=False)"
   ]
  },
  {
   "cell_type": "code",
   "execution_count": 30,
   "id": "d1302087",
   "metadata": {
    "execution": {
     "iopub.execute_input": "2023-02-18T07:12:37.763474Z",
     "iopub.status.busy": "2023-02-18T07:12:37.763116Z",
     "iopub.status.idle": "2023-02-18T07:12:37.786613Z",
     "shell.execute_reply": "2023-02-18T07:12:37.785320Z"
    },
    "papermill": {
     "duration": 0.047464,
     "end_time": "2023-02-18T07:12:37.789188",
     "exception": false,
     "start_time": "2023-02-18T07:12:37.741724",
     "status": "completed"
    },
    "tags": []
   },
   "outputs": [
    {
     "data": {
      "text/html": [
       "<div>\n",
       "<style scoped>\n",
       "    .dataframe tbody tr th:only-of-type {\n",
       "        vertical-align: middle;\n",
       "    }\n",
       "\n",
       "    .dataframe tbody tr th {\n",
       "        vertical-align: top;\n",
       "    }\n",
       "\n",
       "    .dataframe thead th {\n",
       "        text-align: right;\n",
       "    }\n",
       "</style>\n",
       "<table border=\"1\" class=\"dataframe\">\n",
       "  <thead>\n",
       "    <tr style=\"text-align: right;\">\n",
       "      <th></th>\n",
       "      <th></th>\n",
       "      <th>pop</th>\n",
       "      <th>lifeExp</th>\n",
       "      <th>gdpPercap</th>\n",
       "    </tr>\n",
       "    <tr>\n",
       "      <th>year</th>\n",
       "      <th>continent</th>\n",
       "      <th></th>\n",
       "      <th></th>\n",
       "      <th></th>\n",
       "    </tr>\n",
       "  </thead>\n",
       "  <tbody>\n",
       "    <tr>\n",
       "      <th rowspan=\"5\" valign=\"top\">1952</th>\n",
       "      <th>Africa</th>\n",
       "      <td>4.570010e+06</td>\n",
       "      <td>39.135500</td>\n",
       "      <td>1252.572466</td>\n",
       "    </tr>\n",
       "    <tr>\n",
       "      <th>Americas</th>\n",
       "      <td>1.380610e+07</td>\n",
       "      <td>53.279840</td>\n",
       "      <td>4079.062552</td>\n",
       "    </tr>\n",
       "    <tr>\n",
       "      <th>Asia</th>\n",
       "      <td>4.228356e+07</td>\n",
       "      <td>46.314394</td>\n",
       "      <td>5195.484004</td>\n",
       "    </tr>\n",
       "    <tr>\n",
       "      <th>Europe</th>\n",
       "      <td>1.393736e+07</td>\n",
       "      <td>64.408500</td>\n",
       "      <td>5661.057435</td>\n",
       "    </tr>\n",
       "    <tr>\n",
       "      <th>Oceania</th>\n",
       "      <td>5.343003e+06</td>\n",
       "      <td>69.255000</td>\n",
       "      <td>10298.085650</td>\n",
       "    </tr>\n",
       "    <tr>\n",
       "      <th rowspan=\"5\" valign=\"top\">1957</th>\n",
       "      <th>Africa</th>\n",
       "      <td>5.093033e+06</td>\n",
       "      <td>41.266346</td>\n",
       "      <td>1385.236062</td>\n",
       "    </tr>\n",
       "    <tr>\n",
       "      <th>Americas</th>\n",
       "      <td>1.547816e+07</td>\n",
       "      <td>55.960280</td>\n",
       "      <td>4616.043733</td>\n",
       "    </tr>\n",
       "    <tr>\n",
       "      <th>Asia</th>\n",
       "      <td>4.735699e+07</td>\n",
       "      <td>49.318544</td>\n",
       "      <td>5787.732940</td>\n",
       "    </tr>\n",
       "    <tr>\n",
       "      <th>Europe</th>\n",
       "      <td>1.459635e+07</td>\n",
       "      <td>66.703067</td>\n",
       "      <td>6963.012816</td>\n",
       "    </tr>\n",
       "    <tr>\n",
       "      <th>Oceania</th>\n",
       "      <td>5.970988e+06</td>\n",
       "      <td>70.295000</td>\n",
       "      <td>11598.522455</td>\n",
       "    </tr>\n",
       "    <tr>\n",
       "      <th rowspan=\"5\" valign=\"top\">1962</th>\n",
       "      <th>Africa</th>\n",
       "      <td>5.702247e+06</td>\n",
       "      <td>43.319442</td>\n",
       "      <td>1598.078825</td>\n",
       "    </tr>\n",
       "    <tr>\n",
       "      <th>Americas</th>\n",
       "      <td>1.733081e+07</td>\n",
       "      <td>58.398760</td>\n",
       "      <td>4901.541870</td>\n",
       "    </tr>\n",
       "    <tr>\n",
       "      <th>Asia</th>\n",
       "      <td>5.140476e+07</td>\n",
       "      <td>51.563223</td>\n",
       "      <td>5729.369625</td>\n",
       "    </tr>\n",
       "    <tr>\n",
       "      <th>Europe</th>\n",
       "      <td>1.534517e+07</td>\n",
       "      <td>68.539233</td>\n",
       "      <td>8365.486814</td>\n",
       "    </tr>\n",
       "    <tr>\n",
       "      <th>Oceania</th>\n",
       "      <td>6.641759e+06</td>\n",
       "      <td>71.085000</td>\n",
       "      <td>12696.452430</td>\n",
       "    </tr>\n",
       "    <tr>\n",
       "      <th rowspan=\"5\" valign=\"top\">1967</th>\n",
       "      <th>Africa</th>\n",
       "      <td>6.447875e+06</td>\n",
       "      <td>45.334538</td>\n",
       "      <td>2050.363801</td>\n",
       "    </tr>\n",
       "    <tr>\n",
       "      <th>Americas</th>\n",
       "      <td>1.922986e+07</td>\n",
       "      <td>60.410920</td>\n",
       "      <td>5668.253496</td>\n",
       "    </tr>\n",
       "    <tr>\n",
       "      <th>Asia</th>\n",
       "      <td>5.774736e+07</td>\n",
       "      <td>54.663640</td>\n",
       "      <td>5971.173374</td>\n",
       "    </tr>\n",
       "    <tr>\n",
       "      <th>Europe</th>\n",
       "      <td>1.603930e+07</td>\n",
       "      <td>69.737600</td>\n",
       "      <td>10143.823757</td>\n",
       "    </tr>\n",
       "    <tr>\n",
       "      <th>Oceania</th>\n",
       "      <td>7.300207e+06</td>\n",
       "      <td>71.310000</td>\n",
       "      <td>14495.021790</td>\n",
       "    </tr>\n",
       "    <tr>\n",
       "      <th rowspan=\"5\" valign=\"top\">1972</th>\n",
       "      <th>Africa</th>\n",
       "      <td>7.305376e+06</td>\n",
       "      <td>47.450942</td>\n",
       "      <td>2339.615674</td>\n",
       "    </tr>\n",
       "    <tr>\n",
       "      <th>Americas</th>\n",
       "      <td>2.117537e+07</td>\n",
       "      <td>62.394920</td>\n",
       "      <td>6491.334139</td>\n",
       "    </tr>\n",
       "    <tr>\n",
       "      <th>Asia</th>\n",
       "      <td>6.518098e+07</td>\n",
       "      <td>57.319269</td>\n",
       "      <td>8187.468699</td>\n",
       "    </tr>\n",
       "    <tr>\n",
       "      <th>Europe</th>\n",
       "      <td>1.668784e+07</td>\n",
       "      <td>70.775033</td>\n",
       "      <td>12479.575246</td>\n",
       "    </tr>\n",
       "    <tr>\n",
       "      <th>Oceania</th>\n",
       "      <td>8.053050e+06</td>\n",
       "      <td>71.910000</td>\n",
       "      <td>16417.333380</td>\n",
       "    </tr>\n",
       "    <tr>\n",
       "      <th rowspan=\"5\" valign=\"top\">1977</th>\n",
       "      <th>Africa</th>\n",
       "      <td>8.328097e+06</td>\n",
       "      <td>49.580423</td>\n",
       "      <td>2585.938508</td>\n",
       "    </tr>\n",
       "    <tr>\n",
       "      <th>Americas</th>\n",
       "      <td>2.312271e+07</td>\n",
       "      <td>64.391560</td>\n",
       "      <td>7352.007126</td>\n",
       "    </tr>\n",
       "    <tr>\n",
       "      <th>Asia</th>\n",
       "      <td>7.225799e+07</td>\n",
       "      <td>59.610556</td>\n",
       "      <td>7791.314020</td>\n",
       "    </tr>\n",
       "    <tr>\n",
       "      <th>Europe</th>\n",
       "      <td>1.723882e+07</td>\n",
       "      <td>71.937767</td>\n",
       "      <td>14283.979110</td>\n",
       "    </tr>\n",
       "    <tr>\n",
       "      <th>Oceania</th>\n",
       "      <td>8.619500e+06</td>\n",
       "      <td>72.855000</td>\n",
       "      <td>17283.957605</td>\n",
       "    </tr>\n",
       "    <tr>\n",
       "      <th rowspan=\"5\" valign=\"top\">1982</th>\n",
       "      <th>Africa</th>\n",
       "      <td>9.602857e+06</td>\n",
       "      <td>51.592865</td>\n",
       "      <td>2481.592960</td>\n",
       "    </tr>\n",
       "    <tr>\n",
       "      <th>Americas</th>\n",
       "      <td>2.521164e+07</td>\n",
       "      <td>66.228840</td>\n",
       "      <td>7506.737088</td>\n",
       "    </tr>\n",
       "    <tr>\n",
       "      <th>Asia</th>\n",
       "      <td>7.909502e+07</td>\n",
       "      <td>62.617939</td>\n",
       "      <td>7434.135157</td>\n",
       "    </tr>\n",
       "    <tr>\n",
       "      <th>Europe</th>\n",
       "      <td>1.770890e+07</td>\n",
       "      <td>72.806400</td>\n",
       "      <td>15617.896551</td>\n",
       "    </tr>\n",
       "    <tr>\n",
       "      <th>Oceania</th>\n",
       "      <td>9.197425e+06</td>\n",
       "      <td>74.290000</td>\n",
       "      <td>18554.709840</td>\n",
       "    </tr>\n",
       "    <tr>\n",
       "      <th rowspan=\"5\" valign=\"top\">1987</th>\n",
       "      <th>Africa</th>\n",
       "      <td>1.105450e+07</td>\n",
       "      <td>53.344788</td>\n",
       "      <td>2282.668991</td>\n",
       "    </tr>\n",
       "    <tr>\n",
       "      <th>Americas</th>\n",
       "      <td>2.731016e+07</td>\n",
       "      <td>68.090720</td>\n",
       "      <td>7793.400261</td>\n",
       "    </tr>\n",
       "    <tr>\n",
       "      <th>Asia</th>\n",
       "      <td>8.700669e+07</td>\n",
       "      <td>64.851182</td>\n",
       "      <td>7608.226508</td>\n",
       "    </tr>\n",
       "    <tr>\n",
       "      <th>Europe</th>\n",
       "      <td>1.810314e+07</td>\n",
       "      <td>73.642167</td>\n",
       "      <td>17214.310727</td>\n",
       "    </tr>\n",
       "    <tr>\n",
       "      <th>Oceania</th>\n",
       "      <td>9.787208e+06</td>\n",
       "      <td>75.320000</td>\n",
       "      <td>20448.040160</td>\n",
       "    </tr>\n",
       "    <tr>\n",
       "      <th rowspan=\"5\" valign=\"top\">1992</th>\n",
       "      <th>Africa</th>\n",
       "      <td>1.267464e+07</td>\n",
       "      <td>53.629577</td>\n",
       "      <td>2281.810333</td>\n",
       "    </tr>\n",
       "    <tr>\n",
       "      <th>Americas</th>\n",
       "      <td>2.957096e+07</td>\n",
       "      <td>69.568360</td>\n",
       "      <td>8044.934406</td>\n",
       "    </tr>\n",
       "    <tr>\n",
       "      <th>Asia</th>\n",
       "      <td>9.494825e+07</td>\n",
       "      <td>66.537212</td>\n",
       "      <td>8639.690248</td>\n",
       "    </tr>\n",
       "    <tr>\n",
       "      <th>Europe</th>\n",
       "      <td>1.860476e+07</td>\n",
       "      <td>74.440100</td>\n",
       "      <td>17061.568084</td>\n",
       "    </tr>\n",
       "    <tr>\n",
       "      <th>Oceania</th>\n",
       "      <td>1.045983e+07</td>\n",
       "      <td>76.945000</td>\n",
       "      <td>20894.045885</td>\n",
       "    </tr>\n",
       "    <tr>\n",
       "      <th rowspan=\"5\" valign=\"top\">1997</th>\n",
       "      <th>Africa</th>\n",
       "      <td>1.430448e+07</td>\n",
       "      <td>53.598269</td>\n",
       "      <td>2378.759555</td>\n",
       "    </tr>\n",
       "    <tr>\n",
       "      <th>Americas</th>\n",
       "      <td>3.187602e+07</td>\n",
       "      <td>71.150480</td>\n",
       "      <td>8889.300863</td>\n",
       "    </tr>\n",
       "    <tr>\n",
       "      <th>Asia</th>\n",
       "      <td>1.025238e+08</td>\n",
       "      <td>68.020515</td>\n",
       "      <td>9834.093295</td>\n",
       "    </tr>\n",
       "    <tr>\n",
       "      <th>Europe</th>\n",
       "      <td>1.896480e+07</td>\n",
       "      <td>75.505167</td>\n",
       "      <td>19076.781802</td>\n",
       "    </tr>\n",
       "    <tr>\n",
       "      <th>Oceania</th>\n",
       "      <td>1.112072e+07</td>\n",
       "      <td>78.190000</td>\n",
       "      <td>24024.175170</td>\n",
       "    </tr>\n",
       "    <tr>\n",
       "      <th rowspan=\"5\" valign=\"top\">2002</th>\n",
       "      <th>Africa</th>\n",
       "      <td>1.603315e+07</td>\n",
       "      <td>53.325231</td>\n",
       "      <td>2599.385159</td>\n",
       "    </tr>\n",
       "    <tr>\n",
       "      <th>Americas</th>\n",
       "      <td>3.399091e+07</td>\n",
       "      <td>72.422040</td>\n",
       "      <td>9287.677107</td>\n",
       "    </tr>\n",
       "    <tr>\n",
       "      <th>Asia</th>\n",
       "      <td>1.091455e+08</td>\n",
       "      <td>69.233879</td>\n",
       "      <td>10174.090397</td>\n",
       "    </tr>\n",
       "    <tr>\n",
       "      <th>Europe</th>\n",
       "      <td>1.927413e+07</td>\n",
       "      <td>76.700600</td>\n",
       "      <td>21711.732422</td>\n",
       "    </tr>\n",
       "    <tr>\n",
       "      <th>Oceania</th>\n",
       "      <td>1.172741e+07</td>\n",
       "      <td>79.740000</td>\n",
       "      <td>26938.778040</td>\n",
       "    </tr>\n",
       "    <tr>\n",
       "      <th rowspan=\"5\" valign=\"top\">2007</th>\n",
       "      <th>Africa</th>\n",
       "      <td>1.787576e+07</td>\n",
       "      <td>54.806038</td>\n",
       "      <td>3089.032605</td>\n",
       "    </tr>\n",
       "    <tr>\n",
       "      <th>Americas</th>\n",
       "      <td>3.595485e+07</td>\n",
       "      <td>73.608120</td>\n",
       "      <td>11003.031625</td>\n",
       "    </tr>\n",
       "    <tr>\n",
       "      <th>Asia</th>\n",
       "      <td>1.155138e+08</td>\n",
       "      <td>70.728485</td>\n",
       "      <td>12473.026870</td>\n",
       "    </tr>\n",
       "    <tr>\n",
       "      <th>Europe</th>\n",
       "      <td>1.953662e+07</td>\n",
       "      <td>77.648600</td>\n",
       "      <td>25054.481636</td>\n",
       "    </tr>\n",
       "    <tr>\n",
       "      <th>Oceania</th>\n",
       "      <td>1.227497e+07</td>\n",
       "      <td>80.719500</td>\n",
       "      <td>29810.188275</td>\n",
       "    </tr>\n",
       "  </tbody>\n",
       "</table>\n",
       "</div>"
      ],
      "text/plain": [
       "                         pop    lifeExp     gdpPercap\n",
       "year continent                                       \n",
       "1952 Africa     4.570010e+06  39.135500   1252.572466\n",
       "     Americas   1.380610e+07  53.279840   4079.062552\n",
       "     Asia       4.228356e+07  46.314394   5195.484004\n",
       "     Europe     1.393736e+07  64.408500   5661.057435\n",
       "     Oceania    5.343003e+06  69.255000  10298.085650\n",
       "1957 Africa     5.093033e+06  41.266346   1385.236062\n",
       "     Americas   1.547816e+07  55.960280   4616.043733\n",
       "     Asia       4.735699e+07  49.318544   5787.732940\n",
       "     Europe     1.459635e+07  66.703067   6963.012816\n",
       "     Oceania    5.970988e+06  70.295000  11598.522455\n",
       "1962 Africa     5.702247e+06  43.319442   1598.078825\n",
       "     Americas   1.733081e+07  58.398760   4901.541870\n",
       "     Asia       5.140476e+07  51.563223   5729.369625\n",
       "     Europe     1.534517e+07  68.539233   8365.486814\n",
       "     Oceania    6.641759e+06  71.085000  12696.452430\n",
       "1967 Africa     6.447875e+06  45.334538   2050.363801\n",
       "     Americas   1.922986e+07  60.410920   5668.253496\n",
       "     Asia       5.774736e+07  54.663640   5971.173374\n",
       "     Europe     1.603930e+07  69.737600  10143.823757\n",
       "     Oceania    7.300207e+06  71.310000  14495.021790\n",
       "1972 Africa     7.305376e+06  47.450942   2339.615674\n",
       "     Americas   2.117537e+07  62.394920   6491.334139\n",
       "     Asia       6.518098e+07  57.319269   8187.468699\n",
       "     Europe     1.668784e+07  70.775033  12479.575246\n",
       "     Oceania    8.053050e+06  71.910000  16417.333380\n",
       "1977 Africa     8.328097e+06  49.580423   2585.938508\n",
       "     Americas   2.312271e+07  64.391560   7352.007126\n",
       "     Asia       7.225799e+07  59.610556   7791.314020\n",
       "     Europe     1.723882e+07  71.937767  14283.979110\n",
       "     Oceania    8.619500e+06  72.855000  17283.957605\n",
       "1982 Africa     9.602857e+06  51.592865   2481.592960\n",
       "     Americas   2.521164e+07  66.228840   7506.737088\n",
       "     Asia       7.909502e+07  62.617939   7434.135157\n",
       "     Europe     1.770890e+07  72.806400  15617.896551\n",
       "     Oceania    9.197425e+06  74.290000  18554.709840\n",
       "1987 Africa     1.105450e+07  53.344788   2282.668991\n",
       "     Americas   2.731016e+07  68.090720   7793.400261\n",
       "     Asia       8.700669e+07  64.851182   7608.226508\n",
       "     Europe     1.810314e+07  73.642167  17214.310727\n",
       "     Oceania    9.787208e+06  75.320000  20448.040160\n",
       "1992 Africa     1.267464e+07  53.629577   2281.810333\n",
       "     Americas   2.957096e+07  69.568360   8044.934406\n",
       "     Asia       9.494825e+07  66.537212   8639.690248\n",
       "     Europe     1.860476e+07  74.440100  17061.568084\n",
       "     Oceania    1.045983e+07  76.945000  20894.045885\n",
       "1997 Africa     1.430448e+07  53.598269   2378.759555\n",
       "     Americas   3.187602e+07  71.150480   8889.300863\n",
       "     Asia       1.025238e+08  68.020515   9834.093295\n",
       "     Europe     1.896480e+07  75.505167  19076.781802\n",
       "     Oceania    1.112072e+07  78.190000  24024.175170\n",
       "2002 Africa     1.603315e+07  53.325231   2599.385159\n",
       "     Americas   3.399091e+07  72.422040   9287.677107\n",
       "     Asia       1.091455e+08  69.233879  10174.090397\n",
       "     Europe     1.927413e+07  76.700600  21711.732422\n",
       "     Oceania    1.172741e+07  79.740000  26938.778040\n",
       "2007 Africa     1.787576e+07  54.806038   3089.032605\n",
       "     Americas   3.595485e+07  73.608120  11003.031625\n",
       "     Asia       1.155138e+08  70.728485  12473.026870\n",
       "     Europe     1.953662e+07  77.648600  25054.481636\n",
       "     Oceania    1.227497e+07  80.719500  29810.188275"
      ]
     },
     "execution_count": 30,
     "metadata": {},
     "output_type": "execute_result"
    }
   ],
   "source": [
    "df.groupby([\"year\",\"continent\"]).mean()"
   ]
  },
  {
   "cell_type": "markdown",
   "id": "e4075ba6",
   "metadata": {
    "papermill": {
     "duration": 0.020537,
     "end_time": "2023-02-18T07:12:37.830475",
     "exception": false,
     "start_time": "2023-02-18T07:12:37.809938",
     "status": "completed"
    },
    "tags": []
   },
   "source": [
    "### flatten the above dataframe\n",
    "* If you need to “flatten” the dataframe, you can use the `reset_index` method."
   ]
  },
  {
   "cell_type": "code",
   "execution_count": 31,
   "id": "3cb7a503",
   "metadata": {
    "execution": {
     "iopub.execute_input": "2023-02-18T07:12:37.873579Z",
     "iopub.status.busy": "2023-02-18T07:12:37.873164Z",
     "iopub.status.idle": "2023-02-18T07:12:37.896822Z",
     "shell.execute_reply": "2023-02-18T07:12:37.896041Z"
    },
    "papermill": {
     "duration": 0.047295,
     "end_time": "2023-02-18T07:12:37.898522",
     "exception": false,
     "start_time": "2023-02-18T07:12:37.851227",
     "status": "completed"
    },
    "tags": []
   },
   "outputs": [
    {
     "data": {
      "text/html": [
       "<div>\n",
       "<style scoped>\n",
       "    .dataframe tbody tr th:only-of-type {\n",
       "        vertical-align: middle;\n",
       "    }\n",
       "\n",
       "    .dataframe tbody tr th {\n",
       "        vertical-align: top;\n",
       "    }\n",
       "\n",
       "    .dataframe thead th {\n",
       "        text-align: right;\n",
       "    }\n",
       "</style>\n",
       "<table border=\"1\" class=\"dataframe\">\n",
       "  <thead>\n",
       "    <tr style=\"text-align: right;\">\n",
       "      <th></th>\n",
       "      <th>year</th>\n",
       "      <th>continent</th>\n",
       "      <th>pop</th>\n",
       "      <th>lifeExp</th>\n",
       "      <th>gdpPercap</th>\n",
       "    </tr>\n",
       "  </thead>\n",
       "  <tbody>\n",
       "    <tr>\n",
       "      <th>0</th>\n",
       "      <td>1952</td>\n",
       "      <td>Africa</td>\n",
       "      <td>4.570010e+06</td>\n",
       "      <td>39.135500</td>\n",
       "      <td>1252.572466</td>\n",
       "    </tr>\n",
       "    <tr>\n",
       "      <th>1</th>\n",
       "      <td>1952</td>\n",
       "      <td>Americas</td>\n",
       "      <td>1.380610e+07</td>\n",
       "      <td>53.279840</td>\n",
       "      <td>4079.062552</td>\n",
       "    </tr>\n",
       "    <tr>\n",
       "      <th>2</th>\n",
       "      <td>1952</td>\n",
       "      <td>Asia</td>\n",
       "      <td>4.228356e+07</td>\n",
       "      <td>46.314394</td>\n",
       "      <td>5195.484004</td>\n",
       "    </tr>\n",
       "    <tr>\n",
       "      <th>3</th>\n",
       "      <td>1952</td>\n",
       "      <td>Europe</td>\n",
       "      <td>1.393736e+07</td>\n",
       "      <td>64.408500</td>\n",
       "      <td>5661.057435</td>\n",
       "    </tr>\n",
       "    <tr>\n",
       "      <th>4</th>\n",
       "      <td>1952</td>\n",
       "      <td>Oceania</td>\n",
       "      <td>5.343003e+06</td>\n",
       "      <td>69.255000</td>\n",
       "      <td>10298.085650</td>\n",
       "    </tr>\n",
       "    <tr>\n",
       "      <th>5</th>\n",
       "      <td>1957</td>\n",
       "      <td>Africa</td>\n",
       "      <td>5.093033e+06</td>\n",
       "      <td>41.266346</td>\n",
       "      <td>1385.236062</td>\n",
       "    </tr>\n",
       "    <tr>\n",
       "      <th>6</th>\n",
       "      <td>1957</td>\n",
       "      <td>Americas</td>\n",
       "      <td>1.547816e+07</td>\n",
       "      <td>55.960280</td>\n",
       "      <td>4616.043733</td>\n",
       "    </tr>\n",
       "    <tr>\n",
       "      <th>7</th>\n",
       "      <td>1957</td>\n",
       "      <td>Asia</td>\n",
       "      <td>4.735699e+07</td>\n",
       "      <td>49.318544</td>\n",
       "      <td>5787.732940</td>\n",
       "    </tr>\n",
       "    <tr>\n",
       "      <th>8</th>\n",
       "      <td>1957</td>\n",
       "      <td>Europe</td>\n",
       "      <td>1.459635e+07</td>\n",
       "      <td>66.703067</td>\n",
       "      <td>6963.012816</td>\n",
       "    </tr>\n",
       "    <tr>\n",
       "      <th>9</th>\n",
       "      <td>1957</td>\n",
       "      <td>Oceania</td>\n",
       "      <td>5.970988e+06</td>\n",
       "      <td>70.295000</td>\n",
       "      <td>11598.522455</td>\n",
       "    </tr>\n",
       "    <tr>\n",
       "      <th>10</th>\n",
       "      <td>1962</td>\n",
       "      <td>Africa</td>\n",
       "      <td>5.702247e+06</td>\n",
       "      <td>43.319442</td>\n",
       "      <td>1598.078825</td>\n",
       "    </tr>\n",
       "    <tr>\n",
       "      <th>11</th>\n",
       "      <td>1962</td>\n",
       "      <td>Americas</td>\n",
       "      <td>1.733081e+07</td>\n",
       "      <td>58.398760</td>\n",
       "      <td>4901.541870</td>\n",
       "    </tr>\n",
       "    <tr>\n",
       "      <th>12</th>\n",
       "      <td>1962</td>\n",
       "      <td>Asia</td>\n",
       "      <td>5.140476e+07</td>\n",
       "      <td>51.563223</td>\n",
       "      <td>5729.369625</td>\n",
       "    </tr>\n",
       "    <tr>\n",
       "      <th>13</th>\n",
       "      <td>1962</td>\n",
       "      <td>Europe</td>\n",
       "      <td>1.534517e+07</td>\n",
       "      <td>68.539233</td>\n",
       "      <td>8365.486814</td>\n",
       "    </tr>\n",
       "    <tr>\n",
       "      <th>14</th>\n",
       "      <td>1962</td>\n",
       "      <td>Oceania</td>\n",
       "      <td>6.641759e+06</td>\n",
       "      <td>71.085000</td>\n",
       "      <td>12696.452430</td>\n",
       "    </tr>\n",
       "    <tr>\n",
       "      <th>15</th>\n",
       "      <td>1967</td>\n",
       "      <td>Africa</td>\n",
       "      <td>6.447875e+06</td>\n",
       "      <td>45.334538</td>\n",
       "      <td>2050.363801</td>\n",
       "    </tr>\n",
       "    <tr>\n",
       "      <th>16</th>\n",
       "      <td>1967</td>\n",
       "      <td>Americas</td>\n",
       "      <td>1.922986e+07</td>\n",
       "      <td>60.410920</td>\n",
       "      <td>5668.253496</td>\n",
       "    </tr>\n",
       "    <tr>\n",
       "      <th>17</th>\n",
       "      <td>1967</td>\n",
       "      <td>Asia</td>\n",
       "      <td>5.774736e+07</td>\n",
       "      <td>54.663640</td>\n",
       "      <td>5971.173374</td>\n",
       "    </tr>\n",
       "    <tr>\n",
       "      <th>18</th>\n",
       "      <td>1967</td>\n",
       "      <td>Europe</td>\n",
       "      <td>1.603930e+07</td>\n",
       "      <td>69.737600</td>\n",
       "      <td>10143.823757</td>\n",
       "    </tr>\n",
       "    <tr>\n",
       "      <th>19</th>\n",
       "      <td>1967</td>\n",
       "      <td>Oceania</td>\n",
       "      <td>7.300207e+06</td>\n",
       "      <td>71.310000</td>\n",
       "      <td>14495.021790</td>\n",
       "    </tr>\n",
       "    <tr>\n",
       "      <th>20</th>\n",
       "      <td>1972</td>\n",
       "      <td>Africa</td>\n",
       "      <td>7.305376e+06</td>\n",
       "      <td>47.450942</td>\n",
       "      <td>2339.615674</td>\n",
       "    </tr>\n",
       "    <tr>\n",
       "      <th>21</th>\n",
       "      <td>1972</td>\n",
       "      <td>Americas</td>\n",
       "      <td>2.117537e+07</td>\n",
       "      <td>62.394920</td>\n",
       "      <td>6491.334139</td>\n",
       "    </tr>\n",
       "    <tr>\n",
       "      <th>22</th>\n",
       "      <td>1972</td>\n",
       "      <td>Asia</td>\n",
       "      <td>6.518098e+07</td>\n",
       "      <td>57.319269</td>\n",
       "      <td>8187.468699</td>\n",
       "    </tr>\n",
       "    <tr>\n",
       "      <th>23</th>\n",
       "      <td>1972</td>\n",
       "      <td>Europe</td>\n",
       "      <td>1.668784e+07</td>\n",
       "      <td>70.775033</td>\n",
       "      <td>12479.575246</td>\n",
       "    </tr>\n",
       "    <tr>\n",
       "      <th>24</th>\n",
       "      <td>1972</td>\n",
       "      <td>Oceania</td>\n",
       "      <td>8.053050e+06</td>\n",
       "      <td>71.910000</td>\n",
       "      <td>16417.333380</td>\n",
       "    </tr>\n",
       "    <tr>\n",
       "      <th>25</th>\n",
       "      <td>1977</td>\n",
       "      <td>Africa</td>\n",
       "      <td>8.328097e+06</td>\n",
       "      <td>49.580423</td>\n",
       "      <td>2585.938508</td>\n",
       "    </tr>\n",
       "    <tr>\n",
       "      <th>26</th>\n",
       "      <td>1977</td>\n",
       "      <td>Americas</td>\n",
       "      <td>2.312271e+07</td>\n",
       "      <td>64.391560</td>\n",
       "      <td>7352.007126</td>\n",
       "    </tr>\n",
       "    <tr>\n",
       "      <th>27</th>\n",
       "      <td>1977</td>\n",
       "      <td>Asia</td>\n",
       "      <td>7.225799e+07</td>\n",
       "      <td>59.610556</td>\n",
       "      <td>7791.314020</td>\n",
       "    </tr>\n",
       "    <tr>\n",
       "      <th>28</th>\n",
       "      <td>1977</td>\n",
       "      <td>Europe</td>\n",
       "      <td>1.723882e+07</td>\n",
       "      <td>71.937767</td>\n",
       "      <td>14283.979110</td>\n",
       "    </tr>\n",
       "    <tr>\n",
       "      <th>29</th>\n",
       "      <td>1977</td>\n",
       "      <td>Oceania</td>\n",
       "      <td>8.619500e+06</td>\n",
       "      <td>72.855000</td>\n",
       "      <td>17283.957605</td>\n",
       "    </tr>\n",
       "    <tr>\n",
       "      <th>30</th>\n",
       "      <td>1982</td>\n",
       "      <td>Africa</td>\n",
       "      <td>9.602857e+06</td>\n",
       "      <td>51.592865</td>\n",
       "      <td>2481.592960</td>\n",
       "    </tr>\n",
       "    <tr>\n",
       "      <th>31</th>\n",
       "      <td>1982</td>\n",
       "      <td>Americas</td>\n",
       "      <td>2.521164e+07</td>\n",
       "      <td>66.228840</td>\n",
       "      <td>7506.737088</td>\n",
       "    </tr>\n",
       "    <tr>\n",
       "      <th>32</th>\n",
       "      <td>1982</td>\n",
       "      <td>Asia</td>\n",
       "      <td>7.909502e+07</td>\n",
       "      <td>62.617939</td>\n",
       "      <td>7434.135157</td>\n",
       "    </tr>\n",
       "    <tr>\n",
       "      <th>33</th>\n",
       "      <td>1982</td>\n",
       "      <td>Europe</td>\n",
       "      <td>1.770890e+07</td>\n",
       "      <td>72.806400</td>\n",
       "      <td>15617.896551</td>\n",
       "    </tr>\n",
       "    <tr>\n",
       "      <th>34</th>\n",
       "      <td>1982</td>\n",
       "      <td>Oceania</td>\n",
       "      <td>9.197425e+06</td>\n",
       "      <td>74.290000</td>\n",
       "      <td>18554.709840</td>\n",
       "    </tr>\n",
       "    <tr>\n",
       "      <th>35</th>\n",
       "      <td>1987</td>\n",
       "      <td>Africa</td>\n",
       "      <td>1.105450e+07</td>\n",
       "      <td>53.344788</td>\n",
       "      <td>2282.668991</td>\n",
       "    </tr>\n",
       "    <tr>\n",
       "      <th>36</th>\n",
       "      <td>1987</td>\n",
       "      <td>Americas</td>\n",
       "      <td>2.731016e+07</td>\n",
       "      <td>68.090720</td>\n",
       "      <td>7793.400261</td>\n",
       "    </tr>\n",
       "    <tr>\n",
       "      <th>37</th>\n",
       "      <td>1987</td>\n",
       "      <td>Asia</td>\n",
       "      <td>8.700669e+07</td>\n",
       "      <td>64.851182</td>\n",
       "      <td>7608.226508</td>\n",
       "    </tr>\n",
       "    <tr>\n",
       "      <th>38</th>\n",
       "      <td>1987</td>\n",
       "      <td>Europe</td>\n",
       "      <td>1.810314e+07</td>\n",
       "      <td>73.642167</td>\n",
       "      <td>17214.310727</td>\n",
       "    </tr>\n",
       "    <tr>\n",
       "      <th>39</th>\n",
       "      <td>1987</td>\n",
       "      <td>Oceania</td>\n",
       "      <td>9.787208e+06</td>\n",
       "      <td>75.320000</td>\n",
       "      <td>20448.040160</td>\n",
       "    </tr>\n",
       "    <tr>\n",
       "      <th>40</th>\n",
       "      <td>1992</td>\n",
       "      <td>Africa</td>\n",
       "      <td>1.267464e+07</td>\n",
       "      <td>53.629577</td>\n",
       "      <td>2281.810333</td>\n",
       "    </tr>\n",
       "    <tr>\n",
       "      <th>41</th>\n",
       "      <td>1992</td>\n",
       "      <td>Americas</td>\n",
       "      <td>2.957096e+07</td>\n",
       "      <td>69.568360</td>\n",
       "      <td>8044.934406</td>\n",
       "    </tr>\n",
       "    <tr>\n",
       "      <th>42</th>\n",
       "      <td>1992</td>\n",
       "      <td>Asia</td>\n",
       "      <td>9.494825e+07</td>\n",
       "      <td>66.537212</td>\n",
       "      <td>8639.690248</td>\n",
       "    </tr>\n",
       "    <tr>\n",
       "      <th>43</th>\n",
       "      <td>1992</td>\n",
       "      <td>Europe</td>\n",
       "      <td>1.860476e+07</td>\n",
       "      <td>74.440100</td>\n",
       "      <td>17061.568084</td>\n",
       "    </tr>\n",
       "    <tr>\n",
       "      <th>44</th>\n",
       "      <td>1992</td>\n",
       "      <td>Oceania</td>\n",
       "      <td>1.045983e+07</td>\n",
       "      <td>76.945000</td>\n",
       "      <td>20894.045885</td>\n",
       "    </tr>\n",
       "    <tr>\n",
       "      <th>45</th>\n",
       "      <td>1997</td>\n",
       "      <td>Africa</td>\n",
       "      <td>1.430448e+07</td>\n",
       "      <td>53.598269</td>\n",
       "      <td>2378.759555</td>\n",
       "    </tr>\n",
       "    <tr>\n",
       "      <th>46</th>\n",
       "      <td>1997</td>\n",
       "      <td>Americas</td>\n",
       "      <td>3.187602e+07</td>\n",
       "      <td>71.150480</td>\n",
       "      <td>8889.300863</td>\n",
       "    </tr>\n",
       "    <tr>\n",
       "      <th>47</th>\n",
       "      <td>1997</td>\n",
       "      <td>Asia</td>\n",
       "      <td>1.025238e+08</td>\n",
       "      <td>68.020515</td>\n",
       "      <td>9834.093295</td>\n",
       "    </tr>\n",
       "    <tr>\n",
       "      <th>48</th>\n",
       "      <td>1997</td>\n",
       "      <td>Europe</td>\n",
       "      <td>1.896480e+07</td>\n",
       "      <td>75.505167</td>\n",
       "      <td>19076.781802</td>\n",
       "    </tr>\n",
       "    <tr>\n",
       "      <th>49</th>\n",
       "      <td>1997</td>\n",
       "      <td>Oceania</td>\n",
       "      <td>1.112072e+07</td>\n",
       "      <td>78.190000</td>\n",
       "      <td>24024.175170</td>\n",
       "    </tr>\n",
       "    <tr>\n",
       "      <th>50</th>\n",
       "      <td>2002</td>\n",
       "      <td>Africa</td>\n",
       "      <td>1.603315e+07</td>\n",
       "      <td>53.325231</td>\n",
       "      <td>2599.385159</td>\n",
       "    </tr>\n",
       "    <tr>\n",
       "      <th>51</th>\n",
       "      <td>2002</td>\n",
       "      <td>Americas</td>\n",
       "      <td>3.399091e+07</td>\n",
       "      <td>72.422040</td>\n",
       "      <td>9287.677107</td>\n",
       "    </tr>\n",
       "    <tr>\n",
       "      <th>52</th>\n",
       "      <td>2002</td>\n",
       "      <td>Asia</td>\n",
       "      <td>1.091455e+08</td>\n",
       "      <td>69.233879</td>\n",
       "      <td>10174.090397</td>\n",
       "    </tr>\n",
       "    <tr>\n",
       "      <th>53</th>\n",
       "      <td>2002</td>\n",
       "      <td>Europe</td>\n",
       "      <td>1.927413e+07</td>\n",
       "      <td>76.700600</td>\n",
       "      <td>21711.732422</td>\n",
       "    </tr>\n",
       "    <tr>\n",
       "      <th>54</th>\n",
       "      <td>2002</td>\n",
       "      <td>Oceania</td>\n",
       "      <td>1.172741e+07</td>\n",
       "      <td>79.740000</td>\n",
       "      <td>26938.778040</td>\n",
       "    </tr>\n",
       "    <tr>\n",
       "      <th>55</th>\n",
       "      <td>2007</td>\n",
       "      <td>Africa</td>\n",
       "      <td>1.787576e+07</td>\n",
       "      <td>54.806038</td>\n",
       "      <td>3089.032605</td>\n",
       "    </tr>\n",
       "    <tr>\n",
       "      <th>56</th>\n",
       "      <td>2007</td>\n",
       "      <td>Americas</td>\n",
       "      <td>3.595485e+07</td>\n",
       "      <td>73.608120</td>\n",
       "      <td>11003.031625</td>\n",
       "    </tr>\n",
       "    <tr>\n",
       "      <th>57</th>\n",
       "      <td>2007</td>\n",
       "      <td>Asia</td>\n",
       "      <td>1.155138e+08</td>\n",
       "      <td>70.728485</td>\n",
       "      <td>12473.026870</td>\n",
       "    </tr>\n",
       "    <tr>\n",
       "      <th>58</th>\n",
       "      <td>2007</td>\n",
       "      <td>Europe</td>\n",
       "      <td>1.953662e+07</td>\n",
       "      <td>77.648600</td>\n",
       "      <td>25054.481636</td>\n",
       "    </tr>\n",
       "    <tr>\n",
       "      <th>59</th>\n",
       "      <td>2007</td>\n",
       "      <td>Oceania</td>\n",
       "      <td>1.227497e+07</td>\n",
       "      <td>80.719500</td>\n",
       "      <td>29810.188275</td>\n",
       "    </tr>\n",
       "  </tbody>\n",
       "</table>\n",
       "</div>"
      ],
      "text/plain": [
       "    year continent           pop    lifeExp     gdpPercap\n",
       "0   1952    Africa  4.570010e+06  39.135500   1252.572466\n",
       "1   1952  Americas  1.380610e+07  53.279840   4079.062552\n",
       "2   1952      Asia  4.228356e+07  46.314394   5195.484004\n",
       "3   1952    Europe  1.393736e+07  64.408500   5661.057435\n",
       "4   1952   Oceania  5.343003e+06  69.255000  10298.085650\n",
       "5   1957    Africa  5.093033e+06  41.266346   1385.236062\n",
       "6   1957  Americas  1.547816e+07  55.960280   4616.043733\n",
       "7   1957      Asia  4.735699e+07  49.318544   5787.732940\n",
       "8   1957    Europe  1.459635e+07  66.703067   6963.012816\n",
       "9   1957   Oceania  5.970988e+06  70.295000  11598.522455\n",
       "10  1962    Africa  5.702247e+06  43.319442   1598.078825\n",
       "11  1962  Americas  1.733081e+07  58.398760   4901.541870\n",
       "12  1962      Asia  5.140476e+07  51.563223   5729.369625\n",
       "13  1962    Europe  1.534517e+07  68.539233   8365.486814\n",
       "14  1962   Oceania  6.641759e+06  71.085000  12696.452430\n",
       "15  1967    Africa  6.447875e+06  45.334538   2050.363801\n",
       "16  1967  Americas  1.922986e+07  60.410920   5668.253496\n",
       "17  1967      Asia  5.774736e+07  54.663640   5971.173374\n",
       "18  1967    Europe  1.603930e+07  69.737600  10143.823757\n",
       "19  1967   Oceania  7.300207e+06  71.310000  14495.021790\n",
       "20  1972    Africa  7.305376e+06  47.450942   2339.615674\n",
       "21  1972  Americas  2.117537e+07  62.394920   6491.334139\n",
       "22  1972      Asia  6.518098e+07  57.319269   8187.468699\n",
       "23  1972    Europe  1.668784e+07  70.775033  12479.575246\n",
       "24  1972   Oceania  8.053050e+06  71.910000  16417.333380\n",
       "25  1977    Africa  8.328097e+06  49.580423   2585.938508\n",
       "26  1977  Americas  2.312271e+07  64.391560   7352.007126\n",
       "27  1977      Asia  7.225799e+07  59.610556   7791.314020\n",
       "28  1977    Europe  1.723882e+07  71.937767  14283.979110\n",
       "29  1977   Oceania  8.619500e+06  72.855000  17283.957605\n",
       "30  1982    Africa  9.602857e+06  51.592865   2481.592960\n",
       "31  1982  Americas  2.521164e+07  66.228840   7506.737088\n",
       "32  1982      Asia  7.909502e+07  62.617939   7434.135157\n",
       "33  1982    Europe  1.770890e+07  72.806400  15617.896551\n",
       "34  1982   Oceania  9.197425e+06  74.290000  18554.709840\n",
       "35  1987    Africa  1.105450e+07  53.344788   2282.668991\n",
       "36  1987  Americas  2.731016e+07  68.090720   7793.400261\n",
       "37  1987      Asia  8.700669e+07  64.851182   7608.226508\n",
       "38  1987    Europe  1.810314e+07  73.642167  17214.310727\n",
       "39  1987   Oceania  9.787208e+06  75.320000  20448.040160\n",
       "40  1992    Africa  1.267464e+07  53.629577   2281.810333\n",
       "41  1992  Americas  2.957096e+07  69.568360   8044.934406\n",
       "42  1992      Asia  9.494825e+07  66.537212   8639.690248\n",
       "43  1992    Europe  1.860476e+07  74.440100  17061.568084\n",
       "44  1992   Oceania  1.045983e+07  76.945000  20894.045885\n",
       "45  1997    Africa  1.430448e+07  53.598269   2378.759555\n",
       "46  1997  Americas  3.187602e+07  71.150480   8889.300863\n",
       "47  1997      Asia  1.025238e+08  68.020515   9834.093295\n",
       "48  1997    Europe  1.896480e+07  75.505167  19076.781802\n",
       "49  1997   Oceania  1.112072e+07  78.190000  24024.175170\n",
       "50  2002    Africa  1.603315e+07  53.325231   2599.385159\n",
       "51  2002  Americas  3.399091e+07  72.422040   9287.677107\n",
       "52  2002      Asia  1.091455e+08  69.233879  10174.090397\n",
       "53  2002    Europe  1.927413e+07  76.700600  21711.732422\n",
       "54  2002   Oceania  1.172741e+07  79.740000  26938.778040\n",
       "55  2007    Africa  1.787576e+07  54.806038   3089.032605\n",
       "56  2007  Americas  3.595485e+07  73.608120  11003.031625\n",
       "57  2007      Asia  1.155138e+08  70.728485  12473.026870\n",
       "58  2007    Europe  1.953662e+07  77.648600  25054.481636\n",
       "59  2007   Oceania  1.227497e+07  80.719500  29810.188275"
      ]
     },
     "execution_count": 31,
     "metadata": {},
     "output_type": "execute_result"
    }
   ],
   "source": [
    "df.groupby([\"year\",\"continent\"]).mean().reset_index()"
   ]
  },
  {
   "cell_type": "markdown",
   "id": "2404b59f",
   "metadata": {
    "papermill": {
     "duration": 0.020964,
     "end_time": "2023-02-18T07:12:37.940565",
     "exception": false,
     "start_time": "2023-02-18T07:12:37.919601",
     "status": "completed"
    },
    "tags": []
   },
   "source": [
    "### Grouped Frequency Counts\n",
    "\n",
    "* use the nunique to get counts of unique values on a Pandas Series."
   ]
  },
  {
   "cell_type": "code",
   "execution_count": 32,
   "id": "4163df82",
   "metadata": {
    "execution": {
     "iopub.execute_input": "2023-02-18T07:12:37.984363Z",
     "iopub.status.busy": "2023-02-18T07:12:37.983985Z",
     "iopub.status.idle": "2023-02-18T07:12:38.000635Z",
     "shell.execute_reply": "2023-02-18T07:12:37.999750Z"
    },
    "papermill": {
     "duration": 0.040846,
     "end_time": "2023-02-18T07:12:38.002445",
     "exception": false,
     "start_time": "2023-02-18T07:12:37.961599",
     "status": "completed"
    },
    "tags": []
   },
   "outputs": [
    {
     "data": {
      "text/html": [
       "<div>\n",
       "<style scoped>\n",
       "    .dataframe tbody tr th:only-of-type {\n",
       "        vertical-align: middle;\n",
       "    }\n",
       "\n",
       "    .dataframe tbody tr th {\n",
       "        vertical-align: top;\n",
       "    }\n",
       "\n",
       "    .dataframe thead th {\n",
       "        text-align: right;\n",
       "    }\n",
       "</style>\n",
       "<table border=\"1\" class=\"dataframe\">\n",
       "  <thead>\n",
       "    <tr style=\"text-align: right;\">\n",
       "      <th></th>\n",
       "      <th>country</th>\n",
       "      <th>year</th>\n",
       "      <th>pop</th>\n",
       "      <th>lifeExp</th>\n",
       "      <th>gdpPercap</th>\n",
       "    </tr>\n",
       "    <tr>\n",
       "      <th>continent</th>\n",
       "      <th></th>\n",
       "      <th></th>\n",
       "      <th></th>\n",
       "      <th></th>\n",
       "      <th></th>\n",
       "    </tr>\n",
       "  </thead>\n",
       "  <tbody>\n",
       "    <tr>\n",
       "      <th>Africa</th>\n",
       "      <td>52</td>\n",
       "      <td>12</td>\n",
       "      <td>624</td>\n",
       "      <td>619</td>\n",
       "      <td>624</td>\n",
       "    </tr>\n",
       "    <tr>\n",
       "      <th>Americas</th>\n",
       "      <td>25</td>\n",
       "      <td>12</td>\n",
       "      <td>300</td>\n",
       "      <td>299</td>\n",
       "      <td>300</td>\n",
       "    </tr>\n",
       "    <tr>\n",
       "      <th>Asia</th>\n",
       "      <td>33</td>\n",
       "      <td>12</td>\n",
       "      <td>396</td>\n",
       "      <td>393</td>\n",
       "      <td>396</td>\n",
       "    </tr>\n",
       "    <tr>\n",
       "      <th>Europe</th>\n",
       "      <td>30</td>\n",
       "      <td>12</td>\n",
       "      <td>360</td>\n",
       "      <td>326</td>\n",
       "      <td>360</td>\n",
       "    </tr>\n",
       "    <tr>\n",
       "      <th>Oceania</th>\n",
       "      <td>2</td>\n",
       "      <td>12</td>\n",
       "      <td>24</td>\n",
       "      <td>24</td>\n",
       "      <td>24</td>\n",
       "    </tr>\n",
       "  </tbody>\n",
       "</table>\n",
       "</div>"
      ],
      "text/plain": [
       "           country  year  pop  lifeExp  gdpPercap\n",
       "continent                                        \n",
       "Africa          52    12  624      619        624\n",
       "Americas        25    12  300      299        300\n",
       "Asia            33    12  396      393        396\n",
       "Europe          30    12  360      326        360\n",
       "Oceania          2    12   24       24         24"
      ]
     },
     "execution_count": 32,
     "metadata": {},
     "output_type": "execute_result"
    }
   ],
   "source": [
    "df.groupby(\"continent\").nunique()"
   ]
  },
  {
   "cell_type": "markdown",
   "id": "d0ea9c1d",
   "metadata": {
    "papermill": {
     "duration": 0.021276,
     "end_time": "2023-02-18T07:12:38.045039",
     "exception": false,
     "start_time": "2023-02-18T07:12:38.023763",
     "status": "completed"
    },
    "tags": []
   },
   "source": [
    "# <center>Data Visualization</center>\n",
    "---\n",
    "\n",
    "* **Histogram:** vertical bar chart of frequencies\n",
    "* **Frequency Polygon:** line graph of frequencies\n",
    "* **Ogive:** line graph of cumulative frequencies\n",
    "* **Pie Chart:** proportional representation for categories of a whole\n",
    "* **Stem and Leaf Plot**\n",
    "* **Pareto Chart**\n",
    "* **Scatter Plot**"
   ]
  },
  {
   "cell_type": "markdown",
   "id": "5ebec6a9",
   "metadata": {
    "papermill": {
     "duration": 0.022234,
     "end_time": "2023-02-18T07:12:38.090088",
     "exception": false,
     "start_time": "2023-02-18T07:12:38.067854",
     "status": "completed"
    },
    "tags": []
   },
   "source": [
    "## Basic Plot\n",
    "* global year mean life expectency"
   ]
  },
  {
   "cell_type": "code",
   "execution_count": 33,
   "id": "ff31aadb",
   "metadata": {
    "execution": {
     "iopub.execute_input": "2023-02-18T07:12:38.135542Z",
     "iopub.status.busy": "2023-02-18T07:12:38.135170Z",
     "iopub.status.idle": "2023-02-18T07:12:38.143340Z",
     "shell.execute_reply": "2023-02-18T07:12:38.142176Z"
    },
    "papermill": {
     "duration": 0.033305,
     "end_time": "2023-02-18T07:12:38.145375",
     "exception": false,
     "start_time": "2023-02-18T07:12:38.112070",
     "status": "completed"
    },
    "tags": []
   },
   "outputs": [
    {
     "data": {
      "text/plain": [
       "year\n",
       "1952    49.057620\n",
       "1957    51.507401\n",
       "1962    53.609249\n",
       "1967    55.678290\n",
       "1972    57.647386\n",
       "1977    59.570157\n",
       "1982    61.533197\n",
       "1987    63.212613\n",
       "1992    64.160338\n",
       "1997    65.014676\n",
       "2002    65.694923\n",
       "2007    67.007423\n",
       "Name: lifeExp, dtype: float64"
      ]
     },
     "execution_count": 33,
     "metadata": {},
     "output_type": "execute_result"
    }
   ],
   "source": [
    "df.groupby(\"year\")[\"lifeExp\"].mean()"
   ]
  },
  {
   "cell_type": "code",
   "execution_count": 34,
   "id": "49076beb",
   "metadata": {
    "execution": {
     "iopub.execute_input": "2023-02-18T07:12:38.193064Z",
     "iopub.status.busy": "2023-02-18T07:12:38.190950Z",
     "iopub.status.idle": "2023-02-18T07:12:38.422714Z",
     "shell.execute_reply": "2023-02-18T07:12:38.421735Z"
    },
    "papermill": {
     "duration": 0.2576,
     "end_time": "2023-02-18T07:12:38.425150",
     "exception": false,
     "start_time": "2023-02-18T07:12:38.167550",
     "status": "completed"
    },
    "tags": []
   },
   "outputs": [
    {
     "data": {
      "text/plain": [
       "<AxesSubplot:xlabel='year'>"
      ]
     },
     "execution_count": 34,
     "metadata": {},
     "output_type": "execute_result"
    },
    {
     "data": {
      "image/png": "[encoded data removed]",
      "text/plain": [
       "<Figure size 640x480 with 1 Axes>"
      ]
     },
     "metadata": {},
     "output_type": "display_data"
    }
   ],
   "source": [
    "df.groupby(\"year\")[\"lifeExp\"].mean().plot()"
   ]
  },
  {
   "cell_type": "markdown",
   "id": "5516eb8e",
   "metadata": {
    "papermill": {
     "duration": 0.022007,
     "end_time": "2023-02-18T07:12:38.469432",
     "exception": false,
     "start_time": "2023-02-18T07:12:38.447425",
     "status": "completed"
    },
    "tags": []
   },
   "source": [
    "## Principles of Excellent Graphs\n",
    "\n",
    "* The graph should not distort the data\n",
    "* The graph should not contain unnecessary adornments (sometimes referred to as chart junk)\n",
    "* The scale on the vertical axis should begin at zero\n",
    "* All axes should be properly labeled\n",
    "* The graph should contain a title\n",
    "* The simplest possible graph should be used for a given set of data"
   ]
  },
  {
   "cell_type": "markdown",
   "id": "7c8118b6",
   "metadata": {
    "papermill": {
     "duration": 0.021442,
     "end_time": "2023-02-18T07:12:38.512529",
     "exception": false,
     "start_time": "2023-02-18T07:12:38.491087",
     "status": "completed"
    },
    "tags": []
   },
   "source": [
    "## Graphical Errors: \n",
    "1. Chart Junk\n",
    "2. Compressing the Vertical Axis\n",
    "3. No Zero Point on the Vertical Axis"
   ]
  },
  {
   "cell_type": "code",
   "execution_count": null,
   "id": "8560eda7",
   "metadata": {
    "papermill": {
     "duration": 0.021806,
     "end_time": "2023-02-18T07:12:38.556375",
     "exception": false,
     "start_time": "2023-02-18T07:12:38.534569",
     "status": "completed"
    },
    "tags": []
   },
   "outputs": [],
   "source": []
  }
 ],
 "metadata": {
  "kernelspec": {
   "display_name": "Python 3",
   "language": "python",
   "name": "python3"
  },
  "language_info": {
   "codemirror_mode": {
    "name": "ipython",
    "version": 3
   },
   "file_extension": ".py",
   "mimetype": "text/x-python",
   "name": "python",
   "nbconvert_exporter": "python",
   "pygments_lexer": "ipython3",
   "version": "3.7.12"
  },
  "papermill": {
   "default_parameters": {},
   "duration": 12.977206,
   "end_time": "2023-02-18T07:12:39.199289",
   "environment_variables": {},
   "exception": null,
   "input_path": "__notebook__.ipynb",
   "output_path": "__notebook__.ipynb",
   "parameters": {},
   "start_time": "2023-02-18T07:12:26.222083",
   "version": "2.3.4"
  }
 },
 "nbformat": 4,
 "nbformat_minor": 5
}
