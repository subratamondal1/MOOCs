{
 "cells": [
  {
   "cell_type": "code",
   "execution_count": 1,
   "id": "d9281fe5",
   "metadata": {
    "_cell_guid": "b1076dfc-b9ad-4769-8c92-a6c4dae69d19",
    "_uuid": "8f2839f25d086af736a60e9eeb907d3b93b6e0e5",
    "execution": {
     "iopub.execute_input": "2023-02-16T14:00:33.289127Z",
     "iopub.status.busy": "2023-02-16T14:00:33.288015Z",
     "iopub.status.idle": "2023-02-16T14:00:33.315114Z",
     "shell.execute_reply": "2023-02-16T14:00:33.313792Z"
    },
    "papermill": {
     "duration": 0.047113,
     "end_time": "2023-02-16T14:00:33.317786",
     "exception": false,
     "start_time": "2023-02-16T14:00:33.270673",
     "status": "completed"
    },
    "tags": []
   },
   "outputs": [
    {
     "name": "stdout",
     "output_type": "stream",
     "text": [
      "/kaggle/input/gapminder-FiveYearData/gapminder-FiveYearData.csv\n"
     ]
    }
   ],
   "source": [
    "# This Python 3 environment comes with many helpful analytics libraries installed\n",
    "# It is defined by the kaggle/python Docker image: https://github.com/kaggle/docker-python\n",
    "# For example, here's several helpful packages to load\n",
    "\n",
    "import numpy as np # linear algebra\n",
    "import pandas as pd # data processing, CSV file I/O (e.g. pd.read_csv)\n",
    "\n",
    "# Input data files are available in the read-only \"../input/\" directory\n",
    "# For example, running this (by clicking run or pressing Shift+Enter) will list all files under the input directory\n",
    "\n",
    "import os\n",
    "for dirname, _, filenames in os.walk('/kaggle/input'):\n",
    "    for filename in filenames:\n",
    "        print(os.path.join(dirname, filename))\n",
    "\n",
    "# You can write up to 20GB to the current directory (/kaggle/working/) that gets preserved as output when you create a version using \"Save & Run All\" \n",
    "# You can also write temporary files to /kaggle/temp/, but they won't be saved outside of the current session"
   ]
  },
  {
   "cell_type": "markdown",
   "id": "aac0fa13",
   "metadata": {
    "papermill": {
     "duration": 0.012376,
     "end_time": "2023-02-16T14:00:33.343076",
     "exception": false,
     "start_time": "2023-02-16T14:00:33.330700",
     "status": "completed"
    },
    "tags": []
   },
   "source": [
    "# Objective of the course\n",
    "* The principle focus of this course is to introduce conceptual understanding using simple and practical examples rather than repetitive and point click mentality\n",
    "* This course should make you comfortable using analytics in your career and your life\n",
    "* You will know how to work with real data, and might have learned many different methodologies but choosing the right methodology is important\n",
    "* The **danger in using quantitative method** does not generally lie in the inability to perform the calculation\n",
    "* The real threat is lack of fundamental understanding of:\n",
    "     * Why to use a particular technique of procedure\n",
    "     * How to use it correctly and,\n",
    "     * How to correctly interpret the result"
   ]
  },
  {
   "cell_type": "markdown",
   "id": "05eb5b9d",
   "metadata": {
    "papermill": {
     "duration": 0.01293,
     "end_time": "2023-02-16T14:00:33.369236",
     "exception": false,
     "start_time": "2023-02-16T14:00:33.356306",
     "status": "completed"
    },
    "tags": []
   },
   "source": [
    "# Learning objectives\n",
    "1. Define data and its importance\n",
    "2. Define data analytics and its types\n",
    "3. Explain why analytics is important in today’s business environment\n",
    "4. Explain how statistics, analytics and data science are interrelated\n",
    "5. Why python?\n",
    "6. Explain the four different levels of Data: – Nominal\n",
    "     * Ordinal\n",
    "     * Interval and\n",
    "     * Ratio"
   ]
  },
  {
   "cell_type": "markdown",
   "id": "2973b4b2",
   "metadata": {
    "papermill": {
     "duration": 0.01243,
     "end_time": "2023-02-16T14:00:33.394552",
     "exception": false,
     "start_time": "2023-02-16T14:00:33.382122",
     "status": "completed"
    },
    "tags": []
   },
   "source": [
    "## Define Data and its importance\n",
    "* Variable, Measurement and Data\n",
    "* What is generating so much data?\n",
    "* How data add value to the business?\n",
    "* Why data is important?"
   ]
  },
  {
   "cell_type": "markdown",
   "id": "dd7b9831",
   "metadata": {
    "papermill": {
     "duration": 0.013234,
     "end_time": "2023-02-16T14:00:33.420494",
     "exception": false,
     "start_time": "2023-02-16T14:00:33.407260",
     "status": "completed"
    },
    "tags": []
   },
   "source": [
    "### Variable, Measurement and Data\n",
    "* **Variables** is a characteristic of any entity being studied that is capable of taking on different values\n",
    "* **Measurements** is when a standard process is used to assign numbers to attributes or characteristic of a variable\n",
    "* **Data** data are recorded measurements"
   ]
  },
  {
   "cell_type": "markdown",
   "id": "962d034e",
   "metadata": {
    "papermill": {
     "duration": 0.012486,
     "end_time": "2023-02-16T14:00:33.445715",
     "exception": false,
     "start_time": "2023-02-16T14:00:33.433229",
     "status": "completed"
    },
    "tags": []
   },
   "source": [
    "### What is generating so much data?\n",
    "Data can be generated by \n",
    "* Humans,\n",
    "* Machines\n",
    "* Humans-machines combinations\n",
    "* It can be generated anywhere where any information is generated and stored in structured or unstructured formats"
   ]
  },
  {
   "cell_type": "markdown",
   "id": "a8d2cb32",
   "metadata": {
    "papermill": {
     "duration": 0.012544,
     "end_time": "2023-02-16T14:00:33.471205",
     "exception": false,
     "start_time": "2023-02-16T14:00:33.458661",
     "status": "completed"
    },
    "tags": []
   },
   "source": [
    "### How data add value to business?\n",
    "Business data are stored in Data Warehouse and from there we make:\n",
    "1. **Development of Data Product**\n",
    "       Algorithm solutions in production, marketing and sales etc.(e.g. Recommendation Engines, Self driving cars, google maps, etc.)\n",
    "2. **Discovery of Data Insight**\n",
    "       Quantitative data analysis to help steer strategic business decision\n",
    "\n",
    "and from them we derive Business Values."
   ]
  },
  {
   "cell_type": "markdown",
   "id": "f632752b",
   "metadata": {
    "papermill": {
     "duration": 0.012677,
     "end_time": "2023-02-16T14:00:33.496766",
     "exception": false,
     "start_time": "2023-02-16T14:00:33.484089",
     "status": "completed"
    },
    "tags": []
   },
   "source": [
    "### Why Data is important?\n",
    "* Data helps in <u>make better decisions</u>\n",
    "* Data helps in <u>solve problems by finding the reason for underperformance</u>\n",
    "* Data helps one to <u>evaluate the performance</u>.\n",
    "* Data helps one <u>improve processes</u>\n",
    "* Data helps one <u>understand consumers and the market</u>"
   ]
  },
  {
   "cell_type": "markdown",
   "id": "4fc0fab8",
   "metadata": {
    "papermill": {
     "duration": 0.012835,
     "end_time": "2023-02-16T14:00:33.522472",
     "exception": false,
     "start_time": "2023-02-16T14:00:33.509637",
     "status": "completed"
    },
    "tags": []
   },
   "source": [
    "## Define data analytic and its types"
   ]
  },
  {
   "cell_type": "markdown",
   "id": "b998f9b9",
   "metadata": {
    "papermill": {
     "duration": 0.012494,
     "end_time": "2023-02-16T14:00:33.547870",
     "exception": false,
     "start_time": "2023-02-16T14:00:33.535376",
     "status": "completed"
    },
    "tags": []
   },
   "source": [
    "### Define data analytics\n",
    "* Analytics is defined as “the scientific process of transforming data into insights for making better decisions”\n",
    "* Analytics, is the use of data, information technology, statistical analysis, quantitative methods, and mathematical or computer-based models to help managers gain improved insight about their business operations and make better, fact-based decisions – James Evans\n",
    "* is Analysis = Analytics ? The answer is no."
   ]
  },
  {
   "cell_type": "markdown",
   "id": "de7c2467",
   "metadata": {
    "papermill": {
     "duration": 0.012734,
     "end_time": "2023-02-16T14:00:33.573414",
     "exception": false,
     "start_time": "2023-02-16T14:00:33.560680",
     "status": "completed"
    },
    "tags": []
   },
   "source": [
    "### Why analytics is important?\n",
    "A lot of opportunities for the use of analytics and big data such as:\n",
    "1. Determining credit risk\n",
    "2. Developing new medicines\n",
    "3. Finding more efficient ways to deliver products and services\n",
    "4. Preventing fraud\n",
    "5. Uncovering cyber threats\n",
    "6. Retaining the most valuable customers"
   ]
  },
  {
   "cell_type": "markdown",
   "id": "d5a22737",
   "metadata": {
    "papermill": {
     "duration": 0.0125,
     "end_time": "2023-02-16T14:00:33.598816",
     "exception": false,
     "start_time": "2023-02-16T14:00:33.586316",
     "status": "completed"
    },
    "tags": []
   },
   "source": [
    "### Data Analysis\n",
    "* Data analysis is the process of examining, transforming, and arranging raw data in a specific way to generate useful information from it\n",
    "* Data analysis allows for the evaluation of data through analytical and logical reasoning to lead to some sort of outcome or conclusion in some context\n",
    "* Data analysis is a multi-faceted process that involves a number of steps, approaches, and diverse techniques"
   ]
  },
  {
   "cell_type": "markdown",
   "id": "18c1d2ad",
   "metadata": {
    "papermill": {
     "duration": 0.012461,
     "end_time": "2023-02-16T14:00:33.624132",
     "exception": false,
     "start_time": "2023-02-16T14:00:33.611671",
     "status": "completed"
    },
    "tags": []
   },
   "source": [
    "### Data analytics vs. Data analysis\n",
    "**Data Analytics** is all about exploring the future events\n",
    "    * Qualitative Data analytics = Intuition + analysis\n",
    "    * Quantitative Data analytics = Formulas + algorithms\n",
    "    \n",
    "**Data Analysis** is all about exploring the past events\n",
    "    * Qualitative Data analysis = Explains How And Why Story ends the way it did ?\n",
    "    * Quantitative Data analysis = Data + how the sale decreased last summer ?\n",
    "    \n",
    "1. is Analysis = Analytics ? **No**\n",
    "2. is Data Analysis = Data analytics ? **No**\n",
    "3. is Business Analysis = Business analytics ? **No**"
   ]
  },
  {
   "cell_type": "markdown",
   "id": "ba5d3350",
   "metadata": {
    "papermill": {
     "duration": 0.012405,
     "end_time": "2023-02-16T14:00:33.649301",
     "exception": false,
     "start_time": "2023-02-16T14:00:33.636896",
     "status": "completed"
    },
    "tags": []
   },
   "source": [
    "### Classification of Data analytics\n",
    "Based on the phase of workflow and the kind of analysis required, there are four major types of data analytics.\n",
    "1. **Descriptive analytics:** What happened ?\n",
    "2. **Diagnostic analytics:** Why did it happened ?\n",
    "3. **Predictive analytics:** What will happen ?\n",
    "4. **Prescriptive analytics:** How can we make it happen ?\n",
    "\n",
    "**Value vs Diificulty**\n",
    "Descriptive Analytics is with the least value and least diificulty and as we go down the value and difficulty increases i.e Prescriptive Analytics is with the most value and most difficulty."
   ]
  },
  {
   "cell_type": "markdown",
   "id": "2375930a",
   "metadata": {
    "papermill": {
     "duration": 0.01252,
     "end_time": "2023-02-16T14:00:33.674618",
     "exception": false,
     "start_time": "2023-02-16T14:00:33.662098",
     "status": "completed"
    },
    "tags": []
   },
   "source": [
    "### Descriptive Analytics\n",
    "* Descriptive Analytics, is the conventional form of Business Intelligence and data analysis\n",
    "* It seeks to provide a depiction or “summary view” of facts and figures in an understandable format\n",
    "* This either inform or prepare data for further analysis\n",
    "* Descriptive analysis or statistics can summarize raw data and convert it into a form that can be easily understood by humans\n",
    "* They can describe in detail about an event that has occurred in the past\n",
    "\n",
    "A common example of Descriptive Analytics are company reports that simply provide a historic review like:\n",
    "\n",
    "1. Data Queries\n",
    "2. Reports\n",
    "3. Descriptive Statistics\n",
    "4. Data Visualization\n",
    "5. Data dashboard"
   ]
  },
  {
   "cell_type": "markdown",
   "id": "6302e149",
   "metadata": {
    "papermill": {
     "duration": 0.01659,
     "end_time": "2023-02-16T14:00:33.705352",
     "exception": false,
     "start_time": "2023-02-16T14:00:33.688762",
     "status": "completed"
    },
    "tags": []
   },
   "source": [
    "### Diagnostic analytics\n",
    "* Diagnostic Analytics is a form of advanced analytics which examines data or content to answer the question “Why did it happen?”\n",
    "* Diagnostic analytical tools aid an analyst to dig deeper into an issue so that they can arrive at the source of a problem\n",
    "* In a structured business environment, tools for both descriptive and diagnostic analytics go parallel\n",
    "\n",
    "It uses techniques such as:\n",
    "1. Data Discovery\n",
    "2. Data Mining\n",
    "3. Correlations"
   ]
  },
  {
   "cell_type": "markdown",
   "id": "b5235736",
   "metadata": {
    "papermill": {
     "duration": 0.01715,
     "end_time": "2023-02-16T14:00:33.740289",
     "exception": false,
     "start_time": "2023-02-16T14:00:33.723139",
     "status": "completed"
    },
    "tags": []
   },
   "source": [
    "### Predictive analytics\n",
    "* Predictive analytics helps to forecast trends based on the current events\n",
    "* Predicting the probability of an event happening in future or estimating the accurate time it will happen can all be determined with the help of predictive analytical models\n",
    "* Many different but co-dependent variables are analysed to predict a trend in this type of analysis\n",
    "\n",
    "1. Historical Data ---> Predictive Algorithms ---> Model\n",
    "2. New Data ---> Model ---> Predictions\n",
    "\n",
    "Set of techniques that use model constructed from past data to predict the future or ascertain impact of one variable on another:\n",
    "1. Linear regression\n",
    "2. Time series analysis and forecasting\n",
    "3. Data mining"
   ]
  },
  {
   "cell_type": "markdown",
   "id": "a0c65ccf",
   "metadata": {
    "papermill": {
     "duration": 0.013009,
     "end_time": "2023-02-16T14:00:33.771077",
     "exception": false,
     "start_time": "2023-02-16T14:00:33.758068",
     "status": "completed"
    },
    "tags": []
   },
   "source": [
    "### Prescriptive analytics\n",
    "* Set of techniques to indicate the best course of action\n",
    "* It tells what decision to make to optimize the outcome\n",
    "* The goal of prescriptive analytics is to enable:\n",
    "1. Quality improvements\n",
    "2. Service enhancements\n",
    "3. Cost reductions and\n",
    "4. Increasing productivity\n",
    "\n",
    "Examples of prescriptive analytics example:\n",
    "1. Optimization Model\n",
    "2. Simulation\n",
    "3. Decision Analysis"
   ]
  },
  {
   "cell_type": "markdown",
   "id": "c8f3fcfe",
   "metadata": {
    "papermill": {
     "duration": 0.012618,
     "end_time": "2023-02-16T14:00:33.796707",
     "exception": false,
     "start_time": "2023-02-16T14:00:33.784089",
     "status": "completed"
    },
    "tags": []
   },
   "source": [
    "## Explain why analytics is important\n",
    "* Demand for Data Analytics\n",
    "* Element of data Analytics"
   ]
  },
  {
   "cell_type": "markdown",
   "id": "b2f7e0c3",
   "metadata": {
    "papermill": {
     "duration": 0.012781,
     "end_time": "2023-02-16T14:00:33.822410",
     "exception": false,
     "start_time": "2023-02-16T14:00:33.809629",
     "status": "completed"
    },
    "tags": []
   },
   "source": [
    "### Demand for Data Analytics\n",
    "With companies across industries striving to bring their research and analysis (R&A) departments up to speed, the demand for qualified data scientists is rising.\n",
    "\n",
    "\"India will face a demand-supply gap of 200,000 analytics professionals over the next three years. Even in the US, only 40 out of 100 positions for analytics professionals can be filled,\" said Rituparna Chakraborty, co-founder & senior VP of TeamLease Services. [Read More...](https://timesofindia.indiatimes.com/india/data-scientists-earning-more-than-cas-engineers/articleshow/52171064.cms?utm_source=contentofinterest&utm_medium=text&utm_campaign=cppst)"
   ]
  },
  {
   "cell_type": "markdown",
   "id": "9e175f1b",
   "metadata": {
    "papermill": {
     "duration": 0.012669,
     "end_time": "2023-02-16T14:00:33.848108",
     "exception": false,
     "start_time": "2023-02-16T14:00:33.835439",
     "status": "completed"
    },
    "tags": []
   },
   "source": [
    "\n",
    " "
   ]
  },
  {
   "cell_type": "markdown",
   "id": "01797d6b",
   "metadata": {
    "papermill": {
     "duration": 0.01264,
     "end_time": "2023-02-16T14:00:33.873760",
     "exception": false,
     "start_time": "2023-02-16T14:00:33.861120",
     "status": "completed"
    },
    "tags": []
   },
   "source": [
    "### Element of data Analytics\n",
    "1. Statistics\n",
    "2. Data Mining\n",
    "3. Business Intelligence/Information Systems\n",
    "4. Visualizations\n",
    "5. Simulation and Risk\n",
    "6. Modelling and Optimizations and lastly\n",
    "7. What if ?\n"
   ]
  },
  {
   "cell_type": "markdown",
   "id": "f20bacc7",
   "metadata": {
    "papermill": {
     "duration": 0.013094,
     "end_time": "2023-02-16T14:00:33.899897",
     "exception": false,
     "start_time": "2023-02-16T14:00:33.886803",
     "status": "completed"
    },
    "tags": []
   },
   "source": [
    "## Data analyst and Data scientist\n",
    "* The requisite skill set\n",
    "* Difference between Data analyst and Data Scientist\n"
   ]
  },
  {
   "cell_type": "markdown",
   "id": "db687f43",
   "metadata": {
    "papermill": {
     "duration": 0.012462,
     "end_time": "2023-02-16T14:00:33.925243",
     "exception": false,
     "start_time": "2023-02-16T14:00:33.912781",
     "status": "completed"
    },
    "tags": []
   },
   "source": [
    "### The requisite skill set are\n",
    "1. Marhematical Skills\n",
    "2. Technological Skills\n",
    "3. Business and Strategy and Acumen"
   ]
  },
  {
   "cell_type": "markdown",
   "id": "fe73d2a9",
   "metadata": {
    "papermill": {
     "duration": 0.012401,
     "end_time": "2023-02-16T14:00:33.950417",
     "exception": false,
     "start_time": "2023-02-16T14:00:33.938016",
     "status": "completed"
    },
    "tags": []
   },
   "source": [
    "### Difference between Data analyst and Data Scientist\n",
    "**Data Analyst** requires knowledge in\n",
    "1. Business Administration\n",
    "    * That is domain specific responsibility, for example:\n",
    "        * Marketing Analyst\n",
    "        * Financial Analyst, etc\n",
    "2. Data Exploration analysis and insight\n",
    "\n",
    "**Data Scientist** requires knowledge in\n",
    "1. Everything required in Data Analyst +\n",
    "2. Advance algorithms and machine learning\n",
    "3. Data Product engineering"
   ]
  },
  {
   "cell_type": "markdown",
   "id": "be0de1c4",
   "metadata": {
    "papermill": {
     "duration": 0.012363,
     "end_time": "2023-02-16T14:00:33.975563",
     "exception": false,
     "start_time": "2023-02-16T14:00:33.963200",
     "status": "completed"
    },
    "tags": []
   },
   "source": [
    "## Why python ?\n",
    "**Features:**\n",
    "1. Simple and easy to learn\n",
    "2. Freeware and Open Source\n",
    "3. Interpreted \n",
    "4. Dynamically Typed\n",
    "5. Extensible\n",
    "6. Embedded\n",
    "7. Extensive library\n",
    "8. Usability\n",
    "    * Desktop and web applications\n",
    "    * Database applications\n",
    "    * Networking applications\n",
    "    * Data analysis & Data Science\n",
    "    * Machine Learning\n",
    "    * IoT and AI applications\n",
    "    * Games\n",
    "    \n",
    "**Companies using python:**\n",
    "1. Google \n",
    "2. Nasa\n",
    "3. Facebook\n",
    "4. Youtube\n",
    "5. Yahoo!\n",
    "6. Dropbox\n",
    "7. Quora\n",
    "8. ebay, etc."
   ]
  },
  {
   "cell_type": "markdown",
   "id": "3f934d47",
   "metadata": {
    "papermill": {
     "duration": 0.012375,
     "end_time": "2023-02-16T14:00:34.000782",
     "exception": false,
     "start_time": "2023-02-16T14:00:33.988407",
     "status": "completed"
    },
    "tags": []
   },
   "source": [
    "## Why Jupyter Notebook ?\n",
    "**Features:**\n",
    "1. Client-Server application\n",
    "2. Edit code on web browser\n",
    "3. Easy in documentation\n",
    "4. Easy in demonstration\n",
    "5. User-friendly interface"
   ]
  },
  {
   "cell_type": "markdown",
   "id": "742642bb",
   "metadata": {
    "papermill": {
     "duration": 0.012492,
     "end_time": "2023-02-16T14:00:34.025979",
     "exception": false,
     "start_time": "2023-02-16T14:00:34.013487",
     "status": "completed"
    },
    "tags": []
   },
   "source": [
    "## Explain the four different levels of Data\n",
    "* Types of Variables\n",
    "* Levels of Data Measurement\n",
    "* Compare the four different levels of Data: \n",
    "    1. Nominal\n",
    "    2. Ordinal \n",
    "    3. Interval and \n",
    "    4. Ratio\n",
    "* Usage Potential of Various Levels of Data\n",
    "* Data Level, Operations, and Statistical Methods"
   ]
  },
  {
   "cell_type": "markdown",
   "id": "8c8453ee",
   "metadata": {
    "papermill": {
     "duration": 0.012502,
     "end_time": "2023-02-16T14:00:34.051265",
     "exception": false,
     "start_time": "2023-02-16T14:00:34.038763",
     "status": "completed"
    },
    "tags": []
   },
   "source": [
    "### Types of Variables \n",
    "Data is divided into two parts :\n",
    "1. **Categorical Data** They are defined categories, examples are: \n",
    "    * Marital Status\n",
    "    * Political Party\n",
    "    * Eye Color\n",
    "    \n",
    "2. **Numerical Data** It is further divided into two parts:\n",
    "    * **Discrete Data** They are counted items, examples are:\n",
    "        * Number of children\n",
    "        * Defects per hour\n",
    "    * **Continuous Data** They are Measured Characteristics\n",
    "        * Weight\n",
    "        * Voltage"
   ]
  },
  {
   "cell_type": "markdown",
   "id": "3c257a60",
   "metadata": {
    "papermill": {
     "duration": 0.01242,
     "end_time": "2023-02-16T14:00:34.076422",
     "exception": false,
     "start_time": "2023-02-16T14:00:34.064002",
     "status": "completed"
    },
    "tags": []
   },
   "source": [
    "### Levels of Data Measurement\n",
    "* Nominal — Lowest level of measurement  \n",
    "* Ordinal\n",
    "* Interval\n",
    "* Ratio — Highest level of measurement"
   ]
  },
  {
   "cell_type": "markdown",
   "id": "3e1b2e3a",
   "metadata": {
    "papermill": {
     "duration": 0.012498,
     "end_time": "2023-02-16T14:00:34.101690",
     "exception": false,
     "start_time": "2023-02-16T14:00:34.089192",
     "status": "completed"
    },
    "tags": []
   },
   "source": [
    "### Nominal\n",
    "A nominal scale classifies data into distinct categories in which **no ranking** is implied\n",
    "   * Example : Gender, Marital Status"
   ]
  },
  {
   "cell_type": "markdown",
   "id": "514a6a6e",
   "metadata": {
    "papermill": {
     "duration": 0.012344,
     "end_time": "2023-02-16T14:00:34.126836",
     "exception": false,
     "start_time": "2023-02-16T14:00:34.114492",
     "status": "completed"
    },
    "tags": []
   },
   "source": [
    "### Ordinal scale\n",
    "An ordinal scale classifies data into distinct categories in which **ranking** is implied.\n",
    "\n",
    "Example:\n",
    "* Product satisfaction: Satisfied ---> Neutral ---> Unsatisfied\n",
    "* Faculty rank: Professor ---> Associate Professor ---> Assistant Professor\n",
    "* Student Grades: A ---> B ---> C ---> D ---> F"
   ]
  },
  {
   "cell_type": "markdown",
   "id": "08bcde22",
   "metadata": {
    "papermill": {
     "duration": 0.012457,
     "end_time": "2023-02-16T14:00:34.152109",
     "exception": false,
     "start_time": "2023-02-16T14:00:34.139652",
     "status": "completed"
    },
    "tags": []
   },
   "source": [
    "### Interval scale\n",
    "An interval scale is an ordered scale in which the difference between measurements is a meaningful quantity but the measurements **do not have a true zero point**.\n",
    "\n",
    "Example\n",
    "* Temperature in Fahrenheit and Celsius \n",
    "* Year\n",
    "\n",
    "**Note:** Here, we can perform only addition and subtraction other than that we can't perform any other arithmetic operations like multiplication or division because if subtract 3 years from 2023 we will get 2020 but on the contrary if we multiply 3 with 2023 we will get 6069 which doesn't make any sense."
   ]
  },
  {
   "cell_type": "markdown",
   "id": "6c2b034e",
   "metadata": {
    "papermill": {
     "duration": 0.012464,
     "end_time": "2023-02-16T14:00:34.177302",
     "exception": false,
     "start_time": "2023-02-16T14:00:34.164838",
     "status": "completed"
    },
    "tags": []
   },
   "source": [
    "### Ratio scale\n",
    "A ratio scale is an **ordered** scale in which the difference between the measurements is a meaningful quantity and the measurements **have a true zero point**.\n",
    "\n",
    "Example:\n",
    "* Weight\n",
    "* Age\n",
    "* Salary"
   ]
  },
  {
   "cell_type": "markdown",
   "id": "e8e43e24",
   "metadata": {
    "papermill": {
     "duration": 0.012474,
     "end_time": "2023-02-16T14:00:34.202515",
     "exception": false,
     "start_time": "2023-02-16T14:00:34.190041",
     "status": "completed"
    },
    "tags": []
   },
   "source": [
    "### Usage Potential of Various Levels of Data\n",
    "Ratio ---> Interval ---> Ordinal ---> Nominal"
   ]
  },
  {
   "cell_type": "markdown",
   "id": "7dddf0de",
   "metadata": {
    "papermill": {
     "duration": 0.012463,
     "end_time": "2023-02-16T14:00:34.227875",
     "exception": false,
     "start_time": "2023-02-16T14:00:34.215412",
     "status": "completed"
    },
    "tags": []
   },
   "source": [
    "### Impact of choice of measurement scale\n",
    "**Nominal**\n",
    "    \n",
    "   * **Meaningful Operations:** Classifying and Counting\n",
    "   * **Statistical Methods:** Nonparametric\n",
    "\n",
    "**Ordinal**\n",
    "\n",
    "   * **Meaningful Operations:** All of the above plus Ranking\n",
    "   * **Statistical Methods:** Nonparametric\n",
    " \n",
    "**Interval**\n",
    "    \n",
    "   * **Meaningful Operations:** All of the above plus Addition and Subtraction\n",
    "   * **Statistical Methods:** Parametric\n",
    "    \n",
    "**Ratio**\n",
    "\n",
    "   * **Meaningful Operations:** All of the above plus Multiplication and Division\n",
    "   * **Statistical Methods:** Parametric"
   ]
  },
  {
   "cell_type": "markdown",
   "id": "9db128ce",
   "metadata": {
    "papermill": {
     "duration": 0.012492,
     "end_time": "2023-02-16T14:00:34.253164",
     "exception": false,
     "start_time": "2023-02-16T14:00:34.240672",
     "status": "completed"
    },
    "tags": []
   },
   "source": [
    "# Python Fundamentals I"
   ]
  },
  {
   "cell_type": "code",
   "execution_count": 2,
   "id": "7ffc3ea1",
   "metadata": {
    "execution": {
     "iopub.execute_input": "2023-02-16T14:00:34.280502Z",
     "iopub.status.busy": "2023-02-16T14:00:34.280102Z",
     "iopub.status.idle": "2023-02-16T14:00:34.285397Z",
     "shell.execute_reply": "2023-02-16T14:00:34.284219Z"
    },
    "papermill": {
     "duration": 0.021667,
     "end_time": "2023-02-16T14:00:34.287641",
     "exception": false,
     "start_time": "2023-02-16T14:00:34.265974",
     "status": "completed"
    },
    "tags": []
   },
   "outputs": [],
   "source": [
    "# import libraries\n",
    "import numpy as np\n",
    "import pandas as pd\n",
    "import matplotlib.pyplot as plt"
   ]
  },
  {
   "cell_type": "markdown",
   "id": "a3655b44",
   "metadata": {
    "papermill": {
     "duration": 0.013001,
     "end_time": "2023-02-16T14:00:34.313749",
     "exception": false,
     "start_time": "2023-02-16T14:00:34.300748",
     "status": "completed"
    },
    "tags": []
   },
   "source": [
    "### Load"
   ]
  },
  {
   "cell_type": "code",
   "execution_count": 3,
   "id": "070e613c",
   "metadata": {
    "execution": {
     "iopub.execute_input": "2023-02-16T14:00:34.341780Z",
     "iopub.status.busy": "2023-02-16T14:00:34.341378Z",
     "iopub.status.idle": "2023-02-16T14:00:34.368639Z",
     "shell.execute_reply": "2023-02-16T14:00:34.367509Z"
    },
    "papermill": {
     "duration": 0.044471,
     "end_time": "2023-02-16T14:00:34.371293",
     "exception": false,
     "start_time": "2023-02-16T14:00:34.326822",
     "status": "completed"
    },
    "tags": []
   },
   "outputs": [],
   "source": [
    "df = pd.read_csv(\"/kaggle/input/gapminder-FiveYearData/gapminder-FiveYearData.csv\")"
   ]
  },
  {
   "cell_type": "markdown",
   "id": "8f571cd9",
   "metadata": {
    "papermill": {
     "duration": 0.012705,
     "end_time": "2023-02-16T14:00:34.397100",
     "exception": false,
     "start_time": "2023-02-16T14:00:34.384395",
     "status": "completed"
    },
    "tags": []
   },
   "source": [
    "### Head"
   ]
  },
  {
   "cell_type": "code",
   "execution_count": 4,
   "id": "d089993c",
   "metadata": {
    "execution": {
     "iopub.execute_input": "2023-02-16T14:00:34.426010Z",
     "iopub.status.busy": "2023-02-16T14:00:34.424732Z",
     "iopub.status.idle": "2023-02-16T14:00:34.450942Z",
     "shell.execute_reply": "2023-02-16T14:00:34.449687Z"
    },
    "papermill": {
     "duration": 0.043165,
     "end_time": "2023-02-16T14:00:34.453451",
     "exception": false,
     "start_time": "2023-02-16T14:00:34.410286",
     "status": "completed"
    },
    "tags": []
   },
   "outputs": [
    {
     "data": {
      "text/html": [
       "<div>\n",
       "<style scoped>\n",
       "    .dataframe tbody tr th:only-of-type {\n",
       "        vertical-align: middle;\n",
       "    }\n",
       "\n",
       "    .dataframe tbody tr th {\n",
       "        vertical-align: top;\n",
       "    }\n",
       "\n",
       "    .dataframe thead th {\n",
       "        text-align: right;\n",
       "    }\n",
       "</style>\n",
       "<table border=\"1\" class=\"dataframe\">\n",
       "  <thead>\n",
       "    <tr style=\"text-align: right;\">\n",
       "      <th></th>\n",
       "      <th>country</th>\n",
       "      <th>year</th>\n",
       "      <th>pop</th>\n",
       "      <th>continent</th>\n",
       "      <th>lifeExp</th>\n",
       "      <th>gdpPercap</th>\n",
       "    </tr>\n",
       "  </thead>\n",
       "  <tbody>\n",
       "    <tr>\n",
       "      <th>0</th>\n",
       "      <td>Afghanistan</td>\n",
       "      <td>1952</td>\n",
       "      <td>8425333.0</td>\n",
       "      <td>Asia</td>\n",
       "      <td>28.801</td>\n",
       "      <td>779.445314</td>\n",
       "    </tr>\n",
       "    <tr>\n",
       "      <th>1</th>\n",
       "      <td>Afghanistan</td>\n",
       "      <td>1957</td>\n",
       "      <td>9240934.0</td>\n",
       "      <td>Asia</td>\n",
       "      <td>30.332</td>\n",
       "      <td>820.853030</td>\n",
       "    </tr>\n",
       "    <tr>\n",
       "      <th>2</th>\n",
       "      <td>Afghanistan</td>\n",
       "      <td>1962</td>\n",
       "      <td>10267083.0</td>\n",
       "      <td>Asia</td>\n",
       "      <td>31.997</td>\n",
       "      <td>853.100710</td>\n",
       "    </tr>\n",
       "    <tr>\n",
       "      <th>3</th>\n",
       "      <td>Afghanistan</td>\n",
       "      <td>1967</td>\n",
       "      <td>11537966.0</td>\n",
       "      <td>Asia</td>\n",
       "      <td>34.020</td>\n",
       "      <td>836.197138</td>\n",
       "    </tr>\n",
       "    <tr>\n",
       "      <th>4</th>\n",
       "      <td>Afghanistan</td>\n",
       "      <td>1972</td>\n",
       "      <td>13079460.0</td>\n",
       "      <td>Asia</td>\n",
       "      <td>36.088</td>\n",
       "      <td>739.981106</td>\n",
       "    </tr>\n",
       "  </tbody>\n",
       "</table>\n",
       "</div>"
      ],
      "text/plain": [
       "       country  year         pop continent  lifeExp   gdpPercap\n",
       "0  Afghanistan  1952   8425333.0      Asia   28.801  779.445314\n",
       "1  Afghanistan  1957   9240934.0      Asia   30.332  820.853030\n",
       "2  Afghanistan  1962  10267083.0      Asia   31.997  853.100710\n",
       "3  Afghanistan  1967  11537966.0      Asia   34.020  836.197138\n",
       "4  Afghanistan  1972  13079460.0      Asia   36.088  739.981106"
      ]
     },
     "execution_count": 4,
     "metadata": {},
     "output_type": "execute_result"
    }
   ],
   "source": [
    "df.head()"
   ]
  },
  {
   "cell_type": "markdown",
   "id": "046ddcea",
   "metadata": {
    "papermill": {
     "duration": 0.012979,
     "end_time": "2023-02-16T14:00:34.479767",
     "exception": false,
     "start_time": "2023-02-16T14:00:34.466788",
     "status": "completed"
    },
    "tags": []
   },
   "source": [
    "### Tail"
   ]
  },
  {
   "cell_type": "code",
   "execution_count": 5,
   "id": "eec32dc6",
   "metadata": {
    "execution": {
     "iopub.execute_input": "2023-02-16T14:00:34.508848Z",
     "iopub.status.busy": "2023-02-16T14:00:34.508003Z",
     "iopub.status.idle": "2023-02-16T14:00:34.522299Z",
     "shell.execute_reply": "2023-02-16T14:00:34.520986Z"
    },
    "papermill": {
     "duration": 0.031652,
     "end_time": "2023-02-16T14:00:34.524747",
     "exception": false,
     "start_time": "2023-02-16T14:00:34.493095",
     "status": "completed"
    },
    "tags": []
   },
   "outputs": [
    {
     "data": {
      "text/html": [
       "<div>\n",
       "<style scoped>\n",
       "    .dataframe tbody tr th:only-of-type {\n",
       "        vertical-align: middle;\n",
       "    }\n",
       "\n",
       "    .dataframe tbody tr th {\n",
       "        vertical-align: top;\n",
       "    }\n",
       "\n",
       "    .dataframe thead th {\n",
       "        text-align: right;\n",
       "    }\n",
       "</style>\n",
       "<table border=\"1\" class=\"dataframe\">\n",
       "  <thead>\n",
       "    <tr style=\"text-align: right;\">\n",
       "      <th></th>\n",
       "      <th>country</th>\n",
       "      <th>year</th>\n",
       "      <th>pop</th>\n",
       "      <th>continent</th>\n",
       "      <th>lifeExp</th>\n",
       "      <th>gdpPercap</th>\n",
       "    </tr>\n",
       "  </thead>\n",
       "  <tbody>\n",
       "    <tr>\n",
       "      <th>1699</th>\n",
       "      <td>Zimbabwe</td>\n",
       "      <td>1987</td>\n",
       "      <td>9216418.0</td>\n",
       "      <td>Africa</td>\n",
       "      <td>62.351</td>\n",
       "      <td>706.157306</td>\n",
       "    </tr>\n",
       "    <tr>\n",
       "      <th>1700</th>\n",
       "      <td>Zimbabwe</td>\n",
       "      <td>1992</td>\n",
       "      <td>10704340.0</td>\n",
       "      <td>Africa</td>\n",
       "      <td>60.377</td>\n",
       "      <td>693.420786</td>\n",
       "    </tr>\n",
       "    <tr>\n",
       "      <th>1701</th>\n",
       "      <td>Zimbabwe</td>\n",
       "      <td>1997</td>\n",
       "      <td>11404948.0</td>\n",
       "      <td>Africa</td>\n",
       "      <td>46.809</td>\n",
       "      <td>792.449960</td>\n",
       "    </tr>\n",
       "    <tr>\n",
       "      <th>1702</th>\n",
       "      <td>Zimbabwe</td>\n",
       "      <td>2002</td>\n",
       "      <td>11926563.0</td>\n",
       "      <td>Africa</td>\n",
       "      <td>39.989</td>\n",
       "      <td>672.038623</td>\n",
       "    </tr>\n",
       "    <tr>\n",
       "      <th>1703</th>\n",
       "      <td>Zimbabwe</td>\n",
       "      <td>2007</td>\n",
       "      <td>12311143.0</td>\n",
       "      <td>Africa</td>\n",
       "      <td>43.487</td>\n",
       "      <td>469.709298</td>\n",
       "    </tr>\n",
       "  </tbody>\n",
       "</table>\n",
       "</div>"
      ],
      "text/plain": [
       "       country  year         pop continent  lifeExp   gdpPercap\n",
       "1699  Zimbabwe  1987   9216418.0    Africa   62.351  706.157306\n",
       "1700  Zimbabwe  1992  10704340.0    Africa   60.377  693.420786\n",
       "1701  Zimbabwe  1997  11404948.0    Africa   46.809  792.449960\n",
       "1702  Zimbabwe  2002  11926563.0    Africa   39.989  672.038623\n",
       "1703  Zimbabwe  2007  12311143.0    Africa   43.487  469.709298"
      ]
     },
     "execution_count": 5,
     "metadata": {},
     "output_type": "execute_result"
    }
   ],
   "source": [
    "df.tail()"
   ]
  },
  {
   "cell_type": "markdown",
   "id": "2f887619",
   "metadata": {
    "papermill": {
     "duration": 0.01327,
     "end_time": "2023-02-16T14:00:34.551484",
     "exception": false,
     "start_time": "2023-02-16T14:00:34.538214",
     "status": "completed"
    },
    "tags": []
   },
   "source": [
    "### Data Types"
   ]
  },
  {
   "cell_type": "code",
   "execution_count": 6,
   "id": "afc5366d",
   "metadata": {
    "execution": {
     "iopub.execute_input": "2023-02-16T14:00:34.580861Z",
     "iopub.status.busy": "2023-02-16T14:00:34.580033Z",
     "iopub.status.idle": "2023-02-16T14:00:34.588521Z",
     "shell.execute_reply": "2023-02-16T14:00:34.587516Z"
    },
    "papermill": {
     "duration": 0.025681,
     "end_time": "2023-02-16T14:00:34.590735",
     "exception": false,
     "start_time": "2023-02-16T14:00:34.565054",
     "status": "completed"
    },
    "tags": []
   },
   "outputs": [
    {
     "data": {
      "text/plain": [
       "country       object\n",
       "year           int64\n",
       "pop          float64\n",
       "continent     object\n",
       "lifeExp      float64\n",
       "gdpPercap    float64\n",
       "dtype: object"
      ]
     },
     "execution_count": 6,
     "metadata": {},
     "output_type": "execute_result"
    }
   ],
   "source": [
    "df.dtypes"
   ]
  },
  {
   "cell_type": "markdown",
   "id": "55a9d38c",
   "metadata": {
    "papermill": {
     "duration": 0.013381,
     "end_time": "2023-02-16T14:00:34.617612",
     "exception": false,
     "start_time": "2023-02-16T14:00:34.604231",
     "status": "completed"
    },
    "tags": []
   },
   "source": [
    "### Info"
   ]
  },
  {
   "cell_type": "code",
   "execution_count": 7,
   "id": "ae4b0237",
   "metadata": {
    "execution": {
     "iopub.execute_input": "2023-02-16T14:00:34.646969Z",
     "iopub.status.busy": "2023-02-16T14:00:34.646305Z",
     "iopub.status.idle": "2023-02-16T14:00:34.670666Z",
     "shell.execute_reply": "2023-02-16T14:00:34.669416Z"
    },
    "papermill": {
     "duration": 0.042233,
     "end_time": "2023-02-16T14:00:34.673408",
     "exception": false,
     "start_time": "2023-02-16T14:00:34.631175",
     "status": "completed"
    },
    "tags": []
   },
   "outputs": [
    {
     "name": "stdout",
     "output_type": "stream",
     "text": [
      "<class 'pandas.core.frame.DataFrame'>\n",
      "RangeIndex: 1704 entries, 0 to 1703\n",
      "Data columns (total 6 columns):\n",
      " #   Column     Non-Null Count  Dtype  \n",
      "---  ------     --------------  -----  \n",
      " 0   country    1704 non-null   object \n",
      " 1   year       1704 non-null   int64  \n",
      " 2   pop        1704 non-null   float64\n",
      " 3   continent  1704 non-null   object \n",
      " 4   lifeExp    1704 non-null   float64\n",
      " 5   gdpPercap  1704 non-null   float64\n",
      "dtypes: float64(3), int64(1), object(2)\n",
      "memory usage: 80.0+ KB\n"
     ]
    }
   ],
   "source": [
    "df.info()"
   ]
  },
  {
   "cell_type": "markdown",
   "id": "0573caa2",
   "metadata": {
    "papermill": {
     "duration": 0.013446,
     "end_time": "2023-02-16T14:00:34.703219",
     "exception": false,
     "start_time": "2023-02-16T14:00:34.689773",
     "status": "completed"
    },
    "tags": []
   },
   "source": [
    "### get the country column and save it to its own variable"
   ]
  },
  {
   "cell_type": "code",
   "execution_count": 8,
   "id": "af6f907f",
   "metadata": {
    "execution": {
     "iopub.execute_input": "2023-02-16T14:00:34.732553Z",
     "iopub.status.busy": "2023-02-16T14:00:34.732111Z",
     "iopub.status.idle": "2023-02-16T14:00:34.739720Z",
     "shell.execute_reply": "2023-02-16T14:00:34.738943Z"
    },
    "papermill": {
     "duration": 0.024778,
     "end_time": "2023-02-16T14:00:34.742031",
     "exception": false,
     "start_time": "2023-02-16T14:00:34.717253",
     "status": "completed"
    },
    "tags": []
   },
   "outputs": [
    {
     "data": {
      "text/plain": [
       "0    Afghanistan\n",
       "1    Afghanistan\n",
       "2    Afghanistan\n",
       "3    Afghanistan\n",
       "4    Afghanistan\n",
       "Name: country, dtype: object"
      ]
     },
     "execution_count": 8,
     "metadata": {},
     "output_type": "execute_result"
    }
   ],
   "source": [
    "country_df = df[\"country\"]\n",
    "country_df.head()"
   ]
  },
  {
   "cell_type": "markdown",
   "id": "020a523a",
   "metadata": {
    "papermill": {
     "duration": 0.013274,
     "end_time": "2023-02-16T14:00:34.769177",
     "exception": false,
     "start_time": "2023-02-16T14:00:34.755903",
     "status": "completed"
    },
    "tags": []
   },
   "source": [
    "### fetch multiple columns"
   ]
  },
  {
   "cell_type": "code",
   "execution_count": 9,
   "id": "5ed78d74",
   "metadata": {
    "execution": {
     "iopub.execute_input": "2023-02-16T14:00:34.799860Z",
     "iopub.status.busy": "2023-02-16T14:00:34.799175Z",
     "iopub.status.idle": "2023-02-16T14:00:34.812393Z",
     "shell.execute_reply": "2023-02-16T14:00:34.811089Z"
    },
    "papermill": {
     "duration": 0.031057,
     "end_time": "2023-02-16T14:00:34.814591",
     "exception": false,
     "start_time": "2023-02-16T14:00:34.783534",
     "status": "completed"
    },
    "tags": []
   },
   "outputs": [
    {
     "data": {
      "text/html": [
       "<div>\n",
       "<style scoped>\n",
       "    .dataframe tbody tr th:only-of-type {\n",
       "        vertical-align: middle;\n",
       "    }\n",
       "\n",
       "    .dataframe tbody tr th {\n",
       "        vertical-align: top;\n",
       "    }\n",
       "\n",
       "    .dataframe thead th {\n",
       "        text-align: right;\n",
       "    }\n",
       "</style>\n",
       "<table border=\"1\" class=\"dataframe\">\n",
       "  <thead>\n",
       "    <tr style=\"text-align: right;\">\n",
       "      <th></th>\n",
       "      <th>country</th>\n",
       "      <th>continent</th>\n",
       "      <th>year</th>\n",
       "    </tr>\n",
       "  </thead>\n",
       "  <tbody>\n",
       "    <tr>\n",
       "      <th>0</th>\n",
       "      <td>Afghanistan</td>\n",
       "      <td>Asia</td>\n",
       "      <td>1952</td>\n",
       "    </tr>\n",
       "    <tr>\n",
       "      <th>1</th>\n",
       "      <td>Afghanistan</td>\n",
       "      <td>Asia</td>\n",
       "      <td>1957</td>\n",
       "    </tr>\n",
       "    <tr>\n",
       "      <th>2</th>\n",
       "      <td>Afghanistan</td>\n",
       "      <td>Asia</td>\n",
       "      <td>1962</td>\n",
       "    </tr>\n",
       "    <tr>\n",
       "      <th>3</th>\n",
       "      <td>Afghanistan</td>\n",
       "      <td>Asia</td>\n",
       "      <td>1967</td>\n",
       "    </tr>\n",
       "    <tr>\n",
       "      <th>4</th>\n",
       "      <td>Afghanistan</td>\n",
       "      <td>Asia</td>\n",
       "      <td>1972</td>\n",
       "    </tr>\n",
       "  </tbody>\n",
       "</table>\n",
       "</div>"
      ],
      "text/plain": [
       "       country continent  year\n",
       "0  Afghanistan      Asia  1952\n",
       "1  Afghanistan      Asia  1957\n",
       "2  Afghanistan      Asia  1962\n",
       "3  Afghanistan      Asia  1967\n",
       "4  Afghanistan      Asia  1972"
      ]
     },
     "execution_count": 9,
     "metadata": {},
     "output_type": "execute_result"
    }
   ],
   "source": [
    "subset = df[[\"country\",\"continent\",\"year\"]]\n",
    "subset.head()"
   ]
  },
  {
   "cell_type": "markdown",
   "id": "027df0b0",
   "metadata": {
    "papermill": {
     "duration": 0.01345,
     "end_time": "2023-02-16T14:00:34.842030",
     "exception": false,
     "start_time": "2023-02-16T14:00:34.828580",
     "status": "completed"
    },
    "tags": []
   },
   "source": [
    "## loc: subset rows by index label, counting starts from Zero (0)"
   ]
  },
  {
   "cell_type": "code",
   "execution_count": 10,
   "id": "ed505f78",
   "metadata": {
    "execution": {
     "iopub.execute_input": "2023-02-16T14:00:34.871517Z",
     "iopub.status.busy": "2023-02-16T14:00:34.870997Z",
     "iopub.status.idle": "2023-02-16T14:00:34.879719Z",
     "shell.execute_reply": "2023-02-16T14:00:34.878665Z"
    },
    "papermill": {
     "duration": 0.026409,
     "end_time": "2023-02-16T14:00:34.882165",
     "exception": false,
     "start_time": "2023-02-16T14:00:34.855756",
     "status": "completed"
    },
    "tags": []
   },
   "outputs": [
    {
     "data": {
      "text/plain": [
       "country      Afghanistan\n",
       "year                1952\n",
       "pop            8425333.0\n",
       "continent           Asia\n",
       "lifeExp           28.801\n",
       "gdpPercap     779.445314\n",
       "Name: 0, dtype: object"
      ]
     },
     "execution_count": 10,
     "metadata": {},
     "output_type": "execute_result"
    }
   ],
   "source": [
    "df.loc[0]"
   ]
  },
  {
   "cell_type": "markdown",
   "id": "ac422a92",
   "metadata": {
    "papermill": {
     "duration": 0.014792,
     "end_time": "2023-02-16T14:00:34.911307",
     "exception": false,
     "start_time": "2023-02-16T14:00:34.896515",
     "status": "completed"
    },
    "tags": []
   },
   "source": [
    "**Access the 100th row**"
   ]
  },
  {
   "cell_type": "markdown",
   "id": "e0c0bade",
   "metadata": {
    "papermill": {
     "duration": 0.013475,
     "end_time": "2023-02-16T14:00:34.938628",
     "exception": false,
     "start_time": "2023-02-16T14:00:34.925153",
     "status": "completed"
    },
    "tags": []
   },
   "source": [
    "### get the 100th row"
   ]
  },
  {
   "cell_type": "code",
   "execution_count": 11,
   "id": "39b9b8a0",
   "metadata": {
    "execution": {
     "iopub.execute_input": "2023-02-16T14:00:34.968247Z",
     "iopub.status.busy": "2023-02-16T14:00:34.967812Z",
     "iopub.status.idle": "2023-02-16T14:00:34.975165Z",
     "shell.execute_reply": "2023-02-16T14:00:34.974364Z"
    },
    "papermill": {
     "duration": 0.024664,
     "end_time": "2023-02-16T14:00:34.977084",
     "exception": false,
     "start_time": "2023-02-16T14:00:34.952420",
     "status": "completed"
    },
    "tags": []
   },
   "outputs": [
    {
     "data": {
      "text/plain": [
       "country      Bangladesh\n",
       "year               1967\n",
       "pop          62821884.0\n",
       "continent          Asia\n",
       "lifeExp          43.453\n",
       "gdpPercap    721.186086\n",
       "Name: 99, dtype: object"
      ]
     },
     "execution_count": 11,
     "metadata": {},
     "output_type": "execute_result"
    }
   ],
   "source": [
    "df.loc[99]"
   ]
  },
  {
   "cell_type": "markdown",
   "id": "2e790615",
   "metadata": {
    "papermill": {
     "duration": 0.013636,
     "end_time": "2023-02-16T14:00:35.004761",
     "exception": false,
     "start_time": "2023-02-16T14:00:34.991125",
     "status": "completed"
    },
    "tags": []
   },
   "source": [
    "### subsetting multiple rows\n",
    "**select 1st row, 100th row and 1000th row**"
   ]
  },
  {
   "cell_type": "code",
   "execution_count": 12,
   "id": "c8d409d8",
   "metadata": {
    "execution": {
     "iopub.execute_input": "2023-02-16T14:00:35.035441Z",
     "iopub.status.busy": "2023-02-16T14:00:35.034215Z",
     "iopub.status.idle": "2023-02-16T14:00:35.049825Z",
     "shell.execute_reply": "2023-02-16T14:00:35.048695Z"
    },
    "papermill": {
     "duration": 0.033551,
     "end_time": "2023-02-16T14:00:35.052331",
     "exception": false,
     "start_time": "2023-02-16T14:00:35.018780",
     "status": "completed"
    },
    "tags": []
   },
   "outputs": [
    {
     "data": {
      "text/html": [
       "<div>\n",
       "<style scoped>\n",
       "    .dataframe tbody tr th:only-of-type {\n",
       "        vertical-align: middle;\n",
       "    }\n",
       "\n",
       "    .dataframe tbody tr th {\n",
       "        vertical-align: top;\n",
       "    }\n",
       "\n",
       "    .dataframe thead th {\n",
       "        text-align: right;\n",
       "    }\n",
       "</style>\n",
       "<table border=\"1\" class=\"dataframe\">\n",
       "  <thead>\n",
       "    <tr style=\"text-align: right;\">\n",
       "      <th></th>\n",
       "      <th>country</th>\n",
       "      <th>year</th>\n",
       "      <th>pop</th>\n",
       "      <th>continent</th>\n",
       "      <th>lifeExp</th>\n",
       "      <th>gdpPercap</th>\n",
       "    </tr>\n",
       "  </thead>\n",
       "  <tbody>\n",
       "    <tr>\n",
       "      <th>0</th>\n",
       "      <td>Afghanistan</td>\n",
       "      <td>1952</td>\n",
       "      <td>8425333.0</td>\n",
       "      <td>Asia</td>\n",
       "      <td>28.801</td>\n",
       "      <td>779.445314</td>\n",
       "    </tr>\n",
       "    <tr>\n",
       "      <th>99</th>\n",
       "      <td>Bangladesh</td>\n",
       "      <td>1967</td>\n",
       "      <td>62821884.0</td>\n",
       "      <td>Asia</td>\n",
       "      <td>43.453</td>\n",
       "      <td>721.186086</td>\n",
       "    </tr>\n",
       "    <tr>\n",
       "      <th>999</th>\n",
       "      <td>Mongolia</td>\n",
       "      <td>1967</td>\n",
       "      <td>1149500.0</td>\n",
       "      <td>Asia</td>\n",
       "      <td>51.253</td>\n",
       "      <td>1226.041130</td>\n",
       "    </tr>\n",
       "  </tbody>\n",
       "</table>\n",
       "</div>"
      ],
      "text/plain": [
       "         country  year         pop continent  lifeExp    gdpPercap\n",
       "0    Afghanistan  1952   8425333.0      Asia   28.801   779.445314\n",
       "99    Bangladesh  1967  62821884.0      Asia   43.453   721.186086\n",
       "999     Mongolia  1967   1149500.0      Asia   51.253  1226.041130"
      ]
     },
     "execution_count": 12,
     "metadata": {},
     "output_type": "execute_result"
    }
   ],
   "source": [
    "df.loc[[0,99,999]]"
   ]
  },
  {
   "cell_type": "markdown",
   "id": "9e263daf",
   "metadata": {
    "papermill": {
     "duration": 0.013801,
     "end_time": "2023-02-16T14:00:35.080319",
     "exception": false,
     "start_time": "2023-02-16T14:00:35.066518",
     "status": "completed"
    },
    "tags": []
   },
   "source": [
    "## iloc: subset rows by row number"
   ]
  },
  {
   "cell_type": "markdown",
   "id": "91bdf28f",
   "metadata": {
    "papermill": {
     "duration": 0.013746,
     "end_time": "2023-02-16T14:00:35.108154",
     "exception": false,
     "start_time": "2023-02-16T14:00:35.094408",
     "status": "completed"
    },
    "tags": []
   },
   "source": [
    "**get 2nd row**"
   ]
  },
  {
   "cell_type": "code",
   "execution_count": 13,
   "id": "64081229",
   "metadata": {
    "execution": {
     "iopub.execute_input": "2023-02-16T14:00:35.138035Z",
     "iopub.status.busy": "2023-02-16T14:00:35.137582Z",
     "iopub.status.idle": "2023-02-16T14:00:35.146372Z",
     "shell.execute_reply": "2023-02-16T14:00:35.145264Z"
    },
    "papermill": {
     "duration": 0.026575,
     "end_time": "2023-02-16T14:00:35.148721",
     "exception": false,
     "start_time": "2023-02-16T14:00:35.122146",
     "status": "completed"
    },
    "tags": []
   },
   "outputs": [
    {
     "data": {
      "text/plain": [
       "country      Afghanistan\n",
       "year                1957\n",
       "pop            9240934.0\n",
       "continent           Asia\n",
       "lifeExp           30.332\n",
       "gdpPercap      820.85303\n",
       "Name: 1, dtype: object"
      ]
     },
     "execution_count": 13,
     "metadata": {},
     "output_type": "execute_result"
    }
   ],
   "source": [
    "df.iloc[1]"
   ]
  },
  {
   "cell_type": "markdown",
   "id": "24f9acfa",
   "metadata": {
    "papermill": {
     "duration": 0.013931,
     "end_time": "2023-02-16T14:00:35.177088",
     "exception": false,
     "start_time": "2023-02-16T14:00:35.163157",
     "status": "completed"
    },
    "tags": []
   },
   "source": [
    "### get 100th row"
   ]
  },
  {
   "cell_type": "code",
   "execution_count": 14,
   "id": "882fc165",
   "metadata": {
    "execution": {
     "iopub.execute_input": "2023-02-16T14:00:35.207384Z",
     "iopub.status.busy": "2023-02-16T14:00:35.206956Z",
     "iopub.status.idle": "2023-02-16T14:00:35.215414Z",
     "shell.execute_reply": "2023-02-16T14:00:35.214455Z"
    },
    "papermill": {
     "duration": 0.026019,
     "end_time": "2023-02-16T14:00:35.217424",
     "exception": false,
     "start_time": "2023-02-16T14:00:35.191405",
     "status": "completed"
    },
    "tags": []
   },
   "outputs": [
    {
     "data": {
      "text/plain": [
       "country      Bangladesh\n",
       "year               1967\n",
       "pop          62821884.0\n",
       "continent          Asia\n",
       "lifeExp          43.453\n",
       "gdpPercap    721.186086\n",
       "Name: 99, dtype: object"
      ]
     },
     "execution_count": 14,
     "metadata": {},
     "output_type": "execute_result"
    }
   ],
   "source": [
    "df.iloc[99]"
   ]
  },
  {
   "cell_type": "markdown",
   "id": "99ab56fb",
   "metadata": {
    "papermill": {
     "duration": 0.01407,
     "end_time": "2023-02-16T14:00:35.245861",
     "exception": false,
     "start_time": "2023-02-16T14:00:35.231791",
     "status": "completed"
    },
    "tags": []
   },
   "source": [
    "### get the last row"
   ]
  },
  {
   "cell_type": "code",
   "execution_count": 15,
   "id": "d7b6b153",
   "metadata": {
    "execution": {
     "iopub.execute_input": "2023-02-16T14:00:35.277967Z",
     "iopub.status.busy": "2023-02-16T14:00:35.277516Z",
     "iopub.status.idle": "2023-02-16T14:00:35.286282Z",
     "shell.execute_reply": "2023-02-16T14:00:35.285173Z"
    },
    "papermill": {
     "duration": 0.028418,
     "end_time": "2023-02-16T14:00:35.288715",
     "exception": false,
     "start_time": "2023-02-16T14:00:35.260297",
     "status": "completed"
    },
    "tags": []
   },
   "outputs": [
    {
     "data": {
      "text/plain": [
       "country        Zimbabwe\n",
       "year               2007\n",
       "pop          12311143.0\n",
       "continent        Africa\n",
       "lifeExp          43.487\n",
       "gdpPercap    469.709298\n",
       "Name: 1703, dtype: object"
      ]
     },
     "execution_count": 15,
     "metadata": {},
     "output_type": "execute_result"
    }
   ],
   "source": [
    "df.iloc[-1]"
   ]
  },
  {
   "cell_type": "markdown",
   "id": "0a7d6ff2",
   "metadata": {
    "papermill": {
     "duration": 0.014244,
     "end_time": "2023-02-16T14:00:35.317703",
     "exception": false,
     "start_time": "2023-02-16T14:00:35.303459",
     "status": "completed"
    },
    "tags": []
   },
   "source": [
    "**Note:** When we are using `iloc` we can pass -1 to get the last row, something we can't do with the `loc`"
   ]
  },
  {
   "cell_type": "markdown",
   "id": "92ebee77",
   "metadata": {
    "papermill": {
     "duration": 0.014114,
     "end_time": "2023-02-16T14:00:35.346441",
     "exception": false,
     "start_time": "2023-02-16T14:00:35.332327",
     "status": "completed"
    },
    "tags": []
   },
   "source": [
    "### get the 1st, 100th and 999th rows"
   ]
  },
  {
   "cell_type": "code",
   "execution_count": 16,
   "id": "5bcff5d0",
   "metadata": {
    "execution": {
     "iopub.execute_input": "2023-02-16T14:00:35.377503Z",
     "iopub.status.busy": "2023-02-16T14:00:35.377035Z",
     "iopub.status.idle": "2023-02-16T14:00:35.392578Z",
     "shell.execute_reply": "2023-02-16T14:00:35.391268Z"
    },
    "papermill": {
     "duration": 0.033663,
     "end_time": "2023-02-16T14:00:35.394731",
     "exception": false,
     "start_time": "2023-02-16T14:00:35.361068",
     "status": "completed"
    },
    "tags": []
   },
   "outputs": [
    {
     "data": {
      "text/html": [
       "<div>\n",
       "<style scoped>\n",
       "    .dataframe tbody tr th:only-of-type {\n",
       "        vertical-align: middle;\n",
       "    }\n",
       "\n",
       "    .dataframe tbody tr th {\n",
       "        vertical-align: top;\n",
       "    }\n",
       "\n",
       "    .dataframe thead th {\n",
       "        text-align: right;\n",
       "    }\n",
       "</style>\n",
       "<table border=\"1\" class=\"dataframe\">\n",
       "  <thead>\n",
       "    <tr style=\"text-align: right;\">\n",
       "      <th></th>\n",
       "      <th>country</th>\n",
       "      <th>year</th>\n",
       "      <th>pop</th>\n",
       "      <th>continent</th>\n",
       "      <th>lifeExp</th>\n",
       "      <th>gdpPercap</th>\n",
       "    </tr>\n",
       "  </thead>\n",
       "  <tbody>\n",
       "    <tr>\n",
       "      <th>0</th>\n",
       "      <td>Afghanistan</td>\n",
       "      <td>1952</td>\n",
       "      <td>8425333.0</td>\n",
       "      <td>Asia</td>\n",
       "      <td>28.801</td>\n",
       "      <td>779.445314</td>\n",
       "    </tr>\n",
       "    <tr>\n",
       "      <th>99</th>\n",
       "      <td>Bangladesh</td>\n",
       "      <td>1967</td>\n",
       "      <td>62821884.0</td>\n",
       "      <td>Asia</td>\n",
       "      <td>43.453</td>\n",
       "      <td>721.186086</td>\n",
       "    </tr>\n",
       "    <tr>\n",
       "      <th>999</th>\n",
       "      <td>Mongolia</td>\n",
       "      <td>1967</td>\n",
       "      <td>1149500.0</td>\n",
       "      <td>Asia</td>\n",
       "      <td>51.253</td>\n",
       "      <td>1226.041130</td>\n",
       "    </tr>\n",
       "  </tbody>\n",
       "</table>\n",
       "</div>"
      ],
      "text/plain": [
       "         country  year         pop continent  lifeExp    gdpPercap\n",
       "0    Afghanistan  1952   8425333.0      Asia   28.801   779.445314\n",
       "99    Bangladesh  1967  62821884.0      Asia   43.453   721.186086\n",
       "999     Mongolia  1967   1149500.0      Asia   51.253  1226.041130"
      ]
     },
     "execution_count": 16,
     "metadata": {},
     "output_type": "execute_result"
    }
   ],
   "source": [
    "df.iloc[[0,99,999]]"
   ]
  },
  {
   "cell_type": "markdown",
   "id": "5f015589",
   "metadata": {
    "papermill": {
     "duration": 0.0144,
     "end_time": "2023-02-16T14:00:35.424020",
     "exception": false,
     "start_time": "2023-02-16T14:00:35.409620",
     "status": "completed"
    },
    "tags": []
   },
   "source": [
    "## Subset columns with slicing using colon (:)\n",
    "**subset all rows with two columns**"
   ]
  },
  {
   "cell_type": "code",
   "execution_count": 17,
   "id": "bc52b378",
   "metadata": {
    "execution": {
     "iopub.execute_input": "2023-02-16T14:00:35.455594Z",
     "iopub.status.busy": "2023-02-16T14:00:35.455192Z",
     "iopub.status.idle": "2023-02-16T14:00:35.469603Z",
     "shell.execute_reply": "2023-02-16T14:00:35.468453Z"
    },
    "papermill": {
     "duration": 0.032967,
     "end_time": "2023-02-16T14:00:35.471775",
     "exception": false,
     "start_time": "2023-02-16T14:00:35.438808",
     "status": "completed"
    },
    "tags": []
   },
   "outputs": [
    {
     "data": {
      "text/html": [
       "<div>\n",
       "<style scoped>\n",
       "    .dataframe tbody tr th:only-of-type {\n",
       "        vertical-align: middle;\n",
       "    }\n",
       "\n",
       "    .dataframe tbody tr th {\n",
       "        vertical-align: top;\n",
       "    }\n",
       "\n",
       "    .dataframe thead th {\n",
       "        text-align: right;\n",
       "    }\n",
       "</style>\n",
       "<table border=\"1\" class=\"dataframe\">\n",
       "  <thead>\n",
       "    <tr style=\"text-align: right;\">\n",
       "      <th></th>\n",
       "      <th>year</th>\n",
       "      <th>pop</th>\n",
       "    </tr>\n",
       "  </thead>\n",
       "  <tbody>\n",
       "    <tr>\n",
       "      <th>0</th>\n",
       "      <td>1952</td>\n",
       "      <td>8425333.0</td>\n",
       "    </tr>\n",
       "    <tr>\n",
       "      <th>1</th>\n",
       "      <td>1957</td>\n",
       "      <td>9240934.0</td>\n",
       "    </tr>\n",
       "    <tr>\n",
       "      <th>2</th>\n",
       "      <td>1962</td>\n",
       "      <td>10267083.0</td>\n",
       "    </tr>\n",
       "    <tr>\n",
       "      <th>3</th>\n",
       "      <td>1967</td>\n",
       "      <td>11537966.0</td>\n",
       "    </tr>\n",
       "    <tr>\n",
       "      <th>4</th>\n",
       "      <td>1972</td>\n",
       "      <td>13079460.0</td>\n",
       "    </tr>\n",
       "    <tr>\n",
       "      <th>...</th>\n",
       "      <td>...</td>\n",
       "      <td>...</td>\n",
       "    </tr>\n",
       "    <tr>\n",
       "      <th>1699</th>\n",
       "      <td>1987</td>\n",
       "      <td>9216418.0</td>\n",
       "    </tr>\n",
       "    <tr>\n",
       "      <th>1700</th>\n",
       "      <td>1992</td>\n",
       "      <td>10704340.0</td>\n",
       "    </tr>\n",
       "    <tr>\n",
       "      <th>1701</th>\n",
       "      <td>1997</td>\n",
       "      <td>11404948.0</td>\n",
       "    </tr>\n",
       "    <tr>\n",
       "      <th>1702</th>\n",
       "      <td>2002</td>\n",
       "      <td>11926563.0</td>\n",
       "    </tr>\n",
       "    <tr>\n",
       "      <th>1703</th>\n",
       "      <td>2007</td>\n",
       "      <td>12311143.0</td>\n",
       "    </tr>\n",
       "  </tbody>\n",
       "</table>\n",
       "<p>1704 rows × 2 columns</p>\n",
       "</div>"
      ],
      "text/plain": [
       "      year         pop\n",
       "0     1952   8425333.0\n",
       "1     1957   9240934.0\n",
       "2     1962  10267083.0\n",
       "3     1967  11537966.0\n",
       "4     1972  13079460.0\n",
       "...    ...         ...\n",
       "1699  1987   9216418.0\n",
       "1700  1992  10704340.0\n",
       "1701  1997  11404948.0\n",
       "1702  2002  11926563.0\n",
       "1703  2007  12311143.0\n",
       "\n",
       "[1704 rows x 2 columns]"
      ]
     },
     "execution_count": 17,
     "metadata": {},
     "output_type": "execute_result"
    }
   ],
   "source": [
    "df.loc[:,[\"year\",\"pop\"]]"
   ]
  },
  {
   "cell_type": "code",
   "execution_count": 18,
   "id": "07817f7b",
   "metadata": {
    "execution": {
     "iopub.execute_input": "2023-02-16T14:00:35.503799Z",
     "iopub.status.busy": "2023-02-16T14:00:35.503318Z",
     "iopub.status.idle": "2023-02-16T14:00:35.520035Z",
     "shell.execute_reply": "2023-02-16T14:00:35.518971Z"
    },
    "papermill": {
     "duration": 0.035453,
     "end_time": "2023-02-16T14:00:35.522348",
     "exception": false,
     "start_time": "2023-02-16T14:00:35.486895",
     "status": "completed"
    },
    "tags": []
   },
   "outputs": [
    {
     "data": {
      "text/html": [
       "<div>\n",
       "<style scoped>\n",
       "    .dataframe tbody tr th:only-of-type {\n",
       "        vertical-align: middle;\n",
       "    }\n",
       "\n",
       "    .dataframe tbody tr th {\n",
       "        vertical-align: top;\n",
       "    }\n",
       "\n",
       "    .dataframe thead th {\n",
       "        text-align: right;\n",
       "    }\n",
       "</style>\n",
       "<table border=\"1\" class=\"dataframe\">\n",
       "  <thead>\n",
       "    <tr style=\"text-align: right;\">\n",
       "      <th></th>\n",
       "      <th>country</th>\n",
       "      <th>year</th>\n",
       "      <th>gdpPercap</th>\n",
       "    </tr>\n",
       "  </thead>\n",
       "  <tbody>\n",
       "    <tr>\n",
       "      <th>0</th>\n",
       "      <td>Afghanistan</td>\n",
       "      <td>1952</td>\n",
       "      <td>779.445314</td>\n",
       "    </tr>\n",
       "    <tr>\n",
       "      <th>1</th>\n",
       "      <td>Afghanistan</td>\n",
       "      <td>1957</td>\n",
       "      <td>820.853030</td>\n",
       "    </tr>\n",
       "    <tr>\n",
       "      <th>2</th>\n",
       "      <td>Afghanistan</td>\n",
       "      <td>1962</td>\n",
       "      <td>853.100710</td>\n",
       "    </tr>\n",
       "    <tr>\n",
       "      <th>3</th>\n",
       "      <td>Afghanistan</td>\n",
       "      <td>1967</td>\n",
       "      <td>836.197138</td>\n",
       "    </tr>\n",
       "    <tr>\n",
       "      <th>4</th>\n",
       "      <td>Afghanistan</td>\n",
       "      <td>1972</td>\n",
       "      <td>739.981106</td>\n",
       "    </tr>\n",
       "    <tr>\n",
       "      <th>...</th>\n",
       "      <td>...</td>\n",
       "      <td>...</td>\n",
       "      <td>...</td>\n",
       "    </tr>\n",
       "    <tr>\n",
       "      <th>1699</th>\n",
       "      <td>Zimbabwe</td>\n",
       "      <td>1987</td>\n",
       "      <td>706.157306</td>\n",
       "    </tr>\n",
       "    <tr>\n",
       "      <th>1700</th>\n",
       "      <td>Zimbabwe</td>\n",
       "      <td>1992</td>\n",
       "      <td>693.420786</td>\n",
       "    </tr>\n",
       "    <tr>\n",
       "      <th>1701</th>\n",
       "      <td>Zimbabwe</td>\n",
       "      <td>1997</td>\n",
       "      <td>792.449960</td>\n",
       "    </tr>\n",
       "    <tr>\n",
       "      <th>1702</th>\n",
       "      <td>Zimbabwe</td>\n",
       "      <td>2002</td>\n",
       "      <td>672.038623</td>\n",
       "    </tr>\n",
       "    <tr>\n",
       "      <th>1703</th>\n",
       "      <td>Zimbabwe</td>\n",
       "      <td>2007</td>\n",
       "      <td>469.709298</td>\n",
       "    </tr>\n",
       "  </tbody>\n",
       "</table>\n",
       "<p>1704 rows × 3 columns</p>\n",
       "</div>"
      ],
      "text/plain": [
       "          country  year   gdpPercap\n",
       "0     Afghanistan  1952  779.445314\n",
       "1     Afghanistan  1957  820.853030\n",
       "2     Afghanistan  1962  853.100710\n",
       "3     Afghanistan  1967  836.197138\n",
       "4     Afghanistan  1972  739.981106\n",
       "...           ...   ...         ...\n",
       "1699     Zimbabwe  1987  706.157306\n",
       "1700     Zimbabwe  1992  693.420786\n",
       "1701     Zimbabwe  1997  792.449960\n",
       "1702     Zimbabwe  2002  672.038623\n",
       "1703     Zimbabwe  2007  469.709298\n",
       "\n",
       "[1704 rows x 3 columns]"
      ]
     },
     "execution_count": 18,
     "metadata": {},
     "output_type": "execute_result"
    }
   ],
   "source": [
    "df.iloc[:,[0,1,-1]]"
   ]
  },
  {
   "cell_type": "code",
   "execution_count": null,
   "id": "e4c1e70b",
   "metadata": {
    "papermill": {
     "duration": 0.014995,
     "end_time": "2023-02-16T14:00:35.552771",
     "exception": false,
     "start_time": "2023-02-16T14:00:35.537776",
     "status": "completed"
    },
    "tags": []
   },
   "outputs": [],
   "source": []
  }
 ],
 "metadata": {
  "kernelspec": {
   "display_name": "Python 3",
   "language": "python",
   "name": "python3"
  },
  "language_info": {
   "codemirror_mode": {
    "name": "ipython",
    "version": 3
   },
   "file_extension": ".py",
   "mimetype": "text/x-python",
   "name": "python",
   "nbconvert_exporter": "python",
   "pygments_lexer": "ipython3",
   "version": "3.7.12"
  },
  "papermill": {
   "default_parameters": {},
   "duration": 11.573983,
   "end_time": "2023-02-16T14:00:36.290062",
   "environment_variables": {},
   "exception": null,
   "input_path": "__notebook__.ipynb",
   "output_path": "__notebook__.ipynb",
   "parameters": {},
   "start_time": "2023-02-16T14:00:24.716079",
   "version": "2.3.4"
  }
 },
 "nbformat": 4,
 "nbformat_minor": 5
}
