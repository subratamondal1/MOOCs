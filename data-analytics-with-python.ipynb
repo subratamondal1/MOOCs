{
 "cells": [
  {
   "cell_type": "code",
   "execution_count": 1,
   "id": "e62043b2",
   "metadata": {
    "_cell_guid": "b1076dfc-b9ad-4769-8c92-a6c4dae69d19",
    "_uuid": "8f2839f25d086af736a60e9eeb907d3b93b6e0e5",
    "execution": {
     "iopub.execute_input": "2023-02-18T04:34:33.012480Z",
     "iopub.status.busy": "2023-02-18T04:34:33.011675Z",
     "iopub.status.idle": "2023-02-18T04:34:33.041261Z",
     "shell.execute_reply": "2023-02-18T04:34:33.039707Z"
    },
    "papermill": {
     "duration": 0.051523,
     "end_time": "2023-02-18T04:34:33.045332",
     "exception": false,
     "start_time": "2023-02-18T04:34:32.993809",
     "status": "completed"
    },
    "tags": []
   },
   "outputs": [
    {
     "name": "stdout",
     "output_type": "stream",
     "text": [
      "/kaggle/input/gapminder-FiveYearData/gapminder-FiveYearData.csv\n"
     ]
    }
   ],
   "source": [
    "# This Python 3 environment comes with many helpful analytics libraries installed\n",
    "# It is defined by the kaggle/python Docker image: https://github.com/kaggle/docker-python\n",
    "# For example, here's several helpful packages to load\n",
    "\n",
    "import numpy as np # linear algebra\n",
    "import pandas as pd # data processing, CSV file I/O (e.g. pd.read_csv)\n",
    "\n",
    "# Input data files are available in the read-only \"../input/\" directory\n",
    "# For example, running this (by clicking run or pressing Shift+Enter) will list all files under the input directory\n",
    "\n",
    "import os\n",
    "for dirname, _, filenames in os.walk('/kaggle/input'):\n",
    "    for filename in filenames:\n",
    "        print(os.path.join(dirname, filename))\n",
    "\n",
    "# You can write up to 20GB to the current directory (/kaggle/working/) that gets preserved as output when you create a version using \"Save & Run All\" \n",
    "# You can also write temporary files to /kaggle/temp/, but they won't be saved outside of the current session"
   ]
  },
  {
   "cell_type": "markdown",
   "id": "e2f8317c",
   "metadata": {
    "papermill": {
     "duration": 0.012966,
     "end_time": "2023-02-18T04:34:33.072510",
     "exception": false,
     "start_time": "2023-02-18T04:34:33.059544",
     "status": "completed"
    },
    "tags": []
   },
   "source": [
    "# Objective of the course\n",
    "* The principle focus of this course is to introduce conceptual understanding using simple and practical examples rather than repetitive and point click mentality\n",
    "* This course should make you comfortable using analytics in your career and your life\n",
    "* You will know how to work with real data, and might have learned many different methodologies but choosing the right methodology is important\n",
    "* The **danger in using quantitative method** does not generally lie in the inability to perform the calculation\n",
    "* The real threat is lack of fundamental understanding of:\n",
    "     * Why to use a particular technique of procedure\n",
    "     * How to use it correctly and,\n",
    "     * How to correctly interpret the result"
   ]
  },
  {
   "cell_type": "markdown",
   "id": "70820b19",
   "metadata": {
    "papermill": {
     "duration": 0.013122,
     "end_time": "2023-02-18T04:34:33.099928",
     "exception": false,
     "start_time": "2023-02-18T04:34:33.086806",
     "status": "completed"
    },
    "tags": []
   },
   "source": [
    "# Learning objectives\n",
    "1. Define data and its importance\n",
    "2. Define data analytics and its types\n",
    "3. Explain why analytics is important in today’s business environment\n",
    "4. Explain how statistics, analytics and data science are interrelated\n",
    "5. Why python?\n",
    "6. Explain the four different levels of Data:\n",
    "     * Nominal\n",
    "     * Ordinal\n",
    "     * Interval and\n",
    "     * Ratio"
   ]
  },
  {
   "cell_type": "markdown",
   "id": "190a84e5",
   "metadata": {
    "papermill": {
     "duration": 0.01322,
     "end_time": "2023-02-18T04:34:33.126679",
     "exception": false,
     "start_time": "2023-02-18T04:34:33.113459",
     "status": "completed"
    },
    "tags": []
   },
   "source": [
    "## Define Data and its importance"
   ]
  },
  {
   "cell_type": "markdown",
   "id": "7945e7e0",
   "metadata": {
    "papermill": {
     "duration": 0.014499,
     "end_time": "2023-02-18T04:34:33.155323",
     "exception": false,
     "start_time": "2023-02-18T04:34:33.140824",
     "status": "completed"
    },
    "tags": []
   },
   "source": [
    "### Variable, Measurement and Data\n",
    "* **Variables** are a characteristic of any entity being studied that is capable of taking on different values\n",
    "* **Measurements** are when a standard process is used to assign numbers to variable\n",
    "* **Data** data are recorded measurements"
   ]
  },
  {
   "cell_type": "markdown",
   "id": "1e11a407",
   "metadata": {
    "papermill": {
     "duration": 0.013722,
     "end_time": "2023-02-18T04:34:33.182789",
     "exception": false,
     "start_time": "2023-02-18T04:34:33.169067",
     "status": "completed"
    },
    "tags": []
   },
   "source": [
    "### What is generating so much data?\n",
    "Data can be generated by \n",
    "* Humans,\n",
    "* Machines\n",
    "* Humans-machines combinations\n",
    "* It can be generated anywhere where any information is generated and stored in structured or unstructured formats"
   ]
  },
  {
   "cell_type": "markdown",
   "id": "0926739b",
   "metadata": {
    "papermill": {
     "duration": 0.014791,
     "end_time": "2023-02-18T04:34:33.211847",
     "exception": false,
     "start_time": "2023-02-18T04:34:33.197056",
     "status": "completed"
    },
    "tags": []
   },
   "source": [
    "### How data add value to business?\n",
    "Business data are stored in Data Warehouse and from there we make:\n",
    "1. **Development of Data Product**\n",
    "       Algorithm solutions in production, marketing and sales etc.(e.g. Recommendation Engines, Self driving cars, google maps, etc.)\n",
    "2. **Discovery of Data Insight**\n",
    "       Quantitative data analysis to help steer strategic business decision\n",
    "\n",
    "and from them we derive Business Values."
   ]
  },
  {
   "cell_type": "markdown",
   "id": "092cd36d",
   "metadata": {
    "papermill": {
     "duration": 0.015472,
     "end_time": "2023-02-18T04:34:33.242645",
     "exception": false,
     "start_time": "2023-02-18T04:34:33.227173",
     "status": "completed"
    },
    "tags": []
   },
   "source": [
    "### Why Data is important?\n",
    "* Data helps in <u>make better decisions</u>\n",
    "* Data helps in <u>solve problems by finding the reason for underperformance</u>\n",
    "* Data helps one to <u>evaluate the performance</u>.\n",
    "* Data helps one <u>improve processes</u>\n",
    "* Data helps one <u>understand consumers and the market</u>"
   ]
  },
  {
   "cell_type": "markdown",
   "id": "74471b69",
   "metadata": {
    "papermill": {
     "duration": 0.013302,
     "end_time": "2023-02-18T04:34:33.270421",
     "exception": false,
     "start_time": "2023-02-18T04:34:33.257119",
     "status": "completed"
    },
    "tags": []
   },
   "source": [
    "## Define data analytic and its types"
   ]
  },
  {
   "cell_type": "markdown",
   "id": "b7412324",
   "metadata": {
    "papermill": {
     "duration": 0.013229,
     "end_time": "2023-02-18T04:34:33.297264",
     "exception": false,
     "start_time": "2023-02-18T04:34:33.284035",
     "status": "completed"
    },
    "tags": []
   },
   "source": [
    "### Define data analytics\n",
    "* Analytics is defined as “the scientific process of transforming data into insights for making better decisions”\n",
    "* Analytics, is the use of data, information technology, statistical analysis, quantitative methods, and mathematical or computer-based models to help managers gain improved insight about their business operations and make better, fact-based decisions – James Evans\n",
    "* is Analysis = Analytics ? The answer is no."
   ]
  },
  {
   "cell_type": "markdown",
   "id": "3aa0d7b7",
   "metadata": {
    "papermill": {
     "duration": 0.013828,
     "end_time": "2023-02-18T04:34:33.324941",
     "exception": false,
     "start_time": "2023-02-18T04:34:33.311113",
     "status": "completed"
    },
    "tags": []
   },
   "source": [
    "### Why analytics is important?\n",
    "A lot of opportunities for the use of analytics and big data such as:\n",
    "1. Determining credit risk\n",
    "2. Developing new medicines\n",
    "3. Finding more efficient ways to deliver products and services\n",
    "4. Preventing fraud\n",
    "5. Uncovering cyber threats\n",
    "6. Retaining the most valuable customers"
   ]
  },
  {
   "cell_type": "markdown",
   "id": "4979a860",
   "metadata": {
    "papermill": {
     "duration": 0.01299,
     "end_time": "2023-02-18T04:34:33.351463",
     "exception": false,
     "start_time": "2023-02-18T04:34:33.338473",
     "status": "completed"
    },
    "tags": []
   },
   "source": [
    "### Data Analysis\n",
    "* Data analysis is the process of examining, transforming, and arranging raw data in a specific way to generate useful information from it\n",
    "* Data analysis allows for the evaluation of data through analytical and logical reasoning to lead to some sort of outcome or conclusion in some context\n",
    "* Data analysis is a multi-faceted process that involves a number of steps, approaches, and diverse techniques"
   ]
  },
  {
   "cell_type": "markdown",
   "id": "604d87b1",
   "metadata": {
    "papermill": {
     "duration": 0.012957,
     "end_time": "2023-02-18T04:34:33.377888",
     "exception": false,
     "start_time": "2023-02-18T04:34:33.364931",
     "status": "completed"
    },
    "tags": []
   },
   "source": [
    "### Data analytics vs Data analysis\n",
    "**Data Analytics** is all about exploring the future events\n",
    "   * Qualitative Data analytics = Intuition + analysis\n",
    "   * Quantitative Data analytics = Formulas + algorithms\n",
    "    \n",
    "**Data Analysis** is all about exploring the past events\n",
    "   * Qualitative Data analysis = Explains How And Why Story ends the way it did ?\n",
    "   * Quantitative Data analysis = Data + how the sale decreased last summer ?\n",
    "    \n",
    "1. is Analysis = Analytics ? **No**\n",
    "2. is Data Analysis = Data analytics ? **No**\n",
    "3. is Business Analysis = Business analytics ? **No**"
   ]
  },
  {
   "cell_type": "markdown",
   "id": "1a7d45b0",
   "metadata": {
    "papermill": {
     "duration": 0.013068,
     "end_time": "2023-02-18T04:34:33.404478",
     "exception": false,
     "start_time": "2023-02-18T04:34:33.391410",
     "status": "completed"
    },
    "tags": []
   },
   "source": [
    "### Classification of Data analytics\n",
    "Based on the phase of workflow and the kind of analysis required, there are four major types of data analytics.\n",
    "1. **Descriptive analytics:** What happened ?\n",
    "2. **Diagnostic analytics:** Why did it happened ?\n",
    "3. **Predictive analytics:** What will happen ?\n",
    "4. **Prescriptive analytics:** How can we make it happen ?\n",
    "\n",
    "**Value vs Diificulty**\n",
    "Descriptive Analytics is with the least value and least diificulty and as we go down the value and difficulty increases i.e Prescriptive Analytics is with the most value and most difficulty."
   ]
  },
  {
   "cell_type": "markdown",
   "id": "470f4d43",
   "metadata": {
    "papermill": {
     "duration": 0.013284,
     "end_time": "2023-02-18T04:34:33.432080",
     "exception": false,
     "start_time": "2023-02-18T04:34:33.418796",
     "status": "completed"
    },
    "tags": []
   },
   "source": [
    "### Descriptive Analytics\n",
    "* Descriptive Analytics, is the conventional form of Business Intelligence and data analysis\n",
    "* It seeks to provide a depiction or “summary view” of facts and figures in an understandable format\n",
    "* This either inform or prepare data for further analysis\n",
    "* Descriptive analysis or statistics can summarize raw data and convert it into a form that can be easily understood by humans\n",
    "* They can describe in detail about an event that has occurred in the past\n",
    "\n",
    "A common example of Descriptive Analytics are company reports that simply provide a historic review like:\n",
    "\n",
    "1. Data Queries\n",
    "2. Reports\n",
    "3. Descriptive Statistics\n",
    "4. Data Visualization\n",
    "5. Data dashboard"
   ]
  },
  {
   "cell_type": "markdown",
   "id": "5a4904d6",
   "metadata": {
    "papermill": {
     "duration": 0.014102,
     "end_time": "2023-02-18T04:34:33.459743",
     "exception": false,
     "start_time": "2023-02-18T04:34:33.445641",
     "status": "completed"
    },
    "tags": []
   },
   "source": [
    "### Diagnostic analytics\n",
    "* Diagnostic Analytics is a form of advanced analytics which examines data or content to answer the question “Why did it happen?”\n",
    "* Diagnostic analytical tools aid an analyst to dig deeper into an issue so that they can arrive at the source of a problem\n",
    "* In a structured business environment, tools for both descriptive and diagnostic analytics go parallel\n",
    "\n",
    "It uses techniques such as:\n",
    "1. Data Discovery\n",
    "2. Data Mining\n",
    "3. Correlations"
   ]
  },
  {
   "cell_type": "markdown",
   "id": "ccdffcd1",
   "metadata": {
    "papermill": {
     "duration": 0.013121,
     "end_time": "2023-02-18T04:34:33.486376",
     "exception": false,
     "start_time": "2023-02-18T04:34:33.473255",
     "status": "completed"
    },
    "tags": []
   },
   "source": [
    "### Predictive analytics\n",
    "* Predictive analytics helps to forecast trends based on the current events\n",
    "* Predicting the probability of an event happening in future or estimating the accurate time it will happen can all be determined with the help of predictive analytical models\n",
    "* Many different but co-dependent variables are analysed to predict a trend in this type of analysis\n",
    "\n",
    "1. Historical Data ---> Predictive Algorithms ---> Model\n",
    "2. New Data ---> Model ---> Predictions\n",
    "\n",
    "Set of techniques that use model constructed from past data to predict the future or ascertain impact of one variable on another:\n",
    "1. Linear regression\n",
    "2. Time series analysis and forecasting\n",
    "3. Data mining"
   ]
  },
  {
   "cell_type": "markdown",
   "id": "0b16ef4e",
   "metadata": {
    "papermill": {
     "duration": 0.01366,
     "end_time": "2023-02-18T04:34:33.514336",
     "exception": false,
     "start_time": "2023-02-18T04:34:33.500676",
     "status": "completed"
    },
    "tags": []
   },
   "source": [
    "### Prescriptive analytics\n",
    "* Set of techniques to indicate the best course of action\n",
    "* It tells what decision to make to optimize the outcome\n",
    "* The goal of prescriptive analytics is to enable:\n",
    "1. Quality improvements\n",
    "2. Service enhancements\n",
    "3. Cost reductions and\n",
    "4. Increasing productivity\n",
    "\n",
    "Examples of prescriptive analytics example:\n",
    "1. Optimization Model\n",
    "2. Simulation\n",
    "3. Decision Analysis"
   ]
  },
  {
   "cell_type": "markdown",
   "id": "ce41565c",
   "metadata": {
    "papermill": {
     "duration": 0.014052,
     "end_time": "2023-02-18T04:34:33.542293",
     "exception": false,
     "start_time": "2023-02-18T04:34:33.528241",
     "status": "completed"
    },
    "tags": []
   },
   "source": [
    "## Explain why analytics is important"
   ]
  },
  {
   "cell_type": "markdown",
   "id": "1fb99286",
   "metadata": {
    "papermill": {
     "duration": 0.013234,
     "end_time": "2023-02-18T04:34:33.569233",
     "exception": false,
     "start_time": "2023-02-18T04:34:33.555999",
     "status": "completed"
    },
    "tags": []
   },
   "source": [
    "### Demand for Data Analytics\n",
    "With companies across industries striving to bring their research and analysis (R&A) departments up to speed, the demand for qualified data scientists is rising.\n",
    "\n",
    "\"India will face a demand-supply gap of 200,000 analytics professionals over the next three years. Even in the US, only 40 out of 100 positions for analytics professionals can be filled,\" said Rituparna Chakraborty, co-founder & senior VP of TeamLease Services. [Read More...](https://timesofindia.indiatimes.com/india/data-scientists-earning-more-than-cas-engineers/articleshow/52171064.cms?utm_source=contentofinterest&utm_medium=text&utm_campaign=cppst)"
   ]
  },
  {
   "cell_type": "markdown",
   "id": "7ae7d77b",
   "metadata": {
    "papermill": {
     "duration": 0.013268,
     "end_time": "2023-02-18T04:34:33.596028",
     "exception": false,
     "start_time": "2023-02-18T04:34:33.582760",
     "status": "completed"
    },
    "tags": []
   },
   "source": [
    "\n",
    " "
   ]
  },
  {
   "cell_type": "markdown",
   "id": "43e2f660",
   "metadata": {
    "papermill": {
     "duration": 0.014,
     "end_time": "2023-02-18T04:34:33.624027",
     "exception": false,
     "start_time": "2023-02-18T04:34:33.610027",
     "status": "completed"
    },
    "tags": []
   },
   "source": [
    "### Element of data Analytics\n",
    "1. Statistics\n",
    "2. Data Mining\n",
    "3. Business Intelligence/Information Systems\n",
    "4. Visualizations\n",
    "5. Simulation and Risk\n",
    "6. Modelling and Optimizations and lastly\n",
    "7. What if ?\n"
   ]
  },
  {
   "cell_type": "markdown",
   "id": "936f8635",
   "metadata": {
    "papermill": {
     "duration": 0.013134,
     "end_time": "2023-02-18T04:34:33.650789",
     "exception": false,
     "start_time": "2023-02-18T04:34:33.637655",
     "status": "completed"
    },
    "tags": []
   },
   "source": [
    "## Data analyst and Data scientist\n"
   ]
  },
  {
   "cell_type": "markdown",
   "id": "dbf27202",
   "metadata": {
    "papermill": {
     "duration": 0.013865,
     "end_time": "2023-02-18T04:34:33.678873",
     "exception": false,
     "start_time": "2023-02-18T04:34:33.665008",
     "status": "completed"
    },
    "tags": []
   },
   "source": [
    "### The requisite skill set are\n",
    "1. Mathematical Skills\n",
    "2. Technological Skills\n",
    "3. Business and Strategy and Acumen(ability to make good judgement and better decisions)"
   ]
  },
  {
   "cell_type": "markdown",
   "id": "8d97c6ac",
   "metadata": {
    "papermill": {
     "duration": 0.014449,
     "end_time": "2023-02-18T04:34:33.707658",
     "exception": false,
     "start_time": "2023-02-18T04:34:33.693209",
     "status": "completed"
    },
    "tags": []
   },
   "source": [
    "### Difference between Data analyst and Data Scientist\n",
    "**Data Analyst** requires knowledge in\n",
    "1. Business Administration\n",
    "    * That is domain specific responsibility, for example:\n",
    "        * Marketing Analyst\n",
    "        * Financial Analyst, etc\n",
    "2. Data Exploration analysis and insight\n",
    "\n",
    "**Data Scientist** requires knowledge in\n",
    "1. Everything required in Data Analyst +\n",
    "2. Advance algorithms and machine learning\n",
    "3. Data Product engineering"
   ]
  },
  {
   "cell_type": "markdown",
   "id": "09726196",
   "metadata": {
    "papermill": {
     "duration": 0.015716,
     "end_time": "2023-02-18T04:34:33.737668",
     "exception": false,
     "start_time": "2023-02-18T04:34:33.721952",
     "status": "completed"
    },
    "tags": []
   },
   "source": [
    "## Why python ?\n",
    "**Features:**\n",
    "1. Simple and easy to learn\n",
    "2. Freeware and Open Source\n",
    "3. Interpreted \n",
    "4. Dynamically Typed\n",
    "5. Extensible\n",
    "6. Embedded\n",
    "7. Extensive library\n",
    "8. Usability\n",
    "    * Desktop and web applications\n",
    "    * Database applications\n",
    "    * Networking applications\n",
    "    * Data analysis & Data Science\n",
    "    * Machine Learning\n",
    "    * IoT and AI applications\n",
    "    * Games\n",
    "    \n",
    "**Companies using python:**\n",
    "1. Google \n",
    "2. Nasa\n",
    "3. Facebook\n",
    "4. Youtube\n",
    "5. Yahoo!\n",
    "6. Dropbox\n",
    "7. Quora\n",
    "8. ebay, etc."
   ]
  },
  {
   "cell_type": "markdown",
   "id": "29df52ed",
   "metadata": {
    "papermill": {
     "duration": 0.013191,
     "end_time": "2023-02-18T04:34:33.764593",
     "exception": false,
     "start_time": "2023-02-18T04:34:33.751402",
     "status": "completed"
    },
    "tags": []
   },
   "source": [
    "## Why Jupyter Notebook ?\n",
    "**Features:**\n",
    "1. Client-Server application\n",
    "2. Edit code on web browser\n",
    "3. Easy in documentation\n",
    "4. Easy in demonstration\n",
    "5. User-friendly interface"
   ]
  },
  {
   "cell_type": "markdown",
   "id": "94f8688a",
   "metadata": {
    "papermill": {
     "duration": 0.013065,
     "end_time": "2023-02-18T04:34:33.791210",
     "exception": false,
     "start_time": "2023-02-18T04:34:33.778145",
     "status": "completed"
    },
    "tags": []
   },
   "source": [
    "## Explain the four different levels of Data"
   ]
  },
  {
   "cell_type": "markdown",
   "id": "30b3db34",
   "metadata": {
    "papermill": {
     "duration": 0.013371,
     "end_time": "2023-02-18T04:34:33.818393",
     "exception": false,
     "start_time": "2023-02-18T04:34:33.805022",
     "status": "completed"
    },
    "tags": []
   },
   "source": [
    "### Types of Variables \n",
    "Data is divided into two parts :\n",
    "1. **Categorical Data** They are defined categories, examples are: \n",
    "    * Marital Status\n",
    "    * Political Party\n",
    "    * Eye Color\n",
    "    \n",
    "2. **Numerical Data** It is further divided into two parts:\n",
    "    * **Discrete Data** They are counted items, examples are:\n",
    "        * Number of children\n",
    "        * Defects per hour\n",
    "    * **Continuous Data** They are Measured Characteristics\n",
    "        * Weight\n",
    "        * Voltage"
   ]
  },
  {
   "cell_type": "markdown",
   "id": "982d7ffb",
   "metadata": {
    "papermill": {
     "duration": 0.013323,
     "end_time": "2023-02-18T04:34:33.845248",
     "exception": false,
     "start_time": "2023-02-18T04:34:33.831925",
     "status": "completed"
    },
    "tags": []
   },
   "source": [
    "### Levels of Data Measurement\n",
    "* Nominal — Lowest level of measurement  \n",
    "* Ordinal\n",
    "* Interval\n",
    "* Ratio — Highest level of measurement"
   ]
  },
  {
   "cell_type": "markdown",
   "id": "dc9da8d2",
   "metadata": {
    "papermill": {
     "duration": 0.013676,
     "end_time": "2023-02-18T04:34:33.872439",
     "exception": false,
     "start_time": "2023-02-18T04:34:33.858763",
     "status": "completed"
    },
    "tags": []
   },
   "source": [
    "### Nominal\n",
    "A nominal scale classifies data into distinct categories in which **no ranking** is implied\n",
    "   * Example : Gender, Marital Status"
   ]
  },
  {
   "cell_type": "markdown",
   "id": "e8c0a8e7",
   "metadata": {
    "papermill": {
     "duration": 0.013617,
     "end_time": "2023-02-18T04:34:33.899922",
     "exception": false,
     "start_time": "2023-02-18T04:34:33.886305",
     "status": "completed"
    },
    "tags": []
   },
   "source": [
    "### Ordinal scale\n",
    "An ordinal scale classifies data into distinct categories in which **ranking** is implied.\n",
    "\n",
    "Example:\n",
    "* Product satisfaction: Satisfied ---> Neutral ---> Unsatisfied\n",
    "* Faculty rank: Professor ---> Associate Professor ---> Assistant Professor\n",
    "* Student Grades: A ---> B ---> C ---> D ---> F"
   ]
  },
  {
   "cell_type": "markdown",
   "id": "5d4255a7",
   "metadata": {
    "papermill": {
     "duration": 0.013334,
     "end_time": "2023-02-18T04:34:33.926762",
     "exception": false,
     "start_time": "2023-02-18T04:34:33.913428",
     "status": "completed"
    },
    "tags": []
   },
   "source": [
    "### Interval scale\n",
    "An interval scale is an ordered scale in which the difference between measurements is a meaningful quantity but the measurements **do not have a true zero point**.\n",
    "\n",
    "Example\n",
    "* Temperature in Fahrenheit and Celsius: they can never be zero, because 0 degree Celcius means absence of temperature which makes no sense\n",
    "* Year: can't be zero\n",
    "\n",
    "**Note:** Here, we can perform only addition and subtraction other than that we can't perform any other arithmetic operations like multiplication or division because if subtract 3 years from 2023 we will get 2020 but on the contrary if we multiply 3 with 2023 we will get 6069 which doesn't make any sense."
   ]
  },
  {
   "cell_type": "markdown",
   "id": "1a51558c",
   "metadata": {
    "papermill": {
     "duration": 0.013387,
     "end_time": "2023-02-18T04:34:33.955017",
     "exception": false,
     "start_time": "2023-02-18T04:34:33.941630",
     "status": "completed"
    },
    "tags": []
   },
   "source": [
    "### Ratio scale\n",
    "A ratio scale is an **ordered** scale in which the difference between the measurements is a meaningful quantity and the measurements **have a true zero point**.\n",
    "\n",
    "Example:\n",
    "* Weight\n",
    "* Age\n",
    "* Salary"
   ]
  },
  {
   "cell_type": "markdown",
   "id": "b83ecfd0",
   "metadata": {
    "papermill": {
     "duration": 0.013405,
     "end_time": "2023-02-18T04:34:33.983258",
     "exception": false,
     "start_time": "2023-02-18T04:34:33.969853",
     "status": "completed"
    },
    "tags": []
   },
   "source": [
    "### Usage Potential of Various Levels of Data\n",
    "Ratio ---> Interval ---> Ordinal ---> Nominal"
   ]
  },
  {
   "cell_type": "markdown",
   "id": "4c1b5825",
   "metadata": {
    "papermill": {
     "duration": 0.013534,
     "end_time": "2023-02-18T04:34:34.011293",
     "exception": false,
     "start_time": "2023-02-18T04:34:33.997759",
     "status": "completed"
    },
    "tags": []
   },
   "source": [
    "### Impact of choice of measurement scale\n",
    "**Nominal**\n",
    "    \n",
    "   * **Meaningful Operations:** Classifying and Counting\n",
    "   * **Statistical Methods:** Nonparametric\n",
    "\n",
    "**Ordinal**\n",
    "\n",
    "   * **Meaningful Operations:** All of the above plus Ranking\n",
    "   * **Statistical Methods:** Nonparametric\n",
    " \n",
    "**Interval**\n",
    "    \n",
    "   * **Meaningful Operations:** All of the above plus Addition and Subtraction\n",
    "   * **Statistical Methods:** Parametric\n",
    "    \n",
    "**Ratio**\n",
    "\n",
    "   * **Meaningful Operations:** All of the above plus Multiplication and Division\n",
    "   * **Statistical Methods:** Parametric"
   ]
  },
  {
   "cell_type": "markdown",
   "id": "75003e86",
   "metadata": {
    "papermill": {
     "duration": 0.013474,
     "end_time": "2023-02-18T04:34:34.038660",
     "exception": false,
     "start_time": "2023-02-18T04:34:34.025186",
     "status": "completed"
    },
    "tags": []
   },
   "source": [
    "# <center>Python Fundamentals I</center>\n",
    "---"
   ]
  },
  {
   "cell_type": "code",
   "execution_count": 2,
   "id": "1a1708c5",
   "metadata": {
    "execution": {
     "iopub.execute_input": "2023-02-18T04:34:34.070587Z",
     "iopub.status.busy": "2023-02-18T04:34:34.069694Z",
     "iopub.status.idle": "2023-02-18T04:34:34.075227Z",
     "shell.execute_reply": "2023-02-18T04:34:34.074142Z"
    },
    "papermill": {
     "duration": 0.024581,
     "end_time": "2023-02-18T04:34:34.077607",
     "exception": false,
     "start_time": "2023-02-18T04:34:34.053026",
     "status": "completed"
    },
    "tags": []
   },
   "outputs": [],
   "source": [
    "# import libraries\n",
    "import numpy as np\n",
    "import pandas as pd\n",
    "import matplotlib.pyplot as plt"
   ]
  },
  {
   "cell_type": "markdown",
   "id": "e3b05178",
   "metadata": {
    "papermill": {
     "duration": 0.013491,
     "end_time": "2023-02-18T04:34:34.105649",
     "exception": false,
     "start_time": "2023-02-18T04:34:34.092158",
     "status": "completed"
    },
    "tags": []
   },
   "source": [
    "### Load"
   ]
  },
  {
   "cell_type": "code",
   "execution_count": 3,
   "id": "ff937d03",
   "metadata": {
    "execution": {
     "iopub.execute_input": "2023-02-18T04:34:34.136799Z",
     "iopub.status.busy": "2023-02-18T04:34:34.135835Z",
     "iopub.status.idle": "2023-02-18T04:34:34.162025Z",
     "shell.execute_reply": "2023-02-18T04:34:34.160738Z"
    },
    "papermill": {
     "duration": 0.045771,
     "end_time": "2023-02-18T04:34:34.165123",
     "exception": false,
     "start_time": "2023-02-18T04:34:34.119352",
     "status": "completed"
    },
    "tags": []
   },
   "outputs": [],
   "source": [
    "df = pd.read_csv(\"/kaggle/input/gapminder-FiveYearData/gapminder-FiveYearData.csv\")"
   ]
  },
  {
   "cell_type": "markdown",
   "id": "e9f86972",
   "metadata": {
    "papermill": {
     "duration": 0.013422,
     "end_time": "2023-02-18T04:34:34.192615",
     "exception": false,
     "start_time": "2023-02-18T04:34:34.179193",
     "status": "completed"
    },
    "tags": []
   },
   "source": [
    "### Head"
   ]
  },
  {
   "cell_type": "code",
   "execution_count": 4,
   "id": "c281ba88",
   "metadata": {
    "execution": {
     "iopub.execute_input": "2023-02-18T04:34:34.225192Z",
     "iopub.status.busy": "2023-02-18T04:34:34.224227Z",
     "iopub.status.idle": "2023-02-18T04:34:34.258410Z",
     "shell.execute_reply": "2023-02-18T04:34:34.256952Z"
    },
    "papermill": {
     "duration": 0.054365,
     "end_time": "2023-02-18T04:34:34.261533",
     "exception": false,
     "start_time": "2023-02-18T04:34:34.207168",
     "status": "completed"
    },
    "tags": []
   },
   "outputs": [
    {
     "data": {
      "text/html": [
       "<div>\n",
       "<style scoped>\n",
       "    .dataframe tbody tr th:only-of-type {\n",
       "        vertical-align: middle;\n",
       "    }\n",
       "\n",
       "    .dataframe tbody tr th {\n",
       "        vertical-align: top;\n",
       "    }\n",
       "\n",
       "    .dataframe thead th {\n",
       "        text-align: right;\n",
       "    }\n",
       "</style>\n",
       "<table border=\"1\" class=\"dataframe\">\n",
       "  <thead>\n",
       "    <tr style=\"text-align: right;\">\n",
       "      <th></th>\n",
       "      <th>country</th>\n",
       "      <th>year</th>\n",
       "      <th>pop</th>\n",
       "      <th>continent</th>\n",
       "      <th>lifeExp</th>\n",
       "      <th>gdpPercap</th>\n",
       "    </tr>\n",
       "  </thead>\n",
       "  <tbody>\n",
       "    <tr>\n",
       "      <th>0</th>\n",
       "      <td>Afghanistan</td>\n",
       "      <td>1952</td>\n",
       "      <td>8425333.0</td>\n",
       "      <td>Asia</td>\n",
       "      <td>28.801</td>\n",
       "      <td>779.445314</td>\n",
       "    </tr>\n",
       "    <tr>\n",
       "      <th>1</th>\n",
       "      <td>Afghanistan</td>\n",
       "      <td>1957</td>\n",
       "      <td>9240934.0</td>\n",
       "      <td>Asia</td>\n",
       "      <td>30.332</td>\n",
       "      <td>820.853030</td>\n",
       "    </tr>\n",
       "    <tr>\n",
       "      <th>2</th>\n",
       "      <td>Afghanistan</td>\n",
       "      <td>1962</td>\n",
       "      <td>10267083.0</td>\n",
       "      <td>Asia</td>\n",
       "      <td>31.997</td>\n",
       "      <td>853.100710</td>\n",
       "    </tr>\n",
       "    <tr>\n",
       "      <th>3</th>\n",
       "      <td>Afghanistan</td>\n",
       "      <td>1967</td>\n",
       "      <td>11537966.0</td>\n",
       "      <td>Asia</td>\n",
       "      <td>34.020</td>\n",
       "      <td>836.197138</td>\n",
       "    </tr>\n",
       "    <tr>\n",
       "      <th>4</th>\n",
       "      <td>Afghanistan</td>\n",
       "      <td>1972</td>\n",
       "      <td>13079460.0</td>\n",
       "      <td>Asia</td>\n",
       "      <td>36.088</td>\n",
       "      <td>739.981106</td>\n",
       "    </tr>\n",
       "  </tbody>\n",
       "</table>\n",
       "</div>"
      ],
      "text/plain": [
       "       country  year         pop continent  lifeExp   gdpPercap\n",
       "0  Afghanistan  1952   8425333.0      Asia   28.801  779.445314\n",
       "1  Afghanistan  1957   9240934.0      Asia   30.332  820.853030\n",
       "2  Afghanistan  1962  10267083.0      Asia   31.997  853.100710\n",
       "3  Afghanistan  1967  11537966.0      Asia   34.020  836.197138\n",
       "4  Afghanistan  1972  13079460.0      Asia   36.088  739.981106"
      ]
     },
     "execution_count": 4,
     "metadata": {},
     "output_type": "execute_result"
    }
   ],
   "source": [
    "df.head()"
   ]
  },
  {
   "cell_type": "markdown",
   "id": "77c34543",
   "metadata": {
    "papermill": {
     "duration": 0.013804,
     "end_time": "2023-02-18T04:34:34.290146",
     "exception": false,
     "start_time": "2023-02-18T04:34:34.276342",
     "status": "completed"
    },
    "tags": []
   },
   "source": [
    "### Tail"
   ]
  },
  {
   "cell_type": "code",
   "execution_count": 5,
   "id": "196961ba",
   "metadata": {
    "execution": {
     "iopub.execute_input": "2023-02-18T04:34:34.320616Z",
     "iopub.status.busy": "2023-02-18T04:34:34.320086Z",
     "iopub.status.idle": "2023-02-18T04:34:34.335823Z",
     "shell.execute_reply": "2023-02-18T04:34:34.334550Z"
    },
    "papermill": {
     "duration": 0.034245,
     "end_time": "2023-02-18T04:34:34.338682",
     "exception": false,
     "start_time": "2023-02-18T04:34:34.304437",
     "status": "completed"
    },
    "tags": []
   },
   "outputs": [
    {
     "data": {
      "text/html": [
       "<div>\n",
       "<style scoped>\n",
       "    .dataframe tbody tr th:only-of-type {\n",
       "        vertical-align: middle;\n",
       "    }\n",
       "\n",
       "    .dataframe tbody tr th {\n",
       "        vertical-align: top;\n",
       "    }\n",
       "\n",
       "    .dataframe thead th {\n",
       "        text-align: right;\n",
       "    }\n",
       "</style>\n",
       "<table border=\"1\" class=\"dataframe\">\n",
       "  <thead>\n",
       "    <tr style=\"text-align: right;\">\n",
       "      <th></th>\n",
       "      <th>country</th>\n",
       "      <th>year</th>\n",
       "      <th>pop</th>\n",
       "      <th>continent</th>\n",
       "      <th>lifeExp</th>\n",
       "      <th>gdpPercap</th>\n",
       "    </tr>\n",
       "  </thead>\n",
       "  <tbody>\n",
       "    <tr>\n",
       "      <th>1699</th>\n",
       "      <td>Zimbabwe</td>\n",
       "      <td>1987</td>\n",
       "      <td>9216418.0</td>\n",
       "      <td>Africa</td>\n",
       "      <td>62.351</td>\n",
       "      <td>706.157306</td>\n",
       "    </tr>\n",
       "    <tr>\n",
       "      <th>1700</th>\n",
       "      <td>Zimbabwe</td>\n",
       "      <td>1992</td>\n",
       "      <td>10704340.0</td>\n",
       "      <td>Africa</td>\n",
       "      <td>60.377</td>\n",
       "      <td>693.420786</td>\n",
       "    </tr>\n",
       "    <tr>\n",
       "      <th>1701</th>\n",
       "      <td>Zimbabwe</td>\n",
       "      <td>1997</td>\n",
       "      <td>11404948.0</td>\n",
       "      <td>Africa</td>\n",
       "      <td>46.809</td>\n",
       "      <td>792.449960</td>\n",
       "    </tr>\n",
       "    <tr>\n",
       "      <th>1702</th>\n",
       "      <td>Zimbabwe</td>\n",
       "      <td>2002</td>\n",
       "      <td>11926563.0</td>\n",
       "      <td>Africa</td>\n",
       "      <td>39.989</td>\n",
       "      <td>672.038623</td>\n",
       "    </tr>\n",
       "    <tr>\n",
       "      <th>1703</th>\n",
       "      <td>Zimbabwe</td>\n",
       "      <td>2007</td>\n",
       "      <td>12311143.0</td>\n",
       "      <td>Africa</td>\n",
       "      <td>43.487</td>\n",
       "      <td>469.709298</td>\n",
       "    </tr>\n",
       "  </tbody>\n",
       "</table>\n",
       "</div>"
      ],
      "text/plain": [
       "       country  year         pop continent  lifeExp   gdpPercap\n",
       "1699  Zimbabwe  1987   9216418.0    Africa   62.351  706.157306\n",
       "1700  Zimbabwe  1992  10704340.0    Africa   60.377  693.420786\n",
       "1701  Zimbabwe  1997  11404948.0    Africa   46.809  792.449960\n",
       "1702  Zimbabwe  2002  11926563.0    Africa   39.989  672.038623\n",
       "1703  Zimbabwe  2007  12311143.0    Africa   43.487  469.709298"
      ]
     },
     "execution_count": 5,
     "metadata": {},
     "output_type": "execute_result"
    }
   ],
   "source": [
    "df.tail()"
   ]
  },
  {
   "cell_type": "markdown",
   "id": "cfd5a65e",
   "metadata": {
    "papermill": {
     "duration": 0.014017,
     "end_time": "2023-02-18T04:34:34.367293",
     "exception": false,
     "start_time": "2023-02-18T04:34:34.353276",
     "status": "completed"
    },
    "tags": []
   },
   "source": [
    "### Data Types"
   ]
  },
  {
   "cell_type": "code",
   "execution_count": 6,
   "id": "a95372f0",
   "metadata": {
    "execution": {
     "iopub.execute_input": "2023-02-18T04:34:34.398594Z",
     "iopub.status.busy": "2023-02-18T04:34:34.397636Z",
     "iopub.status.idle": "2023-02-18T04:34:34.406751Z",
     "shell.execute_reply": "2023-02-18T04:34:34.405589Z"
    },
    "papermill": {
     "duration": 0.027941,
     "end_time": "2023-02-18T04:34:34.409461",
     "exception": false,
     "start_time": "2023-02-18T04:34:34.381520",
     "status": "completed"
    },
    "tags": []
   },
   "outputs": [
    {
     "data": {
      "text/plain": [
       "country       object\n",
       "year           int64\n",
       "pop          float64\n",
       "continent     object\n",
       "lifeExp      float64\n",
       "gdpPercap    float64\n",
       "dtype: object"
      ]
     },
     "execution_count": 6,
     "metadata": {},
     "output_type": "execute_result"
    }
   ],
   "source": [
    "df.dtypes"
   ]
  },
  {
   "cell_type": "markdown",
   "id": "1398b19d",
   "metadata": {
    "papermill": {
     "duration": 0.013995,
     "end_time": "2023-02-18T04:34:34.438158",
     "exception": false,
     "start_time": "2023-02-18T04:34:34.424163",
     "status": "completed"
    },
    "tags": []
   },
   "source": [
    "### Info"
   ]
  },
  {
   "cell_type": "code",
   "execution_count": 7,
   "id": "0382705c",
   "metadata": {
    "execution": {
     "iopub.execute_input": "2023-02-18T04:34:34.469462Z",
     "iopub.status.busy": "2023-02-18T04:34:34.468680Z",
     "iopub.status.idle": "2023-02-18T04:34:34.503042Z",
     "shell.execute_reply": "2023-02-18T04:34:34.500946Z"
    },
    "papermill": {
     "duration": 0.053915,
     "end_time": "2023-02-18T04:34:34.506442",
     "exception": false,
     "start_time": "2023-02-18T04:34:34.452527",
     "status": "completed"
    },
    "tags": []
   },
   "outputs": [
    {
     "name": "stdout",
     "output_type": "stream",
     "text": [
      "<class 'pandas.core.frame.DataFrame'>\n",
      "RangeIndex: 1704 entries, 0 to 1703\n",
      "Data columns (total 6 columns):\n",
      " #   Column     Non-Null Count  Dtype  \n",
      "---  ------     --------------  -----  \n",
      " 0   country    1704 non-null   object \n",
      " 1   year       1704 non-null   int64  \n",
      " 2   pop        1704 non-null   float64\n",
      " 3   continent  1704 non-null   object \n",
      " 4   lifeExp    1704 non-null   float64\n",
      " 5   gdpPercap  1704 non-null   float64\n",
      "dtypes: float64(3), int64(1), object(2)\n",
      "memory usage: 80.0+ KB\n"
     ]
    }
   ],
   "source": [
    "df.info()"
   ]
  },
  {
   "cell_type": "markdown",
   "id": "2dc9fa39",
   "metadata": {
    "papermill": {
     "duration": 0.014059,
     "end_time": "2023-02-18T04:34:34.535980",
     "exception": false,
     "start_time": "2023-02-18T04:34:34.521921",
     "status": "completed"
    },
    "tags": []
   },
   "source": [
    "### get the country column and save it to its own variable"
   ]
  },
  {
   "cell_type": "code",
   "execution_count": 8,
   "id": "f7ea909c",
   "metadata": {
    "execution": {
     "iopub.execute_input": "2023-02-18T04:34:34.568326Z",
     "iopub.status.busy": "2023-02-18T04:34:34.567853Z",
     "iopub.status.idle": "2023-02-18T04:34:34.577984Z",
     "shell.execute_reply": "2023-02-18T04:34:34.576463Z"
    },
    "papermill": {
     "duration": 0.029499,
     "end_time": "2023-02-18T04:34:34.580967",
     "exception": false,
     "start_time": "2023-02-18T04:34:34.551468",
     "status": "completed"
    },
    "tags": []
   },
   "outputs": [
    {
     "data": {
      "text/plain": [
       "0    Afghanistan\n",
       "1    Afghanistan\n",
       "2    Afghanistan\n",
       "3    Afghanistan\n",
       "4    Afghanistan\n",
       "Name: country, dtype: object"
      ]
     },
     "execution_count": 8,
     "metadata": {},
     "output_type": "execute_result"
    }
   ],
   "source": [
    "country_df = df[\"country\"]\n",
    "country_df.head()"
   ]
  },
  {
   "cell_type": "markdown",
   "id": "31917919",
   "metadata": {
    "papermill": {
     "duration": 0.014402,
     "end_time": "2023-02-18T04:34:34.611102",
     "exception": false,
     "start_time": "2023-02-18T04:34:34.596700",
     "status": "completed"
    },
    "tags": []
   },
   "source": [
    "### subset multiple columns"
   ]
  },
  {
   "cell_type": "code",
   "execution_count": 9,
   "id": "6e6fdac1",
   "metadata": {
    "execution": {
     "iopub.execute_input": "2023-02-18T04:34:34.643324Z",
     "iopub.status.busy": "2023-02-18T04:34:34.642050Z",
     "iopub.status.idle": "2023-02-18T04:34:34.656539Z",
     "shell.execute_reply": "2023-02-18T04:34:34.654910Z"
    },
    "papermill": {
     "duration": 0.034188,
     "end_time": "2023-02-18T04:34:34.659753",
     "exception": false,
     "start_time": "2023-02-18T04:34:34.625565",
     "status": "completed"
    },
    "tags": []
   },
   "outputs": [
    {
     "data": {
      "text/html": [
       "<div>\n",
       "<style scoped>\n",
       "    .dataframe tbody tr th:only-of-type {\n",
       "        vertical-align: middle;\n",
       "    }\n",
       "\n",
       "    .dataframe tbody tr th {\n",
       "        vertical-align: top;\n",
       "    }\n",
       "\n",
       "    .dataframe thead th {\n",
       "        text-align: right;\n",
       "    }\n",
       "</style>\n",
       "<table border=\"1\" class=\"dataframe\">\n",
       "  <thead>\n",
       "    <tr style=\"text-align: right;\">\n",
       "      <th></th>\n",
       "      <th>country</th>\n",
       "      <th>continent</th>\n",
       "      <th>year</th>\n",
       "    </tr>\n",
       "  </thead>\n",
       "  <tbody>\n",
       "    <tr>\n",
       "      <th>0</th>\n",
       "      <td>Afghanistan</td>\n",
       "      <td>Asia</td>\n",
       "      <td>1952</td>\n",
       "    </tr>\n",
       "    <tr>\n",
       "      <th>1</th>\n",
       "      <td>Afghanistan</td>\n",
       "      <td>Asia</td>\n",
       "      <td>1957</td>\n",
       "    </tr>\n",
       "    <tr>\n",
       "      <th>2</th>\n",
       "      <td>Afghanistan</td>\n",
       "      <td>Asia</td>\n",
       "      <td>1962</td>\n",
       "    </tr>\n",
       "    <tr>\n",
       "      <th>3</th>\n",
       "      <td>Afghanistan</td>\n",
       "      <td>Asia</td>\n",
       "      <td>1967</td>\n",
       "    </tr>\n",
       "    <tr>\n",
       "      <th>4</th>\n",
       "      <td>Afghanistan</td>\n",
       "      <td>Asia</td>\n",
       "      <td>1972</td>\n",
       "    </tr>\n",
       "  </tbody>\n",
       "</table>\n",
       "</div>"
      ],
      "text/plain": [
       "       country continent  year\n",
       "0  Afghanistan      Asia  1952\n",
       "1  Afghanistan      Asia  1957\n",
       "2  Afghanistan      Asia  1962\n",
       "3  Afghanistan      Asia  1967\n",
       "4  Afghanistan      Asia  1972"
      ]
     },
     "execution_count": 9,
     "metadata": {},
     "output_type": "execute_result"
    }
   ],
   "source": [
    "subset = df[[\"country\",\"continent\",\"year\"]]\n",
    "subset.head()"
   ]
  },
  {
   "cell_type": "markdown",
   "id": "b1d674b6",
   "metadata": {
    "papermill": {
     "duration": 0.014641,
     "end_time": "2023-02-18T04:34:34.689467",
     "exception": false,
     "start_time": "2023-02-18T04:34:34.674826",
     "status": "completed"
    },
    "tags": []
   },
   "source": [
    "## loc: subset `rows by index label`, counting starts from Zero (0)"
   ]
  },
  {
   "cell_type": "code",
   "execution_count": 10,
   "id": "88d3fbc6",
   "metadata": {
    "execution": {
     "iopub.execute_input": "2023-02-18T04:34:34.722646Z",
     "iopub.status.busy": "2023-02-18T04:34:34.722166Z",
     "iopub.status.idle": "2023-02-18T04:34:34.731951Z",
     "shell.execute_reply": "2023-02-18T04:34:34.730765Z"
    },
    "papermill": {
     "duration": 0.029658,
     "end_time": "2023-02-18T04:34:34.734450",
     "exception": false,
     "start_time": "2023-02-18T04:34:34.704792",
     "status": "completed"
    },
    "tags": []
   },
   "outputs": [
    {
     "data": {
      "text/plain": [
       "country      Afghanistan\n",
       "year                1952\n",
       "pop            8425333.0\n",
       "continent           Asia\n",
       "lifeExp           28.801\n",
       "gdpPercap     779.445314\n",
       "Name: 0, dtype: object"
      ]
     },
     "execution_count": 10,
     "metadata": {},
     "output_type": "execute_result"
    }
   ],
   "source": [
    "df.loc[0]"
   ]
  },
  {
   "cell_type": "markdown",
   "id": "044f205b",
   "metadata": {
    "papermill": {
     "duration": 0.015164,
     "end_time": "2023-02-18T04:34:34.764321",
     "exception": false,
     "start_time": "2023-02-18T04:34:34.749157",
     "status": "completed"
    },
    "tags": []
   },
   "source": [
    "### get the 100th row"
   ]
  },
  {
   "cell_type": "code",
   "execution_count": 11,
   "id": "ba3eda49",
   "metadata": {
    "execution": {
     "iopub.execute_input": "2023-02-18T04:34:34.797908Z",
     "iopub.status.busy": "2023-02-18T04:34:34.797337Z",
     "iopub.status.idle": "2023-02-18T04:34:34.808212Z",
     "shell.execute_reply": "2023-02-18T04:34:34.806783Z"
    },
    "papermill": {
     "duration": 0.030708,
     "end_time": "2023-02-18T04:34:34.810935",
     "exception": false,
     "start_time": "2023-02-18T04:34:34.780227",
     "status": "completed"
    },
    "tags": []
   },
   "outputs": [
    {
     "data": {
      "text/plain": [
       "country      Bangladesh\n",
       "year               1967\n",
       "pop          62821884.0\n",
       "continent          Asia\n",
       "lifeExp          43.453\n",
       "gdpPercap    721.186086\n",
       "Name: 99, dtype: object"
      ]
     },
     "execution_count": 11,
     "metadata": {},
     "output_type": "execute_result"
    }
   ],
   "source": [
    "df.loc[99]"
   ]
  },
  {
   "cell_type": "markdown",
   "id": "93db8b20",
   "metadata": {
    "papermill": {
     "duration": 0.01604,
     "end_time": "2023-02-18T04:34:34.842140",
     "exception": false,
     "start_time": "2023-02-18T04:34:34.826100",
     "status": "completed"
    },
    "tags": []
   },
   "source": [
    "### subsetting multiple rows\n",
    "**select 1st row, 100th row and 1000th row**"
   ]
  },
  {
   "cell_type": "code",
   "execution_count": 12,
   "id": "0fa0fe55",
   "metadata": {
    "execution": {
     "iopub.execute_input": "2023-02-18T04:34:34.874567Z",
     "iopub.status.busy": "2023-02-18T04:34:34.874063Z",
     "iopub.status.idle": "2023-02-18T04:34:34.892847Z",
     "shell.execute_reply": "2023-02-18T04:34:34.891477Z"
    },
    "papermill": {
     "duration": 0.038162,
     "end_time": "2023-02-18T04:34:34.895430",
     "exception": false,
     "start_time": "2023-02-18T04:34:34.857268",
     "status": "completed"
    },
    "tags": []
   },
   "outputs": [
    {
     "data": {
      "text/html": [
       "<div>\n",
       "<style scoped>\n",
       "    .dataframe tbody tr th:only-of-type {\n",
       "        vertical-align: middle;\n",
       "    }\n",
       "\n",
       "    .dataframe tbody tr th {\n",
       "        vertical-align: top;\n",
       "    }\n",
       "\n",
       "    .dataframe thead th {\n",
       "        text-align: right;\n",
       "    }\n",
       "</style>\n",
       "<table border=\"1\" class=\"dataframe\">\n",
       "  <thead>\n",
       "    <tr style=\"text-align: right;\">\n",
       "      <th></th>\n",
       "      <th>country</th>\n",
       "      <th>year</th>\n",
       "      <th>pop</th>\n",
       "      <th>continent</th>\n",
       "      <th>lifeExp</th>\n",
       "      <th>gdpPercap</th>\n",
       "    </tr>\n",
       "  </thead>\n",
       "  <tbody>\n",
       "    <tr>\n",
       "      <th>0</th>\n",
       "      <td>Afghanistan</td>\n",
       "      <td>1952</td>\n",
       "      <td>8425333.0</td>\n",
       "      <td>Asia</td>\n",
       "      <td>28.801</td>\n",
       "      <td>779.445314</td>\n",
       "    </tr>\n",
       "    <tr>\n",
       "      <th>99</th>\n",
       "      <td>Bangladesh</td>\n",
       "      <td>1967</td>\n",
       "      <td>62821884.0</td>\n",
       "      <td>Asia</td>\n",
       "      <td>43.453</td>\n",
       "      <td>721.186086</td>\n",
       "    </tr>\n",
       "    <tr>\n",
       "      <th>999</th>\n",
       "      <td>Mongolia</td>\n",
       "      <td>1967</td>\n",
       "      <td>1149500.0</td>\n",
       "      <td>Asia</td>\n",
       "      <td>51.253</td>\n",
       "      <td>1226.041130</td>\n",
       "    </tr>\n",
       "  </tbody>\n",
       "</table>\n",
       "</div>"
      ],
      "text/plain": [
       "         country  year         pop continent  lifeExp    gdpPercap\n",
       "0    Afghanistan  1952   8425333.0      Asia   28.801   779.445314\n",
       "99    Bangladesh  1967  62821884.0      Asia   43.453   721.186086\n",
       "999     Mongolia  1967   1149500.0      Asia   51.253  1226.041130"
      ]
     },
     "execution_count": 12,
     "metadata": {},
     "output_type": "execute_result"
    }
   ],
   "source": [
    "df.loc[[0,99,999]]"
   ]
  },
  {
   "cell_type": "markdown",
   "id": "40b7a643",
   "metadata": {
    "papermill": {
     "duration": 0.018425,
     "end_time": "2023-02-18T04:34:34.928928",
     "exception": false,
     "start_time": "2023-02-18T04:34:34.910503",
     "status": "completed"
    },
    "tags": []
   },
   "source": [
    "## iloc: subset rows `by row number`"
   ]
  },
  {
   "cell_type": "markdown",
   "id": "83b3d8bf",
   "metadata": {
    "papermill": {
     "duration": 0.015563,
     "end_time": "2023-02-18T04:34:34.959891",
     "exception": false,
     "start_time": "2023-02-18T04:34:34.944328",
     "status": "completed"
    },
    "tags": []
   },
   "source": [
    "**get 2nd row**"
   ]
  },
  {
   "cell_type": "code",
   "execution_count": 13,
   "id": "f8f7262a",
   "metadata": {
    "execution": {
     "iopub.execute_input": "2023-02-18T04:34:34.994814Z",
     "iopub.status.busy": "2023-02-18T04:34:34.994309Z",
     "iopub.status.idle": "2023-02-18T04:34:35.004970Z",
     "shell.execute_reply": "2023-02-18T04:34:35.003806Z"
    },
    "papermill": {
     "duration": 0.032048,
     "end_time": "2023-02-18T04:34:35.008082",
     "exception": false,
     "start_time": "2023-02-18T04:34:34.976034",
     "status": "completed"
    },
    "tags": []
   },
   "outputs": [
    {
     "data": {
      "text/plain": [
       "country      Afghanistan\n",
       "year                1957\n",
       "pop            9240934.0\n",
       "continent           Asia\n",
       "lifeExp           30.332\n",
       "gdpPercap      820.85303\n",
       "Name: 1, dtype: object"
      ]
     },
     "execution_count": 13,
     "metadata": {},
     "output_type": "execute_result"
    }
   ],
   "source": [
    "df.iloc[1]"
   ]
  },
  {
   "cell_type": "markdown",
   "id": "7a18afad",
   "metadata": {
    "papermill": {
     "duration": 0.015626,
     "end_time": "2023-02-18T04:34:35.039520",
     "exception": false,
     "start_time": "2023-02-18T04:34:35.023894",
     "status": "completed"
    },
    "tags": []
   },
   "source": [
    "### get 100th row"
   ]
  },
  {
   "cell_type": "code",
   "execution_count": 14,
   "id": "a55df3a3",
   "metadata": {
    "execution": {
     "iopub.execute_input": "2023-02-18T04:34:35.073366Z",
     "iopub.status.busy": "2023-02-18T04:34:35.072402Z",
     "iopub.status.idle": "2023-02-18T04:34:35.081318Z",
     "shell.execute_reply": "2023-02-18T04:34:35.080245Z"
    },
    "papermill": {
     "duration": 0.029345,
     "end_time": "2023-02-18T04:34:35.084033",
     "exception": false,
     "start_time": "2023-02-18T04:34:35.054688",
     "status": "completed"
    },
    "tags": []
   },
   "outputs": [
    {
     "data": {
      "text/plain": [
       "country      Bangladesh\n",
       "year               1967\n",
       "pop          62821884.0\n",
       "continent          Asia\n",
       "lifeExp          43.453\n",
       "gdpPercap    721.186086\n",
       "Name: 99, dtype: object"
      ]
     },
     "execution_count": 14,
     "metadata": {},
     "output_type": "execute_result"
    }
   ],
   "source": [
    "df.iloc[99]"
   ]
  },
  {
   "cell_type": "markdown",
   "id": "8b5858e5",
   "metadata": {
    "papermill": {
     "duration": 0.015052,
     "end_time": "2023-02-18T04:34:35.115846",
     "exception": false,
     "start_time": "2023-02-18T04:34:35.100794",
     "status": "completed"
    },
    "tags": []
   },
   "source": [
    "### get the last row"
   ]
  },
  {
   "cell_type": "code",
   "execution_count": 15,
   "id": "ca5f4fc4",
   "metadata": {
    "execution": {
     "iopub.execute_input": "2023-02-18T04:34:35.151075Z",
     "iopub.status.busy": "2023-02-18T04:34:35.150199Z",
     "iopub.status.idle": "2023-02-18T04:34:35.159182Z",
     "shell.execute_reply": "2023-02-18T04:34:35.158056Z"
    },
    "papermill": {
     "duration": 0.030821,
     "end_time": "2023-02-18T04:34:35.162049",
     "exception": false,
     "start_time": "2023-02-18T04:34:35.131228",
     "status": "completed"
    },
    "tags": []
   },
   "outputs": [
    {
     "data": {
      "text/plain": [
       "country        Zimbabwe\n",
       "year               2007\n",
       "pop          12311143.0\n",
       "continent        Africa\n",
       "lifeExp          43.487\n",
       "gdpPercap    469.709298\n",
       "Name: 1703, dtype: object"
      ]
     },
     "execution_count": 15,
     "metadata": {},
     "output_type": "execute_result"
    }
   ],
   "source": [
    "df.iloc[-1]"
   ]
  },
  {
   "cell_type": "markdown",
   "id": "f1b67192",
   "metadata": {
    "papermill": {
     "duration": 0.016294,
     "end_time": "2023-02-18T04:34:35.194279",
     "exception": false,
     "start_time": "2023-02-18T04:34:35.177985",
     "status": "completed"
    },
    "tags": []
   },
   "source": [
    "**Note:** When we are using `iloc` we can pass -1 to get the last row, something we can't do with the `loc` because here we acces rows by index labels"
   ]
  },
  {
   "cell_type": "markdown",
   "id": "a52dc97e",
   "metadata": {
    "papermill": {
     "duration": 0.015337,
     "end_time": "2023-02-18T04:34:35.225180",
     "exception": false,
     "start_time": "2023-02-18T04:34:35.209843",
     "status": "completed"
    },
    "tags": []
   },
   "source": [
    "### get the 1st, 100th and 999th rows"
   ]
  },
  {
   "cell_type": "code",
   "execution_count": 16,
   "id": "bb84587f",
   "metadata": {
    "execution": {
     "iopub.execute_input": "2023-02-18T04:34:35.259833Z",
     "iopub.status.busy": "2023-02-18T04:34:35.259073Z",
     "iopub.status.idle": "2023-02-18T04:34:35.276605Z",
     "shell.execute_reply": "2023-02-18T04:34:35.274982Z"
    },
    "papermill": {
     "duration": 0.037736,
     "end_time": "2023-02-18T04:34:35.279391",
     "exception": false,
     "start_time": "2023-02-18T04:34:35.241655",
     "status": "completed"
    },
    "tags": []
   },
   "outputs": [
    {
     "data": {
      "text/html": [
       "<div>\n",
       "<style scoped>\n",
       "    .dataframe tbody tr th:only-of-type {\n",
       "        vertical-align: middle;\n",
       "    }\n",
       "\n",
       "    .dataframe tbody tr th {\n",
       "        vertical-align: top;\n",
       "    }\n",
       "\n",
       "    .dataframe thead th {\n",
       "        text-align: right;\n",
       "    }\n",
       "</style>\n",
       "<table border=\"1\" class=\"dataframe\">\n",
       "  <thead>\n",
       "    <tr style=\"text-align: right;\">\n",
       "      <th></th>\n",
       "      <th>country</th>\n",
       "      <th>year</th>\n",
       "      <th>pop</th>\n",
       "      <th>continent</th>\n",
       "      <th>lifeExp</th>\n",
       "      <th>gdpPercap</th>\n",
       "    </tr>\n",
       "  </thead>\n",
       "  <tbody>\n",
       "    <tr>\n",
       "      <th>0</th>\n",
       "      <td>Afghanistan</td>\n",
       "      <td>1952</td>\n",
       "      <td>8425333.0</td>\n",
       "      <td>Asia</td>\n",
       "      <td>28.801</td>\n",
       "      <td>779.445314</td>\n",
       "    </tr>\n",
       "    <tr>\n",
       "      <th>99</th>\n",
       "      <td>Bangladesh</td>\n",
       "      <td>1967</td>\n",
       "      <td>62821884.0</td>\n",
       "      <td>Asia</td>\n",
       "      <td>43.453</td>\n",
       "      <td>721.186086</td>\n",
       "    </tr>\n",
       "    <tr>\n",
       "      <th>999</th>\n",
       "      <td>Mongolia</td>\n",
       "      <td>1967</td>\n",
       "      <td>1149500.0</td>\n",
       "      <td>Asia</td>\n",
       "      <td>51.253</td>\n",
       "      <td>1226.041130</td>\n",
       "    </tr>\n",
       "  </tbody>\n",
       "</table>\n",
       "</div>"
      ],
      "text/plain": [
       "         country  year         pop continent  lifeExp    gdpPercap\n",
       "0    Afghanistan  1952   8425333.0      Asia   28.801   779.445314\n",
       "99    Bangladesh  1967  62821884.0      Asia   43.453   721.186086\n",
       "999     Mongolia  1967   1149500.0      Asia   51.253  1226.041130"
      ]
     },
     "execution_count": 16,
     "metadata": {},
     "output_type": "execute_result"
    }
   ],
   "source": [
    "df.iloc[[0,99,999]]"
   ]
  },
  {
   "cell_type": "markdown",
   "id": "1184ed2b",
   "metadata": {
    "papermill": {
     "duration": 0.015314,
     "end_time": "2023-02-18T04:34:35.310918",
     "exception": false,
     "start_time": "2023-02-18T04:34:35.295604",
     "status": "completed"
    },
    "tags": []
   },
   "source": [
    "## Subset columns with slicing using colon (:)\n",
    "**subset all rows with two columns**"
   ]
  },
  {
   "cell_type": "code",
   "execution_count": 17,
   "id": "0f223e08",
   "metadata": {
    "execution": {
     "iopub.execute_input": "2023-02-18T04:34:35.343978Z",
     "iopub.status.busy": "2023-02-18T04:34:35.343449Z",
     "iopub.status.idle": "2023-02-18T04:34:35.361418Z",
     "shell.execute_reply": "2023-02-18T04:34:35.359991Z"
    },
    "papermill": {
     "duration": 0.038022,
     "end_time": "2023-02-18T04:34:35.364411",
     "exception": false,
     "start_time": "2023-02-18T04:34:35.326389",
     "status": "completed"
    },
    "tags": []
   },
   "outputs": [
    {
     "data": {
      "text/html": [
       "<div>\n",
       "<style scoped>\n",
       "    .dataframe tbody tr th:only-of-type {\n",
       "        vertical-align: middle;\n",
       "    }\n",
       "\n",
       "    .dataframe tbody tr th {\n",
       "        vertical-align: top;\n",
       "    }\n",
       "\n",
       "    .dataframe thead th {\n",
       "        text-align: right;\n",
       "    }\n",
       "</style>\n",
       "<table border=\"1\" class=\"dataframe\">\n",
       "  <thead>\n",
       "    <tr style=\"text-align: right;\">\n",
       "      <th></th>\n",
       "      <th>year</th>\n",
       "      <th>pop</th>\n",
       "    </tr>\n",
       "  </thead>\n",
       "  <tbody>\n",
       "    <tr>\n",
       "      <th>0</th>\n",
       "      <td>1952</td>\n",
       "      <td>8425333.0</td>\n",
       "    </tr>\n",
       "    <tr>\n",
       "      <th>1</th>\n",
       "      <td>1957</td>\n",
       "      <td>9240934.0</td>\n",
       "    </tr>\n",
       "    <tr>\n",
       "      <th>2</th>\n",
       "      <td>1962</td>\n",
       "      <td>10267083.0</td>\n",
       "    </tr>\n",
       "    <tr>\n",
       "      <th>3</th>\n",
       "      <td>1967</td>\n",
       "      <td>11537966.0</td>\n",
       "    </tr>\n",
       "    <tr>\n",
       "      <th>4</th>\n",
       "      <td>1972</td>\n",
       "      <td>13079460.0</td>\n",
       "    </tr>\n",
       "    <tr>\n",
       "      <th>...</th>\n",
       "      <td>...</td>\n",
       "      <td>...</td>\n",
       "    </tr>\n",
       "    <tr>\n",
       "      <th>1699</th>\n",
       "      <td>1987</td>\n",
       "      <td>9216418.0</td>\n",
       "    </tr>\n",
       "    <tr>\n",
       "      <th>1700</th>\n",
       "      <td>1992</td>\n",
       "      <td>10704340.0</td>\n",
       "    </tr>\n",
       "    <tr>\n",
       "      <th>1701</th>\n",
       "      <td>1997</td>\n",
       "      <td>11404948.0</td>\n",
       "    </tr>\n",
       "    <tr>\n",
       "      <th>1702</th>\n",
       "      <td>2002</td>\n",
       "      <td>11926563.0</td>\n",
       "    </tr>\n",
       "    <tr>\n",
       "      <th>1703</th>\n",
       "      <td>2007</td>\n",
       "      <td>12311143.0</td>\n",
       "    </tr>\n",
       "  </tbody>\n",
       "</table>\n",
       "<p>1704 rows × 2 columns</p>\n",
       "</div>"
      ],
      "text/plain": [
       "      year         pop\n",
       "0     1952   8425333.0\n",
       "1     1957   9240934.0\n",
       "2     1962  10267083.0\n",
       "3     1967  11537966.0\n",
       "4     1972  13079460.0\n",
       "...    ...         ...\n",
       "1699  1987   9216418.0\n",
       "1700  1992  10704340.0\n",
       "1701  1997  11404948.0\n",
       "1702  2002  11926563.0\n",
       "1703  2007  12311143.0\n",
       "\n",
       "[1704 rows x 2 columns]"
      ]
     },
     "execution_count": 17,
     "metadata": {},
     "output_type": "execute_result"
    }
   ],
   "source": [
    "df.loc[:,[\"year\",\"pop\"]]"
   ]
  },
  {
   "cell_type": "code",
   "execution_count": 18,
   "id": "9a038d15",
   "metadata": {
    "execution": {
     "iopub.execute_input": "2023-02-18T04:34:35.400128Z",
     "iopub.status.busy": "2023-02-18T04:34:35.398825Z",
     "iopub.status.idle": "2023-02-18T04:34:35.417836Z",
     "shell.execute_reply": "2023-02-18T04:34:35.416481Z"
    },
    "papermill": {
     "duration": 0.039747,
     "end_time": "2023-02-18T04:34:35.420639",
     "exception": false,
     "start_time": "2023-02-18T04:34:35.380892",
     "status": "completed"
    },
    "tags": []
   },
   "outputs": [
    {
     "data": {
      "text/html": [
       "<div>\n",
       "<style scoped>\n",
       "    .dataframe tbody tr th:only-of-type {\n",
       "        vertical-align: middle;\n",
       "    }\n",
       "\n",
       "    .dataframe tbody tr th {\n",
       "        vertical-align: top;\n",
       "    }\n",
       "\n",
       "    .dataframe thead th {\n",
       "        text-align: right;\n",
       "    }\n",
       "</style>\n",
       "<table border=\"1\" class=\"dataframe\">\n",
       "  <thead>\n",
       "    <tr style=\"text-align: right;\">\n",
       "      <th></th>\n",
       "      <th>country</th>\n",
       "      <th>year</th>\n",
       "      <th>gdpPercap</th>\n",
       "    </tr>\n",
       "  </thead>\n",
       "  <tbody>\n",
       "    <tr>\n",
       "      <th>0</th>\n",
       "      <td>Afghanistan</td>\n",
       "      <td>1952</td>\n",
       "      <td>779.445314</td>\n",
       "    </tr>\n",
       "    <tr>\n",
       "      <th>1</th>\n",
       "      <td>Afghanistan</td>\n",
       "      <td>1957</td>\n",
       "      <td>820.853030</td>\n",
       "    </tr>\n",
       "    <tr>\n",
       "      <th>2</th>\n",
       "      <td>Afghanistan</td>\n",
       "      <td>1962</td>\n",
       "      <td>853.100710</td>\n",
       "    </tr>\n",
       "    <tr>\n",
       "      <th>3</th>\n",
       "      <td>Afghanistan</td>\n",
       "      <td>1967</td>\n",
       "      <td>836.197138</td>\n",
       "    </tr>\n",
       "    <tr>\n",
       "      <th>4</th>\n",
       "      <td>Afghanistan</td>\n",
       "      <td>1972</td>\n",
       "      <td>739.981106</td>\n",
       "    </tr>\n",
       "    <tr>\n",
       "      <th>...</th>\n",
       "      <td>...</td>\n",
       "      <td>...</td>\n",
       "      <td>...</td>\n",
       "    </tr>\n",
       "    <tr>\n",
       "      <th>1699</th>\n",
       "      <td>Zimbabwe</td>\n",
       "      <td>1987</td>\n",
       "      <td>706.157306</td>\n",
       "    </tr>\n",
       "    <tr>\n",
       "      <th>1700</th>\n",
       "      <td>Zimbabwe</td>\n",
       "      <td>1992</td>\n",
       "      <td>693.420786</td>\n",
       "    </tr>\n",
       "    <tr>\n",
       "      <th>1701</th>\n",
       "      <td>Zimbabwe</td>\n",
       "      <td>1997</td>\n",
       "      <td>792.449960</td>\n",
       "    </tr>\n",
       "    <tr>\n",
       "      <th>1702</th>\n",
       "      <td>Zimbabwe</td>\n",
       "      <td>2002</td>\n",
       "      <td>672.038623</td>\n",
       "    </tr>\n",
       "    <tr>\n",
       "      <th>1703</th>\n",
       "      <td>Zimbabwe</td>\n",
       "      <td>2007</td>\n",
       "      <td>469.709298</td>\n",
       "    </tr>\n",
       "  </tbody>\n",
       "</table>\n",
       "<p>1704 rows × 3 columns</p>\n",
       "</div>"
      ],
      "text/plain": [
       "          country  year   gdpPercap\n",
       "0     Afghanistan  1952  779.445314\n",
       "1     Afghanistan  1957  820.853030\n",
       "2     Afghanistan  1962  853.100710\n",
       "3     Afghanistan  1967  836.197138\n",
       "4     Afghanistan  1972  739.981106\n",
       "...           ...   ...         ...\n",
       "1699     Zimbabwe  1987  706.157306\n",
       "1700     Zimbabwe  1992  693.420786\n",
       "1701     Zimbabwe  1997  792.449960\n",
       "1702     Zimbabwe  2002  672.038623\n",
       "1703     Zimbabwe  2007  469.709298\n",
       "\n",
       "[1704 rows x 3 columns]"
      ]
     },
     "execution_count": 18,
     "metadata": {},
     "output_type": "execute_result"
    }
   ],
   "source": [
    "df.iloc[:,[0,1,-1]]"
   ]
  },
  {
   "cell_type": "markdown",
   "id": "035d4528",
   "metadata": {
    "papermill": {
     "duration": 0.015863,
     "end_time": "2023-02-18T04:34:35.452761",
     "exception": false,
     "start_time": "2023-02-18T04:34:35.436898",
     "status": "completed"
    },
    "tags": []
   },
   "source": [
    "# <center>Python Fundamentals II</center>\n",
    "---"
   ]
  },
  {
   "cell_type": "code",
   "execution_count": null,
   "id": "8500bcbc",
   "metadata": {
    "papermill": {
     "duration": 0.016025,
     "end_time": "2023-02-18T04:34:35.486812",
     "exception": false,
     "start_time": "2023-02-18T04:34:35.470787",
     "status": "completed"
    },
    "tags": []
   },
   "outputs": [],
   "source": []
  }
 ],
 "metadata": {
  "kernelspec": {
   "display_name": "Python 3",
   "language": "python",
   "name": "python3"
  },
  "language_info": {
   "codemirror_mode": {
    "name": "ipython",
    "version": 3
   },
   "file_extension": ".py",
   "mimetype": "text/x-python",
   "name": "python",
   "nbconvert_exporter": "python",
   "pygments_lexer": "ipython3",
   "version": "3.7.12"
  },
  "papermill": {
   "default_parameters": {},
   "duration": 14.2216,
   "end_time": "2023-02-18T04:34:36.532002",
   "environment_variables": {},
   "exception": null,
   "input_path": "__notebook__.ipynb",
   "output_path": "__notebook__.ipynb",
   "parameters": {},
   "start_time": "2023-02-18T04:34:22.310402",
   "version": "2.3.4"
  }
 },
 "nbformat": 4,
 "nbformat_minor": 5
}
