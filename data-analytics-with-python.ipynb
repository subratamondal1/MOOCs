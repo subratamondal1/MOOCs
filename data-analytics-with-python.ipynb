{
 "cells": [
  {
   "cell_type": "code",
   "execution_count": 1,
   "id": "68aeb149",
   "metadata": {
    "_cell_guid": "b1076dfc-b9ad-4769-8c92-a6c4dae69d19",
    "_uuid": "8f2839f25d086af736a60e9eeb907d3b93b6e0e5",
    "execution": {
     "iopub.execute_input": "2023-02-18T14:33:40.011803Z",
     "iopub.status.busy": "2023-02-18T14:33:40.011156Z",
     "iopub.status.idle": "2023-02-18T14:33:40.038089Z",
     "shell.execute_reply": "2023-02-18T14:33:40.037080Z"
    },
    "papermill": {
     "duration": 0.059229,
     "end_time": "2023-02-18T14:33:40.040822",
     "exception": false,
     "start_time": "2023-02-18T14:33:39.981593",
     "status": "completed"
    },
    "tags": []
   },
   "outputs": [
    {
     "name": "stdout",
     "output_type": "stream",
     "text": [
      "/kaggle/input/gapminder-FiveYearData/gapminder-FiveYearData.csv\n"
     ]
    }
   ],
   "source": [
    "# This Python 3 environment comes with many helpful analytics libraries installed\n",
    "# It is defined by the kaggle/python Docker image: https://github.com/kaggle/docker-python\n",
    "# For example, here's several helpful packages to load\n",
    "\n",
    "import numpy as np # linear algebra\n",
    "import pandas as pd # data processing, CSV file I/O (e.g. pd.read_csv)\n",
    "\n",
    "# Input data files are available in the read-only \"../input/\" directory\n",
    "# For example, running this (by clicking run or pressing Shift+Enter) will list all files under the input directory\n",
    "\n",
    "import os\n",
    "for dirname, _, filenames in os.walk('/kaggle/input'):\n",
    "    for filename in filenames:\n",
    "        print(os.path.join(dirname, filename))\n",
    "\n",
    "# You can write up to 20GB to the current directory (/kaggle/working/) that gets preserved as output when you create a version using \"Save & Run All\" \n",
    "# You can also write temporary files to /kaggle/temp/, but they won't be saved outside of the current session"
   ]
  },
  {
   "cell_type": "markdown",
   "id": "b396a4b8",
   "metadata": {
    "papermill": {
     "duration": 0.021596,
     "end_time": "2023-02-18T14:33:40.084407",
     "exception": false,
     "start_time": "2023-02-18T14:33:40.062811",
     "status": "completed"
    },
    "tags": []
   },
   "source": [
    "# Objective of the course\n",
    "* The principle focus of this course is to introduce conceptual understanding using simple and practical examples rather than repetitive and point click mentality\n",
    "* This course should make you comfortable using analytics in your career and your life\n",
    "* You will know how to work with real data, and might have learned many different methodologies but choosing the right methodology is important\n",
    "* The **danger in using quantitative method** does not generally lie in the inability to perform the calculation\n",
    "* The real threat is lack of fundamental understanding of:\n",
    "     * Why to use a particular technique of procedure\n",
    "     * How to use it correctly and,\n",
    "     * How to correctly interpret the result"
   ]
  },
  {
   "cell_type": "markdown",
   "id": "c5203540",
   "metadata": {
    "papermill": {
     "duration": 0.021052,
     "end_time": "2023-02-18T14:33:40.126816",
     "exception": false,
     "start_time": "2023-02-18T14:33:40.105764",
     "status": "completed"
    },
    "tags": []
   },
   "source": [
    "# Learning objectives\n",
    "1. Define data and its importance\n",
    "2. Define data analytics and its types\n",
    "3. Explain why analytics is important in today’s business environment\n",
    "4. Explain how statistics, analytics and data science are interrelated\n",
    "5. Why python?\n",
    "6. Explain the four different levels of Data:\n",
    "     * Nominal\n",
    "     * Ordinal\n",
    "     * Interval and\n",
    "     * Ratio"
   ]
  },
  {
   "cell_type": "markdown",
   "id": "0e5c2c1c",
   "metadata": {
    "papermill": {
     "duration": 0.021061,
     "end_time": "2023-02-18T14:33:40.169240",
     "exception": false,
     "start_time": "2023-02-18T14:33:40.148179",
     "status": "completed"
    },
    "tags": []
   },
   "source": [
    "## Define Data and its importance"
   ]
  },
  {
   "cell_type": "markdown",
   "id": "4a2ac8c5",
   "metadata": {
    "papermill": {
     "duration": 0.020997,
     "end_time": "2023-02-18T14:33:40.211677",
     "exception": false,
     "start_time": "2023-02-18T14:33:40.190680",
     "status": "completed"
    },
    "tags": []
   },
   "source": [
    "### Variable, Measurement and Data\n",
    "* **Variables** are a characteristic of any entity being studied that is capable of taking on different values\n",
    "* **Measurements** are when a standard process is used to assign numbers to variable\n",
    "* **Data** data are recorded measurements"
   ]
  },
  {
   "cell_type": "markdown",
   "id": "3f5c9d4f",
   "metadata": {
    "papermill": {
     "duration": 0.021278,
     "end_time": "2023-02-18T14:33:40.254374",
     "exception": false,
     "start_time": "2023-02-18T14:33:40.233096",
     "status": "completed"
    },
    "tags": []
   },
   "source": [
    "### What is generating so much data?\n",
    "Data can be generated by \n",
    "* Humans,\n",
    "* Machines\n",
    "* Humans-machines combinations\n",
    "* It can be generated anywhere where any information is generated and stored in structured or unstructured formats"
   ]
  },
  {
   "cell_type": "markdown",
   "id": "d945638c",
   "metadata": {
    "papermill": {
     "duration": 0.020924,
     "end_time": "2023-02-18T14:33:40.296603",
     "exception": false,
     "start_time": "2023-02-18T14:33:40.275679",
     "status": "completed"
    },
    "tags": []
   },
   "source": [
    "### How data add value to business?\n",
    "Business data are stored in Data Warehouse and from there we make:\n",
    "1. **Development of Data Product**\n",
    "       Algorithm solutions in production, marketing and sales etc.(e.g. Recommendation Engines, Self driving cars, google maps, etc.)\n",
    "2. **Discovery of Data Insight**\n",
    "       Quantitative data analysis to help steer strategic business decision\n",
    "\n",
    "and from them we derive Business Values."
   ]
  },
  {
   "cell_type": "markdown",
   "id": "c71a0ef7",
   "metadata": {
    "papermill": {
     "duration": 0.020936,
     "end_time": "2023-02-18T14:33:40.338834",
     "exception": false,
     "start_time": "2023-02-18T14:33:40.317898",
     "status": "completed"
    },
    "tags": []
   },
   "source": [
    "### Why Data is important?\n",
    "* Data helps in <u>make better decisions</u>\n",
    "* Data helps in <u>solve problems by finding the reason for underperformance</u>\n",
    "* Data helps one to <u>evaluate the performance</u>.\n",
    "* Data helps one <u>improve processes</u>\n",
    "* Data helps one <u>understand consumers and the market</u>"
   ]
  },
  {
   "cell_type": "markdown",
   "id": "ceb5ab62",
   "metadata": {
    "papermill": {
     "duration": 0.021052,
     "end_time": "2023-02-18T14:33:40.381320",
     "exception": false,
     "start_time": "2023-02-18T14:33:40.360268",
     "status": "completed"
    },
    "tags": []
   },
   "source": [
    "## Define data analytic and its types"
   ]
  },
  {
   "cell_type": "markdown",
   "id": "8d994e5c",
   "metadata": {
    "papermill": {
     "duration": 0.020999,
     "end_time": "2023-02-18T14:33:40.423585",
     "exception": false,
     "start_time": "2023-02-18T14:33:40.402586",
     "status": "completed"
    },
    "tags": []
   },
   "source": [
    "### Define data analytics\n",
    "* Analytics is defined as “the scientific process of transforming data into insights for making better decisions”\n",
    "* Analytics, is the use of data, information technology, statistical analysis, quantitative methods, and mathematical or computer-based models to help managers gain improved insight about their business operations and make better, fact-based decisions – James Evans\n",
    "* is Analysis = Analytics ? The answer is no."
   ]
  },
  {
   "cell_type": "markdown",
   "id": "f75a7c5c",
   "metadata": {
    "papermill": {
     "duration": 0.020973,
     "end_time": "2023-02-18T14:33:40.465849",
     "exception": false,
     "start_time": "2023-02-18T14:33:40.444876",
     "status": "completed"
    },
    "tags": []
   },
   "source": [
    "### Why analytics is important?\n",
    "A lot of opportunities for the use of analytics and big data such as:\n",
    "1. Determining credit risk\n",
    "2. Developing new medicines\n",
    "3. Finding more efficient ways to deliver products and services\n",
    "4. Preventing fraud\n",
    "5. Uncovering cyber threats\n",
    "6. Retaining the most valuable customers"
   ]
  },
  {
   "cell_type": "markdown",
   "id": "94e3be0a",
   "metadata": {
    "papermill": {
     "duration": 0.021002,
     "end_time": "2023-02-18T14:33:40.508154",
     "exception": false,
     "start_time": "2023-02-18T14:33:40.487152",
     "status": "completed"
    },
    "tags": []
   },
   "source": [
    "### Data Analysis\n",
    "* Data analysis is the process of examining, transforming, and arranging raw data in a specific way to generate useful information from it\n",
    "* Data analysis allows for the evaluation of data through analytical and logical reasoning to lead to some sort of outcome or conclusion in some context\n",
    "* Data analysis is a multi-faceted process that involves a number of steps, approaches, and diverse techniques"
   ]
  },
  {
   "cell_type": "markdown",
   "id": "a14a39e7",
   "metadata": {
    "papermill": {
     "duration": 0.021187,
     "end_time": "2023-02-18T14:33:40.550502",
     "exception": false,
     "start_time": "2023-02-18T14:33:40.529315",
     "status": "completed"
    },
    "tags": []
   },
   "source": [
    "### Data analytics vs Data analysis\n",
    "**Data Analytics** is all about exploring the future events\n",
    "   * Qualitative Data analytics = Intuition + analysis\n",
    "   * Quantitative Data analytics = Formulas + algorithms\n",
    "    \n",
    "**Data Analysis** is all about exploring the past events\n",
    "   * Qualitative Data analysis = Explains How And Why Story ends the way it did ?\n",
    "   * Quantitative Data analysis = Data + how the sale decreased last summer ?\n",
    "    \n",
    "1. is Analysis = Analytics ? **No**\n",
    "2. is Data Analysis = Data analytics ? **No**\n",
    "3. is Business Analysis = Business analytics ? **No**"
   ]
  },
  {
   "cell_type": "markdown",
   "id": "56f459a1",
   "metadata": {
    "papermill": {
     "duration": 0.021126,
     "end_time": "2023-02-18T14:33:40.592950",
     "exception": false,
     "start_time": "2023-02-18T14:33:40.571824",
     "status": "completed"
    },
    "tags": []
   },
   "source": [
    "### Classification of Data analytics\n",
    "Based on the phase of workflow and the kind of analysis required, there are four major types of data analytics.\n",
    "1. **Descriptive analytics:** What happened ?\n",
    "2. **Diagnostic analytics:** Why did it happened ?\n",
    "3. **Predictive analytics:** What will happen ?\n",
    "4. **Prescriptive analytics:** How can we make it happen ?\n",
    "\n",
    "**Value vs Diificulty**\n",
    "Descriptive Analytics is with the least value and least diificulty and as we go down the value and difficulty increases i.e Prescriptive Analytics is with the most value and most difficulty."
   ]
  },
  {
   "cell_type": "markdown",
   "id": "9d51e55e",
   "metadata": {
    "papermill": {
     "duration": 0.021176,
     "end_time": "2023-02-18T14:33:40.635394",
     "exception": false,
     "start_time": "2023-02-18T14:33:40.614218",
     "status": "completed"
    },
    "tags": []
   },
   "source": [
    "### Descriptive Analytics\n",
    "* Descriptive Analytics, is the conventional form of Business Intelligence and data analysis\n",
    "* It seeks to provide a depiction or “summary view” of facts and figures in an understandable format\n",
    "* This either inform or prepare data for further analysis\n",
    "* Descriptive analysis or statistics can summarize raw data and convert it into a form that can be easily understood by humans\n",
    "* They can describe in detail about an event that has occurred in the past\n",
    "\n",
    "A common example of Descriptive Analytics are company reports that simply provide a historic review like:\n",
    "\n",
    "1. Data Queries\n",
    "2. Reports\n",
    "3. Descriptive Statistics\n",
    "4. Data Visualization\n",
    "5. Data dashboard"
   ]
  },
  {
   "cell_type": "markdown",
   "id": "4655bb2a",
   "metadata": {
    "papermill": {
     "duration": 0.020806,
     "end_time": "2023-02-18T14:33:40.677416",
     "exception": false,
     "start_time": "2023-02-18T14:33:40.656610",
     "status": "completed"
    },
    "tags": []
   },
   "source": [
    "### Diagnostic analytics\n",
    "* Diagnostic Analytics is a form of advanced analytics which examines data or content to answer the question “Why did it happen?”\n",
    "* Diagnostic analytical tools aid an analyst to dig deeper into an issue so that they can arrive at the source of a problem\n",
    "* In a structured business environment, tools for both descriptive and diagnostic analytics go parallel\n",
    "\n",
    "It uses techniques such as:\n",
    "1. Data Discovery\n",
    "2. Data Mining\n",
    "3. Correlations"
   ]
  },
  {
   "cell_type": "markdown",
   "id": "be073773",
   "metadata": {
    "papermill": {
     "duration": 0.021825,
     "end_time": "2023-02-18T14:33:40.720402",
     "exception": false,
     "start_time": "2023-02-18T14:33:40.698577",
     "status": "completed"
    },
    "tags": []
   },
   "source": [
    "### Predictive analytics\n",
    "* Predictive analytics helps to forecast trends based on the current events\n",
    "* Predicting the probability of an event happening in future or estimating the accurate time it will happen can all be determined with the help of predictive analytical models\n",
    "* Many different but co-dependent variables are analysed to predict a trend in this type of analysis\n",
    "\n",
    "1. Historical Data ---> Predictive Algorithms ---> Model\n",
    "2. New Data ---> Model ---> Predictions\n",
    "\n",
    "Set of techniques that use model constructed from past data to predict the future or ascertain impact of one variable on another:\n",
    "1. Linear regression\n",
    "2. Time series analysis and forecasting\n",
    "3. Data mining"
   ]
  },
  {
   "cell_type": "markdown",
   "id": "84ceb5b0",
   "metadata": {
    "papermill": {
     "duration": 0.023414,
     "end_time": "2023-02-18T14:33:40.770687",
     "exception": false,
     "start_time": "2023-02-18T14:33:40.747273",
     "status": "completed"
    },
    "tags": []
   },
   "source": [
    "### Prescriptive analytics\n",
    "* Set of techniques to indicate the best course of action\n",
    "* It tells what decision to make to optimize the outcome\n",
    "* The goal of prescriptive analytics is to enable:\n",
    "1. Quality improvements\n",
    "2. Service enhancements\n",
    "3. Cost reductions and\n",
    "4. Increasing productivity\n",
    "\n",
    "Examples of prescriptive analytics example:\n",
    "1. Optimization Model\n",
    "2. Simulation\n",
    "3. Decision Analysis"
   ]
  },
  {
   "cell_type": "markdown",
   "id": "b0078491",
   "metadata": {
    "papermill": {
     "duration": 0.021098,
     "end_time": "2023-02-18T14:33:40.816049",
     "exception": false,
     "start_time": "2023-02-18T14:33:40.794951",
     "status": "completed"
    },
    "tags": []
   },
   "source": [
    "## Explain why analytics is important"
   ]
  },
  {
   "cell_type": "markdown",
   "id": "0269db22",
   "metadata": {
    "papermill": {
     "duration": 0.021029,
     "end_time": "2023-02-18T14:33:40.858422",
     "exception": false,
     "start_time": "2023-02-18T14:33:40.837393",
     "status": "completed"
    },
    "tags": []
   },
   "source": [
    "### Demand for Data Analytics\n",
    "With companies across industries striving to bring their research and analysis (R&A) departments up to speed, the demand for qualified data scientists is rising.\n",
    "\n",
    "\"India will face a demand-supply gap of 200,000 analytics professionals over the next three years. Even in the US, only 40 out of 100 positions for analytics professionals can be filled,\" said Rituparna Chakraborty, co-founder & senior VP of TeamLease Services. [Read More...](https://timesofindia.indiatimes.com/india/data-scientists-earning-more-than-cas-engineers/articleshow/52171064.cms?utm_source=contentofinterest&utm_medium=text&utm_campaign=cppst)"
   ]
  },
  {
   "cell_type": "markdown",
   "id": "3d414f7b",
   "metadata": {
    "papermill": {
     "duration": 0.020971,
     "end_time": "2023-02-18T14:33:40.900782",
     "exception": false,
     "start_time": "2023-02-18T14:33:40.879811",
     "status": "completed"
    },
    "tags": []
   },
   "source": [
    "\n",
    " "
   ]
  },
  {
   "cell_type": "markdown",
   "id": "c2b9fc51",
   "metadata": {
    "papermill": {
     "duration": 0.02102,
     "end_time": "2023-02-18T14:33:40.943008",
     "exception": false,
     "start_time": "2023-02-18T14:33:40.921988",
     "status": "completed"
    },
    "tags": []
   },
   "source": [
    "### Element of data Analytics\n",
    "1. Statistics\n",
    "2. Data Mining\n",
    "3. Business Intelligence/Information Systems\n",
    "4. Visualizations\n",
    "5. Simulation and Risk\n",
    "6. Modelling and Optimizations and lastly\n",
    "7. What if ?\n"
   ]
  },
  {
   "cell_type": "markdown",
   "id": "95020b34",
   "metadata": {
    "papermill": {
     "duration": 0.021464,
     "end_time": "2023-02-18T14:33:40.985697",
     "exception": false,
     "start_time": "2023-02-18T14:33:40.964233",
     "status": "completed"
    },
    "tags": []
   },
   "source": [
    "## Data analyst and Data scientist\n"
   ]
  },
  {
   "cell_type": "markdown",
   "id": "f5850caf",
   "metadata": {
    "papermill": {
     "duration": 0.021043,
     "end_time": "2023-02-18T14:33:41.028143",
     "exception": false,
     "start_time": "2023-02-18T14:33:41.007100",
     "status": "completed"
    },
    "tags": []
   },
   "source": [
    "### The requisite skill set are\n",
    "1. Mathematical Skills\n",
    "2. Technological Skills\n",
    "3. Business and Strategy and Acumen(ability to make good judgement and better decisions)"
   ]
  },
  {
   "cell_type": "markdown",
   "id": "431be92e",
   "metadata": {
    "papermill": {
     "duration": 0.020996,
     "end_time": "2023-02-18T14:33:41.070447",
     "exception": false,
     "start_time": "2023-02-18T14:33:41.049451",
     "status": "completed"
    },
    "tags": []
   },
   "source": [
    "### Difference between Data analyst and Data Scientist\n",
    "**Data Analyst** requires knowledge in\n",
    "1. Business Administration\n",
    "    * That is domain specific responsibility, for example:\n",
    "        * Marketing Analyst\n",
    "        * Financial Analyst, etc\n",
    "2. Data Exploration analysis and insight\n",
    "\n",
    "**Data Scientist** requires knowledge in\n",
    "1. Everything required in Data Analyst +\n",
    "2. Advance algorithms and machine learning\n",
    "3. Data Product engineering"
   ]
  },
  {
   "cell_type": "markdown",
   "id": "6d3c8a8f",
   "metadata": {
    "papermill": {
     "duration": 0.020895,
     "end_time": "2023-02-18T14:33:41.112603",
     "exception": false,
     "start_time": "2023-02-18T14:33:41.091708",
     "status": "completed"
    },
    "tags": []
   },
   "source": [
    "## Why python ?\n",
    "**Features:**\n",
    "1. Simple and easy to learn\n",
    "2. Freeware and Open Source\n",
    "3. Interpreted \n",
    "4. Dynamically Typed\n",
    "5. Extensible\n",
    "6. Embedded\n",
    "7. Extensive library\n",
    "8. Usability\n",
    "    * Desktop and web applications\n",
    "    * Database applications\n",
    "    * Networking applications\n",
    "    * Data analysis & Data Science\n",
    "    * Machine Learning\n",
    "    * IoT and AI applications\n",
    "    * Games\n",
    "    \n",
    "**Companies using python:**\n",
    "1. Google \n",
    "2. Nasa\n",
    "3. Facebook\n",
    "4. Youtube\n",
    "5. Yahoo!\n",
    "6. Dropbox\n",
    "7. Quora\n",
    "8. ebay, etc."
   ]
  },
  {
   "cell_type": "markdown",
   "id": "37655b78",
   "metadata": {
    "papermill": {
     "duration": 0.021017,
     "end_time": "2023-02-18T14:33:41.154871",
     "exception": false,
     "start_time": "2023-02-18T14:33:41.133854",
     "status": "completed"
    },
    "tags": []
   },
   "source": [
    "## Why Jupyter Notebook ?\n",
    "**Features:**\n",
    "1. Client-Server application\n",
    "2. Edit code on web browser\n",
    "3. Easy in documentation\n",
    "4. Easy in demonstration\n",
    "5. User-friendly interface"
   ]
  },
  {
   "cell_type": "markdown",
   "id": "515a1e91",
   "metadata": {
    "papermill": {
     "duration": 0.021172,
     "end_time": "2023-02-18T14:33:41.197299",
     "exception": false,
     "start_time": "2023-02-18T14:33:41.176127",
     "status": "completed"
    },
    "tags": []
   },
   "source": [
    "## Explain the four different levels of Data"
   ]
  },
  {
   "cell_type": "markdown",
   "id": "a8cc01ff",
   "metadata": {
    "papermill": {
     "duration": 0.020937,
     "end_time": "2023-02-18T14:33:41.239754",
     "exception": false,
     "start_time": "2023-02-18T14:33:41.218817",
     "status": "completed"
    },
    "tags": []
   },
   "source": [
    "### Types of Variables \n",
    "Data is divided into two parts :\n",
    "1. **Categorical Data** They are defined categories, examples are: \n",
    "    * Marital Status\n",
    "    * Political Party\n",
    "    * Eye Color\n",
    "    \n",
    "2. **Numerical Data** It is further divided into two parts:\n",
    "    * **Discrete Data** They are counted items, examples are:\n",
    "        * Number of children\n",
    "        * Defects per hour\n",
    "    * **Continuous Data** They are Measured Characteristics\n",
    "        * Weight\n",
    "        * Voltage"
   ]
  },
  {
   "cell_type": "markdown",
   "id": "fd51ff94",
   "metadata": {
    "papermill": {
     "duration": 0.020917,
     "end_time": "2023-02-18T14:33:41.281881",
     "exception": false,
     "start_time": "2023-02-18T14:33:41.260964",
     "status": "completed"
    },
    "tags": []
   },
   "source": [
    "### Levels of Data Measurement\n",
    "* Nominal — Lowest level of measurement  \n",
    "* Ordinal\n",
    "* Interval\n",
    "* Ratio — Highest level of measurement"
   ]
  },
  {
   "cell_type": "markdown",
   "id": "7bbef265",
   "metadata": {
    "papermill": {
     "duration": 0.020953,
     "end_time": "2023-02-18T14:33:41.324116",
     "exception": false,
     "start_time": "2023-02-18T14:33:41.303163",
     "status": "completed"
    },
    "tags": []
   },
   "source": [
    "### Nominal\n",
    "A nominal scale classifies data into distinct categories in which **no ranking** is implied\n",
    "   * Example : Gender, Marital Status"
   ]
  },
  {
   "cell_type": "markdown",
   "id": "b8ca20d0",
   "metadata": {
    "papermill": {
     "duration": 0.020927,
     "end_time": "2023-02-18T14:33:41.366322",
     "exception": false,
     "start_time": "2023-02-18T14:33:41.345395",
     "status": "completed"
    },
    "tags": []
   },
   "source": [
    "### Ordinal scale\n",
    "An ordinal scale classifies data into distinct categories in which **ranking** is implied.\n",
    "\n",
    "Example:\n",
    "* Product satisfaction: Satisfied ---> Neutral ---> Unsatisfied\n",
    "* Faculty rank: Professor ---> Associate Professor ---> Assistant Professor\n",
    "* Student Grades: A ---> B ---> C ---> D ---> F"
   ]
  },
  {
   "cell_type": "markdown",
   "id": "c60c4466",
   "metadata": {
    "papermill": {
     "duration": 0.021016,
     "end_time": "2023-02-18T14:33:41.408749",
     "exception": false,
     "start_time": "2023-02-18T14:33:41.387733",
     "status": "completed"
    },
    "tags": []
   },
   "source": [
    "### Interval scale\n",
    "An interval scale is an ordered scale in which the difference between measurements is a meaningful quantity but the measurements **do not have a true zero point**.\n",
    "\n",
    "Example\n",
    "* Temperature in Fahrenheit and Celsius: they can never be zero, because 0 degree Celcius means absence of temperature which makes no sense\n",
    "* Year: can't be zero\n",
    "\n",
    "**Note:** Here, we can perform only addition and subtraction other than that we can't perform any other arithmetic operations like multiplication or division because if subtract 3 years from 2023 we will get 2020 but on the contrary if we multiply 3 with 2023 we will get 6069 which doesn't make any sense."
   ]
  },
  {
   "cell_type": "markdown",
   "id": "b0136607",
   "metadata": {
    "papermill": {
     "duration": 0.020951,
     "end_time": "2023-02-18T14:33:41.450958",
     "exception": false,
     "start_time": "2023-02-18T14:33:41.430007",
     "status": "completed"
    },
    "tags": []
   },
   "source": [
    "### Ratio scale\n",
    "A ratio scale is an **ordered** scale in which the difference between the measurements is a meaningful quantity and the measurements **have a true zero point**.\n",
    "\n",
    "Example:\n",
    "* Weight\n",
    "* Age\n",
    "* Salary"
   ]
  },
  {
   "cell_type": "markdown",
   "id": "86e70e9b",
   "metadata": {
    "papermill": {
     "duration": 0.021033,
     "end_time": "2023-02-18T14:33:41.493248",
     "exception": false,
     "start_time": "2023-02-18T14:33:41.472215",
     "status": "completed"
    },
    "tags": []
   },
   "source": [
    "### Usage Potential of Various Levels of Data\n",
    "Ratio ---> Interval ---> Ordinal ---> Nominal"
   ]
  },
  {
   "cell_type": "markdown",
   "id": "6b22be2c",
   "metadata": {
    "papermill": {
     "duration": 0.021148,
     "end_time": "2023-02-18T14:33:41.535773",
     "exception": false,
     "start_time": "2023-02-18T14:33:41.514625",
     "status": "completed"
    },
    "tags": []
   },
   "source": [
    "### Impact of choice of measurement scale\n",
    "**Nominal**\n",
    "    \n",
    "   * **Meaningful Operations:** Classifying and Counting\n",
    "   * **Statistical Methods:** Nonparametric\n",
    "\n",
    "**Ordinal**\n",
    "\n",
    "   * **Meaningful Operations:** All of the above plus Ranking\n",
    "   * **Statistical Methods:** Nonparametric\n",
    " \n",
    "**Interval**\n",
    "    \n",
    "   * **Meaningful Operations:** All of the above plus Addition and Subtraction\n",
    "   * **Statistical Methods:** Parametric\n",
    "    \n",
    "**Ratio**\n",
    "\n",
    "   * **Meaningful Operations:** All of the above plus Multiplication and Division\n",
    "   * **Statistical Methods:** Parametric"
   ]
  },
  {
   "cell_type": "markdown",
   "id": "40bb563a",
   "metadata": {
    "papermill": {
     "duration": 0.021152,
     "end_time": "2023-02-18T14:33:41.578615",
     "exception": false,
     "start_time": "2023-02-18T14:33:41.557463",
     "status": "completed"
    },
    "tags": []
   },
   "source": [
    "# <center>Python Fundamentals I</center>\n",
    "---"
   ]
  },
  {
   "cell_type": "code",
   "execution_count": 2,
   "id": "b026efdd",
   "metadata": {
    "execution": {
     "iopub.execute_input": "2023-02-18T14:33:41.623040Z",
     "iopub.status.busy": "2023-02-18T14:33:41.622297Z",
     "iopub.status.idle": "2023-02-18T14:33:41.627171Z",
     "shell.execute_reply": "2023-02-18T14:33:41.626099Z"
    },
    "papermill": {
     "duration": 0.029418,
     "end_time": "2023-02-18T14:33:41.629307",
     "exception": false,
     "start_time": "2023-02-18T14:33:41.599889",
     "status": "completed"
    },
    "tags": []
   },
   "outputs": [],
   "source": [
    "# import libraries\n",
    "import numpy as np\n",
    "import pandas as pd\n",
    "import matplotlib.pyplot as plt"
   ]
  },
  {
   "cell_type": "markdown",
   "id": "3f5d3954",
   "metadata": {
    "papermill": {
     "duration": 0.021081,
     "end_time": "2023-02-18T14:33:41.671851",
     "exception": false,
     "start_time": "2023-02-18T14:33:41.650770",
     "status": "completed"
    },
    "tags": []
   },
   "source": [
    "### Load"
   ]
  },
  {
   "cell_type": "code",
   "execution_count": 3,
   "id": "8a5e371e",
   "metadata": {
    "execution": {
     "iopub.execute_input": "2023-02-18T14:33:41.717700Z",
     "iopub.status.busy": "2023-02-18T14:33:41.717163Z",
     "iopub.status.idle": "2023-02-18T14:33:41.737830Z",
     "shell.execute_reply": "2023-02-18T14:33:41.736715Z"
    },
    "papermill": {
     "duration": 0.04709,
     "end_time": "2023-02-18T14:33:41.740293",
     "exception": false,
     "start_time": "2023-02-18T14:33:41.693203",
     "status": "completed"
    },
    "tags": []
   },
   "outputs": [],
   "source": [
    "df = pd.read_csv(\"/kaggle/input/gapminder-FiveYearData/gapminder-FiveYearData.csv\")"
   ]
  },
  {
   "cell_type": "markdown",
   "id": "22fcc72e",
   "metadata": {
    "papermill": {
     "duration": 0.021752,
     "end_time": "2023-02-18T14:33:41.784066",
     "exception": false,
     "start_time": "2023-02-18T14:33:41.762314",
     "status": "completed"
    },
    "tags": []
   },
   "source": [
    "### Head"
   ]
  },
  {
   "cell_type": "code",
   "execution_count": 4,
   "id": "18656817",
   "metadata": {
    "execution": {
     "iopub.execute_input": "2023-02-18T14:33:41.830160Z",
     "iopub.status.busy": "2023-02-18T14:33:41.829743Z",
     "iopub.status.idle": "2023-02-18T14:33:41.853168Z",
     "shell.execute_reply": "2023-02-18T14:33:41.852041Z"
    },
    "papermill": {
     "duration": 0.049593,
     "end_time": "2023-02-18T14:33:41.855471",
     "exception": false,
     "start_time": "2023-02-18T14:33:41.805878",
     "status": "completed"
    },
    "tags": []
   },
   "outputs": [
    {
     "data": {
      "text/html": [
       "<div>\n",
       "<style scoped>\n",
       "    .dataframe tbody tr th:only-of-type {\n",
       "        vertical-align: middle;\n",
       "    }\n",
       "\n",
       "    .dataframe tbody tr th {\n",
       "        vertical-align: top;\n",
       "    }\n",
       "\n",
       "    .dataframe thead th {\n",
       "        text-align: right;\n",
       "    }\n",
       "</style>\n",
       "<table border=\"1\" class=\"dataframe\">\n",
       "  <thead>\n",
       "    <tr style=\"text-align: right;\">\n",
       "      <th></th>\n",
       "      <th>country</th>\n",
       "      <th>year</th>\n",
       "      <th>pop</th>\n",
       "      <th>continent</th>\n",
       "      <th>lifeExp</th>\n",
       "      <th>gdpPercap</th>\n",
       "    </tr>\n",
       "  </thead>\n",
       "  <tbody>\n",
       "    <tr>\n",
       "      <th>0</th>\n",
       "      <td>Afghanistan</td>\n",
       "      <td>1952</td>\n",
       "      <td>8425333.0</td>\n",
       "      <td>Asia</td>\n",
       "      <td>28.801</td>\n",
       "      <td>779.445314</td>\n",
       "    </tr>\n",
       "    <tr>\n",
       "      <th>1</th>\n",
       "      <td>Afghanistan</td>\n",
       "      <td>1957</td>\n",
       "      <td>9240934.0</td>\n",
       "      <td>Asia</td>\n",
       "      <td>30.332</td>\n",
       "      <td>820.853030</td>\n",
       "    </tr>\n",
       "    <tr>\n",
       "      <th>2</th>\n",
       "      <td>Afghanistan</td>\n",
       "      <td>1962</td>\n",
       "      <td>10267083.0</td>\n",
       "      <td>Asia</td>\n",
       "      <td>31.997</td>\n",
       "      <td>853.100710</td>\n",
       "    </tr>\n",
       "    <tr>\n",
       "      <th>3</th>\n",
       "      <td>Afghanistan</td>\n",
       "      <td>1967</td>\n",
       "      <td>11537966.0</td>\n",
       "      <td>Asia</td>\n",
       "      <td>34.020</td>\n",
       "      <td>836.197138</td>\n",
       "    </tr>\n",
       "    <tr>\n",
       "      <th>4</th>\n",
       "      <td>Afghanistan</td>\n",
       "      <td>1972</td>\n",
       "      <td>13079460.0</td>\n",
       "      <td>Asia</td>\n",
       "      <td>36.088</td>\n",
       "      <td>739.981106</td>\n",
       "    </tr>\n",
       "  </tbody>\n",
       "</table>\n",
       "</div>"
      ],
      "text/plain": [
       "       country  year         pop continent  lifeExp   gdpPercap\n",
       "0  Afghanistan  1952   8425333.0      Asia   28.801  779.445314\n",
       "1  Afghanistan  1957   9240934.0      Asia   30.332  820.853030\n",
       "2  Afghanistan  1962  10267083.0      Asia   31.997  853.100710\n",
       "3  Afghanistan  1967  11537966.0      Asia   34.020  836.197138\n",
       "4  Afghanistan  1972  13079460.0      Asia   36.088  739.981106"
      ]
     },
     "execution_count": 4,
     "metadata": {},
     "output_type": "execute_result"
    }
   ],
   "source": [
    "df.head()"
   ]
  },
  {
   "cell_type": "markdown",
   "id": "edf74633",
   "metadata": {
    "papermill": {
     "duration": 0.021578,
     "end_time": "2023-02-18T14:33:41.898920",
     "exception": false,
     "start_time": "2023-02-18T14:33:41.877342",
     "status": "completed"
    },
    "tags": []
   },
   "source": [
    "### Tail"
   ]
  },
  {
   "cell_type": "code",
   "execution_count": 5,
   "id": "18475cf3",
   "metadata": {
    "execution": {
     "iopub.execute_input": "2023-02-18T14:33:41.944972Z",
     "iopub.status.busy": "2023-02-18T14:33:41.944520Z",
     "iopub.status.idle": "2023-02-18T14:33:41.957856Z",
     "shell.execute_reply": "2023-02-18T14:33:41.956867Z"
    },
    "papermill": {
     "duration": 0.038937,
     "end_time": "2023-02-18T14:33:41.960063",
     "exception": false,
     "start_time": "2023-02-18T14:33:41.921126",
     "status": "completed"
    },
    "tags": []
   },
   "outputs": [
    {
     "data": {
      "text/html": [
       "<div>\n",
       "<style scoped>\n",
       "    .dataframe tbody tr th:only-of-type {\n",
       "        vertical-align: middle;\n",
       "    }\n",
       "\n",
       "    .dataframe tbody tr th {\n",
       "        vertical-align: top;\n",
       "    }\n",
       "\n",
       "    .dataframe thead th {\n",
       "        text-align: right;\n",
       "    }\n",
       "</style>\n",
       "<table border=\"1\" class=\"dataframe\">\n",
       "  <thead>\n",
       "    <tr style=\"text-align: right;\">\n",
       "      <th></th>\n",
       "      <th>country</th>\n",
       "      <th>year</th>\n",
       "      <th>pop</th>\n",
       "      <th>continent</th>\n",
       "      <th>lifeExp</th>\n",
       "      <th>gdpPercap</th>\n",
       "    </tr>\n",
       "  </thead>\n",
       "  <tbody>\n",
       "    <tr>\n",
       "      <th>1699</th>\n",
       "      <td>Zimbabwe</td>\n",
       "      <td>1987</td>\n",
       "      <td>9216418.0</td>\n",
       "      <td>Africa</td>\n",
       "      <td>62.351</td>\n",
       "      <td>706.157306</td>\n",
       "    </tr>\n",
       "    <tr>\n",
       "      <th>1700</th>\n",
       "      <td>Zimbabwe</td>\n",
       "      <td>1992</td>\n",
       "      <td>10704340.0</td>\n",
       "      <td>Africa</td>\n",
       "      <td>60.377</td>\n",
       "      <td>693.420786</td>\n",
       "    </tr>\n",
       "    <tr>\n",
       "      <th>1701</th>\n",
       "      <td>Zimbabwe</td>\n",
       "      <td>1997</td>\n",
       "      <td>11404948.0</td>\n",
       "      <td>Africa</td>\n",
       "      <td>46.809</td>\n",
       "      <td>792.449960</td>\n",
       "    </tr>\n",
       "    <tr>\n",
       "      <th>1702</th>\n",
       "      <td>Zimbabwe</td>\n",
       "      <td>2002</td>\n",
       "      <td>11926563.0</td>\n",
       "      <td>Africa</td>\n",
       "      <td>39.989</td>\n",
       "      <td>672.038623</td>\n",
       "    </tr>\n",
       "    <tr>\n",
       "      <th>1703</th>\n",
       "      <td>Zimbabwe</td>\n",
       "      <td>2007</td>\n",
       "      <td>12311143.0</td>\n",
       "      <td>Africa</td>\n",
       "      <td>43.487</td>\n",
       "      <td>469.709298</td>\n",
       "    </tr>\n",
       "  </tbody>\n",
       "</table>\n",
       "</div>"
      ],
      "text/plain": [
       "       country  year         pop continent  lifeExp   gdpPercap\n",
       "1699  Zimbabwe  1987   9216418.0    Africa   62.351  706.157306\n",
       "1700  Zimbabwe  1992  10704340.0    Africa   60.377  693.420786\n",
       "1701  Zimbabwe  1997  11404948.0    Africa   46.809  792.449960\n",
       "1702  Zimbabwe  2002  11926563.0    Africa   39.989  672.038623\n",
       "1703  Zimbabwe  2007  12311143.0    Africa   43.487  469.709298"
      ]
     },
     "execution_count": 5,
     "metadata": {},
     "output_type": "execute_result"
    }
   ],
   "source": [
    "df.tail()"
   ]
  },
  {
   "cell_type": "markdown",
   "id": "614b0107",
   "metadata": {
    "papermill": {
     "duration": 0.022184,
     "end_time": "2023-02-18T14:33:42.004378",
     "exception": false,
     "start_time": "2023-02-18T14:33:41.982194",
     "status": "completed"
    },
    "tags": []
   },
   "source": [
    "### Data Types"
   ]
  },
  {
   "cell_type": "code",
   "execution_count": 6,
   "id": "7e39f4f0",
   "metadata": {
    "execution": {
     "iopub.execute_input": "2023-02-18T14:33:42.052122Z",
     "iopub.status.busy": "2023-02-18T14:33:42.051705Z",
     "iopub.status.idle": "2023-02-18T14:33:42.059396Z",
     "shell.execute_reply": "2023-02-18T14:33:42.058360Z"
    },
    "papermill": {
     "duration": 0.034856,
     "end_time": "2023-02-18T14:33:42.061617",
     "exception": false,
     "start_time": "2023-02-18T14:33:42.026761",
     "status": "completed"
    },
    "tags": []
   },
   "outputs": [
    {
     "data": {
      "text/plain": [
       "country       object\n",
       "year           int64\n",
       "pop          float64\n",
       "continent     object\n",
       "lifeExp      float64\n",
       "gdpPercap    float64\n",
       "dtype: object"
      ]
     },
     "execution_count": 6,
     "metadata": {},
     "output_type": "execute_result"
    }
   ],
   "source": [
    "df.dtypes"
   ]
  },
  {
   "cell_type": "markdown",
   "id": "9ef787a9",
   "metadata": {
    "papermill": {
     "duration": 0.021868,
     "end_time": "2023-02-18T14:33:42.105427",
     "exception": false,
     "start_time": "2023-02-18T14:33:42.083559",
     "status": "completed"
    },
    "tags": []
   },
   "source": [
    "### Info"
   ]
  },
  {
   "cell_type": "code",
   "execution_count": 7,
   "id": "80e6e03a",
   "metadata": {
    "execution": {
     "iopub.execute_input": "2023-02-18T14:33:42.151333Z",
     "iopub.status.busy": "2023-02-18T14:33:42.150907Z",
     "iopub.status.idle": "2023-02-18T14:33:42.177134Z",
     "shell.execute_reply": "2023-02-18T14:33:42.175718Z"
    },
    "papermill": {
     "duration": 0.052963,
     "end_time": "2023-02-18T14:33:42.180418",
     "exception": false,
     "start_time": "2023-02-18T14:33:42.127455",
     "status": "completed"
    },
    "tags": []
   },
   "outputs": [
    {
     "name": "stdout",
     "output_type": "stream",
     "text": [
      "<class 'pandas.core.frame.DataFrame'>\n",
      "RangeIndex: 1704 entries, 0 to 1703\n",
      "Data columns (total 6 columns):\n",
      " #   Column     Non-Null Count  Dtype  \n",
      "---  ------     --------------  -----  \n",
      " 0   country    1704 non-null   object \n",
      " 1   year       1704 non-null   int64  \n",
      " 2   pop        1704 non-null   float64\n",
      " 3   continent  1704 non-null   object \n",
      " 4   lifeExp    1704 non-null   float64\n",
      " 5   gdpPercap  1704 non-null   float64\n",
      "dtypes: float64(3), int64(1), object(2)\n",
      "memory usage: 80.0+ KB\n"
     ]
    }
   ],
   "source": [
    "df.info()"
   ]
  },
  {
   "cell_type": "markdown",
   "id": "a434e714",
   "metadata": {
    "papermill": {
     "duration": 0.021847,
     "end_time": "2023-02-18T14:33:42.225111",
     "exception": false,
     "start_time": "2023-02-18T14:33:42.203264",
     "status": "completed"
    },
    "tags": []
   },
   "source": [
    "### get the country column and save it to its own variable"
   ]
  },
  {
   "cell_type": "code",
   "execution_count": 8,
   "id": "07e8eee1",
   "metadata": {
    "execution": {
     "iopub.execute_input": "2023-02-18T14:33:42.271735Z",
     "iopub.status.busy": "2023-02-18T14:33:42.271298Z",
     "iopub.status.idle": "2023-02-18T14:33:42.279429Z",
     "shell.execute_reply": "2023-02-18T14:33:42.278162Z"
    },
    "papermill": {
     "duration": 0.034392,
     "end_time": "2023-02-18T14:33:42.282083",
     "exception": false,
     "start_time": "2023-02-18T14:33:42.247691",
     "status": "completed"
    },
    "tags": []
   },
   "outputs": [
    {
     "data": {
      "text/plain": [
       "0    Afghanistan\n",
       "1    Afghanistan\n",
       "2    Afghanistan\n",
       "3    Afghanistan\n",
       "4    Afghanistan\n",
       "Name: country, dtype: object"
      ]
     },
     "execution_count": 8,
     "metadata": {},
     "output_type": "execute_result"
    }
   ],
   "source": [
    "country_df = df[\"country\"]\n",
    "country_df.head()"
   ]
  },
  {
   "cell_type": "markdown",
   "id": "5e206009",
   "metadata": {
    "papermill": {
     "duration": 0.022821,
     "end_time": "2023-02-18T14:33:42.328220",
     "exception": false,
     "start_time": "2023-02-18T14:33:42.305399",
     "status": "completed"
    },
    "tags": []
   },
   "source": [
    "### subset multiple columns"
   ]
  },
  {
   "cell_type": "code",
   "execution_count": 9,
   "id": "e1bf05ed",
   "metadata": {
    "execution": {
     "iopub.execute_input": "2023-02-18T14:33:42.375222Z",
     "iopub.status.busy": "2023-02-18T14:33:42.374802Z",
     "iopub.status.idle": "2023-02-18T14:33:42.386616Z",
     "shell.execute_reply": "2023-02-18T14:33:42.385586Z"
    },
    "papermill": {
     "duration": 0.037661,
     "end_time": "2023-02-18T14:33:42.388955",
     "exception": false,
     "start_time": "2023-02-18T14:33:42.351294",
     "status": "completed"
    },
    "tags": []
   },
   "outputs": [
    {
     "data": {
      "text/html": [
       "<div>\n",
       "<style scoped>\n",
       "    .dataframe tbody tr th:only-of-type {\n",
       "        vertical-align: middle;\n",
       "    }\n",
       "\n",
       "    .dataframe tbody tr th {\n",
       "        vertical-align: top;\n",
       "    }\n",
       "\n",
       "    .dataframe thead th {\n",
       "        text-align: right;\n",
       "    }\n",
       "</style>\n",
       "<table border=\"1\" class=\"dataframe\">\n",
       "  <thead>\n",
       "    <tr style=\"text-align: right;\">\n",
       "      <th></th>\n",
       "      <th>country</th>\n",
       "      <th>continent</th>\n",
       "      <th>year</th>\n",
       "    </tr>\n",
       "  </thead>\n",
       "  <tbody>\n",
       "    <tr>\n",
       "      <th>0</th>\n",
       "      <td>Afghanistan</td>\n",
       "      <td>Asia</td>\n",
       "      <td>1952</td>\n",
       "    </tr>\n",
       "    <tr>\n",
       "      <th>1</th>\n",
       "      <td>Afghanistan</td>\n",
       "      <td>Asia</td>\n",
       "      <td>1957</td>\n",
       "    </tr>\n",
       "    <tr>\n",
       "      <th>2</th>\n",
       "      <td>Afghanistan</td>\n",
       "      <td>Asia</td>\n",
       "      <td>1962</td>\n",
       "    </tr>\n",
       "    <tr>\n",
       "      <th>3</th>\n",
       "      <td>Afghanistan</td>\n",
       "      <td>Asia</td>\n",
       "      <td>1967</td>\n",
       "    </tr>\n",
       "    <tr>\n",
       "      <th>4</th>\n",
       "      <td>Afghanistan</td>\n",
       "      <td>Asia</td>\n",
       "      <td>1972</td>\n",
       "    </tr>\n",
       "  </tbody>\n",
       "</table>\n",
       "</div>"
      ],
      "text/plain": [
       "       country continent  year\n",
       "0  Afghanistan      Asia  1952\n",
       "1  Afghanistan      Asia  1957\n",
       "2  Afghanistan      Asia  1962\n",
       "3  Afghanistan      Asia  1967\n",
       "4  Afghanistan      Asia  1972"
      ]
     },
     "execution_count": 9,
     "metadata": {},
     "output_type": "execute_result"
    }
   ],
   "source": [
    "subset = df[[\"country\",\"continent\",\"year\"]]\n",
    "subset.head()"
   ]
  },
  {
   "cell_type": "markdown",
   "id": "fab17ae6",
   "metadata": {
    "papermill": {
     "duration": 0.022076,
     "end_time": "2023-02-18T14:33:42.433432",
     "exception": false,
     "start_time": "2023-02-18T14:33:42.411356",
     "status": "completed"
    },
    "tags": []
   },
   "source": [
    "## loc: subset `rows by index label`, counting starts from Zero (0)\n",
    "* here we select the rows with the help of `Index Labels`, whereas, in iloc we use integers\n",
    "\n",
    "**Note:** that index labels can also be integers, and most of the time it will be the case only"
   ]
  },
  {
   "cell_type": "code",
   "execution_count": 10,
   "id": "dd3cf57d",
   "metadata": {
    "execution": {
     "iopub.execute_input": "2023-02-18T14:33:42.480237Z",
     "iopub.status.busy": "2023-02-18T14:33:42.479805Z",
     "iopub.status.idle": "2023-02-18T14:33:42.488854Z",
     "shell.execute_reply": "2023-02-18T14:33:42.487653Z"
    },
    "papermill": {
     "duration": 0.035018,
     "end_time": "2023-02-18T14:33:42.491133",
     "exception": false,
     "start_time": "2023-02-18T14:33:42.456115",
     "status": "completed"
    },
    "tags": []
   },
   "outputs": [
    {
     "data": {
      "text/plain": [
       "country      Afghanistan\n",
       "year                1952\n",
       "pop            8425333.0\n",
       "continent           Asia\n",
       "lifeExp           28.801\n",
       "gdpPercap     779.445314\n",
       "Name: 0, dtype: object"
      ]
     },
     "execution_count": 10,
     "metadata": {},
     "output_type": "execute_result"
    }
   ],
   "source": [
    "df.loc[0]"
   ]
  },
  {
   "cell_type": "markdown",
   "id": "44ee7a95",
   "metadata": {
    "papermill": {
     "duration": 0.022504,
     "end_time": "2023-02-18T14:33:42.536520",
     "exception": false,
     "start_time": "2023-02-18T14:33:42.514016",
     "status": "completed"
    },
    "tags": []
   },
   "source": [
    "### get the 100th row"
   ]
  },
  {
   "cell_type": "code",
   "execution_count": 11,
   "id": "abbde5e2",
   "metadata": {
    "execution": {
     "iopub.execute_input": "2023-02-18T14:33:42.584599Z",
     "iopub.status.busy": "2023-02-18T14:33:42.583892Z",
     "iopub.status.idle": "2023-02-18T14:33:42.591126Z",
     "shell.execute_reply": "2023-02-18T14:33:42.590299Z"
    },
    "papermill": {
     "duration": 0.033458,
     "end_time": "2023-02-18T14:33:42.593112",
     "exception": false,
     "start_time": "2023-02-18T14:33:42.559654",
     "status": "completed"
    },
    "tags": []
   },
   "outputs": [
    {
     "data": {
      "text/plain": [
       "country      Bangladesh\n",
       "year               1967\n",
       "pop          62821884.0\n",
       "continent          Asia\n",
       "lifeExp          43.453\n",
       "gdpPercap    721.186086\n",
       "Name: 99, dtype: object"
      ]
     },
     "execution_count": 11,
     "metadata": {},
     "output_type": "execute_result"
    }
   ],
   "source": [
    "df.loc[99]"
   ]
  },
  {
   "cell_type": "markdown",
   "id": "56bc61b7",
   "metadata": {
    "papermill": {
     "duration": 0.022805,
     "end_time": "2023-02-18T14:33:42.638829",
     "exception": false,
     "start_time": "2023-02-18T14:33:42.616024",
     "status": "completed"
    },
    "tags": []
   },
   "source": [
    "### subsetting multiple rows\n",
    "**select 1st row, 100th row and 1000th row**"
   ]
  },
  {
   "cell_type": "code",
   "execution_count": 12,
   "id": "e4c6bec1",
   "metadata": {
    "execution": {
     "iopub.execute_input": "2023-02-18T14:33:42.686004Z",
     "iopub.status.busy": "2023-02-18T14:33:42.685267Z",
     "iopub.status.idle": "2023-02-18T14:33:42.700154Z",
     "shell.execute_reply": "2023-02-18T14:33:42.698978Z"
    },
    "papermill": {
     "duration": 0.041034,
     "end_time": "2023-02-18T14:33:42.702625",
     "exception": false,
     "start_time": "2023-02-18T14:33:42.661591",
     "status": "completed"
    },
    "tags": []
   },
   "outputs": [
    {
     "data": {
      "text/html": [
       "<div>\n",
       "<style scoped>\n",
       "    .dataframe tbody tr th:only-of-type {\n",
       "        vertical-align: middle;\n",
       "    }\n",
       "\n",
       "    .dataframe tbody tr th {\n",
       "        vertical-align: top;\n",
       "    }\n",
       "\n",
       "    .dataframe thead th {\n",
       "        text-align: right;\n",
       "    }\n",
       "</style>\n",
       "<table border=\"1\" class=\"dataframe\">\n",
       "  <thead>\n",
       "    <tr style=\"text-align: right;\">\n",
       "      <th></th>\n",
       "      <th>country</th>\n",
       "      <th>year</th>\n",
       "      <th>pop</th>\n",
       "      <th>continent</th>\n",
       "      <th>lifeExp</th>\n",
       "      <th>gdpPercap</th>\n",
       "    </tr>\n",
       "  </thead>\n",
       "  <tbody>\n",
       "    <tr>\n",
       "      <th>0</th>\n",
       "      <td>Afghanistan</td>\n",
       "      <td>1952</td>\n",
       "      <td>8425333.0</td>\n",
       "      <td>Asia</td>\n",
       "      <td>28.801</td>\n",
       "      <td>779.445314</td>\n",
       "    </tr>\n",
       "    <tr>\n",
       "      <th>99</th>\n",
       "      <td>Bangladesh</td>\n",
       "      <td>1967</td>\n",
       "      <td>62821884.0</td>\n",
       "      <td>Asia</td>\n",
       "      <td>43.453</td>\n",
       "      <td>721.186086</td>\n",
       "    </tr>\n",
       "    <tr>\n",
       "      <th>999</th>\n",
       "      <td>Mongolia</td>\n",
       "      <td>1967</td>\n",
       "      <td>1149500.0</td>\n",
       "      <td>Asia</td>\n",
       "      <td>51.253</td>\n",
       "      <td>1226.041130</td>\n",
       "    </tr>\n",
       "  </tbody>\n",
       "</table>\n",
       "</div>"
      ],
      "text/plain": [
       "         country  year         pop continent  lifeExp    gdpPercap\n",
       "0    Afghanistan  1952   8425333.0      Asia   28.801   779.445314\n",
       "99    Bangladesh  1967  62821884.0      Asia   43.453   721.186086\n",
       "999     Mongolia  1967   1149500.0      Asia   51.253  1226.041130"
      ]
     },
     "execution_count": 12,
     "metadata": {},
     "output_type": "execute_result"
    }
   ],
   "source": [
    "df.loc[[0,99,999]]"
   ]
  },
  {
   "cell_type": "markdown",
   "id": "6681cc40",
   "metadata": {
    "papermill": {
     "duration": 0.028521,
     "end_time": "2023-02-18T14:33:42.757076",
     "exception": false,
     "start_time": "2023-02-18T14:33:42.728555",
     "status": "completed"
    },
    "tags": []
   },
   "source": [
    "## iloc: subset rows `by row number`"
   ]
  },
  {
   "cell_type": "markdown",
   "id": "d379982e",
   "metadata": {
    "papermill": {
     "duration": 0.027902,
     "end_time": "2023-02-18T14:33:42.817347",
     "exception": false,
     "start_time": "2023-02-18T14:33:42.789445",
     "status": "completed"
    },
    "tags": []
   },
   "source": [
    "**get 2nd row**"
   ]
  },
  {
   "cell_type": "code",
   "execution_count": 13,
   "id": "ca645904",
   "metadata": {
    "execution": {
     "iopub.execute_input": "2023-02-18T14:33:42.867419Z",
     "iopub.status.busy": "2023-02-18T14:33:42.866632Z",
     "iopub.status.idle": "2023-02-18T14:33:42.874137Z",
     "shell.execute_reply": "2023-02-18T14:33:42.873127Z"
    },
    "papermill": {
     "duration": 0.0347,
     "end_time": "2023-02-18T14:33:42.876282",
     "exception": false,
     "start_time": "2023-02-18T14:33:42.841582",
     "status": "completed"
    },
    "tags": []
   },
   "outputs": [
    {
     "data": {
      "text/plain": [
       "country      Afghanistan\n",
       "year                1957\n",
       "pop            9240934.0\n",
       "continent           Asia\n",
       "lifeExp           30.332\n",
       "gdpPercap      820.85303\n",
       "Name: 1, dtype: object"
      ]
     },
     "execution_count": 13,
     "metadata": {},
     "output_type": "execute_result"
    }
   ],
   "source": [
    "df.iloc[1]"
   ]
  },
  {
   "cell_type": "markdown",
   "id": "3554b062",
   "metadata": {
    "papermill": {
     "duration": 0.022757,
     "end_time": "2023-02-18T14:33:42.922039",
     "exception": false,
     "start_time": "2023-02-18T14:33:42.899282",
     "status": "completed"
    },
    "tags": []
   },
   "source": [
    "### get 100th row"
   ]
  },
  {
   "cell_type": "code",
   "execution_count": 14,
   "id": "c637d5c0",
   "metadata": {
    "execution": {
     "iopub.execute_input": "2023-02-18T14:33:42.970396Z",
     "iopub.status.busy": "2023-02-18T14:33:42.969755Z",
     "iopub.status.idle": "2023-02-18T14:33:42.977764Z",
     "shell.execute_reply": "2023-02-18T14:33:42.976812Z"
    },
    "papermill": {
     "duration": 0.034848,
     "end_time": "2023-02-18T14:33:42.979855",
     "exception": false,
     "start_time": "2023-02-18T14:33:42.945007",
     "status": "completed"
    },
    "tags": []
   },
   "outputs": [
    {
     "data": {
      "text/plain": [
       "country      Bangladesh\n",
       "year               1967\n",
       "pop          62821884.0\n",
       "continent          Asia\n",
       "lifeExp          43.453\n",
       "gdpPercap    721.186086\n",
       "Name: 99, dtype: object"
      ]
     },
     "execution_count": 14,
     "metadata": {},
     "output_type": "execute_result"
    }
   ],
   "source": [
    "df.iloc[99]"
   ]
  },
  {
   "cell_type": "markdown",
   "id": "e73ef0bc",
   "metadata": {
    "papermill": {
     "duration": 0.022774,
     "end_time": "2023-02-18T14:33:43.025748",
     "exception": false,
     "start_time": "2023-02-18T14:33:43.002974",
     "status": "completed"
    },
    "tags": []
   },
   "source": [
    "### get the last row"
   ]
  },
  {
   "cell_type": "code",
   "execution_count": 15,
   "id": "d43be8d4",
   "metadata": {
    "execution": {
     "iopub.execute_input": "2023-02-18T14:33:43.073941Z",
     "iopub.status.busy": "2023-02-18T14:33:43.073278Z",
     "iopub.status.idle": "2023-02-18T14:33:43.081174Z",
     "shell.execute_reply": "2023-02-18T14:33:43.080239Z"
    },
    "papermill": {
     "duration": 0.03447,
     "end_time": "2023-02-18T14:33:43.083258",
     "exception": false,
     "start_time": "2023-02-18T14:33:43.048788",
     "status": "completed"
    },
    "tags": []
   },
   "outputs": [
    {
     "data": {
      "text/plain": [
       "country        Zimbabwe\n",
       "year               2007\n",
       "pop          12311143.0\n",
       "continent        Africa\n",
       "lifeExp          43.487\n",
       "gdpPercap    469.709298\n",
       "Name: 1703, dtype: object"
      ]
     },
     "execution_count": 15,
     "metadata": {},
     "output_type": "execute_result"
    }
   ],
   "source": [
    "df.iloc[-1]"
   ]
  },
  {
   "cell_type": "markdown",
   "id": "7b9d9c5d",
   "metadata": {
    "papermill": {
     "duration": 0.022812,
     "end_time": "2023-02-18T14:33:43.129504",
     "exception": false,
     "start_time": "2023-02-18T14:33:43.106692",
     "status": "completed"
    },
    "tags": []
   },
   "source": [
    "**Note:** When we are using `iloc` we can pass -1 to get the last row, something we can't do with the `loc` because here we acces rows by index labels"
   ]
  },
  {
   "cell_type": "markdown",
   "id": "bf8d7b6e",
   "metadata": {
    "papermill": {
     "duration": 0.022846,
     "end_time": "2023-02-18T14:33:43.175413",
     "exception": false,
     "start_time": "2023-02-18T14:33:43.152567",
     "status": "completed"
    },
    "tags": []
   },
   "source": [
    "### get the 1st, 100th and 999th rows"
   ]
  },
  {
   "cell_type": "code",
   "execution_count": 16,
   "id": "a755467a",
   "metadata": {
    "execution": {
     "iopub.execute_input": "2023-02-18T14:33:43.224545Z",
     "iopub.status.busy": "2023-02-18T14:33:43.223897Z",
     "iopub.status.idle": "2023-02-18T14:33:43.237732Z",
     "shell.execute_reply": "2023-02-18T14:33:43.236519Z"
    },
    "papermill": {
     "duration": 0.041068,
     "end_time": "2023-02-18T14:33:43.240032",
     "exception": false,
     "start_time": "2023-02-18T14:33:43.198964",
     "status": "completed"
    },
    "tags": []
   },
   "outputs": [
    {
     "data": {
      "text/html": [
       "<div>\n",
       "<style scoped>\n",
       "    .dataframe tbody tr th:only-of-type {\n",
       "        vertical-align: middle;\n",
       "    }\n",
       "\n",
       "    .dataframe tbody tr th {\n",
       "        vertical-align: top;\n",
       "    }\n",
       "\n",
       "    .dataframe thead th {\n",
       "        text-align: right;\n",
       "    }\n",
       "</style>\n",
       "<table border=\"1\" class=\"dataframe\">\n",
       "  <thead>\n",
       "    <tr style=\"text-align: right;\">\n",
       "      <th></th>\n",
       "      <th>country</th>\n",
       "      <th>year</th>\n",
       "      <th>pop</th>\n",
       "      <th>continent</th>\n",
       "      <th>lifeExp</th>\n",
       "      <th>gdpPercap</th>\n",
       "    </tr>\n",
       "  </thead>\n",
       "  <tbody>\n",
       "    <tr>\n",
       "      <th>0</th>\n",
       "      <td>Afghanistan</td>\n",
       "      <td>1952</td>\n",
       "      <td>8425333.0</td>\n",
       "      <td>Asia</td>\n",
       "      <td>28.801</td>\n",
       "      <td>779.445314</td>\n",
       "    </tr>\n",
       "    <tr>\n",
       "      <th>99</th>\n",
       "      <td>Bangladesh</td>\n",
       "      <td>1967</td>\n",
       "      <td>62821884.0</td>\n",
       "      <td>Asia</td>\n",
       "      <td>43.453</td>\n",
       "      <td>721.186086</td>\n",
       "    </tr>\n",
       "    <tr>\n",
       "      <th>999</th>\n",
       "      <td>Mongolia</td>\n",
       "      <td>1967</td>\n",
       "      <td>1149500.0</td>\n",
       "      <td>Asia</td>\n",
       "      <td>51.253</td>\n",
       "      <td>1226.041130</td>\n",
       "    </tr>\n",
       "  </tbody>\n",
       "</table>\n",
       "</div>"
      ],
      "text/plain": [
       "         country  year         pop continent  lifeExp    gdpPercap\n",
       "0    Afghanistan  1952   8425333.0      Asia   28.801   779.445314\n",
       "99    Bangladesh  1967  62821884.0      Asia   43.453   721.186086\n",
       "999     Mongolia  1967   1149500.0      Asia   51.253  1226.041130"
      ]
     },
     "execution_count": 16,
     "metadata": {},
     "output_type": "execute_result"
    }
   ],
   "source": [
    "df.iloc[[0,99,999]]"
   ]
  },
  {
   "cell_type": "markdown",
   "id": "d71aeaa1",
   "metadata": {
    "papermill": {
     "duration": 0.022844,
     "end_time": "2023-02-18T14:33:43.286247",
     "exception": false,
     "start_time": "2023-02-18T14:33:43.263403",
     "status": "completed"
    },
    "tags": []
   },
   "source": [
    "## Subset columns with slicing using colon (:)\n",
    "**subset all rows with two columns**"
   ]
  },
  {
   "cell_type": "code",
   "execution_count": 17,
   "id": "d96c47f8",
   "metadata": {
    "execution": {
     "iopub.execute_input": "2023-02-18T14:33:43.334936Z",
     "iopub.status.busy": "2023-02-18T14:33:43.334539Z",
     "iopub.status.idle": "2023-02-18T14:33:43.348676Z",
     "shell.execute_reply": "2023-02-18T14:33:43.347465Z"
    },
    "papermill": {
     "duration": 0.041353,
     "end_time": "2023-02-18T14:33:43.350888",
     "exception": false,
     "start_time": "2023-02-18T14:33:43.309535",
     "status": "completed"
    },
    "tags": []
   },
   "outputs": [
    {
     "data": {
      "text/html": [
       "<div>\n",
       "<style scoped>\n",
       "    .dataframe tbody tr th:only-of-type {\n",
       "        vertical-align: middle;\n",
       "    }\n",
       "\n",
       "    .dataframe tbody tr th {\n",
       "        vertical-align: top;\n",
       "    }\n",
       "\n",
       "    .dataframe thead th {\n",
       "        text-align: right;\n",
       "    }\n",
       "</style>\n",
       "<table border=\"1\" class=\"dataframe\">\n",
       "  <thead>\n",
       "    <tr style=\"text-align: right;\">\n",
       "      <th></th>\n",
       "      <th>year</th>\n",
       "      <th>pop</th>\n",
       "    </tr>\n",
       "  </thead>\n",
       "  <tbody>\n",
       "    <tr>\n",
       "      <th>0</th>\n",
       "      <td>1952</td>\n",
       "      <td>8425333.0</td>\n",
       "    </tr>\n",
       "    <tr>\n",
       "      <th>1</th>\n",
       "      <td>1957</td>\n",
       "      <td>9240934.0</td>\n",
       "    </tr>\n",
       "    <tr>\n",
       "      <th>2</th>\n",
       "      <td>1962</td>\n",
       "      <td>10267083.0</td>\n",
       "    </tr>\n",
       "    <tr>\n",
       "      <th>3</th>\n",
       "      <td>1967</td>\n",
       "      <td>11537966.0</td>\n",
       "    </tr>\n",
       "    <tr>\n",
       "      <th>4</th>\n",
       "      <td>1972</td>\n",
       "      <td>13079460.0</td>\n",
       "    </tr>\n",
       "    <tr>\n",
       "      <th>...</th>\n",
       "      <td>...</td>\n",
       "      <td>...</td>\n",
       "    </tr>\n",
       "    <tr>\n",
       "      <th>1699</th>\n",
       "      <td>1987</td>\n",
       "      <td>9216418.0</td>\n",
       "    </tr>\n",
       "    <tr>\n",
       "      <th>1700</th>\n",
       "      <td>1992</td>\n",
       "      <td>10704340.0</td>\n",
       "    </tr>\n",
       "    <tr>\n",
       "      <th>1701</th>\n",
       "      <td>1997</td>\n",
       "      <td>11404948.0</td>\n",
       "    </tr>\n",
       "    <tr>\n",
       "      <th>1702</th>\n",
       "      <td>2002</td>\n",
       "      <td>11926563.0</td>\n",
       "    </tr>\n",
       "    <tr>\n",
       "      <th>1703</th>\n",
       "      <td>2007</td>\n",
       "      <td>12311143.0</td>\n",
       "    </tr>\n",
       "  </tbody>\n",
       "</table>\n",
       "<p>1704 rows × 2 columns</p>\n",
       "</div>"
      ],
      "text/plain": [
       "      year         pop\n",
       "0     1952   8425333.0\n",
       "1     1957   9240934.0\n",
       "2     1962  10267083.0\n",
       "3     1967  11537966.0\n",
       "4     1972  13079460.0\n",
       "...    ...         ...\n",
       "1699  1987   9216418.0\n",
       "1700  1992  10704340.0\n",
       "1701  1997  11404948.0\n",
       "1702  2002  11926563.0\n",
       "1703  2007  12311143.0\n",
       "\n",
       "[1704 rows x 2 columns]"
      ]
     },
     "execution_count": 17,
     "metadata": {},
     "output_type": "execute_result"
    }
   ],
   "source": [
    "df.loc[:,[\"year\",\"pop\"]]"
   ]
  },
  {
   "cell_type": "code",
   "execution_count": 18,
   "id": "136ce22a",
   "metadata": {
    "execution": {
     "iopub.execute_input": "2023-02-18T14:33:43.400306Z",
     "iopub.status.busy": "2023-02-18T14:33:43.399569Z",
     "iopub.status.idle": "2023-02-18T14:33:43.415098Z",
     "shell.execute_reply": "2023-02-18T14:33:43.413975Z"
    },
    "papermill": {
     "duration": 0.042462,
     "end_time": "2023-02-18T14:33:43.417163",
     "exception": false,
     "start_time": "2023-02-18T14:33:43.374701",
     "status": "completed"
    },
    "tags": []
   },
   "outputs": [
    {
     "data": {
      "text/html": [
       "<div>\n",
       "<style scoped>\n",
       "    .dataframe tbody tr th:only-of-type {\n",
       "        vertical-align: middle;\n",
       "    }\n",
       "\n",
       "    .dataframe tbody tr th {\n",
       "        vertical-align: top;\n",
       "    }\n",
       "\n",
       "    .dataframe thead th {\n",
       "        text-align: right;\n",
       "    }\n",
       "</style>\n",
       "<table border=\"1\" class=\"dataframe\">\n",
       "  <thead>\n",
       "    <tr style=\"text-align: right;\">\n",
       "      <th></th>\n",
       "      <th>country</th>\n",
       "      <th>year</th>\n",
       "      <th>gdpPercap</th>\n",
       "    </tr>\n",
       "  </thead>\n",
       "  <tbody>\n",
       "    <tr>\n",
       "      <th>0</th>\n",
       "      <td>Afghanistan</td>\n",
       "      <td>1952</td>\n",
       "      <td>779.445314</td>\n",
       "    </tr>\n",
       "    <tr>\n",
       "      <th>1</th>\n",
       "      <td>Afghanistan</td>\n",
       "      <td>1957</td>\n",
       "      <td>820.853030</td>\n",
       "    </tr>\n",
       "    <tr>\n",
       "      <th>2</th>\n",
       "      <td>Afghanistan</td>\n",
       "      <td>1962</td>\n",
       "      <td>853.100710</td>\n",
       "    </tr>\n",
       "    <tr>\n",
       "      <th>3</th>\n",
       "      <td>Afghanistan</td>\n",
       "      <td>1967</td>\n",
       "      <td>836.197138</td>\n",
       "    </tr>\n",
       "    <tr>\n",
       "      <th>4</th>\n",
       "      <td>Afghanistan</td>\n",
       "      <td>1972</td>\n",
       "      <td>739.981106</td>\n",
       "    </tr>\n",
       "    <tr>\n",
       "      <th>...</th>\n",
       "      <td>...</td>\n",
       "      <td>...</td>\n",
       "      <td>...</td>\n",
       "    </tr>\n",
       "    <tr>\n",
       "      <th>1699</th>\n",
       "      <td>Zimbabwe</td>\n",
       "      <td>1987</td>\n",
       "      <td>706.157306</td>\n",
       "    </tr>\n",
       "    <tr>\n",
       "      <th>1700</th>\n",
       "      <td>Zimbabwe</td>\n",
       "      <td>1992</td>\n",
       "      <td>693.420786</td>\n",
       "    </tr>\n",
       "    <tr>\n",
       "      <th>1701</th>\n",
       "      <td>Zimbabwe</td>\n",
       "      <td>1997</td>\n",
       "      <td>792.449960</td>\n",
       "    </tr>\n",
       "    <tr>\n",
       "      <th>1702</th>\n",
       "      <td>Zimbabwe</td>\n",
       "      <td>2002</td>\n",
       "      <td>672.038623</td>\n",
       "    </tr>\n",
       "    <tr>\n",
       "      <th>1703</th>\n",
       "      <td>Zimbabwe</td>\n",
       "      <td>2007</td>\n",
       "      <td>469.709298</td>\n",
       "    </tr>\n",
       "  </tbody>\n",
       "</table>\n",
       "<p>1704 rows × 3 columns</p>\n",
       "</div>"
      ],
      "text/plain": [
       "          country  year   gdpPercap\n",
       "0     Afghanistan  1952  779.445314\n",
       "1     Afghanistan  1957  820.853030\n",
       "2     Afghanistan  1962  853.100710\n",
       "3     Afghanistan  1967  836.197138\n",
       "4     Afghanistan  1972  739.981106\n",
       "...           ...   ...         ...\n",
       "1699     Zimbabwe  1987  706.157306\n",
       "1700     Zimbabwe  1992  693.420786\n",
       "1701     Zimbabwe  1997  792.449960\n",
       "1702     Zimbabwe  2002  672.038623\n",
       "1703     Zimbabwe  2007  469.709298\n",
       "\n",
       "[1704 rows x 3 columns]"
      ]
     },
     "execution_count": 18,
     "metadata": {},
     "output_type": "execute_result"
    }
   ],
   "source": [
    "df.iloc[:,[0,1,-1]]"
   ]
  },
  {
   "cell_type": "markdown",
   "id": "dc5f1b28",
   "metadata": {
    "papermill": {
     "duration": 0.02351,
     "end_time": "2023-02-18T14:33:43.464526",
     "exception": false,
     "start_time": "2023-02-18T14:33:43.441016",
     "status": "completed"
    },
    "tags": []
   },
   "source": [
    "# <center>Python Fundamentals II</center>\n",
    "---"
   ]
  },
  {
   "cell_type": "markdown",
   "id": "b7a6b263",
   "metadata": {
    "papermill": {
     "duration": 0.02351,
     "end_time": "2023-02-18T14:33:43.512070",
     "exception": false,
     "start_time": "2023-02-18T14:33:43.488560",
     "status": "completed"
    },
    "tags": []
   },
   "source": [
    "## Subset rows"
   ]
  },
  {
   "cell_type": "markdown",
   "id": "9a75a96d",
   "metadata": {
    "papermill": {
     "duration": 0.023705,
     "end_time": "2023-02-18T14:33:43.559538",
     "exception": false,
     "start_time": "2023-02-18T14:33:43.535833",
     "status": "completed"
    },
    "tags": []
   },
   "source": [
    "### ways to get last row"
   ]
  },
  {
   "cell_type": "code",
   "execution_count": 19,
   "id": "96efe495",
   "metadata": {
    "execution": {
     "iopub.execute_input": "2023-02-18T14:33:43.609149Z",
     "iopub.status.busy": "2023-02-18T14:33:43.608383Z",
     "iopub.status.idle": "2023-02-18T14:33:43.620621Z",
     "shell.execute_reply": "2023-02-18T14:33:43.619495Z"
    },
    "papermill": {
     "duration": 0.039533,
     "end_time": "2023-02-18T14:33:43.622845",
     "exception": false,
     "start_time": "2023-02-18T14:33:43.583312",
     "status": "completed"
    },
    "tags": []
   },
   "outputs": [
    {
     "data": {
      "text/html": [
       "<div>\n",
       "<style scoped>\n",
       "    .dataframe tbody tr th:only-of-type {\n",
       "        vertical-align: middle;\n",
       "    }\n",
       "\n",
       "    .dataframe tbody tr th {\n",
       "        vertical-align: top;\n",
       "    }\n",
       "\n",
       "    .dataframe thead th {\n",
       "        text-align: right;\n",
       "    }\n",
       "</style>\n",
       "<table border=\"1\" class=\"dataframe\">\n",
       "  <thead>\n",
       "    <tr style=\"text-align: right;\">\n",
       "      <th></th>\n",
       "      <th>country</th>\n",
       "      <th>year</th>\n",
       "      <th>pop</th>\n",
       "      <th>continent</th>\n",
       "      <th>lifeExp</th>\n",
       "      <th>gdpPercap</th>\n",
       "    </tr>\n",
       "  </thead>\n",
       "  <tbody>\n",
       "    <tr>\n",
       "      <th>1703</th>\n",
       "      <td>Zimbabwe</td>\n",
       "      <td>2007</td>\n",
       "      <td>12311143.0</td>\n",
       "      <td>Africa</td>\n",
       "      <td>43.487</td>\n",
       "      <td>469.709298</td>\n",
       "    </tr>\n",
       "  </tbody>\n",
       "</table>\n",
       "</div>"
      ],
      "text/plain": [
       "       country  year         pop continent  lifeExp   gdpPercap\n",
       "1703  Zimbabwe  2007  12311143.0    Africa   43.487  469.709298"
      ]
     },
     "execution_count": 19,
     "metadata": {},
     "output_type": "execute_result"
    }
   ],
   "source": [
    "df.tail(1)"
   ]
  },
  {
   "cell_type": "code",
   "execution_count": 20,
   "id": "2955bdef",
   "metadata": {
    "execution": {
     "iopub.execute_input": "2023-02-18T14:33:43.673533Z",
     "iopub.status.busy": "2023-02-18T14:33:43.672799Z",
     "iopub.status.idle": "2023-02-18T14:33:43.680029Z",
     "shell.execute_reply": "2023-02-18T14:33:43.679145Z"
    },
    "papermill": {
     "duration": 0.035213,
     "end_time": "2023-02-18T14:33:43.682149",
     "exception": false,
     "start_time": "2023-02-18T14:33:43.646936",
     "status": "completed"
    },
    "tags": []
   },
   "outputs": [
    {
     "data": {
      "text/plain": [
       "country        Zimbabwe\n",
       "year               2007\n",
       "pop          12311143.0\n",
       "continent        Africa\n",
       "lifeExp          43.487\n",
       "gdpPercap    469.709298\n",
       "Name: 1703, dtype: object"
      ]
     },
     "execution_count": 20,
     "metadata": {},
     "output_type": "execute_result"
    }
   ],
   "source": [
    "df.iloc[-1]"
   ]
  },
  {
   "cell_type": "code",
   "execution_count": 21,
   "id": "ce16b3d4",
   "metadata": {
    "execution": {
     "iopub.execute_input": "2023-02-18T14:33:43.735293Z",
     "iopub.status.busy": "2023-02-18T14:33:43.734572Z",
     "iopub.status.idle": "2023-02-18T14:33:43.741676Z",
     "shell.execute_reply": "2023-02-18T14:33:43.740917Z"
    },
    "papermill": {
     "duration": 0.036089,
     "end_time": "2023-02-18T14:33:43.743599",
     "exception": false,
     "start_time": "2023-02-18T14:33:43.707510",
     "status": "completed"
    },
    "tags": []
   },
   "outputs": [
    {
     "data": {
      "text/plain": [
       "country        Zimbabwe\n",
       "year               2007\n",
       "pop          12311143.0\n",
       "continent        Africa\n",
       "lifeExp          43.487\n",
       "gdpPercap    469.709298\n",
       "Name: 1703, dtype: object"
      ]
     },
     "execution_count": 21,
     "metadata": {},
     "output_type": "execute_result"
    }
   ],
   "source": [
    "df.loc[df.shape[0] - 1]"
   ]
  },
  {
   "cell_type": "markdown",
   "id": "0973920b",
   "metadata": {
    "papermill": {
     "duration": 0.024264,
     "end_time": "2023-02-18T14:33:43.792167",
     "exception": false,
     "start_time": "2023-02-18T14:33:43.767903",
     "status": "completed"
    },
    "tags": []
   },
   "source": [
    "## Subset columns\n",
    "* The Python slicing syntax uses a colon, `:`\n",
    "* If we have just a colon, the attribute refers to everything.\n",
    "* So, if we just want to get the first column using the loc or iloc syntax,we can write something like `df.loc[:, [columns]]` to subset the column(s)."
   ]
  },
  {
   "cell_type": "markdown",
   "id": "f70a54aa",
   "metadata": {
    "papermill": {
     "duration": 0.024078,
     "end_time": "2023-02-18T14:33:43.840635",
     "exception": false,
     "start_time": "2023-02-18T14:33:43.816557",
     "status": "completed"
    },
    "tags": []
   },
   "source": [
    "### subset columns with loc\n",
    "**note** the position of the colon, it is used to select all rows"
   ]
  },
  {
   "cell_type": "code",
   "execution_count": 22,
   "id": "106a8c57",
   "metadata": {
    "execution": {
     "iopub.execute_input": "2023-02-18T14:33:43.892792Z",
     "iopub.status.busy": "2023-02-18T14:33:43.892070Z",
     "iopub.status.idle": "2023-02-18T14:33:43.903269Z",
     "shell.execute_reply": "2023-02-18T14:33:43.902060Z"
    },
    "papermill": {
     "duration": 0.039291,
     "end_time": "2023-02-18T14:33:43.905592",
     "exception": false,
     "start_time": "2023-02-18T14:33:43.866301",
     "status": "completed"
    },
    "tags": []
   },
   "outputs": [
    {
     "data": {
      "text/html": [
       "<div>\n",
       "<style scoped>\n",
       "    .dataframe tbody tr th:only-of-type {\n",
       "        vertical-align: middle;\n",
       "    }\n",
       "\n",
       "    .dataframe tbody tr th {\n",
       "        vertical-align: top;\n",
       "    }\n",
       "\n",
       "    .dataframe thead th {\n",
       "        text-align: right;\n",
       "    }\n",
       "</style>\n",
       "<table border=\"1\" class=\"dataframe\">\n",
       "  <thead>\n",
       "    <tr style=\"text-align: right;\">\n",
       "      <th></th>\n",
       "      <th>year</th>\n",
       "      <th>pop</th>\n",
       "    </tr>\n",
       "  </thead>\n",
       "  <tbody>\n",
       "    <tr>\n",
       "      <th>0</th>\n",
       "      <td>1952</td>\n",
       "      <td>8425333.0</td>\n",
       "    </tr>\n",
       "    <tr>\n",
       "      <th>1</th>\n",
       "      <td>1957</td>\n",
       "      <td>9240934.0</td>\n",
       "    </tr>\n",
       "    <tr>\n",
       "      <th>2</th>\n",
       "      <td>1962</td>\n",
       "      <td>10267083.0</td>\n",
       "    </tr>\n",
       "    <tr>\n",
       "      <th>3</th>\n",
       "      <td>1967</td>\n",
       "      <td>11537966.0</td>\n",
       "    </tr>\n",
       "    <tr>\n",
       "      <th>4</th>\n",
       "      <td>1972</td>\n",
       "      <td>13079460.0</td>\n",
       "    </tr>\n",
       "  </tbody>\n",
       "</table>\n",
       "</div>"
      ],
      "text/plain": [
       "   year         pop\n",
       "0  1952   8425333.0\n",
       "1  1957   9240934.0\n",
       "2  1962  10267083.0\n",
       "3  1967  11537966.0\n",
       "4  1972  13079460.0"
      ]
     },
     "execution_count": 22,
     "metadata": {},
     "output_type": "execute_result"
    }
   ],
   "source": [
    "df.loc[:,[\"year\",\"pop\"]].head()"
   ]
  },
  {
   "cell_type": "markdown",
   "id": "6d2899e1",
   "metadata": {
    "papermill": {
     "duration": 0.024221,
     "end_time": "2023-02-18T14:33:43.954546",
     "exception": false,
     "start_time": "2023-02-18T14:33:43.930325",
     "status": "completed"
    },
    "tags": []
   },
   "source": [
    "## Subset columns by `range`"
   ]
  },
  {
   "cell_type": "code",
   "execution_count": 23,
   "id": "0e0d0ca7",
   "metadata": {
    "execution": {
     "iopub.execute_input": "2023-02-18T14:33:44.005943Z",
     "iopub.status.busy": "2023-02-18T14:33:44.005522Z",
     "iopub.status.idle": "2023-02-18T14:33:44.012365Z",
     "shell.execute_reply": "2023-02-18T14:33:44.011183Z"
    },
    "papermill": {
     "duration": 0.035125,
     "end_time": "2023-02-18T14:33:44.014446",
     "exception": false,
     "start_time": "2023-02-18T14:33:43.979321",
     "status": "completed"
    },
    "tags": []
   },
   "outputs": [
    {
     "data": {
      "text/plain": [
       "range(0, 5)"
      ]
     },
     "execution_count": 23,
     "metadata": {},
     "output_type": "execute_result"
    }
   ],
   "source": [
    "small_range = range(0,5)\n",
    "small_range"
   ]
  },
  {
   "cell_type": "code",
   "execution_count": 24,
   "id": "8f28fb0e",
   "metadata": {
    "execution": {
     "iopub.execute_input": "2023-02-18T14:33:44.066156Z",
     "iopub.status.busy": "2023-02-18T14:33:44.065443Z",
     "iopub.status.idle": "2023-02-18T14:33:44.083485Z",
     "shell.execute_reply": "2023-02-18T14:33:44.082052Z"
    },
    "papermill": {
     "duration": 0.046629,
     "end_time": "2023-02-18T14:33:44.085823",
     "exception": false,
     "start_time": "2023-02-18T14:33:44.039194",
     "status": "completed"
    },
    "tags": []
   },
   "outputs": [
    {
     "data": {
      "text/html": [
       "<div>\n",
       "<style scoped>\n",
       "    .dataframe tbody tr th:only-of-type {\n",
       "        vertical-align: middle;\n",
       "    }\n",
       "\n",
       "    .dataframe tbody tr th {\n",
       "        vertical-align: top;\n",
       "    }\n",
       "\n",
       "    .dataframe thead th {\n",
       "        text-align: right;\n",
       "    }\n",
       "</style>\n",
       "<table border=\"1\" class=\"dataframe\">\n",
       "  <thead>\n",
       "    <tr style=\"text-align: right;\">\n",
       "      <th></th>\n",
       "      <th>country</th>\n",
       "      <th>year</th>\n",
       "      <th>pop</th>\n",
       "      <th>continent</th>\n",
       "      <th>lifeExp</th>\n",
       "    </tr>\n",
       "  </thead>\n",
       "  <tbody>\n",
       "    <tr>\n",
       "      <th>0</th>\n",
       "      <td>Afghanistan</td>\n",
       "      <td>1952</td>\n",
       "      <td>8425333.0</td>\n",
       "      <td>Asia</td>\n",
       "      <td>28.801</td>\n",
       "    </tr>\n",
       "    <tr>\n",
       "      <th>1</th>\n",
       "      <td>Afghanistan</td>\n",
       "      <td>1957</td>\n",
       "      <td>9240934.0</td>\n",
       "      <td>Asia</td>\n",
       "      <td>30.332</td>\n",
       "    </tr>\n",
       "    <tr>\n",
       "      <th>2</th>\n",
       "      <td>Afghanistan</td>\n",
       "      <td>1962</td>\n",
       "      <td>10267083.0</td>\n",
       "      <td>Asia</td>\n",
       "      <td>31.997</td>\n",
       "    </tr>\n",
       "    <tr>\n",
       "      <th>3</th>\n",
       "      <td>Afghanistan</td>\n",
       "      <td>1967</td>\n",
       "      <td>11537966.0</td>\n",
       "      <td>Asia</td>\n",
       "      <td>34.020</td>\n",
       "    </tr>\n",
       "    <tr>\n",
       "      <th>4</th>\n",
       "      <td>Afghanistan</td>\n",
       "      <td>1972</td>\n",
       "      <td>13079460.0</td>\n",
       "      <td>Asia</td>\n",
       "      <td>36.088</td>\n",
       "    </tr>\n",
       "    <tr>\n",
       "      <th>...</th>\n",
       "      <td>...</td>\n",
       "      <td>...</td>\n",
       "      <td>...</td>\n",
       "      <td>...</td>\n",
       "      <td>...</td>\n",
       "    </tr>\n",
       "    <tr>\n",
       "      <th>1699</th>\n",
       "      <td>Zimbabwe</td>\n",
       "      <td>1987</td>\n",
       "      <td>9216418.0</td>\n",
       "      <td>Africa</td>\n",
       "      <td>62.351</td>\n",
       "    </tr>\n",
       "    <tr>\n",
       "      <th>1700</th>\n",
       "      <td>Zimbabwe</td>\n",
       "      <td>1992</td>\n",
       "      <td>10704340.0</td>\n",
       "      <td>Africa</td>\n",
       "      <td>60.377</td>\n",
       "    </tr>\n",
       "    <tr>\n",
       "      <th>1701</th>\n",
       "      <td>Zimbabwe</td>\n",
       "      <td>1997</td>\n",
       "      <td>11404948.0</td>\n",
       "      <td>Africa</td>\n",
       "      <td>46.809</td>\n",
       "    </tr>\n",
       "    <tr>\n",
       "      <th>1702</th>\n",
       "      <td>Zimbabwe</td>\n",
       "      <td>2002</td>\n",
       "      <td>11926563.0</td>\n",
       "      <td>Africa</td>\n",
       "      <td>39.989</td>\n",
       "    </tr>\n",
       "    <tr>\n",
       "      <th>1703</th>\n",
       "      <td>Zimbabwe</td>\n",
       "      <td>2007</td>\n",
       "      <td>12311143.0</td>\n",
       "      <td>Africa</td>\n",
       "      <td>43.487</td>\n",
       "    </tr>\n",
       "  </tbody>\n",
       "</table>\n",
       "<p>1704 rows × 5 columns</p>\n",
       "</div>"
      ],
      "text/plain": [
       "          country  year         pop continent  lifeExp\n",
       "0     Afghanistan  1952   8425333.0      Asia   28.801\n",
       "1     Afghanistan  1957   9240934.0      Asia   30.332\n",
       "2     Afghanistan  1962  10267083.0      Asia   31.997\n",
       "3     Afghanistan  1967  11537966.0      Asia   34.020\n",
       "4     Afghanistan  1972  13079460.0      Asia   36.088\n",
       "...           ...   ...         ...       ...      ...\n",
       "1699     Zimbabwe  1987   9216418.0    Africa   62.351\n",
       "1700     Zimbabwe  1992  10704340.0    Africa   60.377\n",
       "1701     Zimbabwe  1997  11404948.0    Africa   46.809\n",
       "1702     Zimbabwe  2002  11926563.0    Africa   39.989\n",
       "1703     Zimbabwe  2007  12311143.0    Africa   43.487\n",
       "\n",
       "[1704 rows x 5 columns]"
      ]
     },
     "execution_count": 24,
     "metadata": {},
     "output_type": "execute_result"
    }
   ],
   "source": [
    "df.iloc[:,small_range]"
   ]
  },
  {
   "cell_type": "markdown",
   "id": "8b6523f4",
   "metadata": {
    "papermill": {
     "duration": 0.024924,
     "end_time": "2023-02-18T14:33:44.136038",
     "exception": false,
     "start_time": "2023-02-18T14:33:44.111114",
     "status": "completed"
    },
    "tags": []
   },
   "source": [
    "## subsetting rows & columns simultaneously"
   ]
  },
  {
   "cell_type": "code",
   "execution_count": 25,
   "id": "a7d58a4c",
   "metadata": {
    "execution": {
     "iopub.execute_input": "2023-02-18T14:33:44.188382Z",
     "iopub.status.busy": "2023-02-18T14:33:44.187560Z",
     "iopub.status.idle": "2023-02-18T14:33:44.195011Z",
     "shell.execute_reply": "2023-02-18T14:33:44.194086Z"
    },
    "papermill": {
     "duration": 0.036403,
     "end_time": "2023-02-18T14:33:44.197531",
     "exception": false,
     "start_time": "2023-02-18T14:33:44.161128",
     "status": "completed"
    },
    "tags": []
   },
   "outputs": [
    {
     "data": {
      "text/plain": [
       "'Angola'"
      ]
     },
     "execution_count": 25,
     "metadata": {},
     "output_type": "execute_result"
    }
   ],
   "source": [
    "df.loc[42,\"country\"]"
   ]
  },
  {
   "cell_type": "code",
   "execution_count": 26,
   "id": "c30bfc52",
   "metadata": {
    "execution": {
     "iopub.execute_input": "2023-02-18T14:33:44.250864Z",
     "iopub.status.busy": "2023-02-18T14:33:44.250190Z",
     "iopub.status.idle": "2023-02-18T14:33:44.256970Z",
     "shell.execute_reply": "2023-02-18T14:33:44.256082Z"
    },
    "papermill": {
     "duration": 0.035897,
     "end_time": "2023-02-18T14:33:44.259020",
     "exception": false,
     "start_time": "2023-02-18T14:33:44.223123",
     "status": "completed"
    },
    "tags": []
   },
   "outputs": [
    {
     "data": {
      "text/plain": [
       "'Angola'"
      ]
     },
     "execution_count": 26,
     "metadata": {},
     "output_type": "execute_result"
    }
   ],
   "source": [
    "df.iloc[42,0]"
   ]
  },
  {
   "cell_type": "markdown",
   "id": "d13d488a",
   "metadata": {
    "papermill": {
     "duration": 0.024914,
     "end_time": "2023-02-18T14:33:44.309371",
     "exception": false,
     "start_time": "2023-02-18T14:33:44.284457",
     "status": "completed"
    },
    "tags": []
   },
   "source": [
    "## Subsetting Multiple Rows and Columns\n",
    "\n",
    "* get the 1st, 100th, and 1000th rows from the 1st, 4th, and 6th columns"
   ]
  },
  {
   "cell_type": "code",
   "execution_count": 27,
   "id": "7f12e494",
   "metadata": {
    "execution": {
     "iopub.execute_input": "2023-02-18T14:33:44.362815Z",
     "iopub.status.busy": "2023-02-18T14:33:44.362140Z",
     "iopub.status.idle": "2023-02-18T14:33:44.373909Z",
     "shell.execute_reply": "2023-02-18T14:33:44.372855Z"
    },
    "papermill": {
     "duration": 0.040815,
     "end_time": "2023-02-18T14:33:44.376020",
     "exception": false,
     "start_time": "2023-02-18T14:33:44.335205",
     "status": "completed"
    },
    "tags": []
   },
   "outputs": [
    {
     "data": {
      "text/html": [
       "<div>\n",
       "<style scoped>\n",
       "    .dataframe tbody tr th:only-of-type {\n",
       "        vertical-align: middle;\n",
       "    }\n",
       "\n",
       "    .dataframe tbody tr th {\n",
       "        vertical-align: top;\n",
       "    }\n",
       "\n",
       "    .dataframe thead th {\n",
       "        text-align: right;\n",
       "    }\n",
       "</style>\n",
       "<table border=\"1\" class=\"dataframe\">\n",
       "  <thead>\n",
       "    <tr style=\"text-align: right;\">\n",
       "      <th></th>\n",
       "      <th>country</th>\n",
       "      <th>continent</th>\n",
       "      <th>gdpPercap</th>\n",
       "    </tr>\n",
       "  </thead>\n",
       "  <tbody>\n",
       "    <tr>\n",
       "      <th>0</th>\n",
       "      <td>Afghanistan</td>\n",
       "      <td>Asia</td>\n",
       "      <td>779.445314</td>\n",
       "    </tr>\n",
       "    <tr>\n",
       "      <th>99</th>\n",
       "      <td>Bangladesh</td>\n",
       "      <td>Asia</td>\n",
       "      <td>721.186086</td>\n",
       "    </tr>\n",
       "    <tr>\n",
       "      <th>999</th>\n",
       "      <td>Mongolia</td>\n",
       "      <td>Asia</td>\n",
       "      <td>1226.041130</td>\n",
       "    </tr>\n",
       "  </tbody>\n",
       "</table>\n",
       "</div>"
      ],
      "text/plain": [
       "         country continent    gdpPercap\n",
       "0    Afghanistan      Asia   779.445314\n",
       "99    Bangladesh      Asia   721.186086\n",
       "999     Mongolia      Asia  1226.041130"
      ]
     },
     "execution_count": 27,
     "metadata": {},
     "output_type": "execute_result"
    }
   ],
   "source": [
    "df.iloc[[0,99,999],[0,3,5]]"
   ]
  },
  {
   "cell_type": "markdown",
   "id": "21f3fcde",
   "metadata": {
    "papermill": {
     "duration": 0.02529,
     "end_time": "2023-02-18T14:33:44.426682",
     "exception": false,
     "start_time": "2023-02-18T14:33:44.401392",
     "status": "completed"
    },
    "tags": []
   },
   "source": [
    "* if we use the column names directly, it makes the code a bit easier to read\n",
    "\n",
    "**note** now we have to use loc, instead of iloc"
   ]
  },
  {
   "cell_type": "code",
   "execution_count": 28,
   "id": "5d1a755a",
   "metadata": {
    "execution": {
     "iopub.execute_input": "2023-02-18T14:33:44.479800Z",
     "iopub.status.busy": "2023-02-18T14:33:44.479130Z",
     "iopub.status.idle": "2023-02-18T14:33:44.491883Z",
     "shell.execute_reply": "2023-02-18T14:33:44.490741Z"
    },
    "papermill": {
     "duration": 0.041918,
     "end_time": "2023-02-18T14:33:44.494082",
     "exception": false,
     "start_time": "2023-02-18T14:33:44.452164",
     "status": "completed"
    },
    "tags": []
   },
   "outputs": [
    {
     "data": {
      "text/html": [
       "<div>\n",
       "<style scoped>\n",
       "    .dataframe tbody tr th:only-of-type {\n",
       "        vertical-align: middle;\n",
       "    }\n",
       "\n",
       "    .dataframe tbody tr th {\n",
       "        vertical-align: top;\n",
       "    }\n",
       "\n",
       "    .dataframe thead th {\n",
       "        text-align: right;\n",
       "    }\n",
       "</style>\n",
       "<table border=\"1\" class=\"dataframe\">\n",
       "  <thead>\n",
       "    <tr style=\"text-align: right;\">\n",
       "      <th></th>\n",
       "      <th>country</th>\n",
       "      <th>continent</th>\n",
       "      <th>gdpPercap</th>\n",
       "    </tr>\n",
       "  </thead>\n",
       "  <tbody>\n",
       "    <tr>\n",
       "      <th>0</th>\n",
       "      <td>Afghanistan</td>\n",
       "      <td>Asia</td>\n",
       "      <td>779.445314</td>\n",
       "    </tr>\n",
       "    <tr>\n",
       "      <th>99</th>\n",
       "      <td>Bangladesh</td>\n",
       "      <td>Asia</td>\n",
       "      <td>721.186086</td>\n",
       "    </tr>\n",
       "    <tr>\n",
       "      <th>999</th>\n",
       "      <td>Mongolia</td>\n",
       "      <td>Asia</td>\n",
       "      <td>1226.041130</td>\n",
       "    </tr>\n",
       "  </tbody>\n",
       "</table>\n",
       "</div>"
      ],
      "text/plain": [
       "         country continent    gdpPercap\n",
       "0    Afghanistan      Asia   779.445314\n",
       "99    Bangladesh      Asia   721.186086\n",
       "999     Mongolia      Asia  1226.041130"
      ]
     },
     "execution_count": 28,
     "metadata": {},
     "output_type": "execute_result"
    }
   ],
   "source": [
    "df.loc[[0,99,999],[\"country\",\"continent\",\"gdpPercap\"]]"
   ]
  },
  {
   "cell_type": "markdown",
   "id": "a3e15e6b",
   "metadata": {
    "papermill": {
     "duration": 0.025621,
     "end_time": "2023-02-18T14:33:44.545640",
     "exception": false,
     "start_time": "2023-02-18T14:33:44.520019",
     "status": "completed"
    },
    "tags": []
   },
   "source": [
    "## Grouped Means\n",
    " \n",
    "* For each year in our data, what was the average life expectancy?\n",
    "* To answer this question, we need to split our data into parts by year;\n",
    "* then we get the 'lifeExp' column and calculate the mean"
   ]
  },
  {
   "cell_type": "code",
   "execution_count": 29,
   "id": "9f333003",
   "metadata": {
    "execution": {
     "iopub.execute_input": "2023-02-18T14:33:44.599185Z",
     "iopub.status.busy": "2023-02-18T14:33:44.598792Z",
     "iopub.status.idle": "2023-02-18T14:33:44.615851Z",
     "shell.execute_reply": "2023-02-18T14:33:44.614707Z"
    },
    "papermill": {
     "duration": 0.046146,
     "end_time": "2023-02-18T14:33:44.618314",
     "exception": false,
     "start_time": "2023-02-18T14:33:44.572168",
     "status": "completed"
    },
    "tags": []
   },
   "outputs": [
    {
     "data": {
      "text/html": [
       "<div>\n",
       "<style scoped>\n",
       "    .dataframe tbody tr th:only-of-type {\n",
       "        vertical-align: middle;\n",
       "    }\n",
       "\n",
       "    .dataframe tbody tr th {\n",
       "        vertical-align: top;\n",
       "    }\n",
       "\n",
       "    .dataframe thead th {\n",
       "        text-align: right;\n",
       "    }\n",
       "</style>\n",
       "<table border=\"1\" class=\"dataframe\">\n",
       "  <thead>\n",
       "    <tr style=\"text-align: right;\">\n",
       "      <th></th>\n",
       "      <th>pop</th>\n",
       "      <th>lifeExp</th>\n",
       "      <th>gdpPercap</th>\n",
       "    </tr>\n",
       "    <tr>\n",
       "      <th>year</th>\n",
       "      <th></th>\n",
       "      <th></th>\n",
       "      <th></th>\n",
       "    </tr>\n",
       "  </thead>\n",
       "  <tbody>\n",
       "    <tr>\n",
       "      <th>2007</th>\n",
       "      <td>4.402122e+07</td>\n",
       "      <td>67.007423</td>\n",
       "      <td>11680.071820</td>\n",
       "    </tr>\n",
       "    <tr>\n",
       "      <th>2002</th>\n",
       "      <td>4.145759e+07</td>\n",
       "      <td>65.694923</td>\n",
       "      <td>9917.848365</td>\n",
       "    </tr>\n",
       "    <tr>\n",
       "      <th>1997</th>\n",
       "      <td>3.883947e+07</td>\n",
       "      <td>65.014676</td>\n",
       "      <td>9090.175363</td>\n",
       "    </tr>\n",
       "    <tr>\n",
       "      <th>1992</th>\n",
       "      <td>3.599092e+07</td>\n",
       "      <td>64.160338</td>\n",
       "      <td>8158.608521</td>\n",
       "    </tr>\n",
       "    <tr>\n",
       "      <th>1987</th>\n",
       "      <td>3.303857e+07</td>\n",
       "      <td>63.212613</td>\n",
       "      <td>7900.920218</td>\n",
       "    </tr>\n",
       "    <tr>\n",
       "      <th>1982</th>\n",
       "      <td>3.020730e+07</td>\n",
       "      <td>61.533197</td>\n",
       "      <td>7518.901673</td>\n",
       "    </tr>\n",
       "    <tr>\n",
       "      <th>1977</th>\n",
       "      <td>2.767638e+07</td>\n",
       "      <td>59.570157</td>\n",
       "      <td>7313.166421</td>\n",
       "    </tr>\n",
       "    <tr>\n",
       "      <th>1972</th>\n",
       "      <td>2.518998e+07</td>\n",
       "      <td>57.647386</td>\n",
       "      <td>6770.082815</td>\n",
       "    </tr>\n",
       "    <tr>\n",
       "      <th>1967</th>\n",
       "      <td>2.265830e+07</td>\n",
       "      <td>55.678290</td>\n",
       "      <td>5483.653047</td>\n",
       "    </tr>\n",
       "    <tr>\n",
       "      <th>1962</th>\n",
       "      <td>2.042101e+07</td>\n",
       "      <td>53.609249</td>\n",
       "      <td>4725.812342</td>\n",
       "    </tr>\n",
       "    <tr>\n",
       "      <th>1957</th>\n",
       "      <td>1.876341e+07</td>\n",
       "      <td>51.507401</td>\n",
       "      <td>4299.408345</td>\n",
       "    </tr>\n",
       "    <tr>\n",
       "      <th>1952</th>\n",
       "      <td>1.695040e+07</td>\n",
       "      <td>49.057620</td>\n",
       "      <td>3725.276046</td>\n",
       "    </tr>\n",
       "  </tbody>\n",
       "</table>\n",
       "</div>"
      ],
      "text/plain": [
       "               pop    lifeExp     gdpPercap\n",
       "year                                       \n",
       "2007  4.402122e+07  67.007423  11680.071820\n",
       "2002  4.145759e+07  65.694923   9917.848365\n",
       "1997  3.883947e+07  65.014676   9090.175363\n",
       "1992  3.599092e+07  64.160338   8158.608521\n",
       "1987  3.303857e+07  63.212613   7900.920218\n",
       "1982  3.020730e+07  61.533197   7518.901673\n",
       "1977  2.767638e+07  59.570157   7313.166421\n",
       "1972  2.518998e+07  57.647386   6770.082815\n",
       "1967  2.265830e+07  55.678290   5483.653047\n",
       "1962  2.042101e+07  53.609249   4725.812342\n",
       "1957  1.876341e+07  51.507401   4299.408345\n",
       "1952  1.695040e+07  49.057620   3725.276046"
      ]
     },
     "execution_count": 29,
     "metadata": {},
     "output_type": "execute_result"
    }
   ],
   "source": [
    "df.groupby(\"year\").mean().sort_values(by=\"lifeExp\",ascending=False)"
   ]
  },
  {
   "cell_type": "code",
   "execution_count": 30,
   "id": "bfd78857",
   "metadata": {
    "execution": {
     "iopub.execute_input": "2023-02-18T14:33:44.673218Z",
     "iopub.status.busy": "2023-02-18T14:33:44.671245Z",
     "iopub.status.idle": "2023-02-18T14:33:44.697326Z",
     "shell.execute_reply": "2023-02-18T14:33:44.696220Z"
    },
    "papermill": {
     "duration": 0.055389,
     "end_time": "2023-02-18T14:33:44.699848",
     "exception": false,
     "start_time": "2023-02-18T14:33:44.644459",
     "status": "completed"
    },
    "tags": []
   },
   "outputs": [
    {
     "data": {
      "text/html": [
       "<div>\n",
       "<style scoped>\n",
       "    .dataframe tbody tr th:only-of-type {\n",
       "        vertical-align: middle;\n",
       "    }\n",
       "\n",
       "    .dataframe tbody tr th {\n",
       "        vertical-align: top;\n",
       "    }\n",
       "\n",
       "    .dataframe thead th {\n",
       "        text-align: right;\n",
       "    }\n",
       "</style>\n",
       "<table border=\"1\" class=\"dataframe\">\n",
       "  <thead>\n",
       "    <tr style=\"text-align: right;\">\n",
       "      <th></th>\n",
       "      <th></th>\n",
       "      <th>pop</th>\n",
       "      <th>lifeExp</th>\n",
       "      <th>gdpPercap</th>\n",
       "    </tr>\n",
       "    <tr>\n",
       "      <th>year</th>\n",
       "      <th>continent</th>\n",
       "      <th></th>\n",
       "      <th></th>\n",
       "      <th></th>\n",
       "    </tr>\n",
       "  </thead>\n",
       "  <tbody>\n",
       "    <tr>\n",
       "      <th rowspan=\"5\" valign=\"top\">1952</th>\n",
       "      <th>Africa</th>\n",
       "      <td>4.570010e+06</td>\n",
       "      <td>39.135500</td>\n",
       "      <td>1252.572466</td>\n",
       "    </tr>\n",
       "    <tr>\n",
       "      <th>Americas</th>\n",
       "      <td>1.380610e+07</td>\n",
       "      <td>53.279840</td>\n",
       "      <td>4079.062552</td>\n",
       "    </tr>\n",
       "    <tr>\n",
       "      <th>Asia</th>\n",
       "      <td>4.228356e+07</td>\n",
       "      <td>46.314394</td>\n",
       "      <td>5195.484004</td>\n",
       "    </tr>\n",
       "    <tr>\n",
       "      <th>Europe</th>\n",
       "      <td>1.393736e+07</td>\n",
       "      <td>64.408500</td>\n",
       "      <td>5661.057435</td>\n",
       "    </tr>\n",
       "    <tr>\n",
       "      <th>Oceania</th>\n",
       "      <td>5.343003e+06</td>\n",
       "      <td>69.255000</td>\n",
       "      <td>10298.085650</td>\n",
       "    </tr>\n",
       "    <tr>\n",
       "      <th rowspan=\"5\" valign=\"top\">1957</th>\n",
       "      <th>Africa</th>\n",
       "      <td>5.093033e+06</td>\n",
       "      <td>41.266346</td>\n",
       "      <td>1385.236062</td>\n",
       "    </tr>\n",
       "    <tr>\n",
       "      <th>Americas</th>\n",
       "      <td>1.547816e+07</td>\n",
       "      <td>55.960280</td>\n",
       "      <td>4616.043733</td>\n",
       "    </tr>\n",
       "    <tr>\n",
       "      <th>Asia</th>\n",
       "      <td>4.735699e+07</td>\n",
       "      <td>49.318544</td>\n",
       "      <td>5787.732940</td>\n",
       "    </tr>\n",
       "    <tr>\n",
       "      <th>Europe</th>\n",
       "      <td>1.459635e+07</td>\n",
       "      <td>66.703067</td>\n",
       "      <td>6963.012816</td>\n",
       "    </tr>\n",
       "    <tr>\n",
       "      <th>Oceania</th>\n",
       "      <td>5.970988e+06</td>\n",
       "      <td>70.295000</td>\n",
       "      <td>11598.522455</td>\n",
       "    </tr>\n",
       "    <tr>\n",
       "      <th rowspan=\"5\" valign=\"top\">1962</th>\n",
       "      <th>Africa</th>\n",
       "      <td>5.702247e+06</td>\n",
       "      <td>43.319442</td>\n",
       "      <td>1598.078825</td>\n",
       "    </tr>\n",
       "    <tr>\n",
       "      <th>Americas</th>\n",
       "      <td>1.733081e+07</td>\n",
       "      <td>58.398760</td>\n",
       "      <td>4901.541870</td>\n",
       "    </tr>\n",
       "    <tr>\n",
       "      <th>Asia</th>\n",
       "      <td>5.140476e+07</td>\n",
       "      <td>51.563223</td>\n",
       "      <td>5729.369625</td>\n",
       "    </tr>\n",
       "    <tr>\n",
       "      <th>Europe</th>\n",
       "      <td>1.534517e+07</td>\n",
       "      <td>68.539233</td>\n",
       "      <td>8365.486814</td>\n",
       "    </tr>\n",
       "    <tr>\n",
       "      <th>Oceania</th>\n",
       "      <td>6.641759e+06</td>\n",
       "      <td>71.085000</td>\n",
       "      <td>12696.452430</td>\n",
       "    </tr>\n",
       "    <tr>\n",
       "      <th rowspan=\"5\" valign=\"top\">1967</th>\n",
       "      <th>Africa</th>\n",
       "      <td>6.447875e+06</td>\n",
       "      <td>45.334538</td>\n",
       "      <td>2050.363801</td>\n",
       "    </tr>\n",
       "    <tr>\n",
       "      <th>Americas</th>\n",
       "      <td>1.922986e+07</td>\n",
       "      <td>60.410920</td>\n",
       "      <td>5668.253496</td>\n",
       "    </tr>\n",
       "    <tr>\n",
       "      <th>Asia</th>\n",
       "      <td>5.774736e+07</td>\n",
       "      <td>54.663640</td>\n",
       "      <td>5971.173374</td>\n",
       "    </tr>\n",
       "    <tr>\n",
       "      <th>Europe</th>\n",
       "      <td>1.603930e+07</td>\n",
       "      <td>69.737600</td>\n",
       "      <td>10143.823757</td>\n",
       "    </tr>\n",
       "    <tr>\n",
       "      <th>Oceania</th>\n",
       "      <td>7.300207e+06</td>\n",
       "      <td>71.310000</td>\n",
       "      <td>14495.021790</td>\n",
       "    </tr>\n",
       "    <tr>\n",
       "      <th rowspan=\"5\" valign=\"top\">1972</th>\n",
       "      <th>Africa</th>\n",
       "      <td>7.305376e+06</td>\n",
       "      <td>47.450942</td>\n",
       "      <td>2339.615674</td>\n",
       "    </tr>\n",
       "    <tr>\n",
       "      <th>Americas</th>\n",
       "      <td>2.117537e+07</td>\n",
       "      <td>62.394920</td>\n",
       "      <td>6491.334139</td>\n",
       "    </tr>\n",
       "    <tr>\n",
       "      <th>Asia</th>\n",
       "      <td>6.518098e+07</td>\n",
       "      <td>57.319269</td>\n",
       "      <td>8187.468699</td>\n",
       "    </tr>\n",
       "    <tr>\n",
       "      <th>Europe</th>\n",
       "      <td>1.668784e+07</td>\n",
       "      <td>70.775033</td>\n",
       "      <td>12479.575246</td>\n",
       "    </tr>\n",
       "    <tr>\n",
       "      <th>Oceania</th>\n",
       "      <td>8.053050e+06</td>\n",
       "      <td>71.910000</td>\n",
       "      <td>16417.333380</td>\n",
       "    </tr>\n",
       "    <tr>\n",
       "      <th rowspan=\"5\" valign=\"top\">1977</th>\n",
       "      <th>Africa</th>\n",
       "      <td>8.328097e+06</td>\n",
       "      <td>49.580423</td>\n",
       "      <td>2585.938508</td>\n",
       "    </tr>\n",
       "    <tr>\n",
       "      <th>Americas</th>\n",
       "      <td>2.312271e+07</td>\n",
       "      <td>64.391560</td>\n",
       "      <td>7352.007126</td>\n",
       "    </tr>\n",
       "    <tr>\n",
       "      <th>Asia</th>\n",
       "      <td>7.225799e+07</td>\n",
       "      <td>59.610556</td>\n",
       "      <td>7791.314020</td>\n",
       "    </tr>\n",
       "    <tr>\n",
       "      <th>Europe</th>\n",
       "      <td>1.723882e+07</td>\n",
       "      <td>71.937767</td>\n",
       "      <td>14283.979110</td>\n",
       "    </tr>\n",
       "    <tr>\n",
       "      <th>Oceania</th>\n",
       "      <td>8.619500e+06</td>\n",
       "      <td>72.855000</td>\n",
       "      <td>17283.957605</td>\n",
       "    </tr>\n",
       "    <tr>\n",
       "      <th rowspan=\"5\" valign=\"top\">1982</th>\n",
       "      <th>Africa</th>\n",
       "      <td>9.602857e+06</td>\n",
       "      <td>51.592865</td>\n",
       "      <td>2481.592960</td>\n",
       "    </tr>\n",
       "    <tr>\n",
       "      <th>Americas</th>\n",
       "      <td>2.521164e+07</td>\n",
       "      <td>66.228840</td>\n",
       "      <td>7506.737088</td>\n",
       "    </tr>\n",
       "    <tr>\n",
       "      <th>Asia</th>\n",
       "      <td>7.909502e+07</td>\n",
       "      <td>62.617939</td>\n",
       "      <td>7434.135157</td>\n",
       "    </tr>\n",
       "    <tr>\n",
       "      <th>Europe</th>\n",
       "      <td>1.770890e+07</td>\n",
       "      <td>72.806400</td>\n",
       "      <td>15617.896551</td>\n",
       "    </tr>\n",
       "    <tr>\n",
       "      <th>Oceania</th>\n",
       "      <td>9.197425e+06</td>\n",
       "      <td>74.290000</td>\n",
       "      <td>18554.709840</td>\n",
       "    </tr>\n",
       "    <tr>\n",
       "      <th rowspan=\"5\" valign=\"top\">1987</th>\n",
       "      <th>Africa</th>\n",
       "      <td>1.105450e+07</td>\n",
       "      <td>53.344788</td>\n",
       "      <td>2282.668991</td>\n",
       "    </tr>\n",
       "    <tr>\n",
       "      <th>Americas</th>\n",
       "      <td>2.731016e+07</td>\n",
       "      <td>68.090720</td>\n",
       "      <td>7793.400261</td>\n",
       "    </tr>\n",
       "    <tr>\n",
       "      <th>Asia</th>\n",
       "      <td>8.700669e+07</td>\n",
       "      <td>64.851182</td>\n",
       "      <td>7608.226508</td>\n",
       "    </tr>\n",
       "    <tr>\n",
       "      <th>Europe</th>\n",
       "      <td>1.810314e+07</td>\n",
       "      <td>73.642167</td>\n",
       "      <td>17214.310727</td>\n",
       "    </tr>\n",
       "    <tr>\n",
       "      <th>Oceania</th>\n",
       "      <td>9.787208e+06</td>\n",
       "      <td>75.320000</td>\n",
       "      <td>20448.040160</td>\n",
       "    </tr>\n",
       "    <tr>\n",
       "      <th rowspan=\"5\" valign=\"top\">1992</th>\n",
       "      <th>Africa</th>\n",
       "      <td>1.267464e+07</td>\n",
       "      <td>53.629577</td>\n",
       "      <td>2281.810333</td>\n",
       "    </tr>\n",
       "    <tr>\n",
       "      <th>Americas</th>\n",
       "      <td>2.957096e+07</td>\n",
       "      <td>69.568360</td>\n",
       "      <td>8044.934406</td>\n",
       "    </tr>\n",
       "    <tr>\n",
       "      <th>Asia</th>\n",
       "      <td>9.494825e+07</td>\n",
       "      <td>66.537212</td>\n",
       "      <td>8639.690248</td>\n",
       "    </tr>\n",
       "    <tr>\n",
       "      <th>Europe</th>\n",
       "      <td>1.860476e+07</td>\n",
       "      <td>74.440100</td>\n",
       "      <td>17061.568084</td>\n",
       "    </tr>\n",
       "    <tr>\n",
       "      <th>Oceania</th>\n",
       "      <td>1.045983e+07</td>\n",
       "      <td>76.945000</td>\n",
       "      <td>20894.045885</td>\n",
       "    </tr>\n",
       "    <tr>\n",
       "      <th rowspan=\"5\" valign=\"top\">1997</th>\n",
       "      <th>Africa</th>\n",
       "      <td>1.430448e+07</td>\n",
       "      <td>53.598269</td>\n",
       "      <td>2378.759555</td>\n",
       "    </tr>\n",
       "    <tr>\n",
       "      <th>Americas</th>\n",
       "      <td>3.187602e+07</td>\n",
       "      <td>71.150480</td>\n",
       "      <td>8889.300863</td>\n",
       "    </tr>\n",
       "    <tr>\n",
       "      <th>Asia</th>\n",
       "      <td>1.025238e+08</td>\n",
       "      <td>68.020515</td>\n",
       "      <td>9834.093295</td>\n",
       "    </tr>\n",
       "    <tr>\n",
       "      <th>Europe</th>\n",
       "      <td>1.896480e+07</td>\n",
       "      <td>75.505167</td>\n",
       "      <td>19076.781802</td>\n",
       "    </tr>\n",
       "    <tr>\n",
       "      <th>Oceania</th>\n",
       "      <td>1.112072e+07</td>\n",
       "      <td>78.190000</td>\n",
       "      <td>24024.175170</td>\n",
       "    </tr>\n",
       "    <tr>\n",
       "      <th rowspan=\"5\" valign=\"top\">2002</th>\n",
       "      <th>Africa</th>\n",
       "      <td>1.603315e+07</td>\n",
       "      <td>53.325231</td>\n",
       "      <td>2599.385159</td>\n",
       "    </tr>\n",
       "    <tr>\n",
       "      <th>Americas</th>\n",
       "      <td>3.399091e+07</td>\n",
       "      <td>72.422040</td>\n",
       "      <td>9287.677107</td>\n",
       "    </tr>\n",
       "    <tr>\n",
       "      <th>Asia</th>\n",
       "      <td>1.091455e+08</td>\n",
       "      <td>69.233879</td>\n",
       "      <td>10174.090397</td>\n",
       "    </tr>\n",
       "    <tr>\n",
       "      <th>Europe</th>\n",
       "      <td>1.927413e+07</td>\n",
       "      <td>76.700600</td>\n",
       "      <td>21711.732422</td>\n",
       "    </tr>\n",
       "    <tr>\n",
       "      <th>Oceania</th>\n",
       "      <td>1.172741e+07</td>\n",
       "      <td>79.740000</td>\n",
       "      <td>26938.778040</td>\n",
       "    </tr>\n",
       "    <tr>\n",
       "      <th rowspan=\"5\" valign=\"top\">2007</th>\n",
       "      <th>Africa</th>\n",
       "      <td>1.787576e+07</td>\n",
       "      <td>54.806038</td>\n",
       "      <td>3089.032605</td>\n",
       "    </tr>\n",
       "    <tr>\n",
       "      <th>Americas</th>\n",
       "      <td>3.595485e+07</td>\n",
       "      <td>73.608120</td>\n",
       "      <td>11003.031625</td>\n",
       "    </tr>\n",
       "    <tr>\n",
       "      <th>Asia</th>\n",
       "      <td>1.155138e+08</td>\n",
       "      <td>70.728485</td>\n",
       "      <td>12473.026870</td>\n",
       "    </tr>\n",
       "    <tr>\n",
       "      <th>Europe</th>\n",
       "      <td>1.953662e+07</td>\n",
       "      <td>77.648600</td>\n",
       "      <td>25054.481636</td>\n",
       "    </tr>\n",
       "    <tr>\n",
       "      <th>Oceania</th>\n",
       "      <td>1.227497e+07</td>\n",
       "      <td>80.719500</td>\n",
       "      <td>29810.188275</td>\n",
       "    </tr>\n",
       "  </tbody>\n",
       "</table>\n",
       "</div>"
      ],
      "text/plain": [
       "                         pop    lifeExp     gdpPercap\n",
       "year continent                                       \n",
       "1952 Africa     4.570010e+06  39.135500   1252.572466\n",
       "     Americas   1.380610e+07  53.279840   4079.062552\n",
       "     Asia       4.228356e+07  46.314394   5195.484004\n",
       "     Europe     1.393736e+07  64.408500   5661.057435\n",
       "     Oceania    5.343003e+06  69.255000  10298.085650\n",
       "1957 Africa     5.093033e+06  41.266346   1385.236062\n",
       "     Americas   1.547816e+07  55.960280   4616.043733\n",
       "     Asia       4.735699e+07  49.318544   5787.732940\n",
       "     Europe     1.459635e+07  66.703067   6963.012816\n",
       "     Oceania    5.970988e+06  70.295000  11598.522455\n",
       "1962 Africa     5.702247e+06  43.319442   1598.078825\n",
       "     Americas   1.733081e+07  58.398760   4901.541870\n",
       "     Asia       5.140476e+07  51.563223   5729.369625\n",
       "     Europe     1.534517e+07  68.539233   8365.486814\n",
       "     Oceania    6.641759e+06  71.085000  12696.452430\n",
       "1967 Africa     6.447875e+06  45.334538   2050.363801\n",
       "     Americas   1.922986e+07  60.410920   5668.253496\n",
       "     Asia       5.774736e+07  54.663640   5971.173374\n",
       "     Europe     1.603930e+07  69.737600  10143.823757\n",
       "     Oceania    7.300207e+06  71.310000  14495.021790\n",
       "1972 Africa     7.305376e+06  47.450942   2339.615674\n",
       "     Americas   2.117537e+07  62.394920   6491.334139\n",
       "     Asia       6.518098e+07  57.319269   8187.468699\n",
       "     Europe     1.668784e+07  70.775033  12479.575246\n",
       "     Oceania    8.053050e+06  71.910000  16417.333380\n",
       "1977 Africa     8.328097e+06  49.580423   2585.938508\n",
       "     Americas   2.312271e+07  64.391560   7352.007126\n",
       "     Asia       7.225799e+07  59.610556   7791.314020\n",
       "     Europe     1.723882e+07  71.937767  14283.979110\n",
       "     Oceania    8.619500e+06  72.855000  17283.957605\n",
       "1982 Africa     9.602857e+06  51.592865   2481.592960\n",
       "     Americas   2.521164e+07  66.228840   7506.737088\n",
       "     Asia       7.909502e+07  62.617939   7434.135157\n",
       "     Europe     1.770890e+07  72.806400  15617.896551\n",
       "     Oceania    9.197425e+06  74.290000  18554.709840\n",
       "1987 Africa     1.105450e+07  53.344788   2282.668991\n",
       "     Americas   2.731016e+07  68.090720   7793.400261\n",
       "     Asia       8.700669e+07  64.851182   7608.226508\n",
       "     Europe     1.810314e+07  73.642167  17214.310727\n",
       "     Oceania    9.787208e+06  75.320000  20448.040160\n",
       "1992 Africa     1.267464e+07  53.629577   2281.810333\n",
       "     Americas   2.957096e+07  69.568360   8044.934406\n",
       "     Asia       9.494825e+07  66.537212   8639.690248\n",
       "     Europe     1.860476e+07  74.440100  17061.568084\n",
       "     Oceania    1.045983e+07  76.945000  20894.045885\n",
       "1997 Africa     1.430448e+07  53.598269   2378.759555\n",
       "     Americas   3.187602e+07  71.150480   8889.300863\n",
       "     Asia       1.025238e+08  68.020515   9834.093295\n",
       "     Europe     1.896480e+07  75.505167  19076.781802\n",
       "     Oceania    1.112072e+07  78.190000  24024.175170\n",
       "2002 Africa     1.603315e+07  53.325231   2599.385159\n",
       "     Americas   3.399091e+07  72.422040   9287.677107\n",
       "     Asia       1.091455e+08  69.233879  10174.090397\n",
       "     Europe     1.927413e+07  76.700600  21711.732422\n",
       "     Oceania    1.172741e+07  79.740000  26938.778040\n",
       "2007 Africa     1.787576e+07  54.806038   3089.032605\n",
       "     Americas   3.595485e+07  73.608120  11003.031625\n",
       "     Asia       1.155138e+08  70.728485  12473.026870\n",
       "     Europe     1.953662e+07  77.648600  25054.481636\n",
       "     Oceania    1.227497e+07  80.719500  29810.188275"
      ]
     },
     "execution_count": 30,
     "metadata": {},
     "output_type": "execute_result"
    }
   ],
   "source": [
    "df.groupby([\"year\",\"continent\"]).mean()"
   ]
  },
  {
   "cell_type": "markdown",
   "id": "14f4bf98",
   "metadata": {
    "papermill": {
     "duration": 0.025857,
     "end_time": "2023-02-18T14:33:44.752037",
     "exception": false,
     "start_time": "2023-02-18T14:33:44.726180",
     "status": "completed"
    },
    "tags": []
   },
   "source": [
    "### flatten the above dataframe\n",
    "* If you need to “flatten” the dataframe, you can use the `reset_index` method."
   ]
  },
  {
   "cell_type": "code",
   "execution_count": 31,
   "id": "a924c3f3",
   "metadata": {
    "execution": {
     "iopub.execute_input": "2023-02-18T14:33:44.807022Z",
     "iopub.status.busy": "2023-02-18T14:33:44.806558Z",
     "iopub.status.idle": "2023-02-18T14:33:44.832699Z",
     "shell.execute_reply": "2023-02-18T14:33:44.831489Z"
    },
    "papermill": {
     "duration": 0.05668,
     "end_time": "2023-02-18T14:33:44.835073",
     "exception": false,
     "start_time": "2023-02-18T14:33:44.778393",
     "status": "completed"
    },
    "tags": []
   },
   "outputs": [
    {
     "data": {
      "text/html": [
       "<div>\n",
       "<style scoped>\n",
       "    .dataframe tbody tr th:only-of-type {\n",
       "        vertical-align: middle;\n",
       "    }\n",
       "\n",
       "    .dataframe tbody tr th {\n",
       "        vertical-align: top;\n",
       "    }\n",
       "\n",
       "    .dataframe thead th {\n",
       "        text-align: right;\n",
       "    }\n",
       "</style>\n",
       "<table border=\"1\" class=\"dataframe\">\n",
       "  <thead>\n",
       "    <tr style=\"text-align: right;\">\n",
       "      <th></th>\n",
       "      <th>year</th>\n",
       "      <th>continent</th>\n",
       "      <th>pop</th>\n",
       "      <th>lifeExp</th>\n",
       "      <th>gdpPercap</th>\n",
       "    </tr>\n",
       "  </thead>\n",
       "  <tbody>\n",
       "    <tr>\n",
       "      <th>0</th>\n",
       "      <td>1952</td>\n",
       "      <td>Africa</td>\n",
       "      <td>4.570010e+06</td>\n",
       "      <td>39.135500</td>\n",
       "      <td>1252.572466</td>\n",
       "    </tr>\n",
       "    <tr>\n",
       "      <th>1</th>\n",
       "      <td>1952</td>\n",
       "      <td>Americas</td>\n",
       "      <td>1.380610e+07</td>\n",
       "      <td>53.279840</td>\n",
       "      <td>4079.062552</td>\n",
       "    </tr>\n",
       "    <tr>\n",
       "      <th>2</th>\n",
       "      <td>1952</td>\n",
       "      <td>Asia</td>\n",
       "      <td>4.228356e+07</td>\n",
       "      <td>46.314394</td>\n",
       "      <td>5195.484004</td>\n",
       "    </tr>\n",
       "    <tr>\n",
       "      <th>3</th>\n",
       "      <td>1952</td>\n",
       "      <td>Europe</td>\n",
       "      <td>1.393736e+07</td>\n",
       "      <td>64.408500</td>\n",
       "      <td>5661.057435</td>\n",
       "    </tr>\n",
       "    <tr>\n",
       "      <th>4</th>\n",
       "      <td>1952</td>\n",
       "      <td>Oceania</td>\n",
       "      <td>5.343003e+06</td>\n",
       "      <td>69.255000</td>\n",
       "      <td>10298.085650</td>\n",
       "    </tr>\n",
       "    <tr>\n",
       "      <th>5</th>\n",
       "      <td>1957</td>\n",
       "      <td>Africa</td>\n",
       "      <td>5.093033e+06</td>\n",
       "      <td>41.266346</td>\n",
       "      <td>1385.236062</td>\n",
       "    </tr>\n",
       "    <tr>\n",
       "      <th>6</th>\n",
       "      <td>1957</td>\n",
       "      <td>Americas</td>\n",
       "      <td>1.547816e+07</td>\n",
       "      <td>55.960280</td>\n",
       "      <td>4616.043733</td>\n",
       "    </tr>\n",
       "    <tr>\n",
       "      <th>7</th>\n",
       "      <td>1957</td>\n",
       "      <td>Asia</td>\n",
       "      <td>4.735699e+07</td>\n",
       "      <td>49.318544</td>\n",
       "      <td>5787.732940</td>\n",
       "    </tr>\n",
       "    <tr>\n",
       "      <th>8</th>\n",
       "      <td>1957</td>\n",
       "      <td>Europe</td>\n",
       "      <td>1.459635e+07</td>\n",
       "      <td>66.703067</td>\n",
       "      <td>6963.012816</td>\n",
       "    </tr>\n",
       "    <tr>\n",
       "      <th>9</th>\n",
       "      <td>1957</td>\n",
       "      <td>Oceania</td>\n",
       "      <td>5.970988e+06</td>\n",
       "      <td>70.295000</td>\n",
       "      <td>11598.522455</td>\n",
       "    </tr>\n",
       "    <tr>\n",
       "      <th>10</th>\n",
       "      <td>1962</td>\n",
       "      <td>Africa</td>\n",
       "      <td>5.702247e+06</td>\n",
       "      <td>43.319442</td>\n",
       "      <td>1598.078825</td>\n",
       "    </tr>\n",
       "    <tr>\n",
       "      <th>11</th>\n",
       "      <td>1962</td>\n",
       "      <td>Americas</td>\n",
       "      <td>1.733081e+07</td>\n",
       "      <td>58.398760</td>\n",
       "      <td>4901.541870</td>\n",
       "    </tr>\n",
       "    <tr>\n",
       "      <th>12</th>\n",
       "      <td>1962</td>\n",
       "      <td>Asia</td>\n",
       "      <td>5.140476e+07</td>\n",
       "      <td>51.563223</td>\n",
       "      <td>5729.369625</td>\n",
       "    </tr>\n",
       "    <tr>\n",
       "      <th>13</th>\n",
       "      <td>1962</td>\n",
       "      <td>Europe</td>\n",
       "      <td>1.534517e+07</td>\n",
       "      <td>68.539233</td>\n",
       "      <td>8365.486814</td>\n",
       "    </tr>\n",
       "    <tr>\n",
       "      <th>14</th>\n",
       "      <td>1962</td>\n",
       "      <td>Oceania</td>\n",
       "      <td>6.641759e+06</td>\n",
       "      <td>71.085000</td>\n",
       "      <td>12696.452430</td>\n",
       "    </tr>\n",
       "    <tr>\n",
       "      <th>15</th>\n",
       "      <td>1967</td>\n",
       "      <td>Africa</td>\n",
       "      <td>6.447875e+06</td>\n",
       "      <td>45.334538</td>\n",
       "      <td>2050.363801</td>\n",
       "    </tr>\n",
       "    <tr>\n",
       "      <th>16</th>\n",
       "      <td>1967</td>\n",
       "      <td>Americas</td>\n",
       "      <td>1.922986e+07</td>\n",
       "      <td>60.410920</td>\n",
       "      <td>5668.253496</td>\n",
       "    </tr>\n",
       "    <tr>\n",
       "      <th>17</th>\n",
       "      <td>1967</td>\n",
       "      <td>Asia</td>\n",
       "      <td>5.774736e+07</td>\n",
       "      <td>54.663640</td>\n",
       "      <td>5971.173374</td>\n",
       "    </tr>\n",
       "    <tr>\n",
       "      <th>18</th>\n",
       "      <td>1967</td>\n",
       "      <td>Europe</td>\n",
       "      <td>1.603930e+07</td>\n",
       "      <td>69.737600</td>\n",
       "      <td>10143.823757</td>\n",
       "    </tr>\n",
       "    <tr>\n",
       "      <th>19</th>\n",
       "      <td>1967</td>\n",
       "      <td>Oceania</td>\n",
       "      <td>7.300207e+06</td>\n",
       "      <td>71.310000</td>\n",
       "      <td>14495.021790</td>\n",
       "    </tr>\n",
       "    <tr>\n",
       "      <th>20</th>\n",
       "      <td>1972</td>\n",
       "      <td>Africa</td>\n",
       "      <td>7.305376e+06</td>\n",
       "      <td>47.450942</td>\n",
       "      <td>2339.615674</td>\n",
       "    </tr>\n",
       "    <tr>\n",
       "      <th>21</th>\n",
       "      <td>1972</td>\n",
       "      <td>Americas</td>\n",
       "      <td>2.117537e+07</td>\n",
       "      <td>62.394920</td>\n",
       "      <td>6491.334139</td>\n",
       "    </tr>\n",
       "    <tr>\n",
       "      <th>22</th>\n",
       "      <td>1972</td>\n",
       "      <td>Asia</td>\n",
       "      <td>6.518098e+07</td>\n",
       "      <td>57.319269</td>\n",
       "      <td>8187.468699</td>\n",
       "    </tr>\n",
       "    <tr>\n",
       "      <th>23</th>\n",
       "      <td>1972</td>\n",
       "      <td>Europe</td>\n",
       "      <td>1.668784e+07</td>\n",
       "      <td>70.775033</td>\n",
       "      <td>12479.575246</td>\n",
       "    </tr>\n",
       "    <tr>\n",
       "      <th>24</th>\n",
       "      <td>1972</td>\n",
       "      <td>Oceania</td>\n",
       "      <td>8.053050e+06</td>\n",
       "      <td>71.910000</td>\n",
       "      <td>16417.333380</td>\n",
       "    </tr>\n",
       "    <tr>\n",
       "      <th>25</th>\n",
       "      <td>1977</td>\n",
       "      <td>Africa</td>\n",
       "      <td>8.328097e+06</td>\n",
       "      <td>49.580423</td>\n",
       "      <td>2585.938508</td>\n",
       "    </tr>\n",
       "    <tr>\n",
       "      <th>26</th>\n",
       "      <td>1977</td>\n",
       "      <td>Americas</td>\n",
       "      <td>2.312271e+07</td>\n",
       "      <td>64.391560</td>\n",
       "      <td>7352.007126</td>\n",
       "    </tr>\n",
       "    <tr>\n",
       "      <th>27</th>\n",
       "      <td>1977</td>\n",
       "      <td>Asia</td>\n",
       "      <td>7.225799e+07</td>\n",
       "      <td>59.610556</td>\n",
       "      <td>7791.314020</td>\n",
       "    </tr>\n",
       "    <tr>\n",
       "      <th>28</th>\n",
       "      <td>1977</td>\n",
       "      <td>Europe</td>\n",
       "      <td>1.723882e+07</td>\n",
       "      <td>71.937767</td>\n",
       "      <td>14283.979110</td>\n",
       "    </tr>\n",
       "    <tr>\n",
       "      <th>29</th>\n",
       "      <td>1977</td>\n",
       "      <td>Oceania</td>\n",
       "      <td>8.619500e+06</td>\n",
       "      <td>72.855000</td>\n",
       "      <td>17283.957605</td>\n",
       "    </tr>\n",
       "    <tr>\n",
       "      <th>30</th>\n",
       "      <td>1982</td>\n",
       "      <td>Africa</td>\n",
       "      <td>9.602857e+06</td>\n",
       "      <td>51.592865</td>\n",
       "      <td>2481.592960</td>\n",
       "    </tr>\n",
       "    <tr>\n",
       "      <th>31</th>\n",
       "      <td>1982</td>\n",
       "      <td>Americas</td>\n",
       "      <td>2.521164e+07</td>\n",
       "      <td>66.228840</td>\n",
       "      <td>7506.737088</td>\n",
       "    </tr>\n",
       "    <tr>\n",
       "      <th>32</th>\n",
       "      <td>1982</td>\n",
       "      <td>Asia</td>\n",
       "      <td>7.909502e+07</td>\n",
       "      <td>62.617939</td>\n",
       "      <td>7434.135157</td>\n",
       "    </tr>\n",
       "    <tr>\n",
       "      <th>33</th>\n",
       "      <td>1982</td>\n",
       "      <td>Europe</td>\n",
       "      <td>1.770890e+07</td>\n",
       "      <td>72.806400</td>\n",
       "      <td>15617.896551</td>\n",
       "    </tr>\n",
       "    <tr>\n",
       "      <th>34</th>\n",
       "      <td>1982</td>\n",
       "      <td>Oceania</td>\n",
       "      <td>9.197425e+06</td>\n",
       "      <td>74.290000</td>\n",
       "      <td>18554.709840</td>\n",
       "    </tr>\n",
       "    <tr>\n",
       "      <th>35</th>\n",
       "      <td>1987</td>\n",
       "      <td>Africa</td>\n",
       "      <td>1.105450e+07</td>\n",
       "      <td>53.344788</td>\n",
       "      <td>2282.668991</td>\n",
       "    </tr>\n",
       "    <tr>\n",
       "      <th>36</th>\n",
       "      <td>1987</td>\n",
       "      <td>Americas</td>\n",
       "      <td>2.731016e+07</td>\n",
       "      <td>68.090720</td>\n",
       "      <td>7793.400261</td>\n",
       "    </tr>\n",
       "    <tr>\n",
       "      <th>37</th>\n",
       "      <td>1987</td>\n",
       "      <td>Asia</td>\n",
       "      <td>8.700669e+07</td>\n",
       "      <td>64.851182</td>\n",
       "      <td>7608.226508</td>\n",
       "    </tr>\n",
       "    <tr>\n",
       "      <th>38</th>\n",
       "      <td>1987</td>\n",
       "      <td>Europe</td>\n",
       "      <td>1.810314e+07</td>\n",
       "      <td>73.642167</td>\n",
       "      <td>17214.310727</td>\n",
       "    </tr>\n",
       "    <tr>\n",
       "      <th>39</th>\n",
       "      <td>1987</td>\n",
       "      <td>Oceania</td>\n",
       "      <td>9.787208e+06</td>\n",
       "      <td>75.320000</td>\n",
       "      <td>20448.040160</td>\n",
       "    </tr>\n",
       "    <tr>\n",
       "      <th>40</th>\n",
       "      <td>1992</td>\n",
       "      <td>Africa</td>\n",
       "      <td>1.267464e+07</td>\n",
       "      <td>53.629577</td>\n",
       "      <td>2281.810333</td>\n",
       "    </tr>\n",
       "    <tr>\n",
       "      <th>41</th>\n",
       "      <td>1992</td>\n",
       "      <td>Americas</td>\n",
       "      <td>2.957096e+07</td>\n",
       "      <td>69.568360</td>\n",
       "      <td>8044.934406</td>\n",
       "    </tr>\n",
       "    <tr>\n",
       "      <th>42</th>\n",
       "      <td>1992</td>\n",
       "      <td>Asia</td>\n",
       "      <td>9.494825e+07</td>\n",
       "      <td>66.537212</td>\n",
       "      <td>8639.690248</td>\n",
       "    </tr>\n",
       "    <tr>\n",
       "      <th>43</th>\n",
       "      <td>1992</td>\n",
       "      <td>Europe</td>\n",
       "      <td>1.860476e+07</td>\n",
       "      <td>74.440100</td>\n",
       "      <td>17061.568084</td>\n",
       "    </tr>\n",
       "    <tr>\n",
       "      <th>44</th>\n",
       "      <td>1992</td>\n",
       "      <td>Oceania</td>\n",
       "      <td>1.045983e+07</td>\n",
       "      <td>76.945000</td>\n",
       "      <td>20894.045885</td>\n",
       "    </tr>\n",
       "    <tr>\n",
       "      <th>45</th>\n",
       "      <td>1997</td>\n",
       "      <td>Africa</td>\n",
       "      <td>1.430448e+07</td>\n",
       "      <td>53.598269</td>\n",
       "      <td>2378.759555</td>\n",
       "    </tr>\n",
       "    <tr>\n",
       "      <th>46</th>\n",
       "      <td>1997</td>\n",
       "      <td>Americas</td>\n",
       "      <td>3.187602e+07</td>\n",
       "      <td>71.150480</td>\n",
       "      <td>8889.300863</td>\n",
       "    </tr>\n",
       "    <tr>\n",
       "      <th>47</th>\n",
       "      <td>1997</td>\n",
       "      <td>Asia</td>\n",
       "      <td>1.025238e+08</td>\n",
       "      <td>68.020515</td>\n",
       "      <td>9834.093295</td>\n",
       "    </tr>\n",
       "    <tr>\n",
       "      <th>48</th>\n",
       "      <td>1997</td>\n",
       "      <td>Europe</td>\n",
       "      <td>1.896480e+07</td>\n",
       "      <td>75.505167</td>\n",
       "      <td>19076.781802</td>\n",
       "    </tr>\n",
       "    <tr>\n",
       "      <th>49</th>\n",
       "      <td>1997</td>\n",
       "      <td>Oceania</td>\n",
       "      <td>1.112072e+07</td>\n",
       "      <td>78.190000</td>\n",
       "      <td>24024.175170</td>\n",
       "    </tr>\n",
       "    <tr>\n",
       "      <th>50</th>\n",
       "      <td>2002</td>\n",
       "      <td>Africa</td>\n",
       "      <td>1.603315e+07</td>\n",
       "      <td>53.325231</td>\n",
       "      <td>2599.385159</td>\n",
       "    </tr>\n",
       "    <tr>\n",
       "      <th>51</th>\n",
       "      <td>2002</td>\n",
       "      <td>Americas</td>\n",
       "      <td>3.399091e+07</td>\n",
       "      <td>72.422040</td>\n",
       "      <td>9287.677107</td>\n",
       "    </tr>\n",
       "    <tr>\n",
       "      <th>52</th>\n",
       "      <td>2002</td>\n",
       "      <td>Asia</td>\n",
       "      <td>1.091455e+08</td>\n",
       "      <td>69.233879</td>\n",
       "      <td>10174.090397</td>\n",
       "    </tr>\n",
       "    <tr>\n",
       "      <th>53</th>\n",
       "      <td>2002</td>\n",
       "      <td>Europe</td>\n",
       "      <td>1.927413e+07</td>\n",
       "      <td>76.700600</td>\n",
       "      <td>21711.732422</td>\n",
       "    </tr>\n",
       "    <tr>\n",
       "      <th>54</th>\n",
       "      <td>2002</td>\n",
       "      <td>Oceania</td>\n",
       "      <td>1.172741e+07</td>\n",
       "      <td>79.740000</td>\n",
       "      <td>26938.778040</td>\n",
       "    </tr>\n",
       "    <tr>\n",
       "      <th>55</th>\n",
       "      <td>2007</td>\n",
       "      <td>Africa</td>\n",
       "      <td>1.787576e+07</td>\n",
       "      <td>54.806038</td>\n",
       "      <td>3089.032605</td>\n",
       "    </tr>\n",
       "    <tr>\n",
       "      <th>56</th>\n",
       "      <td>2007</td>\n",
       "      <td>Americas</td>\n",
       "      <td>3.595485e+07</td>\n",
       "      <td>73.608120</td>\n",
       "      <td>11003.031625</td>\n",
       "    </tr>\n",
       "    <tr>\n",
       "      <th>57</th>\n",
       "      <td>2007</td>\n",
       "      <td>Asia</td>\n",
       "      <td>1.155138e+08</td>\n",
       "      <td>70.728485</td>\n",
       "      <td>12473.026870</td>\n",
       "    </tr>\n",
       "    <tr>\n",
       "      <th>58</th>\n",
       "      <td>2007</td>\n",
       "      <td>Europe</td>\n",
       "      <td>1.953662e+07</td>\n",
       "      <td>77.648600</td>\n",
       "      <td>25054.481636</td>\n",
       "    </tr>\n",
       "    <tr>\n",
       "      <th>59</th>\n",
       "      <td>2007</td>\n",
       "      <td>Oceania</td>\n",
       "      <td>1.227497e+07</td>\n",
       "      <td>80.719500</td>\n",
       "      <td>29810.188275</td>\n",
       "    </tr>\n",
       "  </tbody>\n",
       "</table>\n",
       "</div>"
      ],
      "text/plain": [
       "    year continent           pop    lifeExp     gdpPercap\n",
       "0   1952    Africa  4.570010e+06  39.135500   1252.572466\n",
       "1   1952  Americas  1.380610e+07  53.279840   4079.062552\n",
       "2   1952      Asia  4.228356e+07  46.314394   5195.484004\n",
       "3   1952    Europe  1.393736e+07  64.408500   5661.057435\n",
       "4   1952   Oceania  5.343003e+06  69.255000  10298.085650\n",
       "5   1957    Africa  5.093033e+06  41.266346   1385.236062\n",
       "6   1957  Americas  1.547816e+07  55.960280   4616.043733\n",
       "7   1957      Asia  4.735699e+07  49.318544   5787.732940\n",
       "8   1957    Europe  1.459635e+07  66.703067   6963.012816\n",
       "9   1957   Oceania  5.970988e+06  70.295000  11598.522455\n",
       "10  1962    Africa  5.702247e+06  43.319442   1598.078825\n",
       "11  1962  Americas  1.733081e+07  58.398760   4901.541870\n",
       "12  1962      Asia  5.140476e+07  51.563223   5729.369625\n",
       "13  1962    Europe  1.534517e+07  68.539233   8365.486814\n",
       "14  1962   Oceania  6.641759e+06  71.085000  12696.452430\n",
       "15  1967    Africa  6.447875e+06  45.334538   2050.363801\n",
       "16  1967  Americas  1.922986e+07  60.410920   5668.253496\n",
       "17  1967      Asia  5.774736e+07  54.663640   5971.173374\n",
       "18  1967    Europe  1.603930e+07  69.737600  10143.823757\n",
       "19  1967   Oceania  7.300207e+06  71.310000  14495.021790\n",
       "20  1972    Africa  7.305376e+06  47.450942   2339.615674\n",
       "21  1972  Americas  2.117537e+07  62.394920   6491.334139\n",
       "22  1972      Asia  6.518098e+07  57.319269   8187.468699\n",
       "23  1972    Europe  1.668784e+07  70.775033  12479.575246\n",
       "24  1972   Oceania  8.053050e+06  71.910000  16417.333380\n",
       "25  1977    Africa  8.328097e+06  49.580423   2585.938508\n",
       "26  1977  Americas  2.312271e+07  64.391560   7352.007126\n",
       "27  1977      Asia  7.225799e+07  59.610556   7791.314020\n",
       "28  1977    Europe  1.723882e+07  71.937767  14283.979110\n",
       "29  1977   Oceania  8.619500e+06  72.855000  17283.957605\n",
       "30  1982    Africa  9.602857e+06  51.592865   2481.592960\n",
       "31  1982  Americas  2.521164e+07  66.228840   7506.737088\n",
       "32  1982      Asia  7.909502e+07  62.617939   7434.135157\n",
       "33  1982    Europe  1.770890e+07  72.806400  15617.896551\n",
       "34  1982   Oceania  9.197425e+06  74.290000  18554.709840\n",
       "35  1987    Africa  1.105450e+07  53.344788   2282.668991\n",
       "36  1987  Americas  2.731016e+07  68.090720   7793.400261\n",
       "37  1987      Asia  8.700669e+07  64.851182   7608.226508\n",
       "38  1987    Europe  1.810314e+07  73.642167  17214.310727\n",
       "39  1987   Oceania  9.787208e+06  75.320000  20448.040160\n",
       "40  1992    Africa  1.267464e+07  53.629577   2281.810333\n",
       "41  1992  Americas  2.957096e+07  69.568360   8044.934406\n",
       "42  1992      Asia  9.494825e+07  66.537212   8639.690248\n",
       "43  1992    Europe  1.860476e+07  74.440100  17061.568084\n",
       "44  1992   Oceania  1.045983e+07  76.945000  20894.045885\n",
       "45  1997    Africa  1.430448e+07  53.598269   2378.759555\n",
       "46  1997  Americas  3.187602e+07  71.150480   8889.300863\n",
       "47  1997      Asia  1.025238e+08  68.020515   9834.093295\n",
       "48  1997    Europe  1.896480e+07  75.505167  19076.781802\n",
       "49  1997   Oceania  1.112072e+07  78.190000  24024.175170\n",
       "50  2002    Africa  1.603315e+07  53.325231   2599.385159\n",
       "51  2002  Americas  3.399091e+07  72.422040   9287.677107\n",
       "52  2002      Asia  1.091455e+08  69.233879  10174.090397\n",
       "53  2002    Europe  1.927413e+07  76.700600  21711.732422\n",
       "54  2002   Oceania  1.172741e+07  79.740000  26938.778040\n",
       "55  2007    Africa  1.787576e+07  54.806038   3089.032605\n",
       "56  2007  Americas  3.595485e+07  73.608120  11003.031625\n",
       "57  2007      Asia  1.155138e+08  70.728485  12473.026870\n",
       "58  2007    Europe  1.953662e+07  77.648600  25054.481636\n",
       "59  2007   Oceania  1.227497e+07  80.719500  29810.188275"
      ]
     },
     "execution_count": 31,
     "metadata": {},
     "output_type": "execute_result"
    }
   ],
   "source": [
    "df.groupby([\"year\",\"continent\"]).mean().reset_index()"
   ]
  },
  {
   "cell_type": "markdown",
   "id": "9657f851",
   "metadata": {
    "papermill": {
     "duration": 0.02673,
     "end_time": "2023-02-18T14:33:44.888986",
     "exception": false,
     "start_time": "2023-02-18T14:33:44.862256",
     "status": "completed"
    },
    "tags": []
   },
   "source": [
    "### Grouped Frequency Counts\n",
    "\n",
    "* use the nunique to get counts of unique values on a Pandas Series."
   ]
  },
  {
   "cell_type": "code",
   "execution_count": 32,
   "id": "2b517d7b",
   "metadata": {
    "execution": {
     "iopub.execute_input": "2023-02-18T14:33:44.945246Z",
     "iopub.status.busy": "2023-02-18T14:33:44.944824Z",
     "iopub.status.idle": "2023-02-18T14:33:44.963885Z",
     "shell.execute_reply": "2023-02-18T14:33:44.962519Z"
    },
    "papermill": {
     "duration": 0.050145,
     "end_time": "2023-02-18T14:33:44.966077",
     "exception": false,
     "start_time": "2023-02-18T14:33:44.915932",
     "status": "completed"
    },
    "tags": []
   },
   "outputs": [
    {
     "data": {
      "text/html": [
       "<div>\n",
       "<style scoped>\n",
       "    .dataframe tbody tr th:only-of-type {\n",
       "        vertical-align: middle;\n",
       "    }\n",
       "\n",
       "    .dataframe tbody tr th {\n",
       "        vertical-align: top;\n",
       "    }\n",
       "\n",
       "    .dataframe thead th {\n",
       "        text-align: right;\n",
       "    }\n",
       "</style>\n",
       "<table border=\"1\" class=\"dataframe\">\n",
       "  <thead>\n",
       "    <tr style=\"text-align: right;\">\n",
       "      <th></th>\n",
       "      <th>country</th>\n",
       "      <th>year</th>\n",
       "      <th>pop</th>\n",
       "      <th>lifeExp</th>\n",
       "      <th>gdpPercap</th>\n",
       "    </tr>\n",
       "    <tr>\n",
       "      <th>continent</th>\n",
       "      <th></th>\n",
       "      <th></th>\n",
       "      <th></th>\n",
       "      <th></th>\n",
       "      <th></th>\n",
       "    </tr>\n",
       "  </thead>\n",
       "  <tbody>\n",
       "    <tr>\n",
       "      <th>Africa</th>\n",
       "      <td>52</td>\n",
       "      <td>12</td>\n",
       "      <td>624</td>\n",
       "      <td>619</td>\n",
       "      <td>624</td>\n",
       "    </tr>\n",
       "    <tr>\n",
       "      <th>Americas</th>\n",
       "      <td>25</td>\n",
       "      <td>12</td>\n",
       "      <td>300</td>\n",
       "      <td>299</td>\n",
       "      <td>300</td>\n",
       "    </tr>\n",
       "    <tr>\n",
       "      <th>Asia</th>\n",
       "      <td>33</td>\n",
       "      <td>12</td>\n",
       "      <td>396</td>\n",
       "      <td>393</td>\n",
       "      <td>396</td>\n",
       "    </tr>\n",
       "    <tr>\n",
       "      <th>Europe</th>\n",
       "      <td>30</td>\n",
       "      <td>12</td>\n",
       "      <td>360</td>\n",
       "      <td>326</td>\n",
       "      <td>360</td>\n",
       "    </tr>\n",
       "    <tr>\n",
       "      <th>Oceania</th>\n",
       "      <td>2</td>\n",
       "      <td>12</td>\n",
       "      <td>24</td>\n",
       "      <td>24</td>\n",
       "      <td>24</td>\n",
       "    </tr>\n",
       "  </tbody>\n",
       "</table>\n",
       "</div>"
      ],
      "text/plain": [
       "           country  year  pop  lifeExp  gdpPercap\n",
       "continent                                        \n",
       "Africa          52    12  624      619        624\n",
       "Americas        25    12  300      299        300\n",
       "Asia            33    12  396      393        396\n",
       "Europe          30    12  360      326        360\n",
       "Oceania          2    12   24       24         24"
      ]
     },
     "execution_count": 32,
     "metadata": {},
     "output_type": "execute_result"
    }
   ],
   "source": [
    "df.groupby(\"continent\").nunique()"
   ]
  },
  {
   "cell_type": "markdown",
   "id": "1f362f1e",
   "metadata": {
    "papermill": {
     "duration": 0.027184,
     "end_time": "2023-02-18T14:33:45.020574",
     "exception": false,
     "start_time": "2023-02-18T14:33:44.993390",
     "status": "completed"
    },
    "tags": []
   },
   "source": [
    "# <center>Data Visualization</center>\n",
    "---\n",
    "\n",
    "* **Histogram:** vertical bar chart of frequencies\n",
    "* **Frequency Polygon:** line graph of frequencies\n",
    "* **Ogive:** line graph of cumulative frequencies\n",
    "* **Pie Chart:** proportional representation for categories of a whole\n",
    "* **Stem and Leaf Plot**\n",
    "* **Pareto Chart**\n",
    "* **Scatter Plot**"
   ]
  },
  {
   "cell_type": "markdown",
   "id": "d0a7dab7",
   "metadata": {
    "papermill": {
     "duration": 0.026789,
     "end_time": "2023-02-18T14:33:45.074688",
     "exception": false,
     "start_time": "2023-02-18T14:33:45.047899",
     "status": "completed"
    },
    "tags": []
   },
   "source": [
    "## Basic Plot\n",
    "* global year mean life expectency"
   ]
  },
  {
   "cell_type": "code",
   "execution_count": 33,
   "id": "ecb94dfb",
   "metadata": {
    "execution": {
     "iopub.execute_input": "2023-02-18T14:33:45.131427Z",
     "iopub.status.busy": "2023-02-18T14:33:45.130641Z",
     "iopub.status.idle": "2023-02-18T14:33:45.138673Z",
     "shell.execute_reply": "2023-02-18T14:33:45.137874Z"
    },
    "papermill": {
     "duration": 0.038611,
     "end_time": "2023-02-18T14:33:45.140625",
     "exception": false,
     "start_time": "2023-02-18T14:33:45.102014",
     "status": "completed"
    },
    "tags": []
   },
   "outputs": [
    {
     "data": {
      "text/plain": [
       "year\n",
       "1952    49.057620\n",
       "1957    51.507401\n",
       "1962    53.609249\n",
       "1967    55.678290\n",
       "1972    57.647386\n",
       "1977    59.570157\n",
       "1982    61.533197\n",
       "1987    63.212613\n",
       "1992    64.160338\n",
       "1997    65.014676\n",
       "2002    65.694923\n",
       "2007    67.007423\n",
       "Name: lifeExp, dtype: float64"
      ]
     },
     "execution_count": 33,
     "metadata": {},
     "output_type": "execute_result"
    }
   ],
   "source": [
    "df.groupby(\"year\")[\"lifeExp\"].mean()"
   ]
  },
  {
   "cell_type": "code",
   "execution_count": 34,
   "id": "da510b54",
   "metadata": {
    "execution": {
     "iopub.execute_input": "2023-02-18T14:33:45.197706Z",
     "iopub.status.busy": "2023-02-18T14:33:45.196930Z",
     "iopub.status.idle": "2023-02-18T14:33:45.477146Z",
     "shell.execute_reply": "2023-02-18T14:33:45.475939Z"
    },
    "papermill": {
     "duration": 0.311618,
     "end_time": "2023-02-18T14:33:45.479527",
     "exception": false,
     "start_time": "2023-02-18T14:33:45.167909",
     "status": "completed"
    },
    "tags": []
   },
   "outputs": [
    {
     "data": {
      "text/plain": [
       "<AxesSubplot:xlabel='year'>"
      ]
     },
     "execution_count": 34,
     "metadata": {},
     "output_type": "execute_result"
    },
    {
     "data": {
      "image/png": "[encoded data removed]",
      "text/plain": [
       "<Figure size 640x480 with 1 Axes>"
      ]
     },
     "metadata": {},
     "output_type": "display_data"
    }
   ],
   "source": [
    "df.groupby(\"year\")[\"lifeExp\"].mean().plot()"
   ]
  },
  {
   "cell_type": "markdown",
   "id": "311bfede",
   "metadata": {
    "papermill": {
     "duration": 0.027891,
     "end_time": "2023-02-18T14:33:45.535677",
     "exception": false,
     "start_time": "2023-02-18T14:33:45.507786",
     "status": "completed"
    },
    "tags": []
   },
   "source": [
    "## Principles of Excellent Graphs\n",
    "\n",
    "* The graph should not distort the data\n",
    "* The graph should not contain unnecessary adornments (sometimes referred to as chart junk)\n",
    "* The scale on the vertical axis should begin at zero\n",
    "* All axes should be properly labeled\n",
    "* The graph should contain a title\n",
    "* The simplest possible graph should be used for a given set of data"
   ]
  },
  {
   "cell_type": "markdown",
   "id": "0be6384f",
   "metadata": {
    "papermill": {
     "duration": 0.028428,
     "end_time": "2023-02-18T14:33:45.592002",
     "exception": false,
     "start_time": "2023-02-18T14:33:45.563574",
     "status": "completed"
    },
    "tags": []
   },
   "source": [
    "## Graphical Errors: \n",
    "1. Chart Junk\n",
    "2. Compressing the Vertical Axis\n",
    "3. No Zero Point on the Vertical Axis"
   ]
  },
  {
   "cell_type": "markdown",
   "id": "f794f7b6",
   "metadata": {
    "papermill": {
     "duration": 0.028542,
     "end_time": "2023-02-18T14:33:45.648696",
     "exception": false,
     "start_time": "2023-02-18T14:33:45.620154",
     "status": "completed"
    },
    "tags": []
   },
   "source": [
    "# <center>Central Tendency and Dispersion - I</center>\n",
    "---"
   ]
  },
  {
   "cell_type": "markdown",
   "id": "a0cbb237",
   "metadata": {
    "papermill": {
     "duration": 0.028815,
     "end_time": "2023-02-18T14:33:45.706267",
     "exception": false,
     "start_time": "2023-02-18T14:33:45.677452",
     "status": "completed"
    },
    "tags": []
   },
   "source": [
    "## Measures of Central Tendency\n",
    "* Measures of central tendency yield information about “particular places or locations in a group of numbers.”\n",
    "* A single number to describe the characteristics of a set of data"
   ]
  },
  {
   "cell_type": "markdown",
   "id": "a48a111a",
   "metadata": {
    "papermill": {
     "duration": 0.028124,
     "end_time": "2023-02-18T14:33:45.763692",
     "exception": false,
     "start_time": "2023-02-18T14:33:45.735568",
     "status": "completed"
    },
    "tags": []
   },
   "source": [
    "## Summary statistics\n",
    "\n",
    "1. **Central tendency** or measures of location\n",
    "    * Arithmetic mean \n",
    "    * Weighted mean\n",
    "    * Median\n",
    "    * Mode\n",
    "    * Percentile\n",
    "    \n",
    "\n",
    "2. **Dispersion**\n",
    "    * Skewness\n",
    "    * Kurtosis\n",
    "    * Range\n",
    "    * Interquartile range\n",
    "    * Variance\n",
    "    * Standard score\n",
    "    * Coefficient of variation"
   ]
  },
  {
   "cell_type": "markdown",
   "id": "a4cbf7ef",
   "metadata": {
    "papermill": {
     "duration": 0.028001,
     "end_time": "2023-02-18T14:33:45.819991",
     "exception": false,
     "start_time": "2023-02-18T14:33:45.791990",
     "status": "completed"
    },
    "tags": []
   },
   "source": [
    "## Arithmetic Mean\n",
    "\n",
    "* Commonly called **the mean**\n",
    "* It is the average of a group of numbers\n",
    "* Applicable only for interval and ratio data \n",
    "* Not applicable for nominal or ordinal data\n",
    "* **Affected by** each value in the data set, including extreme values(outliers)\n",
    "* Computed by summing all values in the data set and dividing the sum by the number of values in the data set"
   ]
  },
  {
   "cell_type": "markdown",
   "id": "6cd75d7d",
   "metadata": {
    "papermill": {
     "duration": 0.027498,
     "end_time": "2023-02-18T14:33:45.875610",
     "exception": false,
     "start_time": "2023-02-18T14:33:45.848112",
     "status": "completed"
    },
    "tags": []
   },
   "source": [
    "### Population Mean\n",
    "miu = Sigma of (sum of all the numbers) / frequency\n",
    "\n",
    "### Sample Mean\n",
    "x-bar = Sigma of (sum of all the numbers) / frequency"
   ]
  },
  {
   "cell_type": "code",
   "execution_count": 35,
   "id": "cb74785e",
   "metadata": {
    "execution": {
     "iopub.execute_input": "2023-02-18T14:33:45.935399Z",
     "iopub.status.busy": "2023-02-18T14:33:45.934361Z",
     "iopub.status.idle": "2023-02-18T14:33:45.941106Z",
     "shell.execute_reply": "2023-02-18T14:33:45.940050Z"
    },
    "papermill": {
     "duration": 0.0398,
     "end_time": "2023-02-18T14:33:45.944441",
     "exception": false,
     "start_time": "2023-02-18T14:33:45.904641",
     "status": "completed"
    },
    "tags": []
   },
   "outputs": [
    {
     "name": "stdout",
     "output_type": "stream",
     "text": [
      "population mean, miu = 3.8\n",
      "\n",
      "sample mean, x-bar = 3.8\n"
     ]
    }
   ],
   "source": [
    "# numbers\n",
    "numbers = [2,3,4,5,5]\n",
    "\n",
    "# population mean\n",
    "miu = np.mean(numbers)\n",
    "print(f\"population mean, miu = {miu}\\n\")\n",
    "\n",
    "# sample mean\n",
    "x_bar = np.mean(numbers)\n",
    "print(f\"sample mean, x-bar = {x_bar}\")"
   ]
  },
  {
   "cell_type": "markdown",
   "id": "04c033fe",
   "metadata": {
    "papermill": {
     "duration": 0.027791,
     "end_time": "2023-02-18T14:33:46.002310",
     "exception": false,
     "start_time": "2023-02-18T14:33:45.974519",
     "status": "completed"
    },
    "tags": []
   },
   "source": [
    "### Mean of Grouped Data\n",
    "\n",
    "* Weighted average of class midpoints\n",
    "* Class frequencies are the weights\n",
    "\n",
    "Mean of Grouped Data = Sigma of (frequency x Midpoint) / total frequencies"
   ]
  },
  {
   "cell_type": "markdown",
   "id": "5c437366",
   "metadata": {
    "papermill": {
     "duration": 0.027684,
     "end_time": "2023-02-18T14:33:46.058015",
     "exception": false,
     "start_time": "2023-02-18T14:33:46.030331",
     "status": "completed"
    },
    "tags": []
   },
   "source": [
    "### Weighted Average\n",
    "\n",
    "* Sometimes we wish to average numbers, but we want to assign more importance, or weight, to some of the numbers.\n",
    "* The average you need is the weighted average.\n",
    "\n",
    "`Weighted Average = Sigma of (xw) / Sigma of (w)`\n",
    "\n",
    "Where, where x is a data value and w is the weight assigned to that data value. The sum is taken over all data values."
   ]
  },
  {
   "cell_type": "markdown",
   "id": "d5897678",
   "metadata": {
    "execution": {
     "iopub.execute_input": "2023-02-18T13:19:28.180932Z",
     "iopub.status.busy": "2023-02-18T13:19:28.179663Z"
    },
    "papermill": {
     "duration": 0.027532,
     "end_time": "2023-02-18T14:33:46.113553",
     "exception": false,
     "start_time": "2023-02-18T14:33:46.086021",
     "status": "completed"
    },
    "tags": []
   },
   "source": [
    "### Example\n",
    "Suppose your midterm test score is 83 and your final exam score is 95. Using weights of 40% for the midterm and 60% for the final exam, compute the weighted average of your scores. If the minimum average for an A is 90, will you earn an A?"
   ]
  },
  {
   "cell_type": "code",
   "execution_count": 36,
   "id": "b800c3f2",
   "metadata": {
    "execution": {
     "iopub.execute_input": "2023-02-18T14:33:46.171138Z",
     "iopub.status.busy": "2023-02-18T14:33:46.170718Z",
     "iopub.status.idle": "2023-02-18T14:33:46.177116Z",
     "shell.execute_reply": "2023-02-18T14:33:46.176022Z"
    },
    "papermill": {
     "duration": 0.038342,
     "end_time": "2023-02-18T14:33:46.179775",
     "exception": false,
     "start_time": "2023-02-18T14:33:46.141433",
     "status": "completed"
    },
    "tags": []
   },
   "outputs": [
    {
     "name": "stdout",
     "output_type": "stream",
     "text": [
      "Weighted Average is 90.2, and yes I will earn an A\n"
     ]
    }
   ],
   "source": [
    "x1 = 83\n",
    "x2 = 95\n",
    "w1 = 40\n",
    "w2 = 60\n",
    "\n",
    "weighted_average = ((x1*w1) + (x2*w2)) / (w1 + w2)\n",
    "print(f\"Weighted Average is {weighted_average}, and yes I will earn an A\")"
   ]
  },
  {
   "cell_type": "markdown",
   "id": "de9c2574",
   "metadata": {
    "papermill": {
     "duration": 0.028299,
     "end_time": "2023-02-18T14:33:46.236236",
     "exception": false,
     "start_time": "2023-02-18T14:33:46.207937",
     "status": "completed"
    },
    "tags": []
   },
   "source": [
    "## Median\n",
    "\n",
    "* Middle value in an ordered array of numbers\n",
    "\n",
    "* Applicable for ordinal, interval, and ratio data\n",
    "\n",
    "* Not applicable for nominal data\n",
    "\n",
    "* Unaffected by extremely large and extremely small values\n",
    "\n",
    "\n",
    "**First Procedure**\n",
    "* Arrange the observations in an ordered array\n",
    "* If there is an odd number of terms, the median is the middle term of the ordered array\n",
    "* If there is an even number of terms, the median is the average of the middle two terms\n",
    "\n",
    "**Second Procedure**\n",
    "* The median’s position in an ordered array is given by (n+1)/2."
   ]
  },
  {
   "cell_type": "markdown",
   "id": "8e5f0571",
   "metadata": {
    "papermill": {
     "duration": 0.027418,
     "end_time": "2023-02-18T14:33:46.291727",
     "exception": false,
     "start_time": "2023-02-18T14:33:46.264309",
     "status": "completed"
    },
    "tags": []
   },
   "source": [
    "### Example with an Odd Number of Terms\n",
    "\n",
    "Ordered Array: **3 4 5 7 8 9 11 14 15 16 16 17 19 19 20 21 22**\n",
    "\n",
    "* There are 17 terms in the ordered array.\n",
    "* Position of median = (n+1)/2 = (17+1)/2 = 9\n",
    "* The median is the 9th term, 15.\n",
    "* If the 22 is replaced by 100, the median is 15.\n",
    "* If the 3 is replaced by -103, the median is 15."
   ]
  },
  {
   "cell_type": "markdown",
   "id": "c43908d8",
   "metadata": {
    "papermill": {
     "duration": 0.027726,
     "end_time": "2023-02-18T14:33:46.347158",
     "exception": false,
     "start_time": "2023-02-18T14:33:46.319432",
     "status": "completed"
    },
    "tags": []
   },
   "source": [
    "### Example with an Even Number of Terms\n",
    "Ordered Array: **3 4 5 7 8 9 11 14 15 16 16 17 19 19 20 21**\n",
    "* There are 16 terms in the ordered array\n",
    "* Position of median = (n+1)/2 = (16+1)/2 = 8.5\n",
    "* The median is between the 8th and 9th terms, 14.5\n",
    "* If the 21 is replaced by 100, the median is 14.5\n",
    "* If the 3 is replaced by -88, the median is 14.5"
   ]
  },
  {
   "cell_type": "markdown",
   "id": "392a20d3",
   "metadata": {
    "papermill": {
     "duration": 0.027508,
     "end_time": "2023-02-18T14:33:46.402453",
     "exception": false,
     "start_time": "2023-02-18T14:33:46.374945",
     "status": "completed"
    },
    "tags": []
   },
   "source": [
    "### Median of Grouped Data\n",
    "\n",
    "> Median of Grouped Data = L + (((N/2) - cf) / f-med) x W\n",
    "\n",
    "Where,</br>\n",
    "L the lower limit of the median class</br>\n",
    "cf = cumulative frequency of class preceding the median class</br>\n",
    "f-med = frequency of the median class</br>\n",
    "W = width of the median class</br>"
   ]
  },
  {
   "cell_type": "markdown",
   "id": "f64f8775",
   "metadata": {
    "papermill": {
     "duration": 0.027448,
     "end_time": "2023-02-18T14:33:46.457806",
     "exception": false,
     "start_time": "2023-02-18T14:33:46.430358",
     "status": "completed"
    },
    "tags": []
   },
   "source": [
    "## Mode\n",
    "* The most frequently occurring value in a data set\n",
    "* Applicable to all levels of data measurement (nominal, ordinal, interval, and ratio)\n",
    "* Bimodal -- Data sets that have two modes\n",
    "* Multimodal -- Data sets that contain more than two modes"
   ]
  },
  {
   "cell_type": "markdown",
   "id": "5ef19191",
   "metadata": {
    "papermill": {
     "duration": 0.027455,
     "end_time": "2023-02-18T14:33:46.513170",
     "exception": false,
     "start_time": "2023-02-18T14:33:46.485715",
     "status": "completed"
    },
    "tags": []
   },
   "source": [
    "### Mode of Grouped Data\n",
    "\n",
    "* Midpoint of the modal class\n",
    "* Modal class has the greatest frequency"
   ]
  },
  {
   "cell_type": "markdown",
   "id": "7b046ba0",
   "metadata": {
    "papermill": {
     "duration": 0.027434,
     "end_time": "2023-02-18T14:33:46.568507",
     "exception": false,
     "start_time": "2023-02-18T14:33:46.541073",
     "status": "completed"
    },
    "tags": []
   },
   "source": [
    "## Percentiles\n",
    "\n",
    "* Measures of central tendency that divide a group of data into 100 parts\n",
    "* Example: 90th percentile indicates that at most 90% of the data lie below it, and at least 10% of the data lie above it\n",
    "* The median and the 50th percentile have the same value\n",
    "* Applicable for ordinal, interval, and ratio data\n",
    "* Not applicable for nominal data"
   ]
  },
  {
   "cell_type": "markdown",
   "id": "99f054ee",
   "metadata": {
    "papermill": {
     "duration": 0.027542,
     "end_time": "2023-02-18T14:33:46.624121",
     "exception": false,
     "start_time": "2023-02-18T14:33:46.596579",
     "status": "completed"
    },
    "tags": []
   },
   "source": [
    "### Percentiles: Computational Procedure\n",
    "* Organize the data into an ascending ordered array\n",
    "* Calculate the p th percentile location:\n",
    "> i = (P/100)*N\n",
    "* Determine the percentile’s location and its value.\n",
    "* If i is a whole number, the percentile is the average of the values at the i and (i+1) positions\n",
    "* If i is not a whole number, the percentile is at the (i+1) position in the ordered array"
   ]
  },
  {
   "cell_type": "markdown",
   "id": "49d3c9db",
   "metadata": {
    "papermill": {
     "duration": 0.027658,
     "end_time": "2023-02-18T14:33:46.679715",
     "exception": false,
     "start_time": "2023-02-18T14:33:46.652057",
     "status": "completed"
    },
    "tags": []
   },
   "source": [
    "### Example\n",
    "* Raw Data: 14, 12, 19, 23, 5, 13, 28, 17\n",
    "* Ordered Array: 5, 12, 13, 14, 17, 19, 23, 28\n",
    "* Location of 30th percentile:\n",
    "> i = (30/100) * 8\n",
    "* The location index, i, is not a whole number; i+1 = 2.4+1=3.4; the whole number portion is 3; the 30th percentile is at the 3rd location of the array; the 30th percentile is 13."
   ]
  },
  {
   "cell_type": "markdown",
   "id": "7c0d7cbd",
   "metadata": {
    "papermill": {
     "duration": 0.027379,
     "end_time": "2023-02-18T14:33:46.734957",
     "exception": false,
     "start_time": "2023-02-18T14:33:46.707578",
     "status": "completed"
    },
    "tags": []
   },
   "source": [
    "## Dispersion\n",
    "* Measures of variability describe the spread or the dispersion of a set of data\n",
    "* Reliability of measure of central tendency\n",
    "* To compare dispersion of various samples"
   ]
  },
  {
   "cell_type": "code",
   "execution_count": null,
   "id": "5527bf50",
   "metadata": {
    "papermill": {
     "duration": 0.028226,
     "end_time": "2023-02-18T14:33:46.792120",
     "exception": false,
     "start_time": "2023-02-18T14:33:46.763894",
     "status": "completed"
    },
    "tags": []
   },
   "outputs": [],
   "source": []
  }
 ],
 "metadata": {
  "kernelspec": {
   "display_name": "Python 3",
   "language": "python",
   "name": "python3"
  },
  "language_info": {
   "codemirror_mode": {
    "name": "ipython",
    "version": 3
   },
   "file_extension": ".py",
   "mimetype": "text/x-python",
   "name": "python",
   "nbconvert_exporter": "python",
   "pygments_lexer": "ipython3",
   "version": "3.7.12"
  },
  "papermill": {
   "default_parameters": {},
   "duration": 16.093612,
   "end_time": "2023-02-18T14:33:47.442249",
   "environment_variables": {},
   "exception": null,
   "input_path": "__notebook__.ipynb",
   "output_path": "__notebook__.ipynb",
   "parameters": {},
   "start_time": "2023-02-18T14:33:31.348637",
   "version": "2.3.4"
  }
 },
 "nbformat": 4,
 "nbformat_minor": 5
}
