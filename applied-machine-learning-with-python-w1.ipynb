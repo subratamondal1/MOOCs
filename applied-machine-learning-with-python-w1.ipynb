{
 "cells": [
  {
   "cell_type": "code",
   "execution_count": 1,
   "id": "2dbc9b47",
   "metadata": {
    "_cell_guid": "b1076dfc-b9ad-4769-8c92-a6c4dae69d19",
    "_uuid": "8f2839f25d086af736a60e9eeb907d3b93b6e0e5",
    "execution": {
     "iopub.execute_input": "2023-02-22T17:28:37.152180Z",
     "iopub.status.busy": "2023-02-22T17:28:37.151131Z",
     "iopub.status.idle": "2023-02-22T17:28:37.172511Z",
     "shell.execute_reply": "2023-02-22T17:28:37.171204Z"
    },
    "papermill": {
     "duration": 0.030782,
     "end_time": "2023-02-22T17:28:37.175745",
     "exception": false,
     "start_time": "2023-02-22T17:28:37.144963",
     "status": "completed"
    },
    "tags": []
   },
   "outputs": [
    {
     "name": "stdout",
     "output_type": "stream",
     "text": [
      "/kaggle/input/fruit-data-with-colors/fruit_data_with_colors.txt\n"
     ]
    }
   ],
   "source": [
    "# This Python 3 environment comes with many helpful analytics libraries installed\n",
    "# It is defined by the kaggle/python Docker image: https://github.com/kaggle/docker-python\n",
    "# For example, here's several helpful packages to load\n",
    "\n",
    "import numpy as np # linear algebra\n",
    "import pandas as pd # data processing, CSV file I/O (e.g. pd.read_csv)\n",
    "\n",
    "# Input data files are available in the read-only \"../input/\" directory\n",
    "# For example, running this (by clicking run or pressing Shift+Enter) will list all files under the input directory\n",
    "\n",
    "import os\n",
    "for dirname, _, filenames in os.walk('/kaggle/input'):\n",
    "    for filename in filenames:\n",
    "        print(os.path.join(dirname, filename))\n",
    "\n",
    "# You can write up to 20GB to the current directory (/kaggle/working/) that gets preserved as output when you create a version using \"Save & Run All\" \n",
    "# You can also write temporary files to /kaggle/temp/, but they won't be saved outside of the current session"
   ]
  },
  {
   "cell_type": "markdown",
   "id": "65c121ab",
   "metadata": {
    "papermill": {
     "duration": 0.002533,
     "end_time": "2023-02-22T17:28:37.181588",
     "exception": false,
     "start_time": "2023-02-22T17:28:37.179055",
     "status": "completed"
    },
    "tags": []
   },
   "source": [
    "# <center>A simple classification task</center>\n",
    "---"
   ]
  },
  {
   "cell_type": "markdown",
   "id": "bd611f27",
   "metadata": {
    "papermill": {
     "duration": 0.002396,
     "end_time": "2023-02-22T17:28:37.186723",
     "exception": false,
     "start_time": "2023-02-22T17:28:37.184327",
     "status": "completed"
    },
    "tags": []
   },
   "source": [
    "## Import required modules and load the data"
   ]
  },
  {
   "cell_type": "code",
   "execution_count": 2,
   "id": "ab6daa72",
   "metadata": {
    "execution": {
     "iopub.execute_input": "2023-02-22T17:28:37.194523Z",
     "iopub.status.busy": "2023-02-22T17:28:37.193728Z",
     "iopub.status.idle": "2023-02-22T17:28:38.388391Z",
     "shell.execute_reply": "2023-02-22T17:28:38.386917Z"
    },
    "papermill": {
     "duration": 1.201925,
     "end_time": "2023-02-22T17:28:38.391359",
     "exception": false,
     "start_time": "2023-02-22T17:28:37.189434",
     "status": "completed"
    },
    "tags": []
   },
   "outputs": [],
   "source": [
    "%matplotlib notebook\n",
    "import numpy as np\n",
    "import pandas as pd\n",
    "import matplotlib.pyplot as plt\n",
    "import sklearn.model_selection as model_selection"
   ]
  },
  {
   "cell_type": "code",
   "execution_count": 3,
   "id": "de0b78d1",
   "metadata": {
    "execution": {
     "iopub.execute_input": "2023-02-22T17:28:38.402318Z",
     "iopub.status.busy": "2023-02-22T17:28:38.401401Z",
     "iopub.status.idle": "2023-02-22T17:28:38.418681Z",
     "shell.execute_reply": "2023-02-22T17:28:38.417467Z"
    },
    "papermill": {
     "duration": 0.026805,
     "end_time": "2023-02-22T17:28:38.421354",
     "exception": false,
     "start_time": "2023-02-22T17:28:38.394549",
     "status": "completed"
    },
    "tags": []
   },
   "outputs": [],
   "source": [
    "# import data\n",
    "fruits = pd.read_table(\"/kaggle/input/fruit-data-with-colors/fruit_data_with_colors.txt\")"
   ]
  },
  {
   "cell_type": "code",
   "execution_count": 4,
   "id": "fb20d392",
   "metadata": {
    "execution": {
     "iopub.execute_input": "2023-02-22T17:28:38.430671Z",
     "iopub.status.busy": "2023-02-22T17:28:38.429703Z",
     "iopub.status.idle": "2023-02-22T17:28:38.458295Z",
     "shell.execute_reply": "2023-02-22T17:28:38.456936Z"
    },
    "papermill": {
     "duration": 0.036306,
     "end_time": "2023-02-22T17:28:38.461080",
     "exception": false,
     "start_time": "2023-02-22T17:28:38.424774",
     "status": "completed"
    },
    "tags": []
   },
   "outputs": [
    {
     "data": {
      "text/html": [
       "<div>\n",
       "<style scoped>\n",
       "    .dataframe tbody tr th:only-of-type {\n",
       "        vertical-align: middle;\n",
       "    }\n",
       "\n",
       "    .dataframe tbody tr th {\n",
       "        vertical-align: top;\n",
       "    }\n",
       "\n",
       "    .dataframe thead th {\n",
       "        text-align: right;\n",
       "    }\n",
       "</style>\n",
       "<table border=\"1\" class=\"dataframe\">\n",
       "  <thead>\n",
       "    <tr style=\"text-align: right;\">\n",
       "      <th></th>\n",
       "      <th>fruit_label</th>\n",
       "      <th>fruit_name</th>\n",
       "      <th>fruit_subtype</th>\n",
       "      <th>mass</th>\n",
       "      <th>width</th>\n",
       "      <th>height</th>\n",
       "      <th>color_score</th>\n",
       "    </tr>\n",
       "  </thead>\n",
       "  <tbody>\n",
       "    <tr>\n",
       "      <th>0</th>\n",
       "      <td>1</td>\n",
       "      <td>apple</td>\n",
       "      <td>granny_smith</td>\n",
       "      <td>192</td>\n",
       "      <td>8.4</td>\n",
       "      <td>7.3</td>\n",
       "      <td>0.55</td>\n",
       "    </tr>\n",
       "    <tr>\n",
       "      <th>1</th>\n",
       "      <td>1</td>\n",
       "      <td>apple</td>\n",
       "      <td>granny_smith</td>\n",
       "      <td>180</td>\n",
       "      <td>8.0</td>\n",
       "      <td>6.8</td>\n",
       "      <td>0.59</td>\n",
       "    </tr>\n",
       "    <tr>\n",
       "      <th>2</th>\n",
       "      <td>1</td>\n",
       "      <td>apple</td>\n",
       "      <td>granny_smith</td>\n",
       "      <td>176</td>\n",
       "      <td>7.4</td>\n",
       "      <td>7.2</td>\n",
       "      <td>0.60</td>\n",
       "    </tr>\n",
       "    <tr>\n",
       "      <th>3</th>\n",
       "      <td>2</td>\n",
       "      <td>mandarin</td>\n",
       "      <td>mandarin</td>\n",
       "      <td>86</td>\n",
       "      <td>6.2</td>\n",
       "      <td>4.7</td>\n",
       "      <td>0.80</td>\n",
       "    </tr>\n",
       "    <tr>\n",
       "      <th>4</th>\n",
       "      <td>2</td>\n",
       "      <td>mandarin</td>\n",
       "      <td>mandarin</td>\n",
       "      <td>84</td>\n",
       "      <td>6.0</td>\n",
       "      <td>4.6</td>\n",
       "      <td>0.79</td>\n",
       "    </tr>\n",
       "  </tbody>\n",
       "</table>\n",
       "</div>"
      ],
      "text/plain": [
       "   fruit_label fruit_name fruit_subtype  mass  width  height  color_score\n",
       "0            1      apple  granny_smith   192    8.4     7.3         0.55\n",
       "1            1      apple  granny_smith   180    8.0     6.8         0.59\n",
       "2            1      apple  granny_smith   176    7.4     7.2         0.60\n",
       "3            2   mandarin      mandarin    86    6.2     4.7         0.80\n",
       "4            2   mandarin      mandarin    84    6.0     4.6         0.79"
      ]
     },
     "execution_count": 4,
     "metadata": {},
     "output_type": "execute_result"
    }
   ],
   "source": [
    "fruits.head()"
   ]
  },
  {
   "cell_type": "code",
   "execution_count": null,
   "id": "b904a8ed",
   "metadata": {
    "papermill": {
     "duration": 0.002999,
     "end_time": "2023-02-22T17:28:38.467655",
     "exception": false,
     "start_time": "2023-02-22T17:28:38.464656",
     "status": "completed"
    },
    "tags": []
   },
   "outputs": [],
   "source": []
  },
  {
   "cell_type": "code",
   "execution_count": null,
   "id": "8b1017e0",
   "metadata": {
    "papermill": {
     "duration": 0.002806,
     "end_time": "2023-02-22T17:28:38.473718",
     "exception": false,
     "start_time": "2023-02-22T17:28:38.470912",
     "status": "completed"
    },
    "tags": []
   },
   "outputs": [],
   "source": []
  }
 ],
 "metadata": {
  "kernelspec": {
   "display_name": "Python 3",
   "language": "python",
   "name": "python3"
  },
  "language_info": {
   "codemirror_mode": {
    "name": "ipython",
    "version": 3
   },
   "file_extension": ".py",
   "mimetype": "text/x-python",
   "name": "python",
   "nbconvert_exporter": "python",
   "pygments_lexer": "ipython3",
   "version": "3.7.12"
  },
  "papermill": {
   "default_parameters": {},
   "duration": 11.587702,
   "end_time": "2023-02-22T17:28:39.300793",
   "environment_variables": {},
   "exception": null,
   "input_path": "__notebook__.ipynb",
   "output_path": "__notebook__.ipynb",
   "parameters": {},
   "start_time": "2023-02-22T17:28:27.713091",
   "version": "2.3.4"
  }
 },
 "nbformat": 4,
 "nbformat_minor": 5
}
